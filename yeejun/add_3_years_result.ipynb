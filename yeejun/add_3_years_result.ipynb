{
 "cells": [
  {
   "cell_type": "markdown",
   "metadata": {},
   "source": [
    "# 이전까지 한 일들\n",
    "- KOBIS에서 제공되지 않는 필요한 정보들을 크롤링 해서 final_df 데이터프레임 만듬\n",
    "- 영화가 다른 원작을 기반으로 한 것인지에 대한 여부를 조사해서 데이터프레임으로 만듬 -> 추후 concat해서 통합할 예정"
   ]
  },
  {
   "cell_type": "code",
   "execution_count": 614,
   "metadata": {},
   "outputs": [],
   "source": [
    "# total_movie_data"
   ]
  },
  {
   "cell_type": "code",
   "execution_count": 615,
   "metadata": {},
   "outputs": [
    {
     "data": {
      "text/html": [
       "<div>\n",
       "<style scoped>\n",
       "    .dataframe tbody tr th:only-of-type {\n",
       "        vertical-align: middle;\n",
       "    }\n",
       "\n",
       "    .dataframe tbody tr th {\n",
       "        vertical-align: top;\n",
       "    }\n",
       "\n",
       "    .dataframe thead th {\n",
       "        text-align: right;\n",
       "    }\n",
       "</style>\n",
       "<table border=\"1\" class=\"dataframe\">\n",
       "  <thead>\n",
       "    <tr style=\"text-align: right;\">\n",
       "      <th></th>\n",
       "      <th>영화명</th>\n",
       "      <th>개봉일</th>\n",
       "      <th>매출액</th>\n",
       "      <th>매출액점유율</th>\n",
       "      <th>누적매출액</th>\n",
       "      <th>관객수</th>\n",
       "      <th>누적관객수</th>\n",
       "      <th>스크린수</th>\n",
       "      <th>상영횟수</th>\n",
       "      <th>대표국적</th>\n",
       "      <th>...</th>\n",
       "      <th>배급사</th>\n",
       "      <th>등급</th>\n",
       "      <th>장르</th>\n",
       "      <th>감독</th>\n",
       "      <th>배우</th>\n",
       "      <th>main_actors</th>\n",
       "      <th>개봉일_int</th>\n",
       "      <th>director_involved</th>\n",
       "      <th>actor_involved</th>\n",
       "      <th>전국관객수</th>\n",
       "    </tr>\n",
       "  </thead>\n",
       "  <tbody>\n",
       "    <tr>\n",
       "      <th>10874</th>\n",
       "      <td>히어로 일본 대침공</td>\n",
       "      <td>2019-09-11</td>\n",
       "      <td>1000</td>\n",
       "      <td>0.0</td>\n",
       "      <td>1000</td>\n",
       "      <td>1</td>\n",
       "      <td>1</td>\n",
       "      <td>1</td>\n",
       "      <td>1</td>\n",
       "      <td>일본</td>\n",
       "      <td>...</td>\n",
       "      <td>(주)제이앤씨미디어그룹</td>\n",
       "      <td>15세이상관람가</td>\n",
       "      <td>액션,SF</td>\n",
       "      <td>사토 신스케</td>\n",
       "      <td>사토 타케루,키나시 노리타케</td>\n",
       "      <td>NaN</td>\n",
       "      <td>2019</td>\n",
       "      <td>True</td>\n",
       "      <td>False</td>\n",
       "      <td>1</td>\n",
       "    </tr>\n",
       "  </tbody>\n",
       "</table>\n",
       "<p>1 rows × 22 columns</p>\n",
       "</div>"
      ],
      "text/plain": [
       "              영화명         개봉일   매출액  매출액점유율  누적매출액  관객수  누적관객수  스크린수  상영횟수  \\\n",
       "10874  히어로 일본 대침공  2019-09-11  1000     0.0   1000    1      1     1     1   \n",
       "\n",
       "      대표국적  ...           배급사        등급     장르      감독               배우  \\\n",
       "10874   일본  ...  (주)제이앤씨미디어그룹  15세이상관람가  액션,SF  사토 신스케  사토 타케루,키나시 노리타케   \n",
       "\n",
       "      main_actors 개봉일_int director_involved  actor_involved  전국관객수  \n",
       "10874         NaN    2019              True           False      1  \n",
       "\n",
       "[1 rows x 22 columns]"
      ]
     },
     "execution_count": 615,
     "metadata": {},
     "output_type": "execute_result"
    }
   ],
   "source": [
    " actor_power_data_02.tail(1)"
   ]
  },
  {
   "cell_type": "code",
   "execution_count": 604,
   "metadata": {},
   "outputs": [],
   "source": [
    "# total_title_list = list(total_movie_data['영화명'])\n",
    "\n",
    "# def push_audience(title):\n",
    "    \n",
    "#     for i, each_title in enumerate(total_title_list):\n",
    "#         if title == each_title:\n",
    "#             return total_movie_data.iloc[i]['전국관객수']\n",
    "    \n",
    "# actor_power_data_02['전국관객수'] = actor_power_data_02['영화명'].apply(push_audience)"
   ]
  },
  {
   "cell_type": "code",
   "execution_count": 605,
   "metadata": {},
   "outputs": [],
   "source": []
  },
  {
   "cell_type": "code",
   "execution_count": 608,
   "metadata": {},
   "outputs": [],
   "source": [
    "# actor_power_data_02.head()"
   ]
  },
  {
   "cell_type": "code",
   "execution_count": 609,
   "metadata": {},
   "outputs": [],
   "source": [
    "# actor_power_data_02.to_csv('actor_power_data_02.csv', mode='w')"
   ]
  },
  {
   "cell_type": "code",
   "execution_count": null,
   "metadata": {},
   "outputs": [],
   "source": []
  },
  {
   "cell_type": "markdown",
   "metadata": {},
   "source": [
    "# final_df와 대조하게 될 KOBIS 데이터프레임 전처리 1\n",
    "- 기간별 데이터(약 23000개)에 main_actor(주연배우)추가\n",
    "- 기간별 데이터(약 23000개)에서 월별 KOBIS데이터(약 10000개)와 일치하는 데이터프레임만 추출\n",
    "- 추출한 데이터(10875개)에서 개봉일이 누락된 부분을 월별데이터에서 가져와서 채워넣기\n",
    "- 개봉일 비교 쉽게 하기위해 '개봉일_int' 칼럼 추가\n"
   ]
  },
  {
   "cell_type": "code",
   "execution_count": 30,
   "metadata": {},
   "outputs": [],
   "source": [
    "import re\n",
    "import string"
   ]
  },
  {
   "cell_type": "code",
   "execution_count": 7,
   "metadata": {},
   "outputs": [],
   "source": [
    "# final_df = pd.read_csv('final_df.csv').drop(columns=['Unnamed: 0'])"
   ]
  },
  {
   "cell_type": "code",
   "execution_count": 12,
   "metadata": {},
   "outputs": [],
   "source": [
    "# total_movie_data = pd.read_csv('total_movie_data.csv')"
   ]
  },
  {
   "cell_type": "code",
   "execution_count": 184,
   "metadata": {},
   "outputs": [],
   "source": [
    "# actor_power_data = pd.read_csv('actor_power_data.csv')"
   ]
  },
  {
   "cell_type": "code",
   "execution_count": 369,
   "metadata": {},
   "outputs": [],
   "source": [
    "# final_df.head(1)"
   ]
  },
  {
   "cell_type": "code",
   "execution_count": 370,
   "metadata": {},
   "outputs": [],
   "source": [
    "# total_movie_data.head(1)"
   ]
  },
  {
   "cell_type": "code",
   "execution_count": null,
   "metadata": {},
   "outputs": [],
   "source": []
  },
  {
   "cell_type": "code",
   "execution_count": 359,
   "metadata": {},
   "outputs": [],
   "source": [
    "# actor_power_data.head()"
   ]
  },
  {
   "cell_type": "code",
   "execution_count": 360,
   "metadata": {},
   "outputs": [],
   "source": [
    "# len(actor_power_data)"
   ]
  },
  {
   "cell_type": "code",
   "execution_count": 361,
   "metadata": {},
   "outputs": [],
   "source": [
    "# len(actor_power_data)"
   ]
  },
  {
   "cell_type": "code",
   "execution_count": 363,
   "metadata": {},
   "outputs": [],
   "source": [
    "# title_list = list(total_movie_data['영화명'])\n",
    "# len(title_list)"
   ]
  },
  {
   "cell_type": "code",
   "execution_count": 364,
   "metadata": {},
   "outputs": [],
   "source": [
    "# actor_power_data['same_title'] = actor_power_data['영화명'].apply(lambda title : True if title in title_list else False)"
   ]
  },
  {
   "cell_type": "code",
   "execution_count": 365,
   "metadata": {},
   "outputs": [],
   "source": [
    "# actor_power_data_02 = actor_power_data[actor_power_data['same_title'] == True]"
   ]
  },
  {
   "cell_type": "code",
   "execution_count": 366,
   "metadata": {},
   "outputs": [],
   "source": [
    "# len(actor_power_data_02)"
   ]
  },
  {
   "cell_type": "code",
   "execution_count": 328,
   "metadata": {},
   "outputs": [],
   "source": [
    "# actor_power_data_02 = actor_power_data_02.reset_index().drop(columns=['index', 'same_title'])"
   ]
  },
  {
   "cell_type": "code",
   "execution_count": 329,
   "metadata": {},
   "outputs": [],
   "source": [
    "# actor_power_data_02.to_csv('actor_power_data_02.csv', mode='w')"
   ]
  },
  {
   "cell_type": "code",
   "execution_count": 211,
   "metadata": {},
   "outputs": [],
   "source": [
    "# actor_power_data_02['same_title'] = actor_power_data_02['영화명'].apply(lambda title : True if title in title_list else False)"
   ]
  },
  {
   "cell_type": "code",
   "execution_count": 372,
   "metadata": {},
   "outputs": [],
   "source": [
    "# actor_power_data_02.tail(10)"
   ]
  },
  {
   "cell_type": "code",
   "execution_count": 374,
   "metadata": {},
   "outputs": [],
   "source": [
    "# len(actor_power_data_02)"
   ]
  },
  {
   "cell_type": "code",
   "execution_count": 333,
   "metadata": {},
   "outputs": [],
   "source": [
    "# type(actor_power_data_02['감독'][10862]) == type(float('nan'))"
   ]
  },
  {
   "cell_type": "code",
   "execution_count": 348,
   "metadata": {},
   "outputs": [],
   "source": [
    "# total_m_list = list(total_movie_data['영화명'])\n",
    "# total_m_list"
   ]
  },
  {
   "cell_type": "code",
   "execution_count": 349,
   "metadata": {},
   "outputs": [],
   "source": [
    "# def fnc(title):\n",
    "#     for i, m_title in enumerate(total_m_list):\n",
    "#         if title == m_title:\n",
    "#             return total_movie_data.iloc[i]['개봉일']\n",
    "        "
   ]
  },
  {
   "cell_type": "code",
   "execution_count": 350,
   "metadata": {},
   "outputs": [],
   "source": [
    "# actor_power_data_02['개봉일'] = actor_power_data_02['영화명'].apply(fnc)"
   ]
  },
  {
   "cell_type": "code",
   "execution_count": 356,
   "metadata": {},
   "outputs": [],
   "source": [
    "# actor_power_data_02.to_csv('actor_power_data_02.csv', mode='w')"
   ]
  },
  {
   "cell_type": "code",
   "execution_count": 228,
   "metadata": {},
   "outputs": [],
   "source": [
    "# type(list(final_df['감독'])[920]) == type('str')"
   ]
  },
  {
   "cell_type": "code",
   "execution_count": 229,
   "metadata": {},
   "outputs": [],
   "source": [
    "# def check_direc(directors):\n",
    "#     if type(directors) == type('str'):\n",
    "#         if len(directors.split(',')) > 1 :\n",
    "#             return True\n",
    "#         else:\n",
    "#             return False\n",
    "        \n",
    "#     return False"
   ]
  },
  {
   "cell_type": "code",
   "execution_count": 134,
   "metadata": {},
   "outputs": [],
   "source": [
    "# final_df"
   ]
  },
  {
   "cell_type": "code",
   "execution_count": 181,
   "metadata": {},
   "outputs": [],
   "source": [
    "# final_df.to_csv('final_df_02.csv', mode='w')\n",
    "# total_movie_data.to_csv('total_movie_data_02.csv', mode='w')"
   ]
  },
  {
   "cell_type": "code",
   "execution_count": null,
   "metadata": {},
   "outputs": [],
   "source": []
  },
  {
   "cell_type": "code",
   "execution_count": 161,
   "metadata": {},
   "outputs": [],
   "source": [
    "# final_df['개봉일_int'] = final_df['개봉일'].apply(lambda date : int(date[:4]))"
   ]
  },
  {
   "cell_type": "code",
   "execution_count": 169,
   "metadata": {},
   "outputs": [],
   "source": [
    "# total_movie_data['개봉일_int'] = total_movie_data['개봉일'].apply(lambda date : int(date[:4]))"
   ]
  },
  {
   "cell_type": "code",
   "execution_count": 235,
   "metadata": {},
   "outputs": [],
   "source": [
    "# len(total_movie_data[total_movie_data['개봉일_int'] > 2018])"
   ]
  },
  {
   "cell_type": "code",
   "execution_count": 318,
   "metadata": {},
   "outputs": [],
   "source": [
    "# for i, boolean in enumerate(list(final_df['개봉일'].isna())):\n",
    "#     if boolean == True:\n",
    "#         print(i)"
   ]
  },
  {
   "cell_type": "code",
   "execution_count": null,
   "metadata": {},
   "outputs": [],
   "source": []
  },
  {
   "cell_type": "code",
   "execution_count": 355,
   "metadata": {},
   "outputs": [],
   "source": [
    "# for i, boolean in enumerate(list(actor_power_data_02['개봉일'].isna())):\n",
    "#     if boolean == True:\n",
    "#         print(actor_power_data_02.iloc[i]['영화명'])"
   ]
  },
  {
   "cell_type": "code",
   "execution_count": 357,
   "metadata": {},
   "outputs": [],
   "source": [
    "# actor_power_data_02['개봉일_int'] = actor_power_data_02['개봉일'].apply(lambda date : int(date[:4]))"
   ]
  },
  {
   "cell_type": "code",
   "execution_count": 358,
   "metadata": {},
   "outputs": [],
   "source": [
    "# actor_power_data_02.to_csv('actor_power_data_02.csv', mode='w')"
   ]
  },
  {
   "cell_type": "code",
   "execution_count": 109,
   "metadata": {},
   "outputs": [],
   "source": [
    "# total_movie_data[total_movie_data['개봉일_int'] > 2012]"
   ]
  },
  {
   "cell_type": "markdown",
   "metadata": {},
   "source": [
    "# final_df와 대조하게 될 KOBIS 데이터프레임 전처리 2\n",
    " - actor_power_data_02에서 final_df에 존재하는 감독들에 대한 영화들만 추출 -> director_compare_df\n",
    " - actor_power_data_02에서 final_df에 존재하는 배우들에 대한 영화들만 추출 -> actor_compare_df\n",
    " - final_df에서 배우정보가 없는게 있음 -> '-'"
   ]
  },
  {
   "cell_type": "markdown",
   "metadata": {},
   "source": [
    "## director_compare_df 만들기"
   ]
  },
  {
   "cell_type": "code",
   "execution_count": 464,
   "metadata": {},
   "outputs": [],
   "source": [
    "# actor_power_data_02.head()"
   ]
  },
  {
   "cell_type": "code",
   "execution_count": 462,
   "metadata": {},
   "outputs": [],
   "source": [
    "# final_direc_list = list(final_df['감독'])"
   ]
  },
  {
   "cell_type": "code",
   "execution_count": 460,
   "metadata": {},
   "outputs": [],
   "source": [
    "# final_direc_list"
   ]
  },
  {
   "cell_type": "code",
   "execution_count": 426,
   "metadata": {},
   "outputs": [],
   "source": [
    "# def seperate_direc():\n",
    "#     result = []\n",
    "#     for names in final_direc_list:\n",
    "#         if type(names) == type(float('nan')):\n",
    "#             result.append(names)\n",
    "#         else:\n",
    "#             for name in names.split(','):\n",
    "#                 result.append(name)\n",
    "#     return result"
   ]
  },
  {
   "cell_type": "code",
   "execution_count": 427,
   "metadata": {},
   "outputs": [],
   "source": [
    "# final_direc_list = seperate_direc()"
   ]
  },
  {
   "cell_type": "code",
   "execution_count": 461,
   "metadata": {},
   "outputs": [],
   "source": [
    "# final_direc_list"
   ]
  },
  {
   "cell_type": "code",
   "execution_count": 439,
   "metadata": {},
   "outputs": [],
   "source": [
    "# def direc_check_func(names):\n",
    "#     if type(names) == type(float('nan')):\n",
    "#         return False\n",
    "    \n",
    "#     for name in names.split(','):\n",
    "#         if name in final_direc_list:\n",
    "#             return True\n",
    "#         else:\n",
    "#             return False\n",
    "    "
   ]
  },
  {
   "cell_type": "code",
   "execution_count": 440,
   "metadata": {},
   "outputs": [],
   "source": [
    "# actor_power_data_02['director_involved'] = actor_power_data_02['감독'].apply(direc_check_func)"
   ]
  },
  {
   "cell_type": "code",
   "execution_count": 397,
   "metadata": {},
   "outputs": [],
   "source": [
    "# sorted_df = actor_power_data_02[actor_power_data_02['same_direc'] == True]"
   ]
  },
  {
   "cell_type": "code",
   "execution_count": 429,
   "metadata": {},
   "outputs": [],
   "source": [
    "# final_df.head(2)"
   ]
  },
  {
   "cell_type": "code",
   "execution_count": 430,
   "metadata": {},
   "outputs": [],
   "source": [
    "# final_df['starring_actors']"
   ]
  },
  {
   "cell_type": "code",
   "execution_count": 437,
   "metadata": {},
   "outputs": [],
   "source": [
    "# actor_power_data_02.drop(columns=['same_direc'], inplace=True)"
   ]
  },
  {
   "cell_type": "code",
   "execution_count": 447,
   "metadata": {},
   "outputs": [],
   "source": [
    "# director_compare_df = actor_power_data_02[actor_power_data_02['director_involved'] == True]"
   ]
  },
  {
   "cell_type": "code",
   "execution_count": 496,
   "metadata": {},
   "outputs": [],
   "source": [
    "# director_compare_df.to_csv('director_compare_df.csv', mode='w')"
   ]
  },
  {
   "cell_type": "markdown",
   "metadata": {},
   "source": [
    "## actor_compare_df 만들기"
   ]
  },
  {
   "cell_type": "code",
   "execution_count": null,
   "metadata": {},
   "outputs": [],
   "source": [
    "# final_df['starring_actors'][1].split(',')\n",
    "\n",
    "# [re.sub('[(].+[)]', '', x).strip() for x in final_df['starring_actors'][i].split(',')]"
   ]
  },
  {
   "cell_type": "code",
   "execution_count": 471,
   "metadata": {},
   "outputs": [
    {
     "data": {
      "text/plain": [
       "928"
      ]
     },
     "execution_count": 471,
     "metadata": {},
     "output_type": "execute_result"
    }
   ],
   "source": [
    "# final_actor_list = list(final_df['starring_actors'])\n",
    "# len(final_actor_list)"
   ]
  },
  {
   "cell_type": "code",
   "execution_count": 468,
   "metadata": {},
   "outputs": [],
   "source": [
    "# result = []\n",
    "# for i in range(0, len(final_actor_list)):\n",
    "#     for name in [re.sub('[(].+[)]', '', x).strip() for x in final_df['starring_actors'][i].split(',')]:\n",
    "#         result.append(name)\n",
    "        "
   ]
  },
  {
   "cell_type": "code",
   "execution_count": 486,
   "metadata": {},
   "outputs": [],
   "source": [
    "# len(result)"
   ]
  },
  {
   "cell_type": "code",
   "execution_count": 500,
   "metadata": {},
   "outputs": [],
   "source": [
    "# final_actor_list = np.unique(result)"
   ]
  },
  {
   "cell_type": "code",
   "execution_count": 501,
   "metadata": {},
   "outputs": [
    {
     "data": {
      "text/plain": [
       "1357"
      ]
     },
     "execution_count": 501,
     "metadata": {},
     "output_type": "execute_result"
    }
   ],
   "source": [
    "# len(final_actor_list)"
   ]
  },
  {
   "cell_type": "code",
   "execution_count": 502,
   "metadata": {},
   "outputs": [],
   "source": [
    "# def actor_check_func(names):\n",
    "#     if type(names) == type(float('nan')):\n",
    "#         return False\n",
    "    \n",
    "#     for name in names.split(','):\n",
    "#         if name in final_actor_list:\n",
    "#             return True\n",
    "#         else:\n",
    "#             return False\n",
    "    "
   ]
  },
  {
   "cell_type": "code",
   "execution_count": 503,
   "metadata": {},
   "outputs": [],
   "source": [
    "# actor_power_data_02['actor_involved'] = actor_power_data_02['main_actors'].apply(actor_check_func)"
   ]
  },
  {
   "cell_type": "code",
   "execution_count": 504,
   "metadata": {},
   "outputs": [],
   "source": [
    "# actor_compare_df = actor_power_data_02[actor_power_data_02['actor_involved'] == True]"
   ]
  },
  {
   "cell_type": "code",
   "execution_count": 511,
   "metadata": {},
   "outputs": [],
   "source": [
    "# actor_compare_df.to_csv('actor_compare_df.csv', mode='w')"
   ]
  },
  {
   "cell_type": "code",
   "execution_count": 514,
   "metadata": {},
   "outputs": [],
   "source": [
    "# actor_power_data_02.to_csv('actor_power_data_02.csv', mode='w')"
   ]
  },
  {
   "cell_type": "code",
   "execution_count": 710,
   "metadata": {},
   "outputs": [
    {
     "data": {
      "text/html": [
       "<div>\n",
       "<style scoped>\n",
       "    .dataframe tbody tr th:only-of-type {\n",
       "        vertical-align: middle;\n",
       "    }\n",
       "\n",
       "    .dataframe tbody tr th {\n",
       "        vertical-align: top;\n",
       "    }\n",
       "\n",
       "    .dataframe thead th {\n",
       "        text-align: right;\n",
       "    }\n",
       "</style>\n",
       "<table border=\"1\" class=\"dataframe\">\n",
       "  <thead>\n",
       "    <tr style=\"text-align: right;\">\n",
       "      <th></th>\n",
       "      <th>id</th>\n",
       "      <th>영화명</th>\n",
       "      <th>감독</th>\n",
       "      <th>제작사</th>\n",
       "      <th>수입사</th>\n",
       "      <th>배급사</th>\n",
       "      <th>개봉일</th>\n",
       "      <th>영화유형</th>\n",
       "      <th>영화형태</th>\n",
       "      <th>국적</th>\n",
       "      <th>...</th>\n",
       "      <th>등급</th>\n",
       "      <th>영화구분</th>\n",
       "      <th>expert_rating</th>\n",
       "      <th>starring_actors</th>\n",
       "      <th>running_times</th>\n",
       "      <th>audience_rating</th>\n",
       "      <th>rating_audiences</th>\n",
       "      <th>개봉일_int</th>\n",
       "      <th>director_power</th>\n",
       "      <th>director_moive_num</th>\n",
       "    </tr>\n",
       "  </thead>\n",
       "  <tbody>\n",
       "    <tr>\n",
       "      <th>10</th>\n",
       "      <td>10</td>\n",
       "      <td>스파이</td>\n",
       "      <td>폴 페이그</td>\n",
       "      <td>NaN</td>\n",
       "      <td>이십세기폭스코리아(주)</td>\n",
       "      <td>이십세기폭스코리아(주)</td>\n",
       "      <td>2015-05-21</td>\n",
       "      <td>개봉영화</td>\n",
       "      <td>장편</td>\n",
       "      <td>미국</td>\n",
       "      <td>...</td>\n",
       "      <td>15세이상관람가</td>\n",
       "      <td>일반영화</td>\n",
       "      <td>7.32</td>\n",
       "      <td>멜리사 맥카시, 주드 로, 제이슨 스타뎀</td>\n",
       "      <td>120분</td>\n",
       "      <td>8.889208633093526</td>\n",
       "      <td>695</td>\n",
       "      <td>2015</td>\n",
       "      <td>2023958.0</td>\n",
       "      <td>4 [4]</td>\n",
       "    </tr>\n",
       "    <tr>\n",
       "      <th>11</th>\n",
       "      <td>11</td>\n",
       "      <td>강남 1970</td>\n",
       "      <td>유하</td>\n",
       "      <td>(주)모베라픽처스,(주)쇼박스</td>\n",
       "      <td>NaN</td>\n",
       "      <td>(주)쇼박스</td>\n",
       "      <td>2015-01-21</td>\n",
       "      <td>개봉영화</td>\n",
       "      <td>장편</td>\n",
       "      <td>한국</td>\n",
       "      <td>...</td>\n",
       "      <td>청소년관람불가</td>\n",
       "      <td>일반영화</td>\n",
       "      <td>5.84</td>\n",
       "      <td>이민호(종대), 김래원(용기), 정진영(길수)</td>\n",
       "      <td>135분</td>\n",
       "      <td>8.053080568720379</td>\n",
       "      <td>1055</td>\n",
       "      <td>2015</td>\n",
       "      <td>3804726.0</td>\n",
       "      <td>1 [1]</td>\n",
       "    </tr>\n",
       "    <tr>\n",
       "      <th>12</th>\n",
       "      <td>12</td>\n",
       "      <td>악의 연대기</td>\n",
       "      <td>백운학</td>\n",
       "      <td>(주)비에이엔터테인먼트</td>\n",
       "      <td>NaN</td>\n",
       "      <td>씨제이이앤엠(주)</td>\n",
       "      <td>2015-05-14</td>\n",
       "      <td>개봉영화</td>\n",
       "      <td>장편</td>\n",
       "      <td>한국</td>\n",
       "      <td>...</td>\n",
       "      <td>15세이상관람가</td>\n",
       "      <td>일반영화</td>\n",
       "      <td>5.81</td>\n",
       "      <td>손현주(최반장(최창식)), 마동석(오형사), 최다니엘(김진규)</td>\n",
       "      <td>102분</td>\n",
       "      <td>8.42809364548495</td>\n",
       "      <td>598</td>\n",
       "      <td>2015</td>\n",
       "      <td>2191793.0</td>\n",
       "      <td>1 [1]</td>\n",
       "    </tr>\n",
       "    <tr>\n",
       "      <th>13</th>\n",
       "      <td>13</td>\n",
       "      <td>오늘의 연애</td>\n",
       "      <td>박진표</td>\n",
       "      <td>(주)팝콘에프앤엠</td>\n",
       "      <td>NaN</td>\n",
       "      <td>씨제이이앤엠(주)</td>\n",
       "      <td>2015-01-14</td>\n",
       "      <td>개봉영화</td>\n",
       "      <td>장편</td>\n",
       "      <td>한국</td>\n",
       "      <td>...</td>\n",
       "      <td>15세이상관람가</td>\n",
       "      <td>일반영화</td>\n",
       "      <td>4.00</td>\n",
       "      <td>이승기(준수), 문채원(현우), 이서진(동진)</td>\n",
       "      <td>118분</td>\n",
       "      <td>8.06051437216339</td>\n",
       "      <td>661</td>\n",
       "      <td>2015</td>\n",
       "      <td>1891993.0</td>\n",
       "      <td>1 [1]</td>\n",
       "    </tr>\n",
       "    <tr>\n",
       "      <th>14</th>\n",
       "      <td>14</td>\n",
       "      <td>연평해전</td>\n",
       "      <td>김학순</td>\n",
       "      <td>(주)로제타시네마</td>\n",
       "      <td>NaN</td>\n",
       "      <td>(주)넥스트엔터테인먼트월드(NEW)</td>\n",
       "      <td>2015-06-24</td>\n",
       "      <td>개봉영화</td>\n",
       "      <td>장편</td>\n",
       "      <td>한국</td>\n",
       "      <td>...</td>\n",
       "      <td>12세이상관람가</td>\n",
       "      <td>일반영화</td>\n",
       "      <td>4.94</td>\n",
       "      <td>김무열(윤영하), 진구(한상국), 이현우(박동혁)</td>\n",
       "      <td>130분</td>\n",
       "      <td>9.344880677444188</td>\n",
       "      <td>1299</td>\n",
       "      <td>2015</td>\n",
       "      <td>1872677.0</td>\n",
       "      <td>1 [1]</td>\n",
       "    </tr>\n",
       "    <tr>\n",
       "      <th>15</th>\n",
       "      <td>15</td>\n",
       "      <td>테이큰 3</td>\n",
       "      <td>올리비에 메가턴</td>\n",
       "      <td>NaN</td>\n",
       "      <td>이십세기폭스코리아(주)</td>\n",
       "      <td>이십세기폭스코리아(주)</td>\n",
       "      <td>2015-01-01</td>\n",
       "      <td>개봉영화</td>\n",
       "      <td>장편</td>\n",
       "      <td>미국</td>\n",
       "      <td>...</td>\n",
       "      <td>15세이상관람가</td>\n",
       "      <td>일반영화</td>\n",
       "      <td>3.88</td>\n",
       "      <td>리암 니슨(브라이언 밀스), 팜케 얀센(레니), 매기 그레이스(킴)</td>\n",
       "      <td>112분</td>\n",
       "      <td>8.095959595959595</td>\n",
       "      <td>990</td>\n",
       "      <td>2015</td>\n",
       "      <td>4169530.0</td>\n",
       "      <td>1 [1]</td>\n",
       "    </tr>\n",
       "    <tr>\n",
       "      <th>16</th>\n",
       "      <td>16</td>\n",
       "      <td>이미테이션 게임</td>\n",
       "      <td>모튼 틸덤</td>\n",
       "      <td>NaN</td>\n",
       "      <td>(주)미디어로그</td>\n",
       "      <td>메가박스중앙(주)플러스엠</td>\n",
       "      <td>2015-02-17</td>\n",
       "      <td>개봉영화</td>\n",
       "      <td>장편</td>\n",
       "      <td>영국</td>\n",
       "      <td>...</td>\n",
       "      <td>15세이상관람가</td>\n",
       "      <td>일반영화</td>\n",
       "      <td>7.25</td>\n",
       "      <td>베네딕트 컴버배치(앨런 튜링), 키이라 나이틀리(조안 클라크), 매튜 구드(휴 알렉산더)</td>\n",
       "      <td>114분</td>\n",
       "      <td>8.72682119205298</td>\n",
       "      <td>604</td>\n",
       "      <td>2015</td>\n",
       "      <td>3487587.0</td>\n",
       "      <td>2 [2]</td>\n",
       "    </tr>\n",
       "    <tr>\n",
       "      <th>17</th>\n",
       "      <td>17</td>\n",
       "      <td>샌 안드레아스</td>\n",
       "      <td>브래드 페이튼</td>\n",
       "      <td>NaN</td>\n",
       "      <td>워너브러더스 코리아(주)</td>\n",
       "      <td>워너브러더스 코리아(주)</td>\n",
       "      <td>2015-06-03</td>\n",
       "      <td>개봉영화</td>\n",
       "      <td>장편</td>\n",
       "      <td>미국</td>\n",
       "      <td>...</td>\n",
       "      <td>12세이상관람가</td>\n",
       "      <td>일반영화</td>\n",
       "      <td>4.90</td>\n",
       "      <td>드웨인 존슨(레이몬드 게인즈), 알렉산드라 다드다리오(블레이크 게인즈), 칼라 구기...</td>\n",
       "      <td>114분</td>\n",
       "      <td>8.426070038910506</td>\n",
       "      <td>514</td>\n",
       "      <td>2015</td>\n",
       "      <td>5977451.0</td>\n",
       "      <td>2 [2]</td>\n",
       "    </tr>\n",
       "    <tr>\n",
       "      <th>18</th>\n",
       "      <td>18</td>\n",
       "      <td>쎄시봉</td>\n",
       "      <td>김현석</td>\n",
       "      <td>유한회사 제이필름,(주)무브픽쳐스</td>\n",
       "      <td>NaN</td>\n",
       "      <td>씨제이이앤엠(주)</td>\n",
       "      <td>2015-02-05</td>\n",
       "      <td>개봉영화</td>\n",
       "      <td>장편</td>\n",
       "      <td>한국</td>\n",
       "      <td>...</td>\n",
       "      <td>15세이상관람가</td>\n",
       "      <td>일반영화</td>\n",
       "      <td>6.11</td>\n",
       "      <td>정우(젊은 오근태), 김윤석(오근태), 한효주(젊은 민자영)</td>\n",
       "      <td>122분</td>\n",
       "      <td>8.43424317617866</td>\n",
       "      <td>403</td>\n",
       "      <td>2015</td>\n",
       "      <td>7565055.0</td>\n",
       "      <td>2 [2]</td>\n",
       "    </tr>\n",
       "    <tr>\n",
       "      <th>19</th>\n",
       "      <td>19</td>\n",
       "      <td>위플래쉬</td>\n",
       "      <td>데이미언 셔젤</td>\n",
       "      <td>NaN</td>\n",
       "      <td>(주)에이든컴퍼니</td>\n",
       "      <td>(주)쇼박스</td>\n",
       "      <td>2015-03-12</td>\n",
       "      <td>개봉영화</td>\n",
       "      <td>장편</td>\n",
       "      <td>미국</td>\n",
       "      <td>...</td>\n",
       "      <td>15세이상관람가</td>\n",
       "      <td>독립/예술영화</td>\n",
       "      <td>8.44</td>\n",
       "      <td>마일즈 텔러(앤드류), J.K. 시몬스(플렛처)</td>\n",
       "      <td>106분</td>\n",
       "      <td>9.083129584352077</td>\n",
       "      <td>409</td>\n",
       "      <td>2015</td>\n",
       "      <td>10113218.0</td>\n",
       "      <td>3 [3]</td>\n",
       "    </tr>\n",
       "  </tbody>\n",
       "</table>\n",
       "<p>10 rows × 26 columns</p>\n",
       "</div>"
      ],
      "text/plain": [
       "    id       영화명        감독                 제작사            수입사  \\\n",
       "10  10       스파이     폴 페이그                 NaN   이십세기폭스코리아(주)   \n",
       "11  11   강남 1970        유하    (주)모베라픽처스,(주)쇼박스            NaN   \n",
       "12  12    악의 연대기       백운학        (주)비에이엔터테인먼트            NaN   \n",
       "13  13    오늘의 연애       박진표           (주)팝콘에프앤엠            NaN   \n",
       "14  14      연평해전       김학순           (주)로제타시네마            NaN   \n",
       "15  15     테이큰 3  올리비에 메가턴                 NaN   이십세기폭스코리아(주)   \n",
       "16  16  이미테이션 게임     모튼 틸덤                 NaN       (주)미디어로그   \n",
       "17  17   샌 안드레아스   브래드 페이튼                 NaN  워너브러더스 코리아(주)   \n",
       "18  18       쎄시봉       김현석  유한회사 제이필름,(주)무브픽쳐스            NaN   \n",
       "19  19      위플래쉬   데이미언 셔젤                 NaN      (주)에이든컴퍼니   \n",
       "\n",
       "                    배급사         개봉일  영화유형 영화형태  국적  ...        등급     영화구분  \\\n",
       "10         이십세기폭스코리아(주)  2015-05-21  개봉영화   장편  미국  ...  15세이상관람가     일반영화   \n",
       "11               (주)쇼박스  2015-01-21  개봉영화   장편  한국  ...   청소년관람불가     일반영화   \n",
       "12            씨제이이앤엠(주)  2015-05-14  개봉영화   장편  한국  ...  15세이상관람가     일반영화   \n",
       "13            씨제이이앤엠(주)  2015-01-14  개봉영화   장편  한국  ...  15세이상관람가     일반영화   \n",
       "14  (주)넥스트엔터테인먼트월드(NEW)  2015-06-24  개봉영화   장편  한국  ...  12세이상관람가     일반영화   \n",
       "15         이십세기폭스코리아(주)  2015-01-01  개봉영화   장편  미국  ...  15세이상관람가     일반영화   \n",
       "16        메가박스중앙(주)플러스엠  2015-02-17  개봉영화   장편  영국  ...  15세이상관람가     일반영화   \n",
       "17        워너브러더스 코리아(주)  2015-06-03  개봉영화   장편  미국  ...  12세이상관람가     일반영화   \n",
       "18            씨제이이앤엠(주)  2015-02-05  개봉영화   장편  한국  ...  15세이상관람가     일반영화   \n",
       "19               (주)쇼박스  2015-03-12  개봉영화   장편  미국  ...  15세이상관람가  독립/예술영화   \n",
       "\n",
       "    expert_rating                                    starring_actors  \\\n",
       "10           7.32                             멜리사 맥카시, 주드 로, 제이슨 스타뎀   \n",
       "11           5.84                          이민호(종대), 김래원(용기), 정진영(길수)   \n",
       "12           5.81                 손현주(최반장(최창식)), 마동석(오형사), 최다니엘(김진규)   \n",
       "13           4.00                          이승기(준수), 문채원(현우), 이서진(동진)   \n",
       "14           4.94                        김무열(윤영하), 진구(한상국), 이현우(박동혁)   \n",
       "15           3.88              리암 니슨(브라이언 밀스), 팜케 얀센(레니), 매기 그레이스(킴)   \n",
       "16           7.25  베네딕트 컴버배치(앨런 튜링), 키이라 나이틀리(조안 클라크), 매튜 구드(휴 알렉산더)   \n",
       "17           4.90  드웨인 존슨(레이몬드 게인즈), 알렉산드라 다드다리오(블레이크 게인즈), 칼라 구기...   \n",
       "18           6.11                  정우(젊은 오근태), 김윤석(오근태), 한효주(젊은 민자영)   \n",
       "19           8.44                         마일즈 텔러(앤드류), J.K. 시몬스(플렛처)   \n",
       "\n",
       "    running_times    audience_rating rating_audiences 개봉일_int director_power  \\\n",
       "10           120분  8.889208633093526              695    2015      2023958.0   \n",
       "11           135분  8.053080568720379             1055    2015      3804726.0   \n",
       "12           102분   8.42809364548495              598    2015      2191793.0   \n",
       "13           118분   8.06051437216339              661    2015      1891993.0   \n",
       "14           130분  9.344880677444188             1299    2015      1872677.0   \n",
       "15           112분  8.095959595959595              990    2015      4169530.0   \n",
       "16           114분   8.72682119205298              604    2015      3487587.0   \n",
       "17           114분  8.426070038910506              514    2015      5977451.0   \n",
       "18           122분   8.43424317617866              403    2015      7565055.0   \n",
       "19           106분  9.083129584352077              409    2015     10113218.0   \n",
       "\n",
       "   director_moive_num  \n",
       "10              4 [4]  \n",
       "11              1 [1]  \n",
       "12              1 [1]  \n",
       "13              1 [1]  \n",
       "14              1 [1]  \n",
       "15              1 [1]  \n",
       "16              2 [2]  \n",
       "17              2 [2]  \n",
       "18              2 [2]  \n",
       "19              3 [3]  \n",
       "\n",
       "[10 rows x 26 columns]"
      ]
     },
     "execution_count": 710,
     "metadata": {},
     "output_type": "execute_result"
    }
   ],
   "source": [
    "final_df[10:20]"
   ]
  },
  {
   "cell_type": "code",
   "execution_count": 703,
   "metadata": {},
   "outputs": [],
   "source": [
    "final_df[['audience_rating', 'rating_audiences']].to_csv('edit.csv')"
   ]
  },
  {
   "cell_type": "code",
   "execution_count": null,
   "metadata": {},
   "outputs": [],
   "source": []
  },
  {
   "cell_type": "code",
   "execution_count": null,
   "metadata": {},
   "outputs": [],
   "source": []
  },
  {
   "cell_type": "code",
   "execution_count": 704,
   "metadata": {},
   "outputs": [
    {
     "data": {
      "text/plain": [
       "id                                                                 168\n",
       "영화명                                                                맥베스\n",
       "감독                                                              저스틴 커젤\n",
       "제작사                                                                NaN\n",
       "수입사                                                            판씨네마(주)\n",
       "배급사                                                            판씨네마(주)\n",
       "개봉일                                                         2015-12-03\n",
       "영화유형                                                              개봉영화\n",
       "영화형태                                                                장편\n",
       "국적                                                                  영국\n",
       "전국스크린수                                                             141\n",
       "전국매출액                                                        711589153\n",
       "전국관객수                                                            93534\n",
       "서울매출액                                                        367176753\n",
       "서울관객수                                                            46313\n",
       "장르                                                                 드라마\n",
       "등급                                                            15세이상관람가\n",
       "영화구분                                                           독립/예술영화\n",
       "expert_rating                                                        -\n",
       "starring_actors       젤리코 루치치(맥베스), 안나 네트렙코(레이디 맥베스), 일데브란도 다르칸젤로(뱅쿠오)\n",
       "running_times                                                     181분\n",
       "audience_rating                                                      -\n",
       "rating_audiences                                                     -\n",
       "개봉일_int                                                           2015\n",
       "director_power                                                  355913\n",
       "director_moive_num                                               2 [2]\n",
       "Name: 168, dtype: object"
      ]
     },
     "execution_count": 704,
     "metadata": {},
     "output_type": "execute_result"
    }
   ],
   "source": [
    "final_df.iloc[168]"
   ]
  },
  {
   "cell_type": "markdown",
   "metadata": {},
   "source": [
    "## 동명이인 구분 처리하기\n",
    "- final_df 구분 처리\n",
    "    - 288  터널  김성훈B  2016-08-10 \n",
    "    - 377  공조  김성훈A  2017-01-18 \n",
    "    - 675  창궐  김성훈A  2018-10-25\n",
    "    \n",
    "- director_compare_df 구분 처리\n",
    "    - 462        네모난원  김성훈C  2012-12-06\n",
    "    - 737   마이 리틀 히어로  김성훈A  2013-01-09\n",
    "    - 1593     끝까지 간다  김성훈B  2014-05-29\n",
    "    - 4586         터널  김성훈B  2016-08-10\n",
    "    - 5407         공조  김성훈A  2017-01-18\n",
    "    - 7996         창궐  김성훈A  2018-10-25\n",
    "- actor_compare_df 구분 처리"
   ]
  },
  {
   "cell_type": "code",
   "execution_count": 533,
   "metadata": {},
   "outputs": [],
   "source": [
    "# director_compare_df = director_compare_df.reset_index().drop(columns=['index'])"
   ]
  },
  {
   "cell_type": "code",
   "execution_count": 563,
   "metadata": {},
   "outputs": [],
   "source": [
    "# final_df.to_csv('final_df_sep_d.csv', mode='w')"
   ]
  },
  {
   "cell_type": "code",
   "execution_count": 539,
   "metadata": {},
   "outputs": [],
   "source": [
    "# director_compare_df.to_csv('director_compare_df_sep_d.csv', mode='w')"
   ]
  },
  {
   "cell_type": "code",
   "execution_count": 543,
   "metadata": {},
   "outputs": [],
   "source": [
    "# final_df[final_df['감독'] == '김성훈']"
   ]
  },
  {
   "cell_type": "code",
   "execution_count": 544,
   "metadata": {},
   "outputs": [],
   "source": [
    "# director_compare_df[director_compare_df['감독'] == '김성훈']"
   ]
  },
  {
   "cell_type": "code",
   "execution_count": 687,
   "metadata": {},
   "outputs": [],
   "source": [
    "# for i, boolean in enumerate(list(final_df['감독'].isna())):\n",
    "#     if boolean == True:\n",
    "#         print(i)"
   ]
  },
  {
   "cell_type": "code",
   "execution_count": 568,
   "metadata": {},
   "outputs": [],
   "source": [
    "# for i, boolean in enumerate(list(director_compare_df['감독'].isna())):\n",
    "#     if boolean == True:\n",
    "#         print(i)"
   ]
  },
  {
   "cell_type": "code",
   "execution_count": 637,
   "metadata": {},
   "outputs": [],
   "source": [
    "# final_df['감독'][925] = '카를로스 구티에레스 메드라노'"
   ]
  },
  {
   "cell_type": "code",
   "execution_count": 571,
   "metadata": {},
   "outputs": [],
   "source": [
    "# for i, boolean in enumerate(list(final_df['starring_actors'].isna())):\n",
    "#     if boolean == True:\n",
    "#         print(i)"
   ]
  },
  {
   "cell_type": "code",
   "execution_count": 573,
   "metadata": {},
   "outputs": [],
   "source": [
    "# for i, boolean in enumerate(list(actor_compare_df['main_actors'].isna())):\n",
    "#     if boolean == True:\n",
    "#         print(i)"
   ]
  },
  {
   "cell_type": "code",
   "execution_count": 638,
   "metadata": {},
   "outputs": [],
   "source": [
    "# len(actor_compare_df)"
   ]
  },
  {
   "cell_type": "code",
   "execution_count": 639,
   "metadata": {},
   "outputs": [],
   "source": [
    "# director_compare_df.head(1)"
   ]
  },
  {
   "cell_type": "code",
   "execution_count": 635,
   "metadata": {},
   "outputs": [],
   "source": [
    "# total_title_list = list(actor_power_data_02['영화명'])\n",
    "\n",
    "# def push_audience(title):\n",
    "    \n",
    "#     for i, each_title in enumerate(total_title_list):\n",
    "#         if title == each_title:\n",
    "#             return actor_power_data_02.iloc[i]['전국관객수']\n",
    "    "
   ]
  },
  {
   "cell_type": "code",
   "execution_count": 636,
   "metadata": {},
   "outputs": [],
   "source": [
    "# actor_compare_df['전국관객수'] = actor_compare_df['영화명'].apply(push_audience)"
   ]
  },
  {
   "cell_type": "code",
   "execution_count": 634,
   "metadata": {},
   "outputs": [],
   "source": [
    "# actor_compare_df.to_csv('actor_compare_df_sep_d.csv', mode='w')"
   ]
  },
  {
   "cell_type": "code",
   "execution_count": null,
   "metadata": {},
   "outputs": [],
   "source": []
  },
  {
   "cell_type": "code",
   "execution_count": null,
   "metadata": {},
   "outputs": [],
   "source": []
  },
  {
   "cell_type": "code",
   "execution_count": null,
   "metadata": {},
   "outputs": [],
   "source": []
  },
  {
   "cell_type": "code",
   "execution_count": null,
   "metadata": {},
   "outputs": [],
   "source": []
  },
  {
   "cell_type": "code",
   "execution_count": null,
   "metadata": {},
   "outputs": [],
   "source": []
  },
  {
   "cell_type": "markdown",
   "metadata": {},
   "source": [
    "# final_df에 감독/배우 영향력 컬럼 추가\n",
    "- 데이터프레임 final_df와 director_compare_df, actor_compare_df에서 감독과 배우의 동명이인에 대한 처리가 완료되었다고 보고 진행\n",
    "- 전처리 완료한 KOBIS 데이터프레임(actor_power_data_02)을 대조하는 데이터프레임으로 사용한다\n",
    "    - director_func함수 apply시켜서, final_df에 각 영화 row에 대한 감독영향 컬럼 추가\n",
    "    - actor_func함수 apply시켜서, final_df에 각 영화 row에 대한 배우영향 컬럼 추가\n",
    "    - 그 감독이 지난 3년간 끌어모은 관객수 / 그 감독이 만든 영화 갯수\n",
    "    - 그 배우가 지난 3년간 끌어모은 관객수 / 그 배우가 출연한 영화 갯수\n",
    "- 감독, 배우별 영향력(누적관객수) 저장할 dict 만들기\n",
    "- 감독별 제작한 영화갯수 dict 만들기\n",
    "- 배우별 출연한 영화갯수 dict 만들기\n",
    " "
   ]
  },
  {
   "cell_type": "code",
   "execution_count": 589,
   "metadata": {},
   "outputs": [],
   "source": [
    "# director_power_dict = {}\n",
    "# actor_power_dict = {}\n",
    "# director_movies_dict = {}\n",
    "# actor_movies_dict = {}"
   ]
  },
  {
   "cell_type": "code",
   "execution_count": null,
   "metadata": {},
   "outputs": [],
   "source": []
  },
  {
   "cell_type": "code",
   "execution_count": 708,
   "metadata": {},
   "outputs": [],
   "source": [
    "# final_df.head(1)"
   ]
  },
  {
   "cell_type": "code",
   "execution_count": 707,
   "metadata": {},
   "outputs": [],
   "source": [
    "# director_compare_df.head(1)"
   ]
  },
  {
   "cell_type": "code",
   "execution_count": null,
   "metadata": {},
   "outputs": [],
   "source": []
  },
  {
   "cell_type": "code",
   "execution_count": null,
   "metadata": {},
   "outputs": [],
   "source": []
  },
  {
   "cell_type": "code",
   "execution_count": null,
   "metadata": {},
   "outputs": [],
   "source": []
  },
  {
   "cell_type": "code",
   "execution_count": null,
   "metadata": {},
   "outputs": [],
   "source": []
  },
  {
   "cell_type": "code",
   "execution_count": 642,
   "metadata": {},
   "outputs": [],
   "source": [
    "# 감독에 의한 누적관객수 dict에 모으기\n",
    "\n",
    "year_list = list(final_df['개봉일_int'])\n",
    "year_index = 0\n",
    "\n",
    "def director_func(directors):\n",
    "    global year_index\n",
    "    global director_power_dict\n",
    "    global director_movies_dict\n",
    "    \n",
    "    total_audience = 0\n",
    "    \n",
    "    # 감독명이 없는경우 그냥 리턴\n",
    "    if type(directors) == type(float('nan')):\n",
    "        return\n",
    "    \n",
    "    director_list = directors.split(',')\n",
    "    limit_year = int(year_list[year_index]) - 3\n",
    "    \n",
    "    for each_name in director_list:\n",
    "        stripped_name = each_name.strip()\n",
    "        \n",
    "        # 데이터프레임 자르기\n",
    "        cut_movie_df = director_compare_df[director_compare_df['개봉일_int'] > limit_year - 1]\n",
    "        cut_movie_df = cut_movie_df[cut_movie_df['개봉일_int'] < int(year_list[year_index]) + 1]\n",
    "        \n",
    "        for i in range(0, len(cut_movie_df)):\n",
    "            cur_row = cut_movie_df.iloc[i]\n",
    "            \n",
    "            if type(cur_row['감독']) == type(float('nan')):\n",
    "                continue\n",
    "            \n",
    "            cur_row_directors = [name.strip() for name in cur_row['감독'].split(',')]\n",
    "            \n",
    "            if stripped_name in cur_row_directors:\n",
    "                total_audience += int(cur_row['전국관객수'])\n",
    "        \n",
    "        try:\n",
    "            director_power_dict[stripped_name] += total_audience\n",
    "            director_movies_dict[stripped_name] += 1\n",
    "        except Exception:\n",
    "            director_power_dict[stripped_name] = total_audience\n",
    "            director_movies_dict[stripped_name] = 1\n",
    "    \n",
    "    year_index += 1        \n",
    "        "
   ]
  },
  {
   "cell_type": "code",
   "execution_count": 643,
   "metadata": {},
   "outputs": [
    {
     "data": {
      "text/plain": [
       "0      None\n",
       "1      None\n",
       "2      None\n",
       "3      None\n",
       "4      None\n",
       "       ... \n",
       "923    None\n",
       "924    None\n",
       "925    None\n",
       "926    None\n",
       "927    None\n",
       "Name: 감독, Length: 928, dtype: object"
      ]
     },
     "execution_count": 643,
     "metadata": {},
     "output_type": "execute_result"
    }
   ],
   "source": [
    "# final_df['감독'].apply(director_func)"
   ]
  },
  {
   "cell_type": "code",
   "execution_count": 645,
   "metadata": {},
   "outputs": [
    {
     "data": {
      "text/plain": [
       "789"
      ]
     },
     "execution_count": 645,
     "metadata": {},
     "output_type": "execute_result"
    }
   ],
   "source": [
    "# len(director_power_dict)"
   ]
  },
  {
   "cell_type": "code",
   "execution_count": 648,
   "metadata": {},
   "outputs": [
    {
     "data": {
      "text/plain": [
       "789"
      ]
     },
     "execution_count": 648,
     "metadata": {},
     "output_type": "execute_result"
    }
   ],
   "source": [
    "# len(director_movies_dict)"
   ]
  },
  {
   "cell_type": "code",
   "execution_count": 678,
   "metadata": {},
   "outputs": [],
   "source": [
    "# director_movies_dict"
   ]
  },
  {
   "cell_type": "code",
   "execution_count": 680,
   "metadata": {},
   "outputs": [
    {
     "data": {
      "text/plain": [
       "numpy.int64"
      ]
     },
     "execution_count": 680,
     "metadata": {},
     "output_type": "execute_result"
    }
   ],
   "source": [
    "# type(final_df.iloc[0]['전국관객수'])"
   ]
  },
  {
   "cell_type": "code",
   "execution_count": 684,
   "metadata": {},
   "outputs": [
    {
     "name": "stdout",
     "output_type": "stream",
     "text": [
      "<class 'pandas.core.frame.DataFrame'>\n",
      "RangeIndex: 928 entries, 0 to 927\n",
      "Data columns (total 25 columns):\n",
      " #   Column            Non-Null Count  Dtype \n",
      "---  ------            --------------  ----- \n",
      " 0   Unnamed: 0        928 non-null    int64 \n",
      " 1   id                928 non-null    int64 \n",
      " 2   영화명               928 non-null    object\n",
      " 3   감독                926 non-null    object\n",
      " 4   제작사               348 non-null    object\n",
      " 5   수입사               585 non-null    object\n",
      " 6   배급사               927 non-null    object\n",
      " 7   개봉일               928 non-null    object\n",
      " 8   영화유형              928 non-null    object\n",
      " 9   영화형태              928 non-null    object\n",
      " 10  국적                928 non-null    object\n",
      " 11  전국스크린수            928 non-null    int64 \n",
      " 12  전국매출액             928 non-null    int64 \n",
      " 13  전국관객수             928 non-null    int64 \n",
      " 14  서울매출액             928 non-null    int64 \n",
      " 15  서울관객수             928 non-null    int64 \n",
      " 16  장르                928 non-null    object\n",
      " 17  등급                928 non-null    object\n",
      " 18  영화구분              928 non-null    object\n",
      " 19  expert_rating     928 non-null    object\n",
      " 20  starring_actors   928 non-null    object\n",
      " 21  running_times     928 non-null    object\n",
      " 22  audience_rating   928 non-null    object\n",
      " 23  rating_audiences  928 non-null    object\n",
      " 24  개봉일_int           928 non-null    int64 \n",
      "dtypes: int64(8), object(17)\n",
      "memory usage: 181.4+ KB\n"
     ]
    }
   ],
   "source": [
    "final_df_rr = pd.read_csv('final_df_sep_d.csv')\n",
    "final_df_rr.info()\n",
    "                          "
   ]
  },
  {
   "cell_type": "code",
   "execution_count": null,
   "metadata": {},
   "outputs": [],
   "source": []
  },
  {
   "cell_type": "code",
   "execution_count": null,
   "metadata": {},
   "outputs": [],
   "source": []
  },
  {
   "cell_type": "code",
   "execution_count": null,
   "metadata": {},
   "outputs": [],
   "source": []
  },
  {
   "cell_type": "code",
   "execution_count": null,
   "metadata": {},
   "outputs": [],
   "source": []
  },
  {
   "cell_type": "code",
   "execution_count": 668,
   "metadata": {},
   "outputs": [],
   "source": [
    "# 감독의 이전 성과(누적 관객수) dict을 이용해서 director_power 칼럼을 final_df에 추가\n",
    "# 제작영화 총 갯수와 [] 이거를 분리하려면 띄어쓰기로 split하기\n",
    "\n",
    "def push_direc_power(directors):\n",
    "    total_audience = 0\n",
    "    \n",
    "    # 감독명이 없는경우 null값을 리턴한다\n",
    "    if type(directors) == type(float('nan')):\n",
    "        return float('nan')\n",
    "    \n",
    "    director_list = directors.split(',')\n",
    "    \n",
    "    for each_name in director_list:\n",
    "        stripped_name = each_name.strip()\n",
    "        total_audience += director_power_dict[stripped_name]\n",
    "        \n",
    "    return total_audience\n",
    "        \n",
    "\n",
    "def push_direc_movie_num(directors):\n",
    "    total_movie = 0\n",
    "    arr = []\n",
    "    \n",
    "    # 감독명이 없는경우 null값을 리턴한다\n",
    "    if type(directors) == type(float('nan')):\n",
    "        return float('nan')\n",
    "    \n",
    "    director_list = directors.split(',')\n",
    "    \n",
    "    for each_name in director_list:\n",
    "        stripped_name = each_name.strip()\n",
    "        total_movie += director_movies_dict[stripped_name]\n",
    "        arr.append(director_movies_dict[stripped_name])\n",
    "        \n",
    "    result = str(total_movie) + ' ' + str(arr)\n",
    "        \n",
    "    return result\n",
    "    "
   ]
  },
  {
   "cell_type": "code",
   "execution_count": 651,
   "metadata": {},
   "outputs": [],
   "source": [
    "# final_df['director_power'] = final_df['감독'].apply(push_direc_power)"
   ]
  },
  {
   "cell_type": "code",
   "execution_count": 669,
   "metadata": {},
   "outputs": [],
   "source": [
    "# final_df['director_moive_num'] = final_df['감독'].apply(push_direc_movie_num)"
   ]
  },
  {
   "cell_type": "code",
   "execution_count": 675,
   "metadata": {},
   "outputs": [],
   "source": [
    "# final_df.to_csv('final_df_03.csv', mode='w')"
   ]
  },
  {
   "cell_type": "code",
   "execution_count": 706,
   "metadata": {},
   "outputs": [],
   "source": [
    "# final_df['starring_actors'][452]"
   ]
  },
  {
   "cell_type": "code",
   "execution_count": 677,
   "metadata": {},
   "outputs": [],
   "source": [
    "# final_df[200:204]"
   ]
  },
  {
   "cell_type": "code",
   "execution_count": 696,
   "metadata": {},
   "outputs": [
    {
     "data": {
      "text/plain": [
       "id                                925\n",
       "영화명                              빅 위시\n",
       "감독                    카를로스 구티에레스 메드라노\n",
       "제작사                               NaN\n",
       "수입사                       (주)박수엔터테인먼트\n",
       "배급사                       (주)박수엔터테인먼트\n",
       "개봉일                        2019-10-30\n",
       "영화유형                             개봉영화\n",
       "영화형태                               장편\n",
       "국적                                멕시코\n",
       "전국스크린수                            336\n",
       "전국매출액                       251990300\n",
       "전국관객수                           32684\n",
       "서울매출액                        42956220\n",
       "서울관객수                            5227\n",
       "장르                                판타지\n",
       "등급                              전체관람가\n",
       "영화구분                             일반영화\n",
       "expert_rating                    6.00\n",
       "starring_actors           [국내] 전체 관람가\n",
       "running_times                     79분\n",
       "audience_rating                   6.5\n",
       "rating_audiences                    4\n",
       "개봉일_int                          2019\n",
       "director_power                      0\n",
       "director_moive_num              1 [1]\n",
       "Name: 925, dtype: object"
      ]
     },
     "execution_count": 696,
     "metadata": {},
     "output_type": "execute_result"
    }
   ],
   "source": [
    "final_df.iloc[925]"
   ]
  },
  {
   "cell_type": "code",
   "execution_count": null,
   "metadata": {},
   "outputs": [],
   "source": []
  },
  {
   "cell_type": "code",
   "execution_count": null,
   "metadata": {},
   "outputs": [],
   "source": []
  },
  {
   "cell_type": "code",
   "execution_count": 587,
   "metadata": {},
   "outputs": [],
   "source": [
    "# 배우 성과측정 함수\n",
    "\n",
    "year_list = list(final_df['개봉일_int'])\n",
    "year_index = 0\n",
    "\n",
    "def actor_func(actors):\n",
    "    global year_index\n",
    "    global actor_power_dict\n",
    "    global actor_movies_dict\n",
    "    \n",
    "    total_audience = 0\n",
    "    \n",
    "    actor_list = actors.split(',')\n",
    "    actor_list = [re.sub('[(].+[)]', '', each_name) for each_name in actor_list]\n",
    "    \n",
    "    limit_year = int(year_list[year_index][:4]) - 3\n",
    "    \n",
    "    for each_name in actor_list:\n",
    "        stripped_name = each_name.strip()\n",
    "        \n",
    "        # 데이터프레임 자르기\n",
    "        cut_movie_df = actor_compare_df[actor_compare_df['개봉일_int'] > limit_year - 1]\n",
    "        cut_movie_df = cut_movie_df[cut_movie_df['개봉일_int'] < int(year_list[year_index]) + 1]\n",
    "        \n",
    "        for i in range(0, len(cut_movie_df)):\n",
    "            \n",
    "            cur_row = cut_movie_df.iloc[i]\n",
    "            cur_row_actors = [name.strip() for name in cur_row['main_actors'].split(',')]\n",
    "            \n",
    "            if stripped_name in cur_row_actors:\n",
    "                total_audience += int(cur_row['전국관객수'])\n",
    "                \n",
    "        try:\n",
    "            actor_power_dict[stripped_name] += total_audience\n",
    "            actor_movies_dict[stripped_name] += 1\n",
    "        except Exception:\n",
    "            actor_power_dict[stripped_name] = total_audience\n",
    "            actor_movies_dict[stripped_name] = 1\n",
    "        \n",
    "    year_index += 1\n",
    "        \n",
    "    "
   ]
  },
  {
   "cell_type": "code",
   "execution_count": null,
   "metadata": {},
   "outputs": [],
   "source": [
    "# final_df['starring_actors'].apply(actor_func)"
   ]
  },
  {
   "cell_type": "code",
   "execution_count": 691,
   "metadata": {},
   "outputs": [
    {
     "data": {
      "text/plain": [
       "1671"
      ]
     },
     "execution_count": 691,
     "metadata": {},
     "output_type": "execute_result"
    }
   ],
   "source": [
    "len(actor_compare_df)"
   ]
  },
  {
   "cell_type": "code",
   "execution_count": 693,
   "metadata": {},
   "outputs": [
    {
     "data": {
      "text/plain": [
       "1671"
      ]
     },
     "execution_count": 693,
     "metadata": {},
     "output_type": "execute_result"
    }
   ],
   "source": [
    "len(pd.read_csv('actor_compare_df_sep_d.csv'))"
   ]
  },
  {
   "cell_type": "code",
   "execution_count": null,
   "metadata": {},
   "outputs": [],
   "source": []
  },
  {
   "cell_type": "code",
   "execution_count": null,
   "metadata": {},
   "outputs": [],
   "source": [
    "# final_df['actor_power'] = final_df['starring_actors'].apply(actor_func)"
   ]
  },
  {
   "cell_type": "code",
   "execution_count": null,
   "metadata": {},
   "outputs": [],
   "source": []
  },
  {
   "cell_type": "code",
   "execution_count": null,
   "metadata": {},
   "outputs": [],
   "source": []
  },
  {
   "cell_type": "code",
   "execution_count": null,
   "metadata": {},
   "outputs": [],
   "source": []
  },
  {
   "cell_type": "code",
   "execution_count": null,
   "metadata": {},
   "outputs": [],
   "source": []
  },
  {
   "cell_type": "code",
   "execution_count": null,
   "metadata": {},
   "outputs": [],
   "source": []
  },
  {
   "cell_type": "markdown",
   "metadata": {},
   "source": [
    "## 배우 괄호없애기"
   ]
  },
  {
   "cell_type": "code",
   "execution_count": 102,
   "metadata": {},
   "outputs": [
    {
     "data": {
      "text/plain": [
       "['황정민(덕수)', ' 김윤진(영자)', ' 오달수(달구)']"
      ]
     },
     "execution_count": 102,
     "metadata": {},
     "output_type": "execute_result"
    }
   ],
   "source": [
    "a = crawling_df['starring_actors'][1].split(',')\n",
    "a"
   ]
  },
  {
   "cell_type": "code",
   "execution_count": 104,
   "metadata": {},
   "outputs": [
    {
     "data": {
      "text/plain": [
       "['황정민', '김윤진', '오달수']"
      ]
     },
     "execution_count": 104,
     "metadata": {},
     "output_type": "execute_result"
    }
   ],
   "source": [
    "[re.sub('[(].+[)]', '', x).strip() for x in a]"
   ]
  },
  {
   "cell_type": "code",
   "execution_count": null,
   "metadata": {},
   "outputs": [],
   "source": []
  },
  {
   "cell_type": "code",
   "execution_count": null,
   "metadata": {},
   "outputs": [],
   "source": []
  },
  {
   "cell_type": "code",
   "execution_count": null,
   "metadata": {},
   "outputs": [],
   "source": []
  },
  {
   "cell_type": "code",
   "execution_count": null,
   "metadata": {},
   "outputs": [],
   "source": [
    "\n",
    "    \n",
    "    "
   ]
  },
  {
   "cell_type": "code",
   "execution_count": 20,
   "metadata": {},
   "outputs": [],
   "source": []
  },
  {
   "cell_type": "code",
   "execution_count": null,
   "metadata": {},
   "outputs": [],
   "source": []
  },
  {
   "cell_type": "code",
   "execution_count": null,
   "metadata": {},
   "outputs": [],
   "source": []
  },
  {
   "cell_type": "code",
   "execution_count": null,
   "metadata": {},
   "outputs": [],
   "source": []
  },
  {
   "cell_type": "code",
   "execution_count": null,
   "metadata": {},
   "outputs": [],
   "source": []
  },
  {
   "cell_type": "code",
   "execution_count": null,
   "metadata": {},
   "outputs": [],
   "source": []
  },
  {
   "cell_type": "code",
   "execution_count": null,
   "metadata": {},
   "outputs": [],
   "source": []
  },
  {
   "cell_type": "code",
   "execution_count": null,
   "metadata": {},
   "outputs": [],
   "source": []
  },
  {
   "cell_type": "code",
   "execution_count": null,
   "metadata": {},
   "outputs": [],
   "source": []
  },
  {
   "cell_type": "code",
   "execution_count": null,
   "metadata": {},
   "outputs": [],
   "source": []
  },
  {
   "cell_type": "code",
   "execution_count": null,
   "metadata": {},
   "outputs": [],
   "source": []
  },
  {
   "cell_type": "code",
   "execution_count": null,
   "metadata": {},
   "outputs": [],
   "source": []
  },
  {
   "cell_type": "code",
   "execution_count": null,
   "metadata": {},
   "outputs": [],
   "source": []
  },
  {
   "cell_type": "code",
   "execution_count": null,
   "metadata": {},
   "outputs": [],
   "source": []
  },
  {
   "cell_type": "code",
   "execution_count": null,
   "metadata": {},
   "outputs": [],
   "source": []
  },
  {
   "cell_type": "code",
   "execution_count": null,
   "metadata": {},
   "outputs": [],
   "source": []
  },
  {
   "cell_type": "code",
   "execution_count": null,
   "metadata": {},
   "outputs": [],
   "source": []
  },
  {
   "cell_type": "code",
   "execution_count": null,
   "metadata": {},
   "outputs": [],
   "source": []
  },
  {
   "cell_type": "code",
   "execution_count": null,
   "metadata": {},
   "outputs": [],
   "source": []
  },
  {
   "cell_type": "code",
   "execution_count": null,
   "metadata": {},
   "outputs": [],
   "source": []
  },
  {
   "cell_type": "code",
   "execution_count": null,
   "metadata": {},
   "outputs": [],
   "source": []
  },
  {
   "cell_type": "code",
   "execution_count": null,
   "metadata": {},
   "outputs": [],
   "source": []
  },
  {
   "cell_type": "code",
   "execution_count": null,
   "metadata": {},
   "outputs": [],
   "source": []
  },
  {
   "cell_type": "code",
   "execution_count": null,
   "metadata": {},
   "outputs": [],
   "source": []
  },
  {
   "cell_type": "code",
   "execution_count": null,
   "metadata": {},
   "outputs": [],
   "source": []
  },
  {
   "cell_type": "code",
   "execution_count": null,
   "metadata": {},
   "outputs": [],
   "source": []
  },
  {
   "cell_type": "code",
   "execution_count": null,
   "metadata": {},
   "outputs": [],
   "source": []
  }
 ],
 "metadata": {
  "kernelspec": {
   "display_name": "Python 3",
   "language": "python",
   "name": "python3"
  },
  "language_info": {
   "codemirror_mode": {
    "name": "ipython",
    "version": 3
   },
   "file_extension": ".py",
   "mimetype": "text/x-python",
   "name": "python",
   "nbconvert_exporter": "python",
   "pygments_lexer": "ipython3",
   "version": "3.7.6"
  }
 },
 "nbformat": 4,
 "nbformat_minor": 4
}
