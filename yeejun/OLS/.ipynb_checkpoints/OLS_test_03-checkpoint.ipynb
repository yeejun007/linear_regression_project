{
 "cells": [
  {
   "cell_type": "code",
   "execution_count": 18,
   "metadata": {},
   "outputs": [],
   "source": [
    "import seaborn as sns\n",
    "import pandas as pd\n",
    "import matplotlib.pylab as plt\n",
    "import re\n",
    "import matplotlib as mpl\n",
    "from matplotlib import rc\n",
    "import missingno as msno\n",
    "import warnings\n",
    "import datetime\n",
    "warnings.filterwarnings('ignore')\n",
    "\n",
    "# matplotlib 한글 사용을 위한 코드\n",
    "rc('font', family='AppleGothic')"
   ]
  },
  {
   "cell_type": "code",
   "execution_count": 36,
   "metadata": {},
   "outputs": [],
   "source": [
    "final_df = pd.read_csv('final_df_07.csv').drop(columns='Unnamed: 0')"
   ]
  },
  {
   "cell_type": "code",
   "execution_count": 37,
   "metadata": {},
   "outputs": [
    {
     "data": {
      "text/html": [
       "<div>\n",
       "<style scoped>\n",
       "    .dataframe tbody tr th:only-of-type {\n",
       "        vertical-align: middle;\n",
       "    }\n",
       "\n",
       "    .dataframe tbody tr th {\n",
       "        vertical-align: top;\n",
       "    }\n",
       "\n",
       "    .dataframe thead th {\n",
       "        text-align: right;\n",
       "    }\n",
       "</style>\n",
       "<table border=\"1\" class=\"dataframe\">\n",
       "  <thead>\n",
       "    <tr style=\"text-align: right;\">\n",
       "      <th></th>\n",
       "      <th>title</th>\n",
       "      <th>director</th>\n",
       "      <th>producer</th>\n",
       "      <th>importer</th>\n",
       "      <th>distributor</th>\n",
       "      <th>distributor_group</th>\n",
       "      <th>release_date</th>\n",
       "      <th>release_season</th>\n",
       "      <th>release</th>\n",
       "      <th>form</th>\n",
       "      <th>...</th>\n",
       "      <th>starring_actors</th>\n",
       "      <th>running_times</th>\n",
       "      <th>audience_rating</th>\n",
       "      <th>rating_audiences</th>\n",
       "      <th>realease_year</th>\n",
       "      <th>director_power</th>\n",
       "      <th>director_movie_num</th>\n",
       "      <th>sequel</th>\n",
       "      <th>original</th>\n",
       "      <th>actor_power</th>\n",
       "    </tr>\n",
       "  </thead>\n",
       "  <tbody>\n",
       "    <tr>\n",
       "      <th>0</th>\n",
       "      <td>어벤져스: 에이지 오브 울트론</td>\n",
       "      <td>조스 웨던</td>\n",
       "      <td>NaN</td>\n",
       "      <td>월트디즈니컴퍼니코리아(주)</td>\n",
       "      <td>월트디즈니컴퍼니코리아(주)</td>\n",
       "      <td>B</td>\n",
       "      <td>4/23/2015</td>\n",
       "      <td>spring</td>\n",
       "      <td>개봉영화</td>\n",
       "      <td>장편</td>\n",
       "      <td>...</td>\n",
       "      <td>로버트 다우니 주니어,크리스 헴스워스,마크 러팔로</td>\n",
       "      <td>141</td>\n",
       "      <td>8.612377</td>\n",
       "      <td>5268</td>\n",
       "      <td>2015</td>\n",
       "      <td>17567536.0</td>\n",
       "      <td>1 [1]</td>\n",
       "      <td>1</td>\n",
       "      <td>0</td>\n",
       "      <td>542407997</td>\n",
       "    </tr>\n",
       "    <tr>\n",
       "      <th>1</th>\n",
       "      <td>국제시장</td>\n",
       "      <td>윤제균</td>\n",
       "      <td>(주)제이케이필름,씨제이이앤엠(주)</td>\n",
       "      <td>NaN</td>\n",
       "      <td>씨제이이앤엠(주)</td>\n",
       "      <td>A</td>\n",
       "      <td>12/17/2014</td>\n",
       "      <td>winter</td>\n",
       "      <td>개봉영화</td>\n",
       "      <td>장편</td>\n",
       "      <td>...</td>\n",
       "      <td>황정민,김윤진,오달수</td>\n",
       "      <td>126</td>\n",
       "      <td>9.272091</td>\n",
       "      <td>1143</td>\n",
       "      <td>2014</td>\n",
       "      <td>5334561.0</td>\n",
       "      <td>1 [1]</td>\n",
       "      <td>0</td>\n",
       "      <td>0</td>\n",
       "      <td>608444941</td>\n",
       "    </tr>\n",
       "  </tbody>\n",
       "</table>\n",
       "<p>2 rows × 30 columns</p>\n",
       "</div>"
      ],
      "text/plain": [
       "              title director             producer        importer  \\\n",
       "0  어벤져스: 에이지 오브 울트론    조스 웨던                  NaN  월트디즈니컴퍼니코리아(주)   \n",
       "1              국제시장      윤제균  (주)제이케이필름,씨제이이앤엠(주)             NaN   \n",
       "\n",
       "      distributor distributor_group release_date release_season release form  \\\n",
       "0  월트디즈니컴퍼니코리아(주)                 B    4/23/2015         spring    개봉영화   장편   \n",
       "1       씨제이이앤엠(주)                 A   12/17/2014         winter    개봉영화   장편   \n",
       "\n",
       "   ...              starring_actors  running_times  audience_rating  \\\n",
       "0  ...  로버트 다우니 주니어,크리스 헴스워스,마크 러팔로            141         8.612377   \n",
       "1  ...                  황정민,김윤진,오달수            126         9.272091   \n",
       "\n",
       "   rating_audiences  realease_year  director_power director_movie_num sequel  \\\n",
       "0              5268           2015      17567536.0              1 [1]      1   \n",
       "1              1143           2014       5334561.0              1 [1]      0   \n",
       "\n",
       "  original  actor_power  \n",
       "0        0    542407997  \n",
       "1        0    608444941  \n",
       "\n",
       "[2 rows x 30 columns]"
      ]
     },
     "execution_count": 37,
     "metadata": {},
     "output_type": "execute_result"
    }
   ],
   "source": [
    "final_df.head(2)"
   ]
  },
  {
   "cell_type": "code",
   "execution_count": 41,
   "metadata": {},
   "outputs": [
    {
     "data": {
      "text/plain": [
       "title                            어벤져스: 에이지 오브 울트론\n",
       "director                                    조스 웨던\n",
       "producer                                      NaN\n",
       "importer                           월트디즈니컴퍼니코리아(주)\n",
       "distributor                        월트디즈니컴퍼니코리아(주)\n",
       "distributor_group                               B\n",
       "release_date                            4/23/2015\n",
       "release_season                             spring\n",
       "release                                      개봉영화\n",
       "form                                           장편\n",
       "nation                                         미국\n",
       "screen                                       1843\n",
       "rev_nationwide                        8.85826e+10\n",
       "aud_nationwide                           10494499\n",
       "rev_seoul                             25001906266\n",
       "rev_seoul.1                               2823388\n",
       "genre                                          액션\n",
       "rate                                     12세이상관람가\n",
       "type                                         일반영화\n",
       "expert_rating                                6.92\n",
       "starring_actors       로버트 다우니 주니어,크리스 헴스워스,마크 러팔로\n",
       "running_times                                 141\n",
       "audience_rating                           8.61238\n",
       "rating_audiences                             5268\n",
       "realease_year                                2015\n",
       "director_power                        1.75675e+07\n",
       "director_movie_num                          1 [1]\n",
       "sequel                                          1\n",
       "original                                        0\n",
       "actor_power                             542407997\n",
       "Name: 0, dtype: object"
      ]
     },
     "execution_count": 41,
     "metadata": {},
     "output_type": "execute_result"
    }
   ],
   "source": [
    "final_df.iloc[0]"
   ]
  },
  {
   "cell_type": "code",
   "execution_count": 104,
   "metadata": {},
   "outputs": [],
   "source": [
    "# final_df.info()"
   ]
  },
  {
   "cell_type": "code",
   "execution_count": 42,
   "metadata": {},
   "outputs": [],
   "source": [
    "X = final_df.drop(columns=['aud_nationwide'])\n",
    "y = final_df['aud_nationwide']"
   ]
  },
  {
   "cell_type": "code",
   "execution_count": 107,
   "metadata": {},
   "outputs": [],
   "source": [
    "final_df = final_df.drop(columns=['producer', 'importer'])"
   ]
  },
  {
   "cell_type": "code",
   "execution_count": 112,
   "metadata": {},
   "outputs": [],
   "source": [
    "final_df = final_df.dropna()"
   ]
  },
  {
   "cell_type": "code",
   "execution_count": 154,
   "metadata": {},
   "outputs": [
    {
     "name": "stdout",
     "output_type": "stream",
     "text": [
      "<class 'pandas.core.frame.DataFrame'>\n",
      "Int64Index: 925 entries, 0 to 927\n",
      "Data columns (total 28 columns):\n",
      " #   Column              Non-Null Count  Dtype  \n",
      "---  ------              --------------  -----  \n",
      " 0   title               925 non-null    object \n",
      " 1   director            925 non-null    object \n",
      " 2   distributor         925 non-null    object \n",
      " 3   distributor_group   925 non-null    object \n",
      " 4   release_date        925 non-null    object \n",
      " 5   release_season      925 non-null    object \n",
      " 6   release             925 non-null    object \n",
      " 7   form                925 non-null    object \n",
      " 8   nation              925 non-null    object \n",
      " 9   screen              925 non-null    int64  \n",
      " 10  rev_nationwide      925 non-null    float64\n",
      " 11  aud_nationwide      925 non-null    int64  \n",
      " 12  rev_seoul           925 non-null    int64  \n",
      " 13  rev_seoul.1         925 non-null    int64  \n",
      " 14  genre               925 non-null    object \n",
      " 15  rate                925 non-null    object \n",
      " 16  type                925 non-null    object \n",
      " 17  expert_rating       925 non-null    float64\n",
      " 18  starring_actors     925 non-null    object \n",
      " 19  running_times       925 non-null    int64  \n",
      " 20  audience_rating     925 non-null    float64\n",
      " 21  rating_audiences    925 non-null    int64  \n",
      " 22  realease_year       925 non-null    int64  \n",
      " 23  director_power      925 non-null    float64\n",
      " 24  director_movie_num  925 non-null    object \n",
      " 25  sequel              925 non-null    int64  \n",
      " 26  original            925 non-null    int64  \n",
      " 27  actor_power         925 non-null    int64  \n",
      "dtypes: float64(4), int64(10), object(14)\n",
      "memory usage: 209.6+ KB\n"
     ]
    }
   ],
   "source": [
    "final_df.info()"
   ]
  },
  {
   "cell_type": "code",
   "execution_count": 148,
   "metadata": {},
   "outputs": [
    {
     "data": {
      "text/plain": [
       "925"
      ]
     },
     "execution_count": 148,
     "metadata": {},
     "output_type": "execute_result"
    }
   ],
   "source": [
    "len(final_df)"
   ]
  },
  {
   "cell_type": "code",
   "execution_count": 115,
   "metadata": {},
   "outputs": [],
   "source": [
    "final_df.to_csv('final_df_08.csv')"
   ]
  },
  {
   "cell_type": "code",
   "execution_count": 122,
   "metadata": {},
   "outputs": [
    {
     "data": {
      "text/plain": [
       "28"
      ]
     },
     "execution_count": 122,
     "metadata": {},
     "output_type": "execute_result"
    }
   ],
   "source": [
    "len(final_df.columns)"
   ]
  },
  {
   "cell_type": "code",
   "execution_count": 118,
   "metadata": {},
   "outputs": [],
   "source": [
    "X = final_df.drop(columns='aud_nationwide')\n",
    "y = final_df['aud_nationwide']"
   ]
  },
  {
   "cell_type": "code",
   "execution_count": 131,
   "metadata": {},
   "outputs": [
    {
     "data": {
      "text/plain": [
       "925"
      ]
     },
     "execution_count": 131,
     "metadata": {},
     "output_type": "execute_result"
    }
   ],
   "source": [
    "len(X_train)+len(X_test)"
   ]
  },
  {
   "cell_type": "code",
   "execution_count": 127,
   "metadata": {},
   "outputs": [],
   "source": [
    "from sklearn.model_selection import train_test_split\n",
    "\n",
    "X_train, X_test, y_train, y_test = train_test_split(X, y, test_size=0.2, random_state=2)"
   ]
  },
  {
   "cell_type": "code",
   "execution_count": 132,
   "metadata": {},
   "outputs": [],
   "source": [
    "X_train.to_csv('X_train_08_1.csv')\n",
    "y_train.to_csv('y_train_08_1.csv')"
   ]
  },
  {
   "cell_type": "code",
   "execution_count": 133,
   "metadata": {},
   "outputs": [],
   "source": [
    "X_test.to_csv('X_test_08_1.csv')\n",
    "y_test.to_csv('y_test_08_1.csv')"
   ]
  },
  {
   "cell_type": "code",
   "execution_count": null,
   "metadata": {},
   "outputs": [],
   "source": []
  },
  {
   "cell_type": "code",
   "execution_count": null,
   "metadata": {},
   "outputs": [],
   "source": []
  },
  {
   "cell_type": "code",
   "execution_count": null,
   "metadata": {},
   "outputs": [],
   "source": []
  },
  {
   "cell_type": "code",
   "execution_count": null,
   "metadata": {},
   "outputs": [],
   "source": []
  },
  {
   "cell_type": "code",
   "execution_count": null,
   "metadata": {},
   "outputs": [],
   "source": []
  },
  {
   "cell_type": "code",
   "execution_count": null,
   "metadata": {},
   "outputs": [],
   "source": []
  },
  {
   "cell_type": "code",
   "execution_count": null,
   "metadata": {},
   "outputs": [],
   "source": []
  },
  {
   "cell_type": "code",
   "execution_count": null,
   "metadata": {},
   "outputs": [],
   "source": []
  },
  {
   "cell_type": "code",
   "execution_count": null,
   "metadata": {},
   "outputs": [],
   "source": []
  },
  {
   "cell_type": "code",
   "execution_count": null,
   "metadata": {},
   "outputs": [],
   "source": []
  },
  {
   "cell_type": "code",
   "execution_count": null,
   "metadata": {},
   "outputs": [],
   "source": []
  },
  {
   "cell_type": "code",
   "execution_count": null,
   "metadata": {},
   "outputs": [],
   "source": []
  },
  {
   "cell_type": "markdown",
   "metadata": {},
   "source": [
    "#  train 데이터셋으로 회귀분석 시작하기\n",
    "- X_train, y_train"
   ]
  },
  {
   "cell_type": "code",
   "execution_count": 137,
   "metadata": {},
   "outputs": [
    {
     "data": {
      "text/html": [
       "<div>\n",
       "<style scoped>\n",
       "    .dataframe tbody tr th:only-of-type {\n",
       "        vertical-align: middle;\n",
       "    }\n",
       "\n",
       "    .dataframe tbody tr th {\n",
       "        vertical-align: top;\n",
       "    }\n",
       "\n",
       "    .dataframe thead th {\n",
       "        text-align: right;\n",
       "    }\n",
       "</style>\n",
       "<table border=\"1\" class=\"dataframe\">\n",
       "  <thead>\n",
       "    <tr style=\"text-align: right;\">\n",
       "      <th></th>\n",
       "      <th>title</th>\n",
       "      <th>director</th>\n",
       "      <th>distributor</th>\n",
       "      <th>distributor_group</th>\n",
       "      <th>release_date</th>\n",
       "      <th>release_season</th>\n",
       "      <th>release</th>\n",
       "      <th>form</th>\n",
       "      <th>nation</th>\n",
       "      <th>screen</th>\n",
       "      <th>...</th>\n",
       "      <th>starring_actors</th>\n",
       "      <th>running_times</th>\n",
       "      <th>audience_rating</th>\n",
       "      <th>rating_audiences</th>\n",
       "      <th>realease_year</th>\n",
       "      <th>director_power</th>\n",
       "      <th>director_movie_num</th>\n",
       "      <th>sequel</th>\n",
       "      <th>original</th>\n",
       "      <th>actor_power</th>\n",
       "    </tr>\n",
       "  </thead>\n",
       "  <tbody>\n",
       "    <tr>\n",
       "      <th>107</th>\n",
       "      <td>인사이드 아웃</td>\n",
       "      <td>피트 닥터</td>\n",
       "      <td>월트디즈니컴퍼니코리아(주)</td>\n",
       "      <td>B</td>\n",
       "      <td>7/9/2015</td>\n",
       "      <td>summer</td>\n",
       "      <td>개봉영화</td>\n",
       "      <td>장편</td>\n",
       "      <td>미국</td>\n",
       "      <td>777</td>\n",
       "      <td>...</td>\n",
       "      <td>에이미 포엘러,필리스 스미스,민디 캘링</td>\n",
       "      <td>102</td>\n",
       "      <td>9.113006</td>\n",
       "      <td>938</td>\n",
       "      <td>2015</td>\n",
       "      <td>4968687.0</td>\n",
       "      <td>1 [1]</td>\n",
       "      <td>0</td>\n",
       "      <td>0</td>\n",
       "      <td>14906061</td>\n",
       "    </tr>\n",
       "  </tbody>\n",
       "</table>\n",
       "<p>1 rows × 27 columns</p>\n",
       "</div>"
      ],
      "text/plain": [
       "       title director     distributor distributor_group release_date  \\\n",
       "107  인사이드 아웃    피트 닥터  월트디즈니컴퍼니코리아(주)                 B     7/9/2015   \n",
       "\n",
       "    release_season release form nation  screen  ...        starring_actors  \\\n",
       "107         summer    개봉영화   장편     미국     777  ...  에이미 포엘러,필리스 스미스,민디 캘링   \n",
       "\n",
       "     running_times  audience_rating rating_audiences realease_year  \\\n",
       "107            102         9.113006              938          2015   \n",
       "\n",
       "    director_power  director_movie_num sequel  original  actor_power  \n",
       "107      4968687.0               1 [1]      0         0     14906061  \n",
       "\n",
       "[1 rows x 27 columns]"
      ]
     },
     "execution_count": 137,
     "metadata": {},
     "output_type": "execute_result"
    }
   ],
   "source": [
    "X_train.head(1)"
   ]
  },
  {
   "cell_type": "code",
   "execution_count": 138,
   "metadata": {},
   "outputs": [],
   "source": [
    "total_df = pd.concat([X_train, y_train], axis=1)"
   ]
  },
  {
   "cell_type": "code",
   "execution_count": 157,
   "metadata": {},
   "outputs": [
    {
     "data": {
      "text/plain": [
       "Index(['title', 'director', 'distributor', 'distributor_group', 'release_date',\n",
       "       'release_season', 'release', 'form', 'nation', 'screen',\n",
       "       'rev_nationwide', 'rev_seoul', 'rev_seoul.1', 'genre', 'rate', 'type',\n",
       "       'expert_rating', 'starring_actors', 'running_times', 'audience_rating',\n",
       "       'rating_audiences', 'realease_year', 'director_power',\n",
       "       'director_movie_num', 'sequel', 'original', 'actor_power',\n",
       "       'aud_nationwide'],\n",
       "      dtype='object')"
      ]
     },
     "execution_count": 157,
     "metadata": {},
     "output_type": "execute_result"
    }
   ],
   "source": [
    "total_df.columns"
   ]
  },
  {
   "cell_type": "code",
   "execution_count": 158,
   "metadata": {},
   "outputs": [],
   "source": [
    "X = total_df.drop(columns=['title', 'director', 'distributor', 'release_date', 'release', 'form', 'rev_nationwide', 'rev_seoul', 'rev_seoul.1', 'type', 'starring_actors', 'realease_year', 'director_movie_num', 'aud_nationwide'])\n",
    "y = total_df['aud_nationwide']\n"
   ]
  },
  {
   "cell_type": "markdown",
   "metadata": {},
   "source": [
    "## 변수명 df를 분석용 데이터프레임으로 쓴다\n",
    "- X_train + y_train"
   ]
  },
  {
   "cell_type": "code",
   "execution_count": 164,
   "metadata": {},
   "outputs": [],
   "source": [
    "from sklearn.model_selection import train_test_split\n",
    "\n",
    "X_train, X_test, y_train, y_test = train_test_split(X, y, test_size=0.2, random_state=2)"
   ]
  },
  {
   "cell_type": "code",
   "execution_count": 166,
   "metadata": {},
   "outputs": [
    {
     "data": {
      "text/plain": [
       "(592, 592, 148, 148)"
      ]
     },
     "execution_count": 166,
     "metadata": {},
     "output_type": "execute_result"
    }
   ],
   "source": [
    "len(X_train), len(y_train), len(X_test), len(y_test)"
   ]
  },
  {
   "cell_type": "code",
   "execution_count": 169,
   "metadata": {},
   "outputs": [
    {
     "data": {
      "text/plain": [
       "Index(['distributor_group', 'release_season', 'nation', 'screen', 'genre',\n",
       "       'rate', 'expert_rating', 'running_times', 'audience_rating',\n",
       "       'rating_audiences', 'director_power', 'sequel', 'original',\n",
       "       'actor_power'],\n",
       "      dtype='object')"
      ]
     },
     "execution_count": 169,
     "metadata": {},
     "output_type": "execute_result"
    }
   ],
   "source": [
    "X_train.columns"
   ]
  },
  {
   "cell_type": "code",
   "execution_count": 170,
   "metadata": {},
   "outputs": [
    {
     "name": "stdout",
     "output_type": "stream",
     "text": [
      "<class 'pandas.core.frame.DataFrame'>\n",
      "Int64Index: 592 entries, 276 to 881\n",
      "Data columns (total 14 columns):\n",
      " #   Column             Non-Null Count  Dtype  \n",
      "---  ------             --------------  -----  \n",
      " 0   distributor_group  592 non-null    object \n",
      " 1   release_season     592 non-null    object \n",
      " 2   nation             592 non-null    object \n",
      " 3   screen             592 non-null    int64  \n",
      " 4   genre              592 non-null    object \n",
      " 5   rate               592 non-null    object \n",
      " 6   expert_rating      592 non-null    float64\n",
      " 7   running_times      592 non-null    int64  \n",
      " 8   audience_rating    592 non-null    float64\n",
      " 9   rating_audiences   592 non-null    int64  \n",
      " 10  director_power     592 non-null    float64\n",
      " 11  sequel             592 non-null    int64  \n",
      " 12  original           592 non-null    int64  \n",
      " 13  actor_power        592 non-null    int64  \n",
      "dtypes: float64(3), int64(6), object(5)\n",
      "memory usage: 69.4+ KB\n"
     ]
    }
   ],
   "source": [
    "X_train.info()"
   ]
  },
  {
   "cell_type": "code",
   "execution_count": 100,
   "metadata": {},
   "outputs": [],
   "source": [
    "# C(sequel), C(original)"
   ]
  },
  {
   "cell_type": "code",
   "execution_count": 171,
   "metadata": {},
   "outputs": [],
   "source": [
    "df = pd.concat([X_train, y_train], axis=1)"
   ]
  },
  {
   "cell_type": "code",
   "execution_count": 87,
   "metadata": {},
   "outputs": [],
   "source": [
    "import statsmodels.api as sm"
   ]
  },
  {
   "cell_type": "code",
   "execution_count": 173,
   "metadata": {},
   "outputs": [],
   "source": [
    "model = sm.OLS.from_formula(\"aud_nationwide ~ distributor_group + release_season + nation + genre + rate + C(sequel) + C(original) + screen + expert_rating + audience_rating + running_times + rating_audiences + director_power + actor_power\", data=df)\n",
    "result = model.fit()\n"
   ]
  },
  {
   "cell_type": "code",
   "execution_count": 174,
   "metadata": {},
   "outputs": [
    {
     "name": "stdout",
     "output_type": "stream",
     "text": [
      "                            OLS Regression Results                            \n",
      "==============================================================================\n",
      "Dep. Variable:         aud_nationwide   R-squared:                       0.762\n",
      "Model:                            OLS   Adj. R-squared:                  0.747\n",
      "Method:                 Least Squares   F-statistic:                     49.47\n",
      "Date:                Mon, 30 Mar 2020   Prob (F-statistic):          1.04e-148\n",
      "Time:                        16:23:46   Log-Likelihood:                -9004.1\n",
      "No. Observations:                 592   AIC:                         1.808e+04\n",
      "Df Residuals:                     555   BIC:                         1.824e+04\n",
      "Df Model:                          36                                         \n",
      "Covariance Type:            nonrobust                                         \n",
      "============================================================================================\n",
      "                               coef    std err          t      P>|t|      [0.025      0.975]\n",
      "--------------------------------------------------------------------------------------------\n",
      "Intercept                -1.011e+06   5.42e+05     -1.865      0.063   -2.08e+06     5.4e+04\n",
      "distributor_group[T.B]    -1.33e+05   1.26e+05     -1.054      0.293   -3.81e+05    1.15e+05\n",
      "distributor_group[T.C]   -2.806e+05   1.55e+05     -1.805      0.072   -5.86e+05    2.48e+04\n",
      "distributor_group[T.D]    1.517e+05   1.34e+05      1.135      0.257   -1.11e+05    4.14e+05\n",
      "release_season[T.spring]  -1.62e+05   1.25e+05     -1.292      0.197   -4.08e+05    8.43e+04\n",
      "release_season[T.summer] -2.896e+04    1.2e+05     -0.242      0.809   -2.64e+05    2.06e+05\n",
      "release_season[T.winter]  5.764e+04   1.19e+05      0.482      0.630   -1.77e+05    2.92e+05\n",
      "nation[T.미국]             -1.739e+05   2.08e+05     -0.837      0.403   -5.82e+05    2.34e+05\n",
      "nation[T.영국]             -1.427e+05   2.77e+05     -0.515      0.607   -6.87e+05    4.01e+05\n",
      "nation[T.일본]              2.079e+05   2.39e+05      0.868      0.386   -2.62e+05    6.78e+05\n",
      "nation[T.프랑스]            -4.585e+04   3.42e+05     -0.134      0.893   -7.17e+05    6.26e+05\n",
      "nation[T.한국]             -4.485e+05   2.16e+05     -2.079      0.038   -8.72e+05   -2.48e+04\n",
      "genre[T.공포]               2.511e+05   3.66e+05      0.687      0.492   -4.67e+05    9.69e+05\n",
      "genre[T.다큐멘터리]            9.873e+05   4.36e+05      2.265      0.024    1.31e+05    1.84e+06\n",
      "genre[T.드라마]              3.526e+05    3.3e+05      1.070      0.285   -2.95e+05       1e+06\n",
      "genre[T.멜로/로맨스]           3.955e+05   3.87e+05      1.021      0.308   -3.66e+05    1.16e+06\n",
      "genre[T.미스터리]             7.823e+04   3.87e+05      0.202      0.840   -6.82e+05    8.38e+05\n",
      "genre[T.범죄]              -2.379e+05   3.62e+05     -0.657      0.511   -9.49e+05    4.73e+05\n",
      "genre[T.사극]               1.367e+05   4.48e+05      0.305      0.760   -7.43e+05    1.02e+06\n",
      "genre[T.스릴러]             -4.821e+04   3.66e+05     -0.132      0.895   -7.67e+05    6.71e+05\n",
      "genre[T.애니메이션]            2.917e+05   3.78e+05      0.772      0.440    -4.5e+05    1.03e+06\n",
      "genre[T.액션]               2.728e+05   3.22e+05      0.847      0.397    -3.6e+05    9.06e+05\n",
      "genre[T.어드벤처]             2.668e+05   4.12e+05      0.648      0.517   -5.42e+05    1.08e+06\n",
      "genre[T.코미디]              6.312e+05   3.53e+05      1.790      0.074   -6.14e+04    1.32e+06\n",
      "genre[T.판타지]              4.589e+05   4.52e+05      1.016      0.310   -4.28e+05    1.35e+06\n",
      "rate[T.15세이상관람가]          1.952e+05   1.21e+05      1.608      0.108   -4.32e+04    4.34e+05\n",
      "rate[T.전체관람가]             4.463e+04   1.94e+05      0.230      0.818   -3.37e+05    4.26e+05\n",
      "rate[T.청소년관람불가]            2.01e+05   1.61e+05      1.245      0.214   -1.16e+05    5.18e+05\n",
      "C(sequel)[T.1]              3.2e+04   9.33e+04      0.343      0.732   -1.51e+05    2.15e+05\n",
      "C(original)[T.1]          -2.74e+05   1.03e+05     -2.648      0.008   -4.77e+05   -7.07e+04\n",
      "screen                    2736.1701    172.250     15.885      0.000    2397.829    3074.511\n",
      "expert_rating             4.696e+04   2.49e+04      1.888      0.059   -1887.272    9.58e+04\n",
      "audience_rating           3.708e+04   3.02e+04      1.228      0.220   -2.22e+04    9.64e+04\n",
      "running_times            -6880.5291   3114.584     -2.209      0.028    -1.3e+04    -762.716\n",
      "rating_audiences           405.5176     46.834      8.659      0.000     313.524     497.511\n",
      "director_power               0.0046      0.004      1.134      0.257      -0.003       0.013\n",
      "actor_power                  0.0030      0.000      8.226      0.000       0.002       0.004\n",
      "==============================================================================\n",
      "Omnibus:                      424.538   Durbin-Watson:                   2.052\n",
      "Prob(Omnibus):                  0.000   Jarque-Bera (JB):            12139.939\n",
      "Skew:                           2.776   Prob(JB):                         0.00\n",
      "Kurtosis:                      24.479   Cond. No.                     5.06e+09\n",
      "==============================================================================\n",
      "\n",
      "Warnings:\n",
      "[1] Standard Errors assume that the covariance matrix of the errors is correctly specified.\n",
      "[2] The condition number is large, 5.06e+09. This might indicate that there are\n",
      "strong multicollinearity or other numerical problems.\n"
     ]
    }
   ],
   "source": [
    "print(result.summary())"
   ]
  },
  {
   "cell_type": "code",
   "execution_count": null,
   "metadata": {},
   "outputs": [],
   "source": [
    "# 조건수가 너무 크다. 두가지 경우 예상가능\n",
    "# 1. 스케일링 안해서 발생하는 문제\n",
    "# 2. 다중공선성의 문제 -> 상관관계가 큰 독립변수 컬럼이 섞여있다"
   ]
  },
  {
   "cell_type": "code",
   "execution_count": 181,
   "metadata": {},
   "outputs": [
    {
     "data": {
      "text/plain": [
       "screen              4.208488e+02\n",
       "expert_rating       2.019617e+00\n",
       "running_times       1.960661e+01\n",
       "audience_rating     1.503609e+00\n",
       "rating_audiences    1.496466e+03\n",
       "director_power      1.502832e+07\n",
       "sequel              4.960602e-01\n",
       "original            4.528205e-01\n",
       "actor_power         1.497589e+08\n",
       "Name: std, dtype: float64"
      ]
     },
     "execution_count": 181,
     "metadata": {},
     "output_type": "execute_result"
    }
   ],
   "source": [
    "X_train.describe().loc[\"std\"] # 독립변수 표준편차들의 단위크기가 각 컬럼별로 너무 제각각의 크기를 가지고있음"
   ]
  },
  {
   "cell_type": "code",
   "execution_count": 179,
   "metadata": {},
   "outputs": [],
   "source": [
    "# 카테고리 더미변수는 스케일링 하지 말고, 다른 수치형만 스케일링 한다"
   ]
  },
  {
   "cell_type": "code",
   "execution_count": null,
   "metadata": {},
   "outputs": [],
   "source": []
  },
  {
   "cell_type": "code",
   "execution_count": 187,
   "metadata": {},
   "outputs": [
    {
     "name": "stdout",
     "output_type": "stream",
     "text": [
      "                            OLS Regression Results                            \n",
      "==============================================================================\n",
      "Dep. Variable:         aud_nationwide   R-squared:                       0.762\n",
      "Model:                            OLS   Adj. R-squared:                  0.747\n",
      "Method:                 Least Squares   F-statistic:                     49.47\n",
      "Date:                Mon, 30 Mar 2020   Prob (F-statistic):          1.04e-148\n",
      "Time:                        17:11:48   Log-Likelihood:                -9004.1\n",
      "No. Observations:                 592   AIC:                         1.808e+04\n",
      "Df Residuals:                     555   BIC:                         1.824e+04\n",
      "Df Model:                          36                                         \n",
      "Covariance Type:            nonrobust                                         \n",
      "============================================================================================\n",
      "                               coef    std err          t      P>|t|      [0.025      0.975]\n",
      "--------------------------------------------------------------------------------------------\n",
      "Intercept                  1.04e+06    3.9e+05      2.666      0.008    2.74e+05    1.81e+06\n",
      "distributor_group[T.B]    -1.33e+05   1.26e+05     -1.054      0.293   -3.81e+05    1.15e+05\n",
      "distributor_group[T.C]   -2.806e+05   1.55e+05     -1.805      0.072   -5.86e+05    2.48e+04\n",
      "distributor_group[T.D]    1.517e+05   1.34e+05      1.135      0.257   -1.11e+05    4.14e+05\n",
      "release_season[T.spring]  -1.62e+05   1.25e+05     -1.292      0.197   -4.08e+05    8.43e+04\n",
      "release_season[T.summer] -2.896e+04    1.2e+05     -0.242      0.809   -2.64e+05    2.06e+05\n",
      "release_season[T.winter]  5.764e+04   1.19e+05      0.482      0.630   -1.77e+05    2.92e+05\n",
      "nation[T.미국]             -1.739e+05   2.08e+05     -0.837      0.403   -5.82e+05    2.34e+05\n",
      "nation[T.영국]             -1.427e+05   2.77e+05     -0.515      0.607   -6.87e+05    4.01e+05\n",
      "nation[T.일본]              2.079e+05   2.39e+05      0.868      0.386   -2.62e+05    6.78e+05\n",
      "nation[T.프랑스]            -4.585e+04   3.42e+05     -0.134      0.893   -7.17e+05    6.26e+05\n",
      "nation[T.한국]             -4.485e+05   2.16e+05     -2.079      0.038   -8.72e+05   -2.48e+04\n",
      "genre[T.공포]               2.511e+05   3.66e+05      0.687      0.492   -4.67e+05    9.69e+05\n",
      "genre[T.다큐멘터리]            9.873e+05   4.36e+05      2.265      0.024    1.31e+05    1.84e+06\n",
      "genre[T.드라마]              3.526e+05    3.3e+05      1.070      0.285   -2.95e+05       1e+06\n",
      "genre[T.멜로/로맨스]           3.955e+05   3.87e+05      1.021      0.308   -3.66e+05    1.16e+06\n",
      "genre[T.미스터리]             7.823e+04   3.87e+05      0.202      0.840   -6.82e+05    8.38e+05\n",
      "genre[T.범죄]              -2.379e+05   3.62e+05     -0.657      0.511   -9.49e+05    4.73e+05\n",
      "genre[T.사극]               1.367e+05   4.48e+05      0.305      0.760   -7.43e+05    1.02e+06\n",
      "genre[T.스릴러]             -4.821e+04   3.66e+05     -0.132      0.895   -7.67e+05    6.71e+05\n",
      "genre[T.애니메이션]            2.917e+05   3.78e+05      0.772      0.440    -4.5e+05    1.03e+06\n",
      "genre[T.액션]               2.728e+05   3.22e+05      0.847      0.397    -3.6e+05    9.06e+05\n",
      "genre[T.어드벤처]             2.668e+05   4.12e+05      0.648      0.517   -5.42e+05    1.08e+06\n",
      "genre[T.코미디]              6.312e+05   3.53e+05      1.790      0.074   -6.14e+04    1.32e+06\n",
      "genre[T.판타지]              4.589e+05   4.52e+05      1.016      0.310   -4.28e+05    1.35e+06\n",
      "rate[T.15세이상관람가]          1.952e+05   1.21e+05      1.608      0.108   -4.32e+04    4.34e+05\n",
      "rate[T.전체관람가]             4.463e+04   1.94e+05      0.230      0.818   -3.37e+05    4.26e+05\n",
      "rate[T.청소년관람불가]            2.01e+05   1.61e+05      1.245      0.214   -1.16e+05    5.18e+05\n",
      "C(sequel)[T.1]              3.2e+04   9.33e+04      0.343      0.732   -1.51e+05    2.15e+05\n",
      "C(original)[T.1]          -2.74e+05   1.03e+05     -2.648      0.008   -4.77e+05   -7.07e+04\n",
      "scale(screen)             1.151e+06   7.24e+04     15.885      0.000    1.01e+06    1.29e+06\n",
      "scale(expert_rating)      9.477e+04   5.02e+04      1.888      0.059   -3808.347    1.93e+05\n",
      "scale(audience_rating)    5.571e+04   4.54e+04      1.228      0.220   -3.34e+04    1.45e+05\n",
      "scale(running_times)     -1.348e+05    6.1e+04     -2.209      0.028   -2.55e+05   -1.49e+04\n",
      "scale(rating_audiences)   6.063e+05      7e+04      8.659      0.000    4.69e+05    7.44e+05\n",
      "scale(director_power)     6.976e+04   6.15e+04      1.134      0.257   -5.11e+04    1.91e+05\n",
      "scale(actor_power)        4.531e+05   5.51e+04      8.226      0.000    3.45e+05    5.61e+05\n",
      "==============================================================================\n",
      "Omnibus:                      424.538   Durbin-Watson:                   2.052\n",
      "Prob(Omnibus):                  0.000   Jarque-Bera (JB):            12139.939\n",
      "Skew:                           2.776   Prob(JB):                         0.00\n",
      "Kurtosis:                      24.479   Cond. No.                         50.1\n",
      "==============================================================================\n",
      "\n",
      "Warnings:\n",
      "[1] Standard Errors assume that the covariance matrix of the errors is correctly specified.\n"
     ]
    }
   ],
   "source": [
    "feature_names = ['screen', 'expert_rating', 'audience_rating', 'running_times', 'rating_audiences', 'director_power', 'actor_power']\n",
    "feature_names = [\"scale({})\".format(name) for name in feature_names] + ['distributor_group', 'release_season', 'nation', 'genre', 'rate', 'C(sequel)', 'C(original)']\n",
    "model2 = sm.OLS.from_formula(\"aud_nationwide ~ \" + \"+\".join(feature_names), data=df)\n",
    "result2 = model2.fit()\n",
    "print(result2.summary())\n"
   ]
  },
  {
   "cell_type": "code",
   "execution_count": 196,
   "metadata": {},
   "outputs": [],
   "source": [
    "# 카테고리 변수의 기준 상수항 \n",
    "# distributor_group : A\n",
    "# release_season : autumn\n",
    "# nation : 기타\n",
    "# genre : SF\n",
    "# rate : 12세이상관람가\n",
    "# sequel : 0\n",
    "# original : 0\n"
   ]
  },
  {
   "cell_type": "code",
   "execution_count": 198,
   "metadata": {},
   "outputs": [],
   "source": [
    "# 부분회귀 플롯으로 독립변수들이 종속변수에 미치는 순수한 영향력 확인하기"
   ]
  },
  {
   "cell_type": "code",
   "execution_count": null,
   "metadata": {},
   "outputs": [],
   "source": [
    "from"
   ]
  },
  {
   "cell_type": "code",
   "execution_count": null,
   "metadata": {},
   "outputs": [],
   "source": []
  },
  {
   "cell_type": "code",
   "execution_count": null,
   "metadata": {},
   "outputs": [],
   "source": []
  },
  {
   "cell_type": "code",
   "execution_count": null,
   "metadata": {},
   "outputs": [],
   "source": []
  },
  {
   "cell_type": "code",
   "execution_count": null,
   "metadata": {},
   "outputs": [],
   "source": []
  },
  {
   "cell_type": "code",
   "execution_count": null,
   "metadata": {},
   "outputs": [],
   "source": []
  },
  {
   "cell_type": "code",
   "execution_count": null,
   "metadata": {},
   "outputs": [],
   "source": []
  },
  {
   "cell_type": "code",
   "execution_count": null,
   "metadata": {},
   "outputs": [],
   "source": []
  },
  {
   "cell_type": "code",
   "execution_count": null,
   "metadata": {},
   "outputs": [],
   "source": []
  },
  {
   "cell_type": "code",
   "execution_count": null,
   "metadata": {},
   "outputs": [],
   "source": []
  },
  {
   "cell_type": "code",
   "execution_count": null,
   "metadata": {},
   "outputs": [],
   "source": []
  },
  {
   "cell_type": "code",
   "execution_count": null,
   "metadata": {},
   "outputs": [],
   "source": []
  },
  {
   "cell_type": "markdown",
   "metadata": {},
   "source": []
  },
  {
   "cell_type": "code",
   "execution_count": null,
   "metadata": {},
   "outputs": [],
   "source": []
  },
  {
   "cell_type": "code",
   "execution_count": null,
   "metadata": {},
   "outputs": [],
   "source": []
  },
  {
   "cell_type": "code",
   "execution_count": null,
   "metadata": {},
   "outputs": [],
   "source": []
  },
  {
   "cell_type": "code",
   "execution_count": null,
   "metadata": {},
   "outputs": [],
   "source": []
  },
  {
   "cell_type": "code",
   "execution_count": null,
   "metadata": {},
   "outputs": [],
   "source": []
  },
  {
   "cell_type": "code",
   "execution_count": null,
   "metadata": {},
   "outputs": [],
   "source": []
  },
  {
   "cell_type": "code",
   "execution_count": null,
   "metadata": {},
   "outputs": [],
   "source": []
  }
 ],
 "metadata": {
  "kernelspec": {
   "display_name": "Python 3",
   "language": "python",
   "name": "python3"
  },
  "language_info": {
   "codemirror_mode": {
    "name": "ipython",
    "version": 3
   },
   "file_extension": ".py",
   "mimetype": "text/x-python",
   "name": "python",
   "nbconvert_exporter": "python",
   "pygments_lexer": "ipython3",
   "version": "3.7.6"
  }
 },
 "nbformat": 4,
 "nbformat_minor": 4
}
