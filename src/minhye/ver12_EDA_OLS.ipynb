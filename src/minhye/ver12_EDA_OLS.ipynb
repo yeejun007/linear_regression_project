{
 "cells": [
  {
   "cell_type": "markdown",
   "metadata": {},
   "source": [
    "### 데이터 불러오기 및 컬럼 정리"
   ]
  },
  {
   "cell_type": "code",
   "execution_count": 36,
   "metadata": {},
   "outputs": [],
   "source": [
    "df12 = pd.read_csv(\"final_df_12.csv\", index_col=0)"
   ]
  },
  {
   "cell_type": "code",
   "execution_count": 37,
   "metadata": {},
   "outputs": [],
   "source": [
    "X_train = pd.read_csv(\"X_train12.csv\", index_col=0)\n",
    "X_test = pd.read_csv(\"X_test12.csv\", index_col=0)\n",
    "y_train = pd.read_csv(\"y_train12.csv\", index_col=0)\n",
    "y_test = pd.read_csv(\"y_test12.csv\", index_col=0)"
   ]
  },
  {
   "cell_type": "code",
   "execution_count": 38,
   "metadata": {},
   "outputs": [
    {
     "data": {
      "text/plain": [
       "Index(['title', 'director', 'distributor', 'distributor_group', 'release_date',\n",
       "       'release_season', 'nation', 'screen', 'genre', 'rate', 'type',\n",
       "       'expert_rating', 'starring_actors', 'running_times', 'audience_rating',\n",
       "       'rating_audiences', 'director_power', 'sequel', 'original',\n",
       "       'actor_power', 'director_count', 'director_movie_count',\n",
       "       'actor_movie_count', 'before_news', 'after_news'],\n",
       "      dtype='object')"
      ]
     },
     "execution_count": 38,
     "metadata": {},
     "output_type": "execute_result"
    }
   ],
   "source": [
    "X_train.drop(columns=['rev_nationwide', 'rev_seoul', 'rev_seoul.1', 'release', 'form', 'realease_year'], axis=1, inplace=True)\n",
    "X_train.columns"
   ]
  },
  {
   "cell_type": "code",
   "execution_count": 39,
   "metadata": {},
   "outputs": [
    {
     "data": {
      "text/plain": [
       "Index(['title', 'director', 'distributor', 'distributor_group', 'release_date',\n",
       "       'release_season', 'nation', 'screen', 'genre', 'rate', 'type',\n",
       "       'expert_rating', 'starring_actors', 'running_times', 'audience_rating',\n",
       "       'rating_audiences', 'director_power', 'sequel', 'original',\n",
       "       'actor_power', 'director_count', 'director_movie_count',\n",
       "       'actor_movie_count', 'before_news', 'after_news'],\n",
       "      dtype='object')"
      ]
     },
     "execution_count": 39,
     "metadata": {},
     "output_type": "execute_result"
    }
   ],
   "source": [
    "X_test.drop(columns=['rev_nationwide', 'rev_seoul', 'rev_seoul.1', 'release', 'form', 'realease_year'], axis=1, inplace=True)\n",
    "X_test.columns"
   ]
  },
  {
   "cell_type": "markdown",
   "metadata": {},
   "source": [
    "### df 배급사 A, B, C로 구분"
   ]
  },
  {
   "cell_type": "code",
   "execution_count": 114,
   "metadata": {},
   "outputs": [],
   "source": [
    "group_a = ['씨제이이앤엠(주)', '메가박스중앙(주)플러스엠', 'CGV아트하우스', '롯데쇼핑㈜롯데엔터테인먼트',\n",
    "       'CGV아트하우스,(주)대명문화공장', '롯데쇼핑㈜롯데엔터테인먼트,(주)마인스 엔터테인먼트',\n",
    "       'CGV아트하우스,(주)리틀빅픽쳐스', 'CGV아트하우스,영화사 풀', '메가박스중앙(주)플러스엠,(주)키위미디어그룹',\n",
    "       '롯데쇼핑㈜롯데엔터테인먼트,(주)리틀빅픽쳐스', '메가박스중앙(주)플러스엠,주식회사 키위컴퍼니',\n",
    "       '씨제이 씨지브이(CJ CGV)(주)', '롯데컬처웍스(주)롯데엔터테인먼트',\n",
    "       '롯데컬처웍스(주)롯데엔터테인먼트,씨네그루(주)키다리이엔티', '메가박스중앙(주)플러스엠,(주)콘텐츠 난다긴다',\n",
    "       '씨제이이앤엠(주),(주)덱스터스튜디오', '(주)쇼박스', '(주)넥스트엔터테인먼트월드(NEW)', '(주)쇼박스,(주)와우픽쳐스',\n",
    "       '(주)넥스트엔터테인먼트월드(NEW),(주)팬엔터테인먼트']\n",
    "group_b = ['월트디즈니컴퍼니코리아(주)', '이십세기폭스코리아(주)', '유니버설픽쳐스인터내셔널 코리아(유)',\n",
    "       '워너브러더스 코리아(주)', '씨네그루(주)다우기술', '(주)이수C&E', '(주)티캐스트',\n",
    "       '씨네그루(주)키다리이엔티', '월트디즈니컴퍼니코리아 유한책임회사', '소니픽쳐스엔터테인먼트코리아주식회사극장배급지점',\n",
    "       '(주)이수C&E,(주)스톰픽쳐스코리아', '씨네그루(주)키다리이엔티,주식회사 키위컴퍼니',\n",
    "       '(주)이수C&E,(주)에이원엔터테인먼트', '씨네그루(주)키다리이엔티,(주)삼백상회',\n",
    "       '(주)이수C&E,(주)시너지미디어', '(주)셀트리온엔터테인먼트', '케이티하이텔(주)']"
   ]
  },
  {
   "cell_type": "code",
   "execution_count": 115,
   "metadata": {
    "scrolled": true
   },
   "outputs": [
    {
     "data": {
      "text/plain": [
       "array(['월트디즈니컴퍼니코리아(주)', '씨제이이앤엠(주)', '이십세기폭스코리아(주)',\n",
       "       '유니버설픽쳐스인터내셔널 코리아(유)', '(주)쇼박스', '워너브러더스 코리아(주)',\n",
       "       '(주)넥스트엔터테인먼트월드(NEW)', '메가박스중앙(주)플러스엠', 'CGV아트하우스',\n",
       "       '롯데쇼핑㈜롯데엔터테인먼트', 'CGV아트하우스,(주)대명문화공장', '씨네그루(주)다우기술',\n",
       "       '롯데쇼핑㈜롯데엔터테인먼트,(주)마인스 엔터테인먼트', '(주)리틀빅픽쳐스,(주)이수C&E', '(주)박수엔터테인먼트',\n",
       "       '(주)시네마서비스', '(주)리틀빅픽쳐스,(주)대명문화공장', '(주)와우픽쳐스,(주)쇼박스', '판씨네마(주)',\n",
       "       '에이원엔터테인먼트', '(주)영화사 진진', '(주)이수C&E', '(주)리틀빅픽쳐스',\n",
       "       '(주)제이앤씨미디어그룹,(주)나이너스엔터테인먼트', '(주)쇼박스,(주)와우픽쳐스', '그린나래미디어(주)',\n",
       "       '(주)영화사 빅', '(주)나이너스엔터테인먼트', '(유)조이앤시네마', '(주)브리즈픽처스,(주)영화사오원',\n",
       "       '(주)스톰픽쳐스코리아', '와이드 릴리즈(주)', '(주)팝엔터테인먼트',\n",
       "       '(주)대명문화공장,(주)나이너스엔터테인먼트', '(주)인벤트스톤', 'CGV아트하우스,(주)리틀빅픽쳐스',\n",
       "       '(주)와우픽쳐스', '주식회사 마운틴픽쳐스', '필라멘트픽쳐스', '(주)스마일이엔티,(주)영화사오원',\n",
       "       '㈜코리아스크린,와이드 릴리즈(주)', '(주)영화제작전원사 ,(주)넥스트엔터테인먼트월드(NEW)',\n",
       "       '(주)리틀빅픽쳐스,(주)인벤트스톤', '(주)스톰픽쳐스코리아,주식회사 우리네트웍스', '(주)라이크 콘텐츠',\n",
       "       '(주)나이너스엔터테인먼트,(주)지어소프트', '(주)영화사오원,(주)브리즈픽처스', '예지림엔터테인먼트',\n",
       "       '(주)엣나인필름', '(주)티캐스트', 'TCO(주)더콘텐츠온', '(주)시네마서비스,(주)나이너스엔터테인먼트',\n",
       "       '(주)콘텐츠 난다긴다', '오드', '(주)대명문화공장,(주)리틀빅픽쳐스', '(주)박수엔터테인먼트,㈜코리아스크린',\n",
       "       '(주)아이코닉스', '(주)누리픽쳐스', '(주)삼지애니메이션', '(주)박수엔터테인먼트,(주)애니플러스',\n",
       "       '씨네그루(주)키다리이엔티', '파이오니아21', '(주)싸이더스,(주)디스테이션', '(주)모멘텀엔터테인먼트',\n",
       "       '그린나래미디어(주),(주)프레인글로벌', '오퍼스픽쳐스(유)', '월트디즈니컴퍼니코리아 유한책임회사',\n",
       "       '(주)제이앤씨미디어그룹', '(주)프레인글로벌', '(주)크리픽쳐스', '(주)드림팩트엔터테인먼트,(주)미로스페이스',\n",
       "       '(재)CBS,(주)영화사 안다미로', '오퍼스픽쳐스(유),CGV아트하우스', 'CGV아트하우스,영화사 풀',\n",
       "       '소니픽쳐스엔터테인먼트코리아주식회사극장배급지점', '(주)디스테이션', '(주)이수C&E,(주)스톰픽쳐스코리아',\n",
       "       '(주)엣나인필름,CGV아트하우스', '(주)리틀빅픽쳐스,(주)페퍼민트앤컴퍼니', '커넥트픽쳐스(주)',\n",
       "       '(주)영화제작전원사 ,(주)콘텐츠판다', 'THE 픽쳐스', '(주)메인타이틀픽쳐스',\n",
       "       '메가박스중앙(주)플러스엠,(주)키위미디어그룹', '롯데쇼핑㈜롯데엔터테인먼트,(주)리틀빅픽쳐스',\n",
       "       '(주)제이앤씨미디어그룹,TCO(주)더콘텐츠온', '메가박스중앙(주)플러스엠,주식회사 키위컴퍼니',\n",
       "       '씨네그루(주)키다리이엔티,주식회사 키위컴퍼니', '(재)CBS', '(주)스마일이엔티', '㈜코리아스크린',\n",
       "       '(주)비엠컬쳐스', '(주)더블앤조이픽쳐스', '동우에이앤이(주),(주)박수엔터테인먼트',\n",
       "       '씨제이 씨지브이(CJ CGV)(주)', '(주)이수C&E,(주)에이원엔터테인먼트', '(주)유로커뮤니케이션',\n",
       "       '(주)메인타이틀픽쳐스,주식회사 키위컴퍼니', '(주)홈초이스', '롯데컬처웍스(주)롯데엔터테인먼트',\n",
       "       '힘컨텐츠(주),(주)디스테이션', '(주)스톰픽쳐스코리아,(주)페퍼민트앤컴퍼니',\n",
       "       '(주)더블앤조이픽쳐스,TCO(주)더콘텐츠온', '롯데컬처웍스(주)롯데엔터테인먼트,씨네그루(주)키다리이엔티',\n",
       "       '(주)그노스', '씨네그루(주)키다리이엔티,(주)삼백상회', '(주)영화사 그램,(재)CBS', '(주)애니플러스',\n",
       "       '(주)엠제이픽쳐스', '(주)마노엔터테인먼트', '(주)이수C&E,(주)시너지미디어', '(주)미디어캐슬',\n",
       "       '(주)에이스메이커무비웍스,(주)키위미디어그룹', '(주)메리크리스마스,TCO(주)더콘텐츠온',\n",
       "       '메가박스중앙(주)플러스엠,(주)콘텐츠 난다긴다', 'TCO(주)더콘텐츠온,(주)제이앤씨미디어그룹',\n",
       "       '오드,(주)홈초이스', '(재)CBS,주식회사 마운틴픽쳐스', '(주)셀트리온엔터테인먼트',\n",
       "       '그린나래미디어(주),플레이리스트(주)', '(주)콘텐츠판다', '(주)영화사오원',\n",
       "       '(주)삼백상회,(주)팬엔터테인먼트', '(주)누리픽쳐스,케이티하이텔(주)', '글뫼 주식회사,(주)에스와이코마드',\n",
       "       '(주)메리크리스마스', '주식회사 마운틴픽쳐스,케이티하이텔(주)',\n",
       "       '(주)넥스트엔터테인먼트월드(NEW),(주)팬엔터테인먼트', '(주)인디플러그,(주)더 피플',\n",
       "       '씨제이이앤엠(주),(주)덱스터스튜디오', '(주)에이스메이커무비웍스', '(주)올스타엔터테인먼트',\n",
       "       '(주)미디어캐슬,워터홀컴퍼니(주)', '(주)엣나인필름,(주)콘텐츠판다', '케이티하이텔(주)',\n",
       "       '(주)영화사 빅,(주)버킷스튜디오', '(주)퍼스트런,(주)팬엔터테인먼트', '(주)트리플픽쳐스', '(주)시네마달',\n",
       "       '㈜영화사 백두대간,영화사 풀'], dtype=object)"
      ]
     },
     "execution_count": 115,
     "metadata": {},
     "output_type": "execute_result"
    }
   ],
   "source": [
    "df12['distributor_group'] = df12['distributor']\n",
    "df12['distributor_group'].unique()"
   ]
  },
  {
   "cell_type": "code",
   "execution_count": 116,
   "metadata": {},
   "outputs": [],
   "source": [
    "for a in group_a:\n",
    "    df12['distributor_group'] = df12['distributor_group'].replace(a, 'A')\n",
    "\n",
    "for b in group_b:\n",
    "    df12['distributor_group'] = df12['distributor_group'].replace(b, 'B')\n",
    "    \n",
    "df12['distributor_group'] = df12['distributor_group'].apply(lambda data : \"C\" if data != 'A' and data != 'B' else data)"
   ]
  },
  {
   "cell_type": "code",
   "execution_count": 117,
   "metadata": {},
   "outputs": [
    {
     "data": {
      "text/plain": [
       "array(['B', 'A', 'C'], dtype=object)"
      ]
     },
     "execution_count": 117,
     "metadata": {},
     "output_type": "execute_result"
    }
   ],
   "source": [
    "df12['distributor_group'].unique()"
   ]
  },
  {
   "cell_type": "markdown",
   "metadata": {},
   "source": [
    "### 상관관계 확인\n",
    "- 개봉일을 요일로 변환\n",
    "    - 영화는 주로 수요일 목요일에 개봉 \n",
    "    - cf) 문화의 날 : 매달 마지막주 수요일부터 주말까지 오후 5시부터 9시까지 5000원에 영화를 관람할 수 있다.\n",
    "    - 화요일에 개봉한 영화는 26편이지만 평균 관객수가 수요일보다 많음\n",
    "        - 화요일에 알짜배기 영화가 많이 개봉했다. \n",
    "        - 배급사파워? 목요일에 비해 스크린 많이 차지함\n",
    "        - expert_rating, audience_rating 다 높은 편\n",
    "        - 참고) https://www.sedaily.com/Photo/NewsView/1VKLUJ3G14\n",
    "- 개봉일을 휴일 여부로 구분하고 배급사랑 상호작용해보면 어떨까?"
   ]
  },
  {
   "cell_type": "code",
   "execution_count": 118,
   "metadata": {},
   "outputs": [
    {
     "data": {
      "text/plain": [
       "pandas.core.series.Series"
      ]
     },
     "execution_count": 118,
     "metadata": {},
     "output_type": "execute_result"
    }
   ],
   "source": [
    "# 개봉일을 요일로 변환\n",
    "type(df12['release_date'])"
   ]
  },
  {
   "cell_type": "code",
   "execution_count": 119,
   "metadata": {},
   "outputs": [
    {
     "data": {
      "text/plain": [
       "list"
      ]
     },
     "execution_count": 119,
     "metadata": {},
     "output_type": "execute_result"
    }
   ],
   "source": [
    "dates = list(df12['release_date'].values)\n",
    "type(dates)"
   ]
  },
  {
   "cell_type": "code",
   "execution_count": 120,
   "metadata": {},
   "outputs": [],
   "source": [
    "import datetime\n",
    "\n",
    "tmp = []\n",
    "for date in dates:\n",
    "    tmp.append(datetime.datetime.strptime(date, '%m/%d/%Y'))"
   ]
  },
  {
   "cell_type": "code",
   "execution_count": 121,
   "metadata": {},
   "outputs": [
    {
     "data": {
      "text/plain": [
       "'목'"
      ]
     },
     "execution_count": 121,
     "metadata": {},
     "output_type": "execute_result"
    }
   ],
   "source": [
    "t = ['월', '화', '수', '목', '금', '토', '일']\n",
    "t[tmp[0].weekday()]"
   ]
  },
  {
   "cell_type": "code",
   "execution_count": 122,
   "metadata": {},
   "outputs": [],
   "source": [
    "t = ['월', '화', '수', '목', '금', '토', '일']\n",
    "tmp_d = []\n",
    "for day in tmp:\n",
    "    tmp_d.append(t[day.weekday()])"
   ]
  },
  {
   "cell_type": "code",
   "execution_count": 123,
   "metadata": {},
   "outputs": [
    {
     "data": {
      "text/plain": [
       "Index(['title', 'director', 'distributor', 'distributor_group', 'release_date',\n",
       "       'release_season', 'release', 'form', 'nation', 'screen',\n",
       "       'rev_nationwide', 'aud_nationwide', 'rev_seoul', 'rev_seoul.1', 'genre',\n",
       "       'rate', 'type', 'expert_rating', 'starring_actors', 'running_times',\n",
       "       'audience_rating', 'rating_audiences', 'realease_year',\n",
       "       'director_power', 'sequel', 'original', 'actor_power', 'director_count',\n",
       "       'director_movie_count', 'actor_movie_count', 'log_aud', 'before_news',\n",
       "       'after_news', 'day', 'count'],\n",
       "      dtype='object')"
      ]
     },
     "execution_count": 123,
     "metadata": {},
     "output_type": "execute_result"
    }
   ],
   "source": [
    "df12['day'] = tmp_d\n",
    "df12.columns"
   ]
  },
  {
   "cell_type": "code",
   "execution_count": 124,
   "metadata": {},
   "outputs": [],
   "source": [
    "df12['count'] = 1"
   ]
  },
  {
   "cell_type": "code",
   "execution_count": 125,
   "metadata": {},
   "outputs": [],
   "source": [
    "day_df = df12.groupby('day').sum()"
   ]
  },
  {
   "cell_type": "code",
   "execution_count": 126,
   "metadata": {},
   "outputs": [],
   "source": [
    "day_df.reset_index(inplace=True)"
   ]
  },
  {
   "cell_type": "code",
   "execution_count": 127,
   "metadata": {},
   "outputs": [
    {
     "data": {
      "text/html": [
       "<div>\n",
       "<style scoped>\n",
       "    .dataframe tbody tr th:only-of-type {\n",
       "        vertical-align: middle;\n",
       "    }\n",
       "\n",
       "    .dataframe tbody tr th {\n",
       "        vertical-align: top;\n",
       "    }\n",
       "\n",
       "    .dataframe thead th {\n",
       "        text-align: right;\n",
       "    }\n",
       "</style>\n",
       "<table border=\"1\" class=\"dataframe\">\n",
       "  <thead>\n",
       "    <tr style=\"text-align: right;\">\n",
       "      <th></th>\n",
       "      <th>day</th>\n",
       "      <th>screen</th>\n",
       "      <th>rev_nationwide</th>\n",
       "      <th>aud_nationwide</th>\n",
       "      <th>rev_seoul</th>\n",
       "      <th>rev_seoul.1</th>\n",
       "      <th>expert_rating</th>\n",
       "      <th>running_times</th>\n",
       "      <th>audience_rating</th>\n",
       "      <th>rating_audiences</th>\n",
       "      <th>...</th>\n",
       "      <th>sequel</th>\n",
       "      <th>original</th>\n",
       "      <th>actor_power</th>\n",
       "      <th>director_count</th>\n",
       "      <th>director_movie_count</th>\n",
       "      <th>actor_movie_count</th>\n",
       "      <th>log_aud</th>\n",
       "      <th>before_news</th>\n",
       "      <th>after_news</th>\n",
       "      <th>count</th>\n",
       "    </tr>\n",
       "  </thead>\n",
       "  <tbody>\n",
       "    <tr>\n",
       "      <td>0</td>\n",
       "      <td>금</td>\n",
       "      <td>921</td>\n",
       "      <td>5.023575e+09</td>\n",
       "      <td>645208</td>\n",
       "      <td>976077200</td>\n",
       "      <td>120389</td>\n",
       "      <td>10.50</td>\n",
       "      <td>180</td>\n",
       "      <td>18.264690</td>\n",
       "      <td>779</td>\n",
       "      <td>...</td>\n",
       "      <td>1</td>\n",
       "      <td>1</td>\n",
       "      <td>54450</td>\n",
       "      <td>2</td>\n",
       "      <td>0</td>\n",
       "      <td>1</td>\n",
       "      <td>25.256024</td>\n",
       "      <td>228.0</td>\n",
       "      <td>187.0</td>\n",
       "      <td>2</td>\n",
       "    </tr>\n",
       "    <tr>\n",
       "      <td>1</td>\n",
       "      <td>목</td>\n",
       "      <td>193592</td>\n",
       "      <td>2.252222e+12</td>\n",
       "      <td>277657409</td>\n",
       "      <td>634303641043</td>\n",
       "      <td>74747004</td>\n",
       "      <td>2090.56</td>\n",
       "      <td>42611</td>\n",
       "      <td>3227.484494</td>\n",
       "      <td>154390</td>\n",
       "      <td>...</td>\n",
       "      <td>186</td>\n",
       "      <td>102</td>\n",
       "      <td>2899698400</td>\n",
       "      <td>437</td>\n",
       "      <td>242</td>\n",
       "      <td>2111</td>\n",
       "      <td>4934.556362</td>\n",
       "      <td>106481.0</td>\n",
       "      <td>113695.0</td>\n",
       "      <td>400</td>\n",
       "    </tr>\n",
       "    <tr>\n",
       "      <td>2</td>\n",
       "      <td>수</td>\n",
       "      <td>352561</td>\n",
       "      <td>5.703639e+12</td>\n",
       "      <td>696558073</td>\n",
       "      <td>1510130492942</td>\n",
       "      <td>176963342</td>\n",
       "      <td>2747.15</td>\n",
       "      <td>55592</td>\n",
       "      <td>4081.721620</td>\n",
       "      <td>447672</td>\n",
       "      <td>...</td>\n",
       "      <td>217</td>\n",
       "      <td>168</td>\n",
       "      <td>6055460119</td>\n",
       "      <td>533</td>\n",
       "      <td>304</td>\n",
       "      <td>3346</td>\n",
       "      <td>6466.204111</td>\n",
       "      <td>214750.0</td>\n",
       "      <td>228293.0</td>\n",
       "      <td>494</td>\n",
       "    </tr>\n",
       "    <tr>\n",
       "      <td>3</td>\n",
       "      <td>토</td>\n",
       "      <td>1162</td>\n",
       "      <td>1.103567e+10</td>\n",
       "      <td>1408143</td>\n",
       "      <td>3935308236</td>\n",
       "      <td>484857</td>\n",
       "      <td>6.50</td>\n",
       "      <td>253</td>\n",
       "      <td>17.331489</td>\n",
       "      <td>1482</td>\n",
       "      <td>...</td>\n",
       "      <td>3</td>\n",
       "      <td>2</td>\n",
       "      <td>12029637</td>\n",
       "      <td>3</td>\n",
       "      <td>3</td>\n",
       "      <td>28</td>\n",
       "      <td>36.131203</td>\n",
       "      <td>74.0</td>\n",
       "      <td>433.0</td>\n",
       "      <td>3</td>\n",
       "    </tr>\n",
       "    <tr>\n",
       "      <td>4</td>\n",
       "      <td>화</td>\n",
       "      <td>20668</td>\n",
       "      <td>3.405857e+11</td>\n",
       "      <td>40696355</td>\n",
       "      <td>89715335673</td>\n",
       "      <td>10307038</td>\n",
       "      <td>140.97</td>\n",
       "      <td>2909</td>\n",
       "      <td>209.635991</td>\n",
       "      <td>18637</td>\n",
       "      <td>...</td>\n",
       "      <td>13</td>\n",
       "      <td>12</td>\n",
       "      <td>354191747</td>\n",
       "      <td>28</td>\n",
       "      <td>17</td>\n",
       "      <td>235</td>\n",
       "      <td>346.401693</td>\n",
       "      <td>8292.0</td>\n",
       "      <td>10626.0</td>\n",
       "      <td>26</td>\n",
       "    </tr>\n",
       "  </tbody>\n",
       "</table>\n",
       "<p>5 rows × 22 columns</p>\n",
       "</div>"
      ],
      "text/plain": [
       "  day  screen  rev_nationwide  aud_nationwide      rev_seoul  rev_seoul.1  \\\n",
       "0   금     921    5.023575e+09          645208      976077200       120389   \n",
       "1   목  193592    2.252222e+12       277657409   634303641043     74747004   \n",
       "2   수  352561    5.703639e+12       696558073  1510130492942    176963342   \n",
       "3   토    1162    1.103567e+10         1408143     3935308236       484857   \n",
       "4   화   20668    3.405857e+11        40696355    89715335673     10307038   \n",
       "\n",
       "   expert_rating  running_times  audience_rating  rating_audiences  ...  \\\n",
       "0          10.50            180        18.264690               779  ...   \n",
       "1        2090.56          42611      3227.484494            154390  ...   \n",
       "2        2747.15          55592      4081.721620            447672  ...   \n",
       "3           6.50            253        17.331489              1482  ...   \n",
       "4         140.97           2909       209.635991             18637  ...   \n",
       "\n",
       "   sequel  original  actor_power  director_count  director_movie_count  \\\n",
       "0       1         1        54450               2                     0   \n",
       "1     186       102   2899698400             437                   242   \n",
       "2     217       168   6055460119             533                   304   \n",
       "3       3         2     12029637               3                     3   \n",
       "4      13        12    354191747              28                    17   \n",
       "\n",
       "   actor_movie_count      log_aud  before_news  after_news  count  \n",
       "0                  1    25.256024        228.0       187.0      2  \n",
       "1               2111  4934.556362     106481.0    113695.0    400  \n",
       "2               3346  6466.204111     214750.0    228293.0    494  \n",
       "3                 28    36.131203         74.0       433.0      3  \n",
       "4                235   346.401693       8292.0     10626.0     26  \n",
       "\n",
       "[5 rows x 22 columns]"
      ]
     },
     "execution_count": 127,
     "metadata": {},
     "output_type": "execute_result"
    }
   ],
   "source": [
    "day_df"
   ]
  },
  {
   "cell_type": "code",
   "execution_count": 128,
   "metadata": {},
   "outputs": [
    {
     "data": {
      "text/html": [
       "<div>\n",
       "<style scoped>\n",
       "    .dataframe tbody tr th:only-of-type {\n",
       "        vertical-align: middle;\n",
       "    }\n",
       "\n",
       "    .dataframe tbody tr th {\n",
       "        vertical-align: top;\n",
       "    }\n",
       "\n",
       "    .dataframe thead th {\n",
       "        text-align: right;\n",
       "    }\n",
       "</style>\n",
       "<table border=\"1\" class=\"dataframe\">\n",
       "  <thead>\n",
       "    <tr style=\"text-align: right;\">\n",
       "      <th></th>\n",
       "      <th>0</th>\n",
       "    </tr>\n",
       "    <tr>\n",
       "      <th>day</th>\n",
       "      <th></th>\n",
       "    </tr>\n",
       "  </thead>\n",
       "  <tbody>\n",
       "    <tr>\n",
       "      <td>금</td>\n",
       "      <td>3.226040e+05</td>\n",
       "    </tr>\n",
       "    <tr>\n",
       "      <td>목</td>\n",
       "      <td>6.941435e+05</td>\n",
       "    </tr>\n",
       "    <tr>\n",
       "      <td>수</td>\n",
       "      <td>1.410037e+06</td>\n",
       "    </tr>\n",
       "    <tr>\n",
       "      <td>토</td>\n",
       "      <td>4.693810e+05</td>\n",
       "    </tr>\n",
       "    <tr>\n",
       "      <td>화</td>\n",
       "      <td>1.565244e+06</td>\n",
       "    </tr>\n",
       "  </tbody>\n",
       "</table>\n",
       "</div>"
      ],
      "text/plain": [
       "                0\n",
       "day              \n",
       "금    3.226040e+05\n",
       "목    6.941435e+05\n",
       "수    1.410037e+06\n",
       "토    4.693810e+05\n",
       "화    1.565244e+06"
      ]
     },
     "execution_count": 128,
     "metadata": {},
     "output_type": "execute_result"
    }
   ],
   "source": [
    "tmp_df = df12.groupby('day').sum()\n",
    "day_avg_df = tmp_df['aud_nationwide'] / tmp_df['count']\n",
    "day_avg_df = pd.DataFrame(day_avg_df)\n",
    "day_avg_df"
   ]
  },
  {
   "cell_type": "code",
   "execution_count": 129,
   "metadata": {},
   "outputs": [],
   "source": [
    "day_avg_df.reset_index(inplace=True)"
   ]
  },
  {
   "cell_type": "code",
   "execution_count": 130,
   "metadata": {},
   "outputs": [],
   "source": [
    "day_avg_df.rename(columns={0: 'avg_audiences'}, inplace=True)"
   ]
  },
  {
   "cell_type": "code",
   "execution_count": 131,
   "metadata": {},
   "outputs": [
    {
     "data": {
      "text/html": [
       "<div>\n",
       "<style scoped>\n",
       "    .dataframe tbody tr th:only-of-type {\n",
       "        vertical-align: middle;\n",
       "    }\n",
       "\n",
       "    .dataframe tbody tr th {\n",
       "        vertical-align: top;\n",
       "    }\n",
       "\n",
       "    .dataframe thead th {\n",
       "        text-align: right;\n",
       "    }\n",
       "</style>\n",
       "<table border=\"1\" class=\"dataframe\">\n",
       "  <thead>\n",
       "    <tr style=\"text-align: right;\">\n",
       "      <th></th>\n",
       "      <th>day</th>\n",
       "      <th>avg_audiences</th>\n",
       "    </tr>\n",
       "  </thead>\n",
       "  <tbody>\n",
       "    <tr>\n",
       "      <td>0</td>\n",
       "      <td>금</td>\n",
       "      <td>3.226040e+05</td>\n",
       "    </tr>\n",
       "    <tr>\n",
       "      <td>1</td>\n",
       "      <td>목</td>\n",
       "      <td>6.941435e+05</td>\n",
       "    </tr>\n",
       "    <tr>\n",
       "      <td>2</td>\n",
       "      <td>수</td>\n",
       "      <td>1.410037e+06</td>\n",
       "    </tr>\n",
       "    <tr>\n",
       "      <td>3</td>\n",
       "      <td>토</td>\n",
       "      <td>4.693810e+05</td>\n",
       "    </tr>\n",
       "    <tr>\n",
       "      <td>4</td>\n",
       "      <td>화</td>\n",
       "      <td>1.565244e+06</td>\n",
       "    </tr>\n",
       "  </tbody>\n",
       "</table>\n",
       "</div>"
      ],
      "text/plain": [
       "  day  avg_audiences\n",
       "0   금   3.226040e+05\n",
       "1   목   6.941435e+05\n",
       "2   수   1.410037e+06\n",
       "3   토   4.693810e+05\n",
       "4   화   1.565244e+06"
      ]
     },
     "execution_count": 131,
     "metadata": {},
     "output_type": "execute_result"
    }
   ],
   "source": [
    "day_avg_df"
   ]
  },
  {
   "cell_type": "code",
   "execution_count": 132,
   "metadata": {},
   "outputs": [
    {
     "data": {
      "image/png": "[encoded data removed]",
      "text/plain": [
       "<Figure size 432x288 with 3 Axes>"
      ]
     },
     "metadata": {
      "needs_background": "light"
     },
     "output_type": "display_data"
    }
   ],
   "source": [
    "plt.subplot(131)\n",
    "plt.bar(x='day', height='aud_nationwide', data=day_df)\n",
    "plt.title(\"개봉요일별 총관객수\")\n",
    "\n",
    "plt.subplot(132)\n",
    "plt.bar(x='day', height='avg_audiences', data=day_avg_df)\n",
    "plt.title(\"개봉요일별 평균관객수\")\n",
    "\n",
    "plt.subplot(133)\n",
    "sns.countplot(x='day', data=df12)\n",
    "plt.title(\"개봉요일별 개봉영화 편수\")\n",
    "plt.tight_layout()\n",
    "plt.show()"
   ]
  },
  {
   "cell_type": "code",
   "execution_count": 138,
   "metadata": {},
   "outputs": [
    {
     "data": {
      "image/png": "[encoded data removed]",
      "text/plain": [
       "<Figure size 1080x288 with 3 Axes>"
      ]
     },
     "metadata": {
      "needs_background": "light"
     },
     "output_type": "display_data"
    }
   ],
   "source": [
    "plt.figure(figsize=(15, 4))\n",
    "plt.subplot(131)\n",
    "sns.countplot(x=df12[df12['day'] == '화']['genre'], data=df12)\n",
    "\n",
    "plt.subplot(132)\n",
    "sns.countplot(x=df12[df12['day'] == '화']['distributor_group'], data=df12)\n",
    "\n",
    "plt.subplot(133)\n",
    "plt.boxplot(x=df12[df12['day'] == '화']['screen'], data=df12)\n",
    "\n",
    "plt.tight_layout()\n",
    "plt.show()"
   ]
  },
  {
   "cell_type": "code",
   "execution_count": 134,
   "metadata": {},
   "outputs": [
    {
     "data": {
      "image/png": "[encoded data removed]",
      "text/plain": [
       "<Figure size 432x288 with 1 Axes>"
      ]
     },
     "metadata": {
      "needs_background": "light"
     },
     "output_type": "display_data"
    }
   ],
   "source": [
    "# 요일별로 screen 박스플랏 그려보기\n",
    "fig, ax = plt.subplots()\n",
    "ax.boxplot([df12[df12['day'] == '화']['screen'], df12[df12['day'] == '수']['screen'], \n",
    "            df12[df12['day'] == '목']['screen'], df12[df12['day'] == '금']['screen'], \n",
    "            df12[df12['day'] == '토']['screen']])\n",
    "plt.title(\"개봉 요일 별 screen 분포\")\n",
    "plt.xticks(range(6), ['', '화', '수', '목', '금', '토'])\n",
    "plt.show()"
   ]
  },
  {
   "cell_type": "code",
   "execution_count": 136,
   "metadata": {},
   "outputs": [
    {
     "data": {
      "image/png": "[encoded data removed]",
      "text/plain": [
       "<Figure size 1080x288 with 2 Axes>"
      ]
     },
     "metadata": {
      "needs_background": "light"
     },
     "output_type": "display_data"
    }
   ],
   "source": [
    "plt.figure(figsize=(15, 4))\n",
    "plt.subplot(121)\n",
    "sns.countplot(x=df12[df12['day'] == '수']['genre'], data=df12)\n",
    "\n",
    "plt.subplot(122)\n",
    "sns.countplot(x=df12[df12['day'] == '수']['distributor_group'], data=df12)\n",
    "plt.tight_layout()\n",
    "plt.show()"
   ]
  },
  {
   "cell_type": "code",
   "execution_count": 135,
   "metadata": {},
   "outputs": [
    {
     "data": {
      "image/png": "[encoded data removed]",
      "text/plain": [
       "<Figure size 1080x288 with 2 Axes>"
      ]
     },
     "metadata": {
      "needs_background": "light"
     },
     "output_type": "display_data"
    }
   ],
   "source": [
    "plt.figure(figsize=(15, 4))\n",
    "plt.subplot(121)\n",
    "sns.countplot(x=df12[df12['day'] == '목']['genre'], data=df12)\n",
    "\n",
    "plt.subplot(122)\n",
    "sns.countplot(x=df12[df12['day'] == '목']['distributor_group'], data=df12)\n",
    "plt.tight_layout()\n",
    "plt.show()"
   ]
  },
  {
   "cell_type": "code",
   "execution_count": 162,
   "metadata": {},
   "outputs": [
    {
     "data": {
      "text/html": [
       "<div>\n",
       "<style scoped>\n",
       "    .dataframe tbody tr th:only-of-type {\n",
       "        vertical-align: middle;\n",
       "    }\n",
       "\n",
       "    .dataframe tbody tr th {\n",
       "        vertical-align: top;\n",
       "    }\n",
       "\n",
       "    .dataframe thead th {\n",
       "        text-align: right;\n",
       "    }\n",
       "</style>\n",
       "<table border=\"1\" class=\"dataframe\">\n",
       "  <thead>\n",
       "    <tr style=\"text-align: right;\">\n",
       "      <th></th>\n",
       "      <th>title</th>\n",
       "      <th>distributor_group</th>\n",
       "      <th>release_date</th>\n",
       "      <th>nation</th>\n",
       "      <th>screen</th>\n",
       "      <th>aud_nationwide</th>\n",
       "      <th>genre</th>\n",
       "      <th>rate</th>\n",
       "      <th>expert_rating</th>\n",
       "      <th>rating_audiences</th>\n",
       "      <th>director_power</th>\n",
       "      <th>actor_power</th>\n",
       "      <th>before_news</th>\n",
       "      <th>after_news</th>\n",
       "    </tr>\n",
       "  </thead>\n",
       "  <tbody>\n",
       "    <tr>\n",
       "      <td>835</td>\n",
       "      <td>스파이더맨: 파 프롬 홈</td>\n",
       "      <td>B</td>\n",
       "      <td>7/2/2019</td>\n",
       "      <td>미국</td>\n",
       "      <td>2142</td>\n",
       "      <td>8020208</td>\n",
       "      <td>액션</td>\n",
       "      <td>12세이상관람가</td>\n",
       "      <td>6.56</td>\n",
       "      <td>1645</td>\n",
       "      <td>7257973</td>\n",
       "      <td>41844880</td>\n",
       "      <td>1924.0</td>\n",
       "      <td>1375.0</td>\n",
       "    </tr>\n",
       "    <tr>\n",
       "      <td>473</td>\n",
       "      <td>범죄도시</td>\n",
       "      <td>A</td>\n",
       "      <td>10/3/2017</td>\n",
       "      <td>한국</td>\n",
       "      <td>1315</td>\n",
       "      <td>6851297</td>\n",
       "      <td>범죄</td>\n",
       "      <td>청소년관람불가</td>\n",
       "      <td>6.00</td>\n",
       "      <td>2104</td>\n",
       "      <td>0</td>\n",
       "      <td>33367071</td>\n",
       "      <td>452.0</td>\n",
       "      <td>1023.0</td>\n",
       "    </tr>\n",
       "    <tr>\n",
       "      <td>566</td>\n",
       "      <td>독전</td>\n",
       "      <td>A</td>\n",
       "      <td>5/22/2018</td>\n",
       "      <td>한국</td>\n",
       "      <td>1357</td>\n",
       "      <td>5043771</td>\n",
       "      <td>범죄</td>\n",
       "      <td>15세이상관람가</td>\n",
       "      <td>5.29</td>\n",
       "      <td>1303</td>\n",
       "      <td>351208</td>\n",
       "      <td>35620681</td>\n",
       "      <td>1199.0</td>\n",
       "      <td>664.0</td>\n",
       "    </tr>\n",
       "    <tr>\n",
       "      <td>480</td>\n",
       "      <td>남한산성</td>\n",
       "      <td>A</td>\n",
       "      <td>10/3/2017</td>\n",
       "      <td>한국</td>\n",
       "      <td>1229</td>\n",
       "      <td>3829891</td>\n",
       "      <td>사극</td>\n",
       "      <td>15세이상관람가</td>\n",
       "      <td>7.50</td>\n",
       "      <td>2131</td>\n",
       "      <td>8655360</td>\n",
       "      <td>39144835</td>\n",
       "      <td>813.0</td>\n",
       "      <td>1363.0</td>\n",
       "    </tr>\n",
       "    <tr>\n",
       "      <td>381</td>\n",
       "      <td>미이라</td>\n",
       "      <td>B</td>\n",
       "      <td>6/6/2017</td>\n",
       "      <td>미국</td>\n",
       "      <td>1257</td>\n",
       "      <td>3628949</td>\n",
       "      <td>액션</td>\n",
       "      <td>15세이상관람가</td>\n",
       "      <td>5.71</td>\n",
       "      <td>1207</td>\n",
       "      <td>0</td>\n",
       "      <td>13209563</td>\n",
       "      <td>92.0</td>\n",
       "      <td>356.0</td>\n",
       "    </tr>\n",
       "    <tr>\n",
       "      <td>485</td>\n",
       "      <td>혹성탈출: 종의 전쟁</td>\n",
       "      <td>B</td>\n",
       "      <td>8/15/2017</td>\n",
       "      <td>미국</td>\n",
       "      <td>1017</td>\n",
       "      <td>2050909</td>\n",
       "      <td>액션</td>\n",
       "      <td>12세이상관람가</td>\n",
       "      <td>7.75</td>\n",
       "      <td>1176</td>\n",
       "      <td>4002134</td>\n",
       "      <td>8766280</td>\n",
       "      <td>161.0</td>\n",
       "      <td>568.0</td>\n",
       "    </tr>\n",
       "    <tr>\n",
       "      <td>756</td>\n",
       "      <td>알리타: 배틀 엔젤</td>\n",
       "      <td>B</td>\n",
       "      <td>2/5/2019</td>\n",
       "      <td>미국</td>\n",
       "      <td>1043</td>\n",
       "      <td>1949372</td>\n",
       "      <td>액션</td>\n",
       "      <td>12세이상관람가</td>\n",
       "      <td>7.14</td>\n",
       "      <td>1190</td>\n",
       "      <td>0</td>\n",
       "      <td>348697</td>\n",
       "      <td>238.0</td>\n",
       "      <td>523.0</td>\n",
       "    </tr>\n",
       "    <tr>\n",
       "      <td>16</td>\n",
       "      <td>이미테이션 게임</td>\n",
       "      <td>A</td>\n",
       "      <td>2/17/2015</td>\n",
       "      <td>영국</td>\n",
       "      <td>541</td>\n",
       "      <td>1743774</td>\n",
       "      <td>드라마</td>\n",
       "      <td>15세이상관람가</td>\n",
       "      <td>7.25</td>\n",
       "      <td>604</td>\n",
       "      <td>1</td>\n",
       "      <td>10966878</td>\n",
       "      <td>66.0</td>\n",
       "      <td>674.0</td>\n",
       "    </tr>\n",
       "    <tr>\n",
       "      <td>400</td>\n",
       "      <td>에이리언: 커버넌트</td>\n",
       "      <td>B</td>\n",
       "      <td>5/9/2017</td>\n",
       "      <td>미국</td>\n",
       "      <td>841</td>\n",
       "      <td>1305826</td>\n",
       "      <td>SF</td>\n",
       "      <td>15세이상관람가</td>\n",
       "      <td>7.11</td>\n",
       "      <td>2096</td>\n",
       "      <td>6385989</td>\n",
       "      <td>12039745</td>\n",
       "      <td>126.0</td>\n",
       "      <td>369.0</td>\n",
       "    </tr>\n",
       "    <tr>\n",
       "      <td>679</td>\n",
       "      <td>범블비</td>\n",
       "      <td>A</td>\n",
       "      <td>12/25/2018</td>\n",
       "      <td>미국</td>\n",
       "      <td>1016</td>\n",
       "      <td>1167150</td>\n",
       "      <td>액션</td>\n",
       "      <td>12세이상관람가</td>\n",
       "      <td>6.78</td>\n",
       "      <td>943</td>\n",
       "      <td>30525</td>\n",
       "      <td>97406</td>\n",
       "      <td>161.0</td>\n",
       "      <td>715.0</td>\n",
       "    </tr>\n",
       "    <tr>\n",
       "      <td>584</td>\n",
       "      <td>챔피언</td>\n",
       "      <td>B</td>\n",
       "      <td>5/1/2018</td>\n",
       "      <td>한국</td>\n",
       "      <td>874</td>\n",
       "      <td>1125238</td>\n",
       "      <td>드라마</td>\n",
       "      <td>12세이상관람가</td>\n",
       "      <td>5.43</td>\n",
       "      <td>222</td>\n",
       "      <td>0</td>\n",
       "      <td>40366401</td>\n",
       "      <td>1334.0</td>\n",
       "      <td>868.0</td>\n",
       "    </tr>\n",
       "    <tr>\n",
       "      <td>862</td>\n",
       "      <td>캣츠</td>\n",
       "      <td>B</td>\n",
       "      <td>12/24/2019</td>\n",
       "      <td>미국</td>\n",
       "      <td>1143</td>\n",
       "      <td>728345</td>\n",
       "      <td>코미디</td>\n",
       "      <td>12세이상관람가</td>\n",
       "      <td>4.75</td>\n",
       "      <td>454</td>\n",
       "      <td>134029</td>\n",
       "      <td>8412986</td>\n",
       "      <td>876.0</td>\n",
       "      <td>481.0</td>\n",
       "    </tr>\n",
       "    <tr>\n",
       "      <td>695</td>\n",
       "      <td>스타 이즈 본</td>\n",
       "      <td>B</td>\n",
       "      <td>10/9/2018</td>\n",
       "      <td>미국</td>\n",
       "      <td>555</td>\n",
       "      <td>482952</td>\n",
       "      <td>드라마</td>\n",
       "      <td>15세이상관람가</td>\n",
       "      <td>7.43</td>\n",
       "      <td>488</td>\n",
       "      <td>0</td>\n",
       "      <td>3091765</td>\n",
       "      <td>23.0</td>\n",
       "      <td>330.0</td>\n",
       "    </tr>\n",
       "    <tr>\n",
       "      <td>511</td>\n",
       "      <td>넛잡 2</td>\n",
       "      <td>A</td>\n",
       "      <td>10/3/2017</td>\n",
       "      <td>한국</td>\n",
       "      <td>526</td>\n",
       "      <td>407727</td>\n",
       "      <td>애니메이션</td>\n",
       "      <td>전체관람가</td>\n",
       "      <td>5.00</td>\n",
       "      <td>190</td>\n",
       "      <td>37547</td>\n",
       "      <td>5020493</td>\n",
       "      <td>68.0</td>\n",
       "      <td>117.0</td>\n",
       "    </tr>\n",
       "    <tr>\n",
       "      <td>700</td>\n",
       "      <td>점박이 한반도의 공룡2 : 새로운 낙원</td>\n",
       "      <td>A</td>\n",
       "      <td>12/25/2018</td>\n",
       "      <td>한국</td>\n",
       "      <td>672</td>\n",
       "      <td>375312</td>\n",
       "      <td>애니메이션</td>\n",
       "      <td>전체관람가</td>\n",
       "      <td>7.00</td>\n",
       "      <td>533</td>\n",
       "      <td>0</td>\n",
       "      <td>29226759</td>\n",
       "      <td>17.0</td>\n",
       "      <td>34.0</td>\n",
       "    </tr>\n",
       "    <tr>\n",
       "      <td>426</td>\n",
       "      <td>석조저택 살인사건</td>\n",
       "      <td>B</td>\n",
       "      <td>5/9/2017</td>\n",
       "      <td>한국</td>\n",
       "      <td>539</td>\n",
       "      <td>350129</td>\n",
       "      <td>스릴러</td>\n",
       "      <td>15세이상관람가</td>\n",
       "      <td>4.67</td>\n",
       "      <td>525</td>\n",
       "      <td>120802</td>\n",
       "      <td>11932491</td>\n",
       "      <td>509.0</td>\n",
       "      <td>320.0</td>\n",
       "    </tr>\n",
       "    <tr>\n",
       "      <td>601</td>\n",
       "      <td>트루스 오어 데어</td>\n",
       "      <td>B</td>\n",
       "      <td>5/22/2018</td>\n",
       "      <td>미국</td>\n",
       "      <td>530</td>\n",
       "      <td>310695</td>\n",
       "      <td>공포</td>\n",
       "      <td>15세이상관람가</td>\n",
       "      <td>3.50</td>\n",
       "      <td>339</td>\n",
       "      <td>0</td>\n",
       "      <td>0</td>\n",
       "      <td>13.0</td>\n",
       "      <td>148.0</td>\n",
       "    </tr>\n",
       "    <tr>\n",
       "      <td>429</td>\n",
       "      <td>목소리의 형태</td>\n",
       "      <td>C</td>\n",
       "      <td>5/9/2017</td>\n",
       "      <td>일본</td>\n",
       "      <td>466</td>\n",
       "      <td>272736</td>\n",
       "      <td>애니메이션</td>\n",
       "      <td>전체관람가</td>\n",
       "      <td>7.60</td>\n",
       "      <td>646</td>\n",
       "      <td>7162</td>\n",
       "      <td>142652</td>\n",
       "      <td>42.0</td>\n",
       "      <td>119.0</td>\n",
       "    </tr>\n",
       "    <tr>\n",
       "      <td>525</td>\n",
       "      <td>딥</td>\n",
       "      <td>B</td>\n",
       "      <td>10/3/2017</td>\n",
       "      <td>기타</td>\n",
       "      <td>441</td>\n",
       "      <td>226933</td>\n",
       "      <td>애니메이션</td>\n",
       "      <td>전체관람가</td>\n",
       "      <td>0.00</td>\n",
       "      <td>137</td>\n",
       "      <td>0</td>\n",
       "      <td>579301</td>\n",
       "      <td>79.0</td>\n",
       "      <td>113.0</td>\n",
       "    </tr>\n",
       "    <tr>\n",
       "      <td>792</td>\n",
       "      <td>언니</td>\n",
       "      <td>C</td>\n",
       "      <td>1/1/2019</td>\n",
       "      <td>한국</td>\n",
       "      <td>530</td>\n",
       "      <td>197134</td>\n",
       "      <td>액션</td>\n",
       "      <td>청소년관람불가</td>\n",
       "      <td>4.00</td>\n",
       "      <td>119</td>\n",
       "      <td>0</td>\n",
       "      <td>33663991</td>\n",
       "      <td>0.0</td>\n",
       "      <td>1.0</td>\n",
       "    </tr>\n",
       "    <tr>\n",
       "      <td>890</td>\n",
       "      <td>눈의 여왕4</td>\n",
       "      <td>A</td>\n",
       "      <td>12/24/2019</td>\n",
       "      <td>기타</td>\n",
       "      <td>541</td>\n",
       "      <td>143853</td>\n",
       "      <td>애니메이션</td>\n",
       "      <td>전체관람가</td>\n",
       "      <td>6.00</td>\n",
       "      <td>65</td>\n",
       "      <td>366442</td>\n",
       "      <td>3431133</td>\n",
       "      <td>22.0</td>\n",
       "      <td>92.0</td>\n",
       "    </tr>\n",
       "    <tr>\n",
       "      <td>894</td>\n",
       "      <td>미드웨이</td>\n",
       "      <td>C</td>\n",
       "      <td>12/31/2019</td>\n",
       "      <td>미국</td>\n",
       "      <td>810</td>\n",
       "      <td>133373</td>\n",
       "      <td>액션</td>\n",
       "      <td>15세이상관람가</td>\n",
       "      <td>5.50</td>\n",
       "      <td>248</td>\n",
       "      <td>1202842</td>\n",
       "      <td>8872572</td>\n",
       "      <td>26.0</td>\n",
       "      <td>203.0</td>\n",
       "    </tr>\n",
       "    <tr>\n",
       "      <td>895</td>\n",
       "      <td>프린스 코기</td>\n",
       "      <td>B</td>\n",
       "      <td>12/24/2019</td>\n",
       "      <td>기타</td>\n",
       "      <td>455</td>\n",
       "      <td>132958</td>\n",
       "      <td>애니메이션</td>\n",
       "      <td>전체관람가</td>\n",
       "      <td>6.00</td>\n",
       "      <td>80</td>\n",
       "      <td>453831</td>\n",
       "      <td>4493268</td>\n",
       "      <td>14.0</td>\n",
       "      <td>79.0</td>\n",
       "    </tr>\n",
       "    <tr>\n",
       "      <td>453</td>\n",
       "      <td>사일런스</td>\n",
       "      <td>B</td>\n",
       "      <td>2/28/2017</td>\n",
       "      <td>미국</td>\n",
       "      <td>342</td>\n",
       "      <td>94750</td>\n",
       "      <td>드라마</td>\n",
       "      <td>15세이상관람가</td>\n",
       "      <td>7.00</td>\n",
       "      <td>110</td>\n",
       "      <td>585082</td>\n",
       "      <td>9212576</td>\n",
       "      <td>25.0</td>\n",
       "      <td>57.0</td>\n",
       "    </tr>\n",
       "    <tr>\n",
       "      <td>547</td>\n",
       "      <td>드래곤 스펠: 마법 꽃의 비밀</td>\n",
       "      <td>C</td>\n",
       "      <td>8/15/2017</td>\n",
       "      <td>기타</td>\n",
       "      <td>164</td>\n",
       "      <td>79446</td>\n",
       "      <td>애니메이션</td>\n",
       "      <td>전체관람가</td>\n",
       "      <td>0.00</td>\n",
       "      <td>0</td>\n",
       "      <td>0</td>\n",
       "      <td>339323</td>\n",
       "      <td>10.0</td>\n",
       "      <td>18.0</td>\n",
       "    </tr>\n",
       "    <tr>\n",
       "      <td>738</td>\n",
       "      <td>다이노 어드벤처2: 육해공 공룡 대백과</td>\n",
       "      <td>C</td>\n",
       "      <td>10/9/2018</td>\n",
       "      <td>영국</td>\n",
       "      <td>322</td>\n",
       "      <td>43627</td>\n",
       "      <td>애니메이션</td>\n",
       "      <td>전체관람가</td>\n",
       "      <td>0.00</td>\n",
       "      <td>82</td>\n",
       "      <td>0</td>\n",
       "      <td>0</td>\n",
       "      <td>2.0</td>\n",
       "      <td>16.0</td>\n",
       "    </tr>\n",
       "  </tbody>\n",
       "</table>\n",
       "</div>"
      ],
      "text/plain": [
       "                     title distributor_group release_date nation  screen  \\\n",
       "835          스파이더맨: 파 프롬 홈                 B     7/2/2019     미국    2142   \n",
       "473                   범죄도시                 A    10/3/2017     한국    1315   \n",
       "566                     독전                 A    5/22/2018     한국    1357   \n",
       "480                   남한산성                 A    10/3/2017     한국    1229   \n",
       "381                    미이라                 B     6/6/2017     미국    1257   \n",
       "485            혹성탈출: 종의 전쟁                 B    8/15/2017     미국    1017   \n",
       "756             알리타: 배틀 엔젤                 B     2/5/2019     미국    1043   \n",
       "16                이미테이션 게임                 A    2/17/2015     영국     541   \n",
       "400             에이리언: 커버넌트                 B     5/9/2017     미국     841   \n",
       "679                    범블비                 A   12/25/2018     미국    1016   \n",
       "584                    챔피언                 B     5/1/2018     한국     874   \n",
       "862                     캣츠                 B   12/24/2019     미국    1143   \n",
       "695                스타 이즈 본                 B    10/9/2018     미국     555   \n",
       "511                   넛잡 2                 A    10/3/2017     한국     526   \n",
       "700  점박이 한반도의 공룡2 : 새로운 낙원                 A   12/25/2018     한국     672   \n",
       "426              석조저택 살인사건                 B     5/9/2017     한국     539   \n",
       "601              트루스 오어 데어                 B    5/22/2018     미국     530   \n",
       "429                목소리의 형태                 C     5/9/2017     일본     466   \n",
       "525                      딥                 B    10/3/2017     기타     441   \n",
       "792                     언니                 C     1/1/2019     한국     530   \n",
       "890                 눈의 여왕4                 A   12/24/2019     기타     541   \n",
       "894                   미드웨이                 C   12/31/2019     미국     810   \n",
       "895                 프린스 코기                 B   12/24/2019     기타     455   \n",
       "453                   사일런스                 B    2/28/2017     미국     342   \n",
       "547       드래곤 스펠: 마법 꽃의 비밀                 C    8/15/2017     기타     164   \n",
       "738  다이노 어드벤처2: 육해공 공룡 대백과                 C    10/9/2018     영국     322   \n",
       "\n",
       "     aud_nationwide  genre      rate  expert_rating  rating_audiences  \\\n",
       "835         8020208     액션  12세이상관람가           6.56              1645   \n",
       "473         6851297     범죄   청소년관람불가           6.00              2104   \n",
       "566         5043771     범죄  15세이상관람가           5.29              1303   \n",
       "480         3829891     사극  15세이상관람가           7.50              2131   \n",
       "381         3628949     액션  15세이상관람가           5.71              1207   \n",
       "485         2050909     액션  12세이상관람가           7.75              1176   \n",
       "756         1949372     액션  12세이상관람가           7.14              1190   \n",
       "16          1743774    드라마  15세이상관람가           7.25               604   \n",
       "400         1305826     SF  15세이상관람가           7.11              2096   \n",
       "679         1167150     액션  12세이상관람가           6.78               943   \n",
       "584         1125238    드라마  12세이상관람가           5.43               222   \n",
       "862          728345    코미디  12세이상관람가           4.75               454   \n",
       "695          482952    드라마  15세이상관람가           7.43               488   \n",
       "511          407727  애니메이션     전체관람가           5.00               190   \n",
       "700          375312  애니메이션     전체관람가           7.00               533   \n",
       "426          350129    스릴러  15세이상관람가           4.67               525   \n",
       "601          310695     공포  15세이상관람가           3.50               339   \n",
       "429          272736  애니메이션     전체관람가           7.60               646   \n",
       "525          226933  애니메이션     전체관람가           0.00               137   \n",
       "792          197134     액션   청소년관람불가           4.00               119   \n",
       "890          143853  애니메이션     전체관람가           6.00                65   \n",
       "894          133373     액션  15세이상관람가           5.50               248   \n",
       "895          132958  애니메이션     전체관람가           6.00                80   \n",
       "453           94750    드라마  15세이상관람가           7.00               110   \n",
       "547           79446  애니메이션     전체관람가           0.00                 0   \n",
       "738           43627  애니메이션     전체관람가           0.00                82   \n",
       "\n",
       "     director_power  actor_power  before_news  after_news  \n",
       "835         7257973     41844880       1924.0      1375.0  \n",
       "473               0     33367071        452.0      1023.0  \n",
       "566          351208     35620681       1199.0       664.0  \n",
       "480         8655360     39144835        813.0      1363.0  \n",
       "381               0     13209563         92.0       356.0  \n",
       "485         4002134      8766280        161.0       568.0  \n",
       "756               0       348697        238.0       523.0  \n",
       "16                1     10966878         66.0       674.0  \n",
       "400         6385989     12039745        126.0       369.0  \n",
       "679           30525        97406        161.0       715.0  \n",
       "584               0     40366401       1334.0       868.0  \n",
       "862          134029      8412986        876.0       481.0  \n",
       "695               0      3091765         23.0       330.0  \n",
       "511           37547      5020493         68.0       117.0  \n",
       "700               0     29226759         17.0        34.0  \n",
       "426          120802     11932491        509.0       320.0  \n",
       "601               0            0         13.0       148.0  \n",
       "429            7162       142652         42.0       119.0  \n",
       "525               0       579301         79.0       113.0  \n",
       "792               0     33663991          0.0         1.0  \n",
       "890          366442      3431133         22.0        92.0  \n",
       "894         1202842      8872572         26.0       203.0  \n",
       "895          453831      4493268         14.0        79.0  \n",
       "453          585082      9212576         25.0        57.0  \n",
       "547               0       339323         10.0        18.0  \n",
       "738               0            0          2.0        16.0  "
      ]
     },
     "execution_count": 162,
     "metadata": {},
     "output_type": "execute_result"
    }
   ],
   "source": [
    "# 스파이더맨 : 미국개봉일 / 범죄도시 : 개천절 / 독전 : 석가탄신일 / 남한산성 : 개천절 / 미이라 : 현충일 / 혹성탈출 : 광복절\n",
    "# 알라딘 : / 이미테이션게임 : / 에이리언 : 대통령선거 / 범블비 : 크리스마스 / 챔피언 : / 캣츠 : 크리스마스이브 / \n",
    "# 스타이즈본 : 한글날/ 넛잡2 : 개천절 / 점박이 : 크리스마스 / 석조저택살인사건 : 대통령선거 / 투루스오어데어 : 석가탄신일/\n",
    "# 목소리의 형태 : 대통령선거 / 딥: 개천절 / 언니: 신정 / 눈의여왕4 : 크리스마스이브 / 미드웨이 : 마지막날\n",
    "# 프린스코기 : 크리스마스이브 / 사일런스 : / 드래곤스펠 : 광복절 / 다이노어드벤처 : 한글날\n",
    "df12_Tues = df12[df12['day'] == '화'][['title', 'distributor_group', 'release_date', 'nation', 'screen', 'aud_nationwide', 'genre', 'rate', 'expert_rating', 'rating_audiences', 'director_power', 'actor_power', 'before_news', 'after_news']]\n",
    "df12_Tues.sort_values(by='aud_nationwide', ascending=False)\n"
   ]
  },
  {
   "cell_type": "code",
   "execution_count": 161,
   "metadata": {
    "scrolled": true
   },
   "outputs": [
    {
     "data": {
      "image/png": "[encoded data removed]",
      "text/plain": [
       "<Figure size 432x288 with 2 Axes>"
      ]
     },
     "metadata": {
      "needs_background": "light"
     },
     "output_type": "display_data"
    }
   ],
   "source": [
    "# 요일별로 expert_rating, audience_rating 박스플랏 그려보기\n",
    "fig, (ax1, ax2) = plt.subplots(1, 2)\n",
    "ax1.boxplot([df12[df12['day'] == '화']['expert_rating'], df12[df12['day'] == '수']['expert_rating'], \n",
    "            df12[df12['day'] == '목']['expert_rating'], df12[df12['day'] == '금']['expert_rating'], \n",
    "            df12[df12['day'] == '토']['expert_rating']])\n",
    "ax1.set_xticks(range(6), ['', '화', '수', '목', '금', '토'])\n",
    "ax1.set_title(\"개봉 요일 별 expert_rating 분포\")\n",
    "\n",
    "ax2.boxplot([df12[df12['day'] == '화']['audience_rating'], df12[df12['day'] == '수']['audience_rating'], \n",
    "            df12[df12['day'] == '목']['audience_rating'], df12[df12['day'] == '금']['audience_rating'], \n",
    "            df12[df12['day'] == '토']['audience_rating']])\n",
    "ax2.set_xticks(range(6), ['', '화', '수', '목', '금', '토'])\n",
    "ax2.set_title(\"개봉 요일 별 audience_rating 분포\")\n",
    "plt.tight_layout()\n",
    "plt.show()"
   ]
  },
  {
   "cell_type": "code",
   "execution_count": 163,
   "metadata": {},
   "outputs": [
    {
     "data": {
      "image/png": "[encoded data removed]",
      "text/plain": [
       "<Figure size 432x288 with 1 Axes>"
      ]
     },
     "metadata": {
      "needs_background": "light"
     },
     "output_type": "display_data"
    }
   ],
   "source": [
    "# 개봉요일별 aud_nationwide 박스플랏 그려보기\n",
    "fig, ax = plt.subplots()\n",
    "ax.boxplot([df12[df12['day'] == '화']['aud_nationwide'], df12[df12['day'] == '수']['aud_nationwide'], \n",
    "            df12[df12['day'] == '목']['aud_nationwide'], df12[df12['day'] == '금']['aud_nationwide'], \n",
    "            df12[df12['day'] == '토']['aud_nationwide']])\n",
    "plt.title(\"개봉 요일 별 aud_nationwide 분포\")\n",
    "plt.xticks(range(6), ['', '화', '수', '목', '금', '토'])\n",
    "plt.show()"
   ]
  },
  {
   "cell_type": "code",
   "execution_count": 139,
   "metadata": {},
   "outputs": [
    {
     "data": {
      "text/plain": [
       "Index(['title', 'director', 'distributor', 'distributor_group', 'release_date',\n",
       "       'release_season', 'release', 'form', 'nation', 'screen',\n",
       "       'rev_nationwide', 'aud_nationwide', 'rev_seoul', 'rev_seoul.1', 'genre',\n",
       "       'rate', 'type', 'expert_rating', 'starring_actors', 'running_times',\n",
       "       'audience_rating', 'rating_audiences', 'realease_year',\n",
       "       'director_power', 'sequel', 'original', 'actor_power', 'director_count',\n",
       "       'director_movie_count', 'actor_movie_count', 'log_aud', 'before_news',\n",
       "       'after_news', 'day', 'count'],\n",
       "      dtype='object')"
      ]
     },
     "execution_count": 139,
     "metadata": {},
     "output_type": "execute_result"
    }
   ],
   "source": [
    "df12.columns"
   ]
  },
  {
   "cell_type": "code",
   "execution_count": null,
   "metadata": {},
   "outputs": [],
   "source": []
  }
 ],
 "metadata": {
  "kernelspec": {
   "display_name": "Python 3",
   "language": "python",
   "name": "python3"
  },
  "language_info": {
   "codemirror_mode": {
    "name": "ipython",
    "version": 3
   },
   "file_extension": ".py",
   "mimetype": "text/x-python",
   "name": "python",
   "nbconvert_exporter": "python",
   "pygments_lexer": "ipython3",
   "version": "3.7.4"
  }
 },
 "nbformat": 4,
 "nbformat_minor": 2
}
