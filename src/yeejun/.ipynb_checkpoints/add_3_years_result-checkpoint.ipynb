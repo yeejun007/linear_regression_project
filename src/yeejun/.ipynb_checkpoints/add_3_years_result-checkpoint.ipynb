{
 "cells": [
  {
   "cell_type": "markdown",
   "metadata": {},
   "source": [
    "# 이전까지 한 일들\n",
    "- KOBIS에서 제공되지 않는 필요한 정보들을 크롤링 해서 final_df 데이터프레임 만듬\n",
    "- 영화가 다른 원작을 기반으로 한 것인지에 대한 여부를 조사해서 데이터프레임으로 만듬 -> 추후 concat해서 통합할 예정"
   ]
  },
  {
   "cell_type": "code",
   "execution_count": null,
   "metadata": {},
   "outputs": [],
   "source": []
  },
  {
   "cell_type": "code",
   "execution_count": null,
   "metadata": {},
   "outputs": [],
   "source": []
  },
  {
   "cell_type": "markdown",
   "metadata": {},
   "source": [
    "# final_df와 대조하게 될 KOBIS 데이터프레임 전처리 1\n",
    "- 기간별 데이터(약 23000개)에 main_actor(주연배우)추가\n",
    "- 기간별 데이터(약 23000개)에서 월별 KOBIS데이터(약 10000개)와 일치하는 데이터프레임만 추출\n",
    "- 추출한 데이터(10875개)에서 개봉일이 누락된 부분을 월별데이터에서 가져와서 채워넣기\n",
    "- 개봉일 비교 쉽게 하기위해 '개봉일_int' 칼럼 추가\n"
   ]
  },
  {
   "cell_type": "code",
   "execution_count": 30,
   "metadata": {},
   "outputs": [],
   "source": [
    "import re\n",
    "import string"
   ]
  },
  {
   "cell_type": "code",
   "execution_count": 7,
   "metadata": {},
   "outputs": [],
   "source": [
    "# final_df = pd.read_csv('final_df.csv').drop(columns=['Unnamed: 0'])"
   ]
  },
  {
   "cell_type": "code",
   "execution_count": 12,
   "metadata": {},
   "outputs": [],
   "source": [
    "# total_movie_data = pd.read_csv('total_movie_data.csv')"
   ]
  },
  {
   "cell_type": "code",
   "execution_count": 184,
   "metadata": {},
   "outputs": [],
   "source": [
    "# actor_power_data = pd.read_csv('actor_power_data.csv')"
   ]
  },
  {
   "cell_type": "code",
   "execution_count": 369,
   "metadata": {},
   "outputs": [],
   "source": [
    "# final_df.head(1)"
   ]
  },
  {
   "cell_type": "code",
   "execution_count": 370,
   "metadata": {},
   "outputs": [],
   "source": [
    "# total_movie_data.head(1)"
   ]
  },
  {
   "cell_type": "code",
   "execution_count": null,
   "metadata": {},
   "outputs": [],
   "source": []
  },
  {
   "cell_type": "code",
   "execution_count": 359,
   "metadata": {},
   "outputs": [],
   "source": [
    "# actor_power_data.head()"
   ]
  },
  {
   "cell_type": "code",
   "execution_count": 360,
   "metadata": {},
   "outputs": [],
   "source": [
    "# len(actor_power_data)"
   ]
  },
  {
   "cell_type": "code",
   "execution_count": 361,
   "metadata": {},
   "outputs": [],
   "source": [
    "# len(actor_power_data)"
   ]
  },
  {
   "cell_type": "code",
   "execution_count": 363,
   "metadata": {},
   "outputs": [],
   "source": [
    "# title_list = list(total_movie_data['영화명'])\n",
    "# len(title_list)"
   ]
  },
  {
   "cell_type": "code",
   "execution_count": 364,
   "metadata": {},
   "outputs": [],
   "source": [
    "# actor_power_data['same_title'] = actor_power_data['영화명'].apply(lambda title : True if title in title_list else False)"
   ]
  },
  {
   "cell_type": "code",
   "execution_count": 365,
   "metadata": {},
   "outputs": [],
   "source": [
    "# actor_power_data_02 = actor_power_data[actor_power_data['same_title'] == True]"
   ]
  },
  {
   "cell_type": "code",
   "execution_count": 366,
   "metadata": {},
   "outputs": [],
   "source": [
    "# len(actor_power_data_02)"
   ]
  },
  {
   "cell_type": "code",
   "execution_count": 328,
   "metadata": {},
   "outputs": [],
   "source": [
    "# actor_power_data_02 = actor_power_data_02.reset_index().drop(columns=['index', 'same_title'])"
   ]
  },
  {
   "cell_type": "code",
   "execution_count": 329,
   "metadata": {},
   "outputs": [],
   "source": [
    "# actor_power_data_02.to_csv('actor_power_data_02.csv', mode='w')"
   ]
  },
  {
   "cell_type": "code",
   "execution_count": 211,
   "metadata": {},
   "outputs": [],
   "source": [
    "# actor_power_data_02['same_title'] = actor_power_data_02['영화명'].apply(lambda title : True if title in title_list else False)"
   ]
  },
  {
   "cell_type": "code",
   "execution_count": 372,
   "metadata": {},
   "outputs": [],
   "source": [
    "# actor_power_data_02.tail(10)"
   ]
  },
  {
   "cell_type": "code",
   "execution_count": 374,
   "metadata": {},
   "outputs": [],
   "source": [
    "# len(actor_power_data_02)"
   ]
  },
  {
   "cell_type": "code",
   "execution_count": 333,
   "metadata": {},
   "outputs": [],
   "source": [
    "# type(actor_power_data_02['감독'][10862]) == type(float('nan'))"
   ]
  },
  {
   "cell_type": "code",
   "execution_count": 348,
   "metadata": {},
   "outputs": [],
   "source": [
    "# total_m_list = list(total_movie_data['영화명'])\n",
    "# total_m_list"
   ]
  },
  {
   "cell_type": "code",
   "execution_count": 349,
   "metadata": {},
   "outputs": [],
   "source": [
    "# def fnc(title):\n",
    "#     for i, m_title in enumerate(total_m_list):\n",
    "#         if title == m_title:\n",
    "#             return total_movie_data.iloc[i]['개봉일']\n",
    "        "
   ]
  },
  {
   "cell_type": "code",
   "execution_count": 350,
   "metadata": {},
   "outputs": [],
   "source": [
    "# actor_power_data_02['개봉일'] = actor_power_data_02['영화명'].apply(fnc)"
   ]
  },
  {
   "cell_type": "code",
   "execution_count": 356,
   "metadata": {},
   "outputs": [],
   "source": [
    "# actor_power_data_02.to_csv('actor_power_data_02.csv', mode='w')"
   ]
  },
  {
   "cell_type": "code",
   "execution_count": 228,
   "metadata": {},
   "outputs": [],
   "source": [
    "# type(list(final_df['감독'])[920]) == type('str')"
   ]
  },
  {
   "cell_type": "code",
   "execution_count": 229,
   "metadata": {},
   "outputs": [],
   "source": [
    "# def check_direc(directors):\n",
    "#     if type(directors) == type('str'):\n",
    "#         if len(directors.split(',')) > 1 :\n",
    "#             return True\n",
    "#         else:\n",
    "#             return False\n",
    "        \n",
    "#     return False"
   ]
  },
  {
   "cell_type": "code",
   "execution_count": 134,
   "metadata": {},
   "outputs": [],
   "source": [
    "# final_df"
   ]
  },
  {
   "cell_type": "code",
   "execution_count": 181,
   "metadata": {},
   "outputs": [],
   "source": [
    "# final_df.to_csv('final_df_02.csv', mode='w')\n",
    "# total_movie_data.to_csv('total_movie_data_02.csv', mode='w')"
   ]
  },
  {
   "cell_type": "code",
   "execution_count": null,
   "metadata": {},
   "outputs": [],
   "source": []
  },
  {
   "cell_type": "code",
   "execution_count": 161,
   "metadata": {},
   "outputs": [],
   "source": [
    "# final_df['개봉일_int'] = final_df['개봉일'].apply(lambda date : int(date[:4]))"
   ]
  },
  {
   "cell_type": "code",
   "execution_count": 169,
   "metadata": {},
   "outputs": [],
   "source": [
    "# total_movie_data['개봉일_int'] = total_movie_data['개봉일'].apply(lambda date : int(date[:4]))"
   ]
  },
  {
   "cell_type": "code",
   "execution_count": 235,
   "metadata": {},
   "outputs": [],
   "source": [
    "# len(total_movie_data[total_movie_data['개봉일_int'] > 2018])"
   ]
  },
  {
   "cell_type": "code",
   "execution_count": 318,
   "metadata": {},
   "outputs": [],
   "source": [
    "# for i, boolean in enumerate(list(final_df['개봉일'].isna())):\n",
    "#     if boolean == True:\n",
    "#         print(i)"
   ]
  },
  {
   "cell_type": "code",
   "execution_count": null,
   "metadata": {},
   "outputs": [],
   "source": []
  },
  {
   "cell_type": "code",
   "execution_count": 355,
   "metadata": {},
   "outputs": [],
   "source": [
    "# for i, boolean in enumerate(list(actor_power_data_02['개봉일'].isna())):\n",
    "#     if boolean == True:\n",
    "#         print(actor_power_data_02.iloc[i]['영화명'])"
   ]
  },
  {
   "cell_type": "code",
   "execution_count": 357,
   "metadata": {},
   "outputs": [],
   "source": [
    "# actor_power_data_02['개봉일_int'] = actor_power_data_02['개봉일'].apply(lambda date : int(date[:4]))"
   ]
  },
  {
   "cell_type": "code",
   "execution_count": 358,
   "metadata": {},
   "outputs": [],
   "source": [
    "# actor_power_data_02.to_csv('actor_power_data_02.csv', mode='w')"
   ]
  },
  {
   "cell_type": "code",
   "execution_count": 109,
   "metadata": {},
   "outputs": [],
   "source": [
    "# total_movie_data[total_movie_data['개봉일_int'] > 2012]"
   ]
  },
  {
   "cell_type": "markdown",
   "metadata": {},
   "source": [
    "# final_df와 대조하게 될 KOBIS 데이터프레임 전처리 2\n",
    " - actor_power_data_02에서 final_df에 존재하는 감독들에 대한 영화들만 추출 -> director_compare_df\n",
    " - actor_power_data_02에서 final_df에 존재하는 배우들에 대한 영화들만 추출 -> actor_compare_df\n",
    " - final_df에서 배우정보가 없는게 있음 -> '-'"
   ]
  },
  {
   "cell_type": "markdown",
   "metadata": {},
   "source": [
    "## director_compare_df 만들기"
   ]
  },
  {
   "cell_type": "code",
   "execution_count": 464,
   "metadata": {},
   "outputs": [],
   "source": [
    "# actor_power_data_02.head()"
   ]
  },
  {
   "cell_type": "code",
   "execution_count": 462,
   "metadata": {},
   "outputs": [],
   "source": [
    "# final_direc_list = list(final_df['감독'])"
   ]
  },
  {
   "cell_type": "code",
   "execution_count": 460,
   "metadata": {},
   "outputs": [],
   "source": [
    "# final_direc_list"
   ]
  },
  {
   "cell_type": "code",
   "execution_count": 426,
   "metadata": {},
   "outputs": [],
   "source": [
    "# def seperate_direc():\n",
    "#     result = []\n",
    "#     for names in final_direc_list:\n",
    "#         if type(names) == type(float('nan')):\n",
    "#             result.append(names)\n",
    "#         else:\n",
    "#             for name in names.split(','):\n",
    "#                 result.append(name)\n",
    "#     return result"
   ]
  },
  {
   "cell_type": "code",
   "execution_count": 427,
   "metadata": {},
   "outputs": [],
   "source": [
    "# final_direc_list = seperate_direc()"
   ]
  },
  {
   "cell_type": "code",
   "execution_count": 461,
   "metadata": {},
   "outputs": [],
   "source": [
    "# final_direc_list"
   ]
  },
  {
   "cell_type": "code",
   "execution_count": 439,
   "metadata": {},
   "outputs": [],
   "source": [
    "# def direc_check_func(names):\n",
    "#     if type(names) == type(float('nan')):\n",
    "#         return False\n",
    "    \n",
    "#     for name in names.split(','):\n",
    "#         if name in final_direc_list:\n",
    "#             return True\n",
    "#         else:\n",
    "#             return False\n",
    "    "
   ]
  },
  {
   "cell_type": "code",
   "execution_count": 440,
   "metadata": {},
   "outputs": [],
   "source": [
    "# actor_power_data_02['director_involved'] = actor_power_data_02['감독'].apply(direc_check_func)"
   ]
  },
  {
   "cell_type": "code",
   "execution_count": 397,
   "metadata": {},
   "outputs": [],
   "source": [
    "# sorted_df = actor_power_data_02[actor_power_data_02['same_direc'] == True]"
   ]
  },
  {
   "cell_type": "code",
   "execution_count": 429,
   "metadata": {},
   "outputs": [],
   "source": [
    "# final_df.head(2)"
   ]
  },
  {
   "cell_type": "code",
   "execution_count": 430,
   "metadata": {},
   "outputs": [],
   "source": [
    "# final_df['starring_actors']"
   ]
  },
  {
   "cell_type": "code",
   "execution_count": 437,
   "metadata": {},
   "outputs": [],
   "source": [
    "# actor_power_data_02.drop(columns=['same_direc'], inplace=True)"
   ]
  },
  {
   "cell_type": "code",
   "execution_count": 447,
   "metadata": {},
   "outputs": [],
   "source": [
    "# director_compare_df = actor_power_data_02[actor_power_data_02['director_involved'] == True]"
   ]
  },
  {
   "cell_type": "code",
   "execution_count": 496,
   "metadata": {},
   "outputs": [],
   "source": [
    "# director_compare_df.to_csv('director_compare_df.csv', mode='w')"
   ]
  },
  {
   "cell_type": "markdown",
   "metadata": {},
   "source": [
    "## actor_compare_df 만들기"
   ]
  },
  {
   "cell_type": "code",
   "execution_count": null,
   "metadata": {},
   "outputs": [],
   "source": [
    "# final_df['starring_actors'][1].split(',')\n",
    "\n",
    "# [re.sub('[(].+[)]', '', x).strip() for x in final_df['starring_actors'][i].split(',')]"
   ]
  },
  {
   "cell_type": "code",
   "execution_count": 471,
   "metadata": {},
   "outputs": [
    {
     "data": {
      "text/plain": [
       "928"
      ]
     },
     "execution_count": 471,
     "metadata": {},
     "output_type": "execute_result"
    }
   ],
   "source": [
    "# final_actor_list = list(final_df['starring_actors'])\n",
    "# len(final_actor_list)"
   ]
  },
  {
   "cell_type": "code",
   "execution_count": 468,
   "metadata": {},
   "outputs": [],
   "source": [
    "# result = []\n",
    "# for i in range(0, len(final_actor_list)):\n",
    "#     for name in [re.sub('[(].+[)]', '', x).strip() for x in final_df['starring_actors'][i].split(',')]:\n",
    "#         result.append(name)\n",
    "        "
   ]
  },
  {
   "cell_type": "code",
   "execution_count": 486,
   "metadata": {},
   "outputs": [],
   "source": [
    "# len(result)"
   ]
  },
  {
   "cell_type": "code",
   "execution_count": 500,
   "metadata": {},
   "outputs": [],
   "source": [
    "# final_actor_list = np.unique(result)"
   ]
  },
  {
   "cell_type": "code",
   "execution_count": 501,
   "metadata": {},
   "outputs": [
    {
     "data": {
      "text/plain": [
       "1357"
      ]
     },
     "execution_count": 501,
     "metadata": {},
     "output_type": "execute_result"
    }
   ],
   "source": [
    "# len(final_actor_list)"
   ]
  },
  {
   "cell_type": "code",
   "execution_count": 502,
   "metadata": {},
   "outputs": [],
   "source": [
    "# def actor_check_func(names):\n",
    "#     if type(names) == type(float('nan')):\n",
    "#         return False\n",
    "    \n",
    "#     for name in names.split(','):\n",
    "#         if name in final_actor_list:\n",
    "#             return True\n",
    "#         else:\n",
    "#             return False\n",
    "    "
   ]
  },
  {
   "cell_type": "code",
   "execution_count": 503,
   "metadata": {},
   "outputs": [],
   "source": [
    "# actor_power_data_02['actor_involved'] = actor_power_data_02['main_actors'].apply(actor_check_func)"
   ]
  },
  {
   "cell_type": "code",
   "execution_count": 504,
   "metadata": {},
   "outputs": [],
   "source": [
    "# actor_compare_df = actor_power_data_02[actor_power_data_02['actor_involved'] == True]"
   ]
  },
  {
   "cell_type": "code",
   "execution_count": 511,
   "metadata": {},
   "outputs": [],
   "source": [
    "# actor_compare_df.to_csv('actor_compare_df.csv', mode='w')"
   ]
  },
  {
   "cell_type": "code",
   "execution_count": 514,
   "metadata": {},
   "outputs": [],
   "source": [
    "# actor_power_data_02.to_csv('actor_power_data_02.csv', mode='w')"
   ]
  },
  {
   "cell_type": "code",
   "execution_count": null,
   "metadata": {},
   "outputs": [],
   "source": []
  },
  {
   "cell_type": "code",
   "execution_count": null,
   "metadata": {},
   "outputs": [],
   "source": []
  },
  {
   "cell_type": "markdown",
   "metadata": {},
   "source": [
    "## 동명이인 구분 처리하기\n",
    "- final_df 구분 처리\n",
    "    - 288  터널  김성훈B  2016-08-10 \n",
    "    - 377  공조  김성훈A  2017-01-18 \n",
    "    - 675  창궐  김성훈A  2018-10-25\n",
    "    \n",
    "- director_compare_df 구분 처리\n",
    "    - 462        네모난원  김성훈C  2012-12-06\n",
    "    - 737   마이 리틀 히어로  김성훈A  2013-01-09\n",
    "    - 1593     끝까지 간다  김성훈B  2014-05-29\n",
    "    - 4586         터널  김성훈B  2016-08-10\n",
    "    - 5407         공조  김성훈A  2017-01-18\n",
    "    - 7996         창궐  김성훈A  2018-10-25\n",
    "- actor_compare_df 구분 처리"
   ]
  },
  {
   "cell_type": "code",
   "execution_count": 533,
   "metadata": {},
   "outputs": [],
   "source": [
    "# director_compare_df = director_compare_df.reset_index().drop(columns=['index'])"
   ]
  },
  {
   "cell_type": "code",
   "execution_count": 563,
   "metadata": {},
   "outputs": [],
   "source": [
    "# final_df.to_csv('final_df_sep_d.csv', mode='w')"
   ]
  },
  {
   "cell_type": "code",
   "execution_count": 539,
   "metadata": {},
   "outputs": [],
   "source": [
    "# director_compare_df.to_csv('director_compare_df_sep_d.csv', mode='w')"
   ]
  },
  {
   "cell_type": "code",
   "execution_count": 543,
   "metadata": {},
   "outputs": [],
   "source": [
    "# final_df[final_df['감독'] == '김성훈']"
   ]
  },
  {
   "cell_type": "code",
   "execution_count": 544,
   "metadata": {},
   "outputs": [],
   "source": [
    "# director_compare_df[director_compare_df['감독'] == '김성훈']"
   ]
  },
  {
   "cell_type": "code",
   "execution_count": 577,
   "metadata": {},
   "outputs": [
    {
     "name": "stdout",
     "output_type": "stream",
     "text": [
      "641\n",
      "784\n"
     ]
    }
   ],
   "source": [
    "for i, boolean in enumerate(list(final_df['감독'].isna())):\n",
    "    if boolean == True:\n",
    "        print(i)"
   ]
  },
  {
   "cell_type": "code",
   "execution_count": 568,
   "metadata": {},
   "outputs": [],
   "source": [
    "for i, boolean in enumerate(list(director_compare_df['감독'].isna())):\n",
    "    if boolean == True:\n",
    "        print(i)"
   ]
  },
  {
   "cell_type": "code",
   "execution_count": 561,
   "metadata": {},
   "outputs": [
    {
     "name": "stderr",
     "output_type": "stream",
     "text": [
      "/Users/song-yeejun/opt/anaconda3/lib/python3.7/site-packages/ipykernel_launcher.py:1: SettingWithCopyWarning: \n",
      "A value is trying to be set on a copy of a slice from a DataFrame\n",
      "\n",
      "See the caveats in the documentation: https://pandas.pydata.org/pandas-docs/stable/user_guide/indexing.html#returning-a-view-versus-a-copy\n",
      "  \"\"\"Entry point for launching an IPython kernel.\n"
     ]
    }
   ],
   "source": [
    "# final_df['감독'][925] = '카를로스 구티에레스 메드라노'"
   ]
  },
  {
   "cell_type": "code",
   "execution_count": 571,
   "metadata": {},
   "outputs": [],
   "source": [
    "for i, boolean in enumerate(list(final_df['starring_actors'].isna())):\n",
    "    if boolean == True:\n",
    "        print(i)"
   ]
  },
  {
   "cell_type": "code",
   "execution_count": 573,
   "metadata": {},
   "outputs": [],
   "source": [
    "for i, boolean in enumerate(list(actor_compare_df['main_actors'].isna())):\n",
    "    if boolean == True:\n",
    "        print(i)"
   ]
  },
  {
   "cell_type": "code",
   "execution_count": 575,
   "metadata": {},
   "outputs": [
    {
     "data": {
      "text/plain": [
       "1671"
      ]
     },
     "execution_count": 575,
     "metadata": {},
     "output_type": "execute_result"
    }
   ],
   "source": [
    "len(actor_compare_df)"
   ]
  },
  {
   "cell_type": "code",
   "execution_count": 576,
   "metadata": {},
   "outputs": [
    {
     "data": {
      "text/plain": [
       "1422"
      ]
     },
     "execution_count": 576,
     "metadata": {},
     "output_type": "execute_result"
    }
   ],
   "source": [
    "len(director_compare_df)"
   ]
  },
  {
   "cell_type": "code",
   "execution_count": null,
   "metadata": {},
   "outputs": [],
   "source": []
  },
  {
   "cell_type": "code",
   "execution_count": null,
   "metadata": {},
   "outputs": [],
   "source": []
  },
  {
   "cell_type": "markdown",
   "metadata": {},
   "source": [
    "# final_df에 감독/배우 영향력 컬럼 추가\n",
    "- 데이터프레임 final_df와 director_compare_df, actor_compare_df에서 감독과 배우의 동명이인에 대한 처리가 완료되었다고 보고 진행\n",
    "- 전처리 완료한 KOBIS 데이터프레임(actor_power_data_02)을 대조하는 데이터프레임으로 사용한다\n",
    "    - director_func함수 apply시켜서, final_df에 각 영화 row에 대한 감독영향 컬럼 추가\n",
    "    - actor_func함수 apply시켜서, final_df에 각 영화 row에 대한 배우영향 컬럼 추가\n",
    "    - 그 감독이 지난 3년간 끌어모은 관객수 / 그 감독이 만든 영화 갯수\n",
    "    - 그 배우가 지난 3년간 끌어모은 관객수 / 그 배우가 출연한 영화 갯수\n",
    "- 감독, 배우별 영향력(누적관객수) 저장할 dict 만들기\n",
    "- 감독별 제작한 영화갯수 dict 만들기\n",
    "- 배우별 출연한 영화갯수 dict 만들기\n",
    " "
   ]
  },
  {
   "cell_type": "code",
   "execution_count": 585,
   "metadata": {},
   "outputs": [],
   "source": [
    "director_power_dict = {}\n",
    "actor_power_dict = {}\n",
    "director_movies_dict = {}\n",
    "actor_movies_dict = {}"
   ]
  },
  {
   "cell_type": "code",
   "execution_count": null,
   "metadata": {},
   "outputs": [],
   "source": []
  },
  {
   "cell_type": "code",
   "execution_count": null,
   "metadata": {},
   "outputs": [],
   "source": []
  },
  {
   "cell_type": "code",
   "execution_count": null,
   "metadata": {},
   "outputs": [],
   "source": []
  },
  {
   "cell_type": "code",
   "execution_count": 588,
   "metadata": {},
   "outputs": [],
   "source": [
    "# 감독에 의한 누적관객수 dict에 모으기\n",
    "\n",
    "year_list = list(final_df['개봉일_int'])\n",
    "year_index = 0\n",
    "\n",
    "def director_func(directors):\n",
    "    global year_index\n",
    "    global director_power_dict\n",
    "    global director_movies_dict\n",
    "    \n",
    "    total_audience = 0\n",
    "    \n",
    "    # 감독명이 없는경우 그냥 리턴\n",
    "    if type(directors) == type(float('nan')):\n",
    "        return\n",
    "    \n",
    "    director_list = directors.split(',')\n",
    "    limit_year = int(year_list[year_index]) - 3\n",
    "    \n",
    "    for each_name in director_list:\n",
    "        stripped_name = each_name.strip()\n",
    "        \n",
    "        # 데이터프레임 자르기\n",
    "        cut_movie_df = director_compare_df[director_compare_df['개봉일_int'] > limit_year - 1]\n",
    "        cut_movie_df = cut_movie_df[cut_movie_df['개봉일_int'] < int(year_list[year_index]) + 1]\n",
    "        \n",
    "        for i in range(0, len(cut_movie_df)):\n",
    "            cur_row = cut_movie_df.iloc[i]\n",
    "            \n",
    "            if type(cur_row['감독']) == type(float('nan')):\n",
    "                continue\n",
    "            \n",
    "            cur_row_directors = [name.strip() for name in cur_row['감독'].split(',')]\n",
    "            \n",
    "            if stripped_name in cur_row_directors:\n",
    "                total_audience += int(cur_row['전국관객수'])\n",
    "        \n",
    "        try:\n",
    "            director_power_dict[stripped_name] += total_audience\n",
    "            director_movies_dict[stripped_name] += 1\n",
    "        except Exception:\n",
    "            director_power_dict[stripped_name] = total_audience\n",
    "            director_movies_dict[stripped_name] = 1\n",
    "    \n",
    "    year_index += 1        \n",
    "        "
   ]
  },
  {
   "cell_type": "code",
   "execution_count": 584,
   "metadata": {},
   "outputs": [
    {
     "ename": "UnboundLocalError",
     "evalue": "local variable 'year_index' referenced before assignment",
     "output_type": "error",
     "traceback": [
      "\u001b[0;31m---------------------------------------------------------------------------\u001b[0m",
      "\u001b[0;31mUnboundLocalError\u001b[0m                         Traceback (most recent call last)",
      "\u001b[0;32m<ipython-input-584-265ee7344f2d>\u001b[0m in \u001b[0;36m<module>\u001b[0;34m\u001b[0m\n\u001b[0;32m----> 1\u001b[0;31m \u001b[0mfinal_df\u001b[0m\u001b[0;34m[\u001b[0m\u001b[0;34m'감독'\u001b[0m\u001b[0;34m]\u001b[0m\u001b[0;34m.\u001b[0m\u001b[0mapply\u001b[0m\u001b[0;34m(\u001b[0m\u001b[0mdirector_func\u001b[0m\u001b[0;34m)\u001b[0m\u001b[0;34m\u001b[0m\u001b[0;34m\u001b[0m\u001b[0m\n\u001b[0m",
      "\u001b[0;32m~/opt/anaconda3/lib/python3.7/site-packages/pandas/core/series.py\u001b[0m in \u001b[0;36mapply\u001b[0;34m(self, func, convert_dtype, args, **kwds)\u001b[0m\n\u001b[1;32m   3847\u001b[0m             \u001b[0;32melse\u001b[0m\u001b[0;34m:\u001b[0m\u001b[0;34m\u001b[0m\u001b[0;34m\u001b[0m\u001b[0m\n\u001b[1;32m   3848\u001b[0m                 \u001b[0mvalues\u001b[0m \u001b[0;34m=\u001b[0m \u001b[0mself\u001b[0m\u001b[0;34m.\u001b[0m\u001b[0mastype\u001b[0m\u001b[0;34m(\u001b[0m\u001b[0mobject\u001b[0m\u001b[0;34m)\u001b[0m\u001b[0;34m.\u001b[0m\u001b[0mvalues\u001b[0m\u001b[0;34m\u001b[0m\u001b[0;34m\u001b[0m\u001b[0m\n\u001b[0;32m-> 3849\u001b[0;31m                 \u001b[0mmapped\u001b[0m \u001b[0;34m=\u001b[0m \u001b[0mlib\u001b[0m\u001b[0;34m.\u001b[0m\u001b[0mmap_infer\u001b[0m\u001b[0;34m(\u001b[0m\u001b[0mvalues\u001b[0m\u001b[0;34m,\u001b[0m \u001b[0mf\u001b[0m\u001b[0;34m,\u001b[0m \u001b[0mconvert\u001b[0m\u001b[0;34m=\u001b[0m\u001b[0mconvert_dtype\u001b[0m\u001b[0;34m)\u001b[0m\u001b[0;34m\u001b[0m\u001b[0;34m\u001b[0m\u001b[0m\n\u001b[0m\u001b[1;32m   3850\u001b[0m \u001b[0;34m\u001b[0m\u001b[0m\n\u001b[1;32m   3851\u001b[0m         \u001b[0;32mif\u001b[0m \u001b[0mlen\u001b[0m\u001b[0;34m(\u001b[0m\u001b[0mmapped\u001b[0m\u001b[0;34m)\u001b[0m \u001b[0;32mand\u001b[0m \u001b[0misinstance\u001b[0m\u001b[0;34m(\u001b[0m\u001b[0mmapped\u001b[0m\u001b[0;34m[\u001b[0m\u001b[0;36m0\u001b[0m\u001b[0;34m]\u001b[0m\u001b[0;34m,\u001b[0m \u001b[0mSeries\u001b[0m\u001b[0;34m)\u001b[0m\u001b[0;34m:\u001b[0m\u001b[0;34m\u001b[0m\u001b[0;34m\u001b[0m\u001b[0m\n",
      "\u001b[0;32mpandas/_libs/lib.pyx\u001b[0m in \u001b[0;36mpandas._libs.lib.map_infer\u001b[0;34m()\u001b[0m\n",
      "\u001b[0;32m<ipython-input-583-560d706be529>\u001b[0m in \u001b[0;36mdirector_func\u001b[0;34m(directors)\u001b[0m\n\u001b[1;32m     12\u001b[0m \u001b[0;34m\u001b[0m\u001b[0m\n\u001b[1;32m     13\u001b[0m     \u001b[0mdirector_list\u001b[0m \u001b[0;34m=\u001b[0m \u001b[0mdirectors\u001b[0m\u001b[0;34m.\u001b[0m\u001b[0msplit\u001b[0m\u001b[0;34m(\u001b[0m\u001b[0;34m','\u001b[0m\u001b[0;34m)\u001b[0m\u001b[0;34m\u001b[0m\u001b[0;34m\u001b[0m\u001b[0m\n\u001b[0;32m---> 14\u001b[0;31m     \u001b[0mlimit_year\u001b[0m \u001b[0;34m=\u001b[0m \u001b[0mint\u001b[0m\u001b[0;34m(\u001b[0m\u001b[0myear_list\u001b[0m\u001b[0;34m[\u001b[0m\u001b[0myear_index\u001b[0m\u001b[0;34m]\u001b[0m\u001b[0;34m)\u001b[0m \u001b[0;34m-\u001b[0m \u001b[0;36m3\u001b[0m\u001b[0;34m\u001b[0m\u001b[0;34m\u001b[0m\u001b[0m\n\u001b[0m\u001b[1;32m     15\u001b[0m \u001b[0;34m\u001b[0m\u001b[0m\n\u001b[1;32m     16\u001b[0m     \u001b[0;32mfor\u001b[0m \u001b[0meach_name\u001b[0m \u001b[0;32min\u001b[0m \u001b[0mdirector_list\u001b[0m\u001b[0;34m:\u001b[0m\u001b[0;34m\u001b[0m\u001b[0;34m\u001b[0m\u001b[0m\n",
      "\u001b[0;31mUnboundLocalError\u001b[0m: local variable 'year_index' referenced before assignment"
     ]
    }
   ],
   "source": [
    "final_df['감독'].apply(director_func)"
   ]
  },
  {
   "cell_type": "code",
   "execution_count": null,
   "metadata": {},
   "outputs": [],
   "source": []
  },
  {
   "cell_type": "code",
   "execution_count": null,
   "metadata": {},
   "outputs": [],
   "source": [
    "# 감독의 이전 성과(누적 관객수) dict을 이용해서 director_power 칼럼을 final_df에 추가\n",
    "\n",
    "def push_direc_power(directors):\n",
    "    total_audience = 0\n",
    "    \n",
    "    # 감독명이 없는경우 그냥 리턴\n",
    "    if type(directors) == type(float('nan')):\n",
    "        return float('nan')\n",
    "    \n",
    "    director_list = directors.split(',')\n",
    "    \n",
    "    for each_name in director_list:\n",
    "        stripped_name = each_name.strip()\n",
    "        total_audience += director_power_dict['stripped_name']\n",
    "        \n",
    "    return total_audience\n",
    "        \n",
    "    \n",
    "    "
   ]
  },
  {
   "cell_type": "code",
   "execution_count": null,
   "metadata": {},
   "outputs": [],
   "source": [
    "# final_df['director_power'] = final_df['감독'].apply(push_direc_power)"
   ]
  },
  {
   "cell_type": "code",
   "execution_count": null,
   "metadata": {},
   "outputs": [],
   "source": []
  },
  {
   "cell_type": "code",
   "execution_count": null,
   "metadata": {},
   "outputs": [],
   "source": []
  },
  {
   "cell_type": "code",
   "execution_count": null,
   "metadata": {},
   "outputs": [],
   "source": []
  },
  {
   "cell_type": "code",
   "execution_count": null,
   "metadata": {},
   "outputs": [],
   "source": []
  },
  {
   "cell_type": "code",
   "execution_count": null,
   "metadata": {},
   "outputs": [],
   "source": []
  },
  {
   "cell_type": "code",
   "execution_count": null,
   "metadata": {},
   "outputs": [],
   "source": []
  },
  {
   "cell_type": "code",
   "execution_count": null,
   "metadata": {},
   "outputs": [],
   "source": []
  },
  {
   "cell_type": "code",
   "execution_count": 587,
   "metadata": {},
   "outputs": [],
   "source": [
    "# 배우 성과측정 함수\n",
    "\n",
    "year_list = list(final_df['개봉일_int'])\n",
    "year_index = 0\n",
    "\n",
    "def actor_func(actors):\n",
    "    global year_index\n",
    "    global actor_power_dict\n",
    "    global actor_movies_dict\n",
    "    \n",
    "    total_audience = 0\n",
    "    \n",
    "    actor_list = actors.split(',')\n",
    "    actor_list = [re.sub('[(].+[)]', '', each_name) for each_name in actor_list]\n",
    "    \n",
    "    limit_year = int(year_list[year_index][:4]) - 3\n",
    "    \n",
    "    for each_name in actor_list:\n",
    "        stripped_name = each_name.strip()\n",
    "        \n",
    "        # 데이터프레임 자르기\n",
    "        cut_movie_df = actor_compare_df[actor_compare_df['개봉일_int'] > limit_year - 1]\n",
    "        cut_movie_df = cut_movie_df[cut_movie_df['개봉일_int'] < int(year_list[year_index]) + 1]\n",
    "        \n",
    "        for i in range(0, len(cut_movie_df)):\n",
    "            \n",
    "            cur_row = cut_movie_df.iloc[i]\n",
    "            cur_row_actors = [name.strip() for name in cur_row['main_actors'].split(',')]\n",
    "            \n",
    "            if stripped_name in cur_row_actors:\n",
    "                total_audience += int(cur_row['전국관객수'])\n",
    "                \n",
    "        try:\n",
    "            actor_power_dict[stripped_name] += total_audience\n",
    "            actor_movies_dict[stripped_name] += 1\n",
    "        except Exception:\n",
    "            actor_power_dict[stripped_name] = total_audience\n",
    "            actor_movies_dict[stripped_name] = 1\n",
    "        \n",
    "    year_index += 1\n",
    "        \n",
    "    "
   ]
  },
  {
   "cell_type": "code",
   "execution_count": null,
   "metadata": {},
   "outputs": [],
   "source": [
    "# final_df['starring_actors'].apply(actor_func)"
   ]
  },
  {
   "cell_type": "code",
   "execution_count": null,
   "metadata": {},
   "outputs": [],
   "source": []
  },
  {
   "cell_type": "code",
   "execution_count": null,
   "metadata": {},
   "outputs": [],
   "source": []
  },
  {
   "cell_type": "code",
   "execution_count": null,
   "metadata": {},
   "outputs": [],
   "source": []
  },
  {
   "cell_type": "code",
   "execution_count": null,
   "metadata": {},
   "outputs": [],
   "source": [
    "# final_df['actor_power'] = final_df['starring_actors'].apply(actor_func)"
   ]
  },
  {
   "cell_type": "code",
   "execution_count": null,
   "metadata": {},
   "outputs": [],
   "source": []
  },
  {
   "cell_type": "code",
   "execution_count": null,
   "metadata": {},
   "outputs": [],
   "source": []
  },
  {
   "cell_type": "code",
   "execution_count": null,
   "metadata": {},
   "outputs": [],
   "source": []
  },
  {
   "cell_type": "code",
   "execution_count": null,
   "metadata": {},
   "outputs": [],
   "source": []
  },
  {
   "cell_type": "code",
   "execution_count": null,
   "metadata": {},
   "outputs": [],
   "source": []
  },
  {
   "cell_type": "markdown",
   "metadata": {},
   "source": [
    "## 배우 괄호없애기"
   ]
  },
  {
   "cell_type": "code",
   "execution_count": 102,
   "metadata": {},
   "outputs": [
    {
     "data": {
      "text/plain": [
       "['황정민(덕수)', ' 김윤진(영자)', ' 오달수(달구)']"
      ]
     },
     "execution_count": 102,
     "metadata": {},
     "output_type": "execute_result"
    }
   ],
   "source": [
    "a = crawling_df['starring_actors'][1].split(',')\n",
    "a"
   ]
  },
  {
   "cell_type": "code",
   "execution_count": 104,
   "metadata": {},
   "outputs": [
    {
     "data": {
      "text/plain": [
       "['황정민', '김윤진', '오달수']"
      ]
     },
     "execution_count": 104,
     "metadata": {},
     "output_type": "execute_result"
    }
   ],
   "source": [
    "[re.sub('[(].+[)]', '', x).strip() for x in a]"
   ]
  },
  {
   "cell_type": "code",
   "execution_count": null,
   "metadata": {},
   "outputs": [],
   "source": []
  },
  {
   "cell_type": "code",
   "execution_count": null,
   "metadata": {},
   "outputs": [],
   "source": []
  },
  {
   "cell_type": "code",
   "execution_count": null,
   "metadata": {},
   "outputs": [],
   "source": []
  },
  {
   "cell_type": "code",
   "execution_count": null,
   "metadata": {},
   "outputs": [],
   "source": [
    "\n",
    "    \n",
    "    "
   ]
  },
  {
   "cell_type": "code",
   "execution_count": 20,
   "metadata": {},
   "outputs": [],
   "source": []
  },
  {
   "cell_type": "code",
   "execution_count": null,
   "metadata": {},
   "outputs": [],
   "source": []
  },
  {
   "cell_type": "code",
   "execution_count": null,
   "metadata": {},
   "outputs": [],
   "source": []
  },
  {
   "cell_type": "code",
   "execution_count": null,
   "metadata": {},
   "outputs": [],
   "source": []
  },
  {
   "cell_type": "code",
   "execution_count": null,
   "metadata": {},
   "outputs": [],
   "source": []
  },
  {
   "cell_type": "code",
   "execution_count": null,
   "metadata": {},
   "outputs": [],
   "source": []
  },
  {
   "cell_type": "code",
   "execution_count": null,
   "metadata": {},
   "outputs": [],
   "source": []
  },
  {
   "cell_type": "code",
   "execution_count": null,
   "metadata": {},
   "outputs": [],
   "source": []
  },
  {
   "cell_type": "code",
   "execution_count": null,
   "metadata": {},
   "outputs": [],
   "source": []
  },
  {
   "cell_type": "code",
   "execution_count": null,
   "metadata": {},
   "outputs": [],
   "source": []
  },
  {
   "cell_type": "code",
   "execution_count": null,
   "metadata": {},
   "outputs": [],
   "source": []
  },
  {
   "cell_type": "code",
   "execution_count": null,
   "metadata": {},
   "outputs": [],
   "source": []
  },
  {
   "cell_type": "code",
   "execution_count": null,
   "metadata": {},
   "outputs": [],
   "source": []
  },
  {
   "cell_type": "code",
   "execution_count": null,
   "metadata": {},
   "outputs": [],
   "source": []
  },
  {
   "cell_type": "code",
   "execution_count": null,
   "metadata": {},
   "outputs": [],
   "source": []
  },
  {
   "cell_type": "code",
   "execution_count": null,
   "metadata": {},
   "outputs": [],
   "source": []
  },
  {
   "cell_type": "code",
   "execution_count": null,
   "metadata": {},
   "outputs": [],
   "source": []
  },
  {
   "cell_type": "code",
   "execution_count": null,
   "metadata": {},
   "outputs": [],
   "source": []
  },
  {
   "cell_type": "code",
   "execution_count": null,
   "metadata": {},
   "outputs": [],
   "source": []
  },
  {
   "cell_type": "code",
   "execution_count": null,
   "metadata": {},
   "outputs": [],
   "source": []
  },
  {
   "cell_type": "code",
   "execution_count": null,
   "metadata": {},
   "outputs": [],
   "source": []
  },
  {
   "cell_type": "code",
   "execution_count": null,
   "metadata": {},
   "outputs": [],
   "source": []
  },
  {
   "cell_type": "code",
   "execution_count": null,
   "metadata": {},
   "outputs": [],
   "source": []
  },
  {
   "cell_type": "code",
   "execution_count": null,
   "metadata": {},
   "outputs": [],
   "source": []
  },
  {
   "cell_type": "code",
   "execution_count": null,
   "metadata": {},
   "outputs": [],
   "source": []
  },
  {
   "cell_type": "code",
   "execution_count": null,
   "metadata": {},
   "outputs": [],
   "source": []
  },
  {
   "cell_type": "code",
   "execution_count": null,
   "metadata": {},
   "outputs": [],
   "source": []
  }
 ],
 "metadata": {
  "kernelspec": {
   "display_name": "Python 3",
   "language": "python",
   "name": "python3"
  },
  "language_info": {
   "codemirror_mode": {
    "name": "ipython",
    "version": 3
   },
   "file_extension": ".py",
   "mimetype": "text/x-python",
   "name": "python",
   "nbconvert_exporter": "python",
   "pygments_lexer": "ipython3",
   "version": "3.7.6"
  }
 },
 "nbformat": 4,
 "nbformat_minor": 4
}
