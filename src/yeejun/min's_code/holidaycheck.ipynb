{
 "cells": [
  {
   "cell_type": "code",
   "execution_count": 108,
   "metadata": {},
   "outputs": [],
   "source": [
    "import requests\n",
    "from bs4 import BeautifulSoup\n",
    "from sklearn.model_selection import train_test_split"
   ]
  },
  {
   "cell_type": "code",
   "execution_count": 66,
   "metadata": {},
   "outputs": [],
   "source": [
    "def get_request_query(url, operation, params, serviceKey):\n",
    "    import urllib.parse as urlparse\n",
    "    params = urlparse.urlencode(params)\n",
    "    request_query = url + '/' + operation + '?' + params + '&' + 'serviceKey' + '=' + serviceKey\n",
    "    return request_query"
   ]
  },
  {
   "cell_type": "code",
   "execution_count": 141,
   "metadata": {},
   "outputs": [],
   "source": [
    "# 요청 url과 오퍼레이션\n",
    "URL = 'http://apis.data.go.kr/B090041/openapi/service/SpcdeInfoService'\n",
    "OPERATION = 'getHoliDeInfo' # 국경일 + 공휴일 정보 조회 오퍼레이션\n",
    "\n",
    "# 파라미터\n",
    "SERVICEKEY = 'Z5Sklpift0%2F0VXX874w7z3HJEF2lFrjyIcejRehRT3t3ajl31qVRnn2qUTxa%2BelVcj5ugQEkc8uM5g3mEGnmcw%3D%3D'\n",
    "solYear = '2019'\n",
    "solMonth = '02'\n",
    "\n",
    "PARAMS = {'solYear' : solYear, 'solMonth' : solMonth}"
   ]
  },
  {
   "cell_type": "code",
   "execution_count": 142,
   "metadata": {},
   "outputs": [
    {
     "name": "stdout",
     "output_type": "stream",
     "text": [
      "request_query:  http://apis.data.go.kr/B090041/openapi/service/SpcdeInfoService/getHoliDeInfo?solYear=2019&solMonth=02&serviceKey=Z5Sklpift0%2F0VXX874w7z3HJEF2lFrjyIcejRehRT3t3ajl31qVRnn2qUTxa%2BelVcj5ugQEkc8uM5g3mEGnmcw%3D%3D\n",
      "status_code : 200\n"
     ]
    }
   ],
   "source": [
    "request_query = get_request_query(URL, OPERATION, PARAMS, SERVICEKEY)\n",
    "print('request_query: ', request_query)\n",
    "\n",
    "response = requests.get(url=request_query)\n",
    "print('status_code : ' + str(response.status_code))"
   ]
  },
  {
   "cell_type": "code",
   "execution_count": null,
   "metadata": {},
   "outputs": [],
   "source": []
  },
  {
   "cell_type": "code",
   "execution_count": 143,
   "metadata": {},
   "outputs": [],
   "source": [
    "soup = BeautifulSoup(response.content, 'lxml')"
   ]
  },
  {
   "cell_type": "code",
   "execution_count": 144,
   "metadata": {},
   "outputs": [
    {
     "data": {
      "text/plain": [
       "<Response [200]>"
      ]
     },
     "execution_count": 144,
     "metadata": {},
     "output_type": "execute_result"
    }
   ],
   "source": [
    "response"
   ]
  },
  {
   "cell_type": "code",
   "execution_count": 145,
   "metadata": {},
   "outputs": [],
   "source": [
    "hol_list = soup.find_all('item')"
   ]
  },
  {
   "cell_type": "code",
   "execution_count": 146,
   "metadata": {},
   "outputs": [
    {
     "name": "stdout",
     "output_type": "stream",
     "text": [
      "설날 20190204\n",
      "설날 20190205\n",
      "설날 20190206\n"
     ]
    }
   ],
   "source": [
    "for each_hol in hol_list:\n",
    "    print(each_hol.find('datename').text, each_hol.find('locdate').text)"
   ]
  },
  {
   "cell_type": "code",
   "execution_count": null,
   "metadata": {},
   "outputs": [],
   "source": []
  },
  {
   "cell_type": "code",
   "execution_count": null,
   "metadata": {},
   "outputs": [],
   "source": []
  },
  {
   "cell_type": "code",
   "execution_count": 150,
   "metadata": {},
   "outputs": [],
   "source": [
    "# 연도별, 각 달별 공휴일 뽑아내기 \n",
    "\n",
    "solYear_list = ['2019', '2018', '2017', '2016', '2015']\n",
    "solMonth_list = ['01', '02', '03', '04', '05', '06', '07', '08', '09', '10', '11', '12']\n",
    "URL = 'http://apis.data.go.kr/B090041/openapi/service/SpcdeInfoService'\n",
    "OPERATION = 'getHoliDeInfo' # 국경일 + 공휴일 정보 조회 오퍼레이션\n",
    "SERVICEKEY = 'Z5Sklpift0%2F0VXX874w7z3HJEF2lFrjyIcejRehRT3t3ajl31qVRnn2qUTxa%2BelVcj5ugQEkc8uM5g3mEGnmcw%3D%3D'\n",
    "\n",
    "hol_dic = {}\n",
    "\n",
    "for i, solYear in enumerate(solYear_list):\n",
    "    for i, solMonth in enumerate(solMonth_list):\n",
    "        \n",
    "        PARAMS = {'solYear' : solYear, 'solMonth' : solMonth}\n",
    "        request_query = get_request_query(URL, OPERATION, PARAMS, SERVICEKEY)\n",
    "        response = requests.get(url=request_query)\n",
    "        soup = BeautifulSoup(response.content, 'lxml')\n",
    "        hol_list = soup.find_all('item')\n",
    "        \n",
    "        for i, each_hol in enumerate(hol_list):\n",
    "            hol_dic[str(solYear + ' ' + each_hol.find('datename').text) + str(i)] = each_hol.find('locdate').text\n",
    "        "
   ]
  },
  {
   "cell_type": "code",
   "execution_count": 177,
   "metadata": {},
   "outputs": [
    {
     "data": {
      "text/plain": [
       "91"
      ]
     },
     "execution_count": 177,
     "metadata": {},
     "output_type": "execute_result"
    }
   ],
   "source": [
    "len(hol_dic)"
   ]
  },
  {
   "cell_type": "code",
   "execution_count": 158,
   "metadata": {},
   "outputs": [],
   "source": [
    "final_df = pd.read_csv('../../final_df_12/final_df_12.csv').drop(columns='Unnamed: 0')"
   ]
  },
  {
   "cell_type": "code",
   "execution_count": 159,
   "metadata": {},
   "outputs": [
    {
     "data": {
      "text/plain": [
       "0       4/23/2015\n",
       "1      12/17/2014\n",
       "2       2/11/2015\n",
       "3       6/11/2015\n",
       "4       2/11/2015\n",
       "          ...    \n",
       "920    11/21/2019\n",
       "921    11/20/2019\n",
       "922    10/30/2019\n",
       "923    10/16/2019\n",
       "924     9/12/2019\n",
       "Name: release_date, Length: 925, dtype: object"
      ]
     },
     "execution_count": 159,
     "metadata": {},
     "output_type": "execute_result"
    }
   ],
   "source": [
    "final_df['release_date']"
   ]
  },
  {
   "cell_type": "code",
   "execution_count": 160,
   "metadata": {},
   "outputs": [],
   "source": [
    "final_df['release_date'] = pd.to_datetime(final_df['release_date'])"
   ]
  },
  {
   "cell_type": "code",
   "execution_count": 161,
   "metadata": {},
   "outputs": [],
   "source": [
    "final_df['release_date'] = final_df['release_date'].dt.strftime('%Y-%m-%d')"
   ]
  },
  {
   "cell_type": "code",
   "execution_count": 162,
   "metadata": {},
   "outputs": [
    {
     "data": {
      "text/plain": [
       "0      20150423\n",
       "1      20141217\n",
       "2      20150211\n",
       "3      20150611\n",
       "4      20150211\n",
       "         ...   \n",
       "920    20191121\n",
       "921    20191120\n",
       "922    20191030\n",
       "923    20191016\n",
       "924    20190912\n",
       "Name: release_date, Length: 925, dtype: object"
      ]
     },
     "execution_count": 162,
     "metadata": {},
     "output_type": "execute_result"
    }
   ],
   "source": [
    "final_df['release_date']"
   ]
  },
  {
   "cell_type": "code",
   "execution_count": null,
   "metadata": {},
   "outputs": [],
   "source": []
  },
  {
   "cell_type": "code",
   "execution_count": 175,
   "metadata": {},
   "outputs": [
    {
     "data": {
      "text/html": [
       "<div>\n",
       "<style scoped>\n",
       "    .dataframe tbody tr th:only-of-type {\n",
       "        vertical-align: middle;\n",
       "    }\n",
       "\n",
       "    .dataframe tbody tr th {\n",
       "        vertical-align: top;\n",
       "    }\n",
       "\n",
       "    .dataframe thead th {\n",
       "        text-align: right;\n",
       "    }\n",
       "</style>\n",
       "<table border=\"1\" class=\"dataframe\">\n",
       "  <thead>\n",
       "    <tr style=\"text-align: right;\">\n",
       "      <th></th>\n",
       "      <th>title</th>\n",
       "      <th>director</th>\n",
       "      <th>distributor</th>\n",
       "      <th>distributor_group</th>\n",
       "      <th>release_date</th>\n",
       "      <th>release_season</th>\n",
       "      <th>release</th>\n",
       "      <th>form</th>\n",
       "      <th>nation</th>\n",
       "      <th>screen</th>\n",
       "      <th>...</th>\n",
       "      <th>director_power</th>\n",
       "      <th>sequel</th>\n",
       "      <th>original</th>\n",
       "      <th>actor_power</th>\n",
       "      <th>director_count</th>\n",
       "      <th>director_movie_count</th>\n",
       "      <th>actor_movie_count</th>\n",
       "      <th>log_aud</th>\n",
       "      <th>before_news</th>\n",
       "      <th>after_news</th>\n",
       "    </tr>\n",
       "  </thead>\n",
       "  <tbody>\n",
       "    <tr>\n",
       "      <th>0</th>\n",
       "      <td>어벤져스: 에이지 오브 울트론</td>\n",
       "      <td>조스 웨던</td>\n",
       "      <td>월트디즈니컴퍼니코리아(주)</td>\n",
       "      <td>B</td>\n",
       "      <td>20150423</td>\n",
       "      <td>spring</td>\n",
       "      <td>개봉영화</td>\n",
       "      <td>장편</td>\n",
       "      <td>미국</td>\n",
       "      <td>1843</td>\n",
       "      <td>...</td>\n",
       "      <td>7073037</td>\n",
       "      <td>1</td>\n",
       "      <td>0</td>\n",
       "      <td>33074337</td>\n",
       "      <td>1</td>\n",
       "      <td>1</td>\n",
       "      <td>11</td>\n",
       "      <td>16.166362</td>\n",
       "      <td>4120.0</td>\n",
       "      <td>1940.0</td>\n",
       "    </tr>\n",
       "  </tbody>\n",
       "</table>\n",
       "<p>1 rows × 33 columns</p>\n",
       "</div>"
      ],
      "text/plain": [
       "              title director     distributor distributor_group release_date  \\\n",
       "0  어벤져스: 에이지 오브 울트론    조스 웨던  월트디즈니컴퍼니코리아(주)                 B     20150423   \n",
       "\n",
       "  release_season release form nation  screen  ...  director_power  sequel  \\\n",
       "0         spring    개봉영화   장편     미국    1843  ...         7073037       1   \n",
       "\n",
       "   original  actor_power director_count director_movie_count  \\\n",
       "0         0     33074337              1                    1   \n",
       "\n",
       "  actor_movie_count    log_aud before_news  after_news  \n",
       "0                11  16.166362      4120.0      1940.0  \n",
       "\n",
       "[1 rows x 33 columns]"
      ]
     },
     "execution_count": 175,
     "metadata": {},
     "output_type": "execute_result"
    }
   ],
   "source": [
    "final_df.head(1)"
   ]
  },
  {
   "cell_type": "code",
   "execution_count": 164,
   "metadata": {},
   "outputs": [],
   "source": [
    "hol_arr = hol_dic.values()"
   ]
  },
  {
   "cell_type": "code",
   "execution_count": null,
   "metadata": {},
   "outputs": [],
   "source": []
  },
  {
   "cell_type": "code",
   "execution_count": 165,
   "metadata": {},
   "outputs": [],
   "source": [
    "holiday_movie_index = []\n",
    "\n",
    "for holiday in hol_arr:\n",
    "    for i, row in final_df.iterrows():\n",
    "        if row['release_date'] == holiday:\n",
    "            holiday_movie_index.append(i)"
   ]
  },
  {
   "cell_type": "code",
   "execution_count": 176,
   "metadata": {},
   "outputs": [],
   "source": [
    "# list(holiday_movie_index)"
   ]
  },
  {
   "cell_type": "code",
   "execution_count": 169,
   "metadata": {},
   "outputs": [],
   "source": [
    "df = final_df.iloc[holiday_movie_index]"
   ]
  },
  {
   "cell_type": "code",
   "execution_count": 217,
   "metadata": {},
   "outputs": [
    {
     "data": {
      "text/plain": [
       "63"
      ]
     },
     "execution_count": 217,
     "metadata": {},
     "output_type": "execute_result"
    }
   ],
   "source": [
    "len(df)"
   ]
  },
  {
   "cell_type": "code",
   "execution_count": 215,
   "metadata": {},
   "outputs": [],
   "source": [
    "# list(df['title'])"
   ]
  },
  {
   "cell_type": "code",
   "execution_count": null,
   "metadata": {},
   "outputs": [],
   "source": []
  },
  {
   "cell_type": "code",
   "execution_count": null,
   "metadata": {},
   "outputs": [],
   "source": []
  },
  {
   "cell_type": "markdown",
   "metadata": {},
   "source": [
    "# 공휴일에 개봉한 영화 구분 컬럼 추가"
   ]
  },
  {
   "cell_type": "code",
   "execution_count": 232,
   "metadata": {},
   "outputs": [],
   "source": [
    "final_df['holiday'] = final_df['title'].apply(lambda title: 1 if title in list(df['title']) else 0)"
   ]
  },
  {
   "cell_type": "code",
   "execution_count": 233,
   "metadata": {},
   "outputs": [],
   "source": [
    "# for i, row in df.iterrows():\n",
    "#     final_df['holiday'][i] = 1\n",
    "    "
   ]
  },
  {
   "cell_type": "code",
   "execution_count": 234,
   "metadata": {},
   "outputs": [
    {
     "data": {
      "text/plain": [
       "59"
      ]
     },
     "execution_count": 234,
     "metadata": {},
     "output_type": "execute_result"
    }
   ],
   "source": [
    "len(final_df[final_df['holiday'] == 1])"
   ]
  },
  {
   "cell_type": "code",
   "execution_count": 222,
   "metadata": {},
   "outputs": [],
   "source": [
    "holiday_movie_index.sort()"
   ]
  },
  {
   "cell_type": "code",
   "execution_count": 229,
   "metadata": {},
   "outputs": [],
   "source": [
    "# final_df.iloc[511]"
   ]
  },
  {
   "cell_type": "code",
   "execution_count": 228,
   "metadata": {},
   "outputs": [],
   "source": [
    "# hol_dic"
   ]
  },
  {
   "cell_type": "code",
   "execution_count": 230,
   "metadata": {},
   "outputs": [],
   "source": [
    "# np.array(holiday_movie_index)"
   ]
  },
  {
   "cell_type": "code",
   "execution_count": 203,
   "metadata": {},
   "outputs": [
    {
     "data": {
      "text/plain": [
       "Int64Index([ 15,  42,  85, 212, 226, 230, 281, 306, 314, 333, 345, 365, 381,\n",
       "            385, 386, 388, 394, 400, 401, 426, 429, 441, 452, 473, 480, 485,\n",
       "            511, 525, 547, 564, 566, 571, 582, 601, 605, 614, 651, 661, 662,\n",
       "            668, 679, 691, 693, 695, 698, 700, 711, 723, 737, 738, 756, 792,\n",
       "            813, 822, 839, 874, 900, 908, 924],\n",
       "           dtype='int64')"
      ]
     },
     "execution_count": 203,
     "metadata": {},
     "output_type": "execute_result"
    }
   ],
   "source": [
    "# final_df[final_df['holiday'] == 1].index"
   ]
  },
  {
   "cell_type": "code",
   "execution_count": 231,
   "metadata": {},
   "outputs": [],
   "source": [
    "# for index in list(holiday_movie_index):\n",
    "#     if index not in final_df[final_df['holiday'] == 1].index:\n",
    "#         print(index)"
   ]
  },
  {
   "cell_type": "code",
   "execution_count": null,
   "metadata": {},
   "outputs": [],
   "source": []
  },
  {
   "cell_type": "markdown",
   "metadata": {},
   "source": [
    "# 배급사 세개의 그룹으로 다시 그룹화"
   ]
  },
  {
   "cell_type": "code",
   "execution_count": 235,
   "metadata": {},
   "outputs": [],
   "source": [
    "group_a = ['씨제이이앤엠(주)', '메가박스중앙(주)플러스엠', 'CGV아트하우스', '롯데쇼핑㈜롯데엔터테인먼트',\n",
    "           'CGV아트하우스,(주)대명문화공장', '롯데쇼핑㈜롯데엔터테인먼트,(주)마인스 엔터테인먼트',\n",
    "           'CGV아트하우스,(주)리틀빅픽쳐스', 'CGV아트하우스,영화사 풀', '메가박스중앙(주)플러스엠,(주)키위미디어그룹',\n",
    "           '롯데쇼핑㈜롯데엔터테인먼트,(주)리틀빅픽쳐스', '메가박스중앙(주)플러스엠,주식회사 키위컴퍼니',\n",
    "           '씨제이 씨지브이(CJ CGV)(주)', '롯데컬처웍스(주)롯데엔터테인먼트',\n",
    "           '롯데컬처웍스(주)롯데엔터테인먼트,씨네그루(주)키다리이엔티', '메가박스중앙(주)플러스엠,(주)콘텐츠 난다긴다',\n",
    "           '씨제이이앤엠(주),(주)덱스터스튜디오', '(주)쇼박스', '(주)넥스트엔터테인먼트월드(NEW)', '(주)쇼박스,(주)와우픽쳐스',\n",
    "           '(주)넥스트엔터테인먼트월드(NEW),(주)팬엔터테인먼트']\n",
    "group_b = ['월트디즈니컴퍼니코리아(주)', '이십세기폭스코리아(주)', '유니버설픽쳐스인터내셔널 코리아(유)',\n",
    "           '워너브러더스 코리아(주)', '씨네그루(주)다우기술', '(주)이수C&E', '(주)티캐스트',\n",
    "           '씨네그루(주)키다리이엔티', '월트디즈니컴퍼니코리아 유한책임회사', '소니픽쳐스엔터테인먼트코리아주식회사극장배급지점',\n",
    "           '(주)이수C&E,(주)스톰픽쳐스코리아', '씨네그루(주)키다리이엔티,주식회사 키위컴퍼니',\n",
    "           '(주)이수C&E,(주)에이원엔터테인먼트', '씨네그루(주)키다리이엔티,(주)삼백상회',\n",
    "           '(주)이수C&E,(주)시너지미디어', '(주)셀트리온엔터테인먼트', '케이티하이텔(주)']"
   ]
  },
  {
   "cell_type": "code",
   "execution_count": 236,
   "metadata": {},
   "outputs": [],
   "source": [
    "final_df['dist_cat'] = final_df['distributor']\n",
    "\n",
    "for a in group_a:\n",
    "    final_df['dist_cat'] = final_df['dist_cat'].replace(a, 'A')\n",
    "\n",
    "for b in group_b:\n",
    "    final_df['dist_cat'] = final_df['dist_cat'].replace(b, 'B')\n",
    "\n",
    "final_df['dist_cat'] = final_df['dist_cat'].apply(\n",
    "    lambda data: \"C\" if data != 'A' and data != 'B' else data)"
   ]
  },
  {
   "cell_type": "code",
   "execution_count": 238,
   "metadata": {},
   "outputs": [],
   "source": []
  },
  {
   "cell_type": "code",
   "execution_count": 245,
   "metadata": {},
   "outputs": [
    {
     "data": {
      "text/plain": [
       "35"
      ]
     },
     "execution_count": 245,
     "metadata": {},
     "output_type": "execute_result"
    }
   ],
   "source": [
    "len(final_df.columns)"
   ]
  },
  {
   "cell_type": "code",
   "execution_count": null,
   "metadata": {},
   "outputs": [],
   "source": []
  },
  {
   "cell_type": "code",
   "execution_count": 259,
   "metadata": {},
   "outputs": [
    {
     "name": "stderr",
     "output_type": "stream",
     "text": [
      "/Users/song-yeejun/opt/anaconda3/lib/python3.7/site-packages/ipykernel_launcher.py:1: SettingWithCopyWarning: \n",
      "A value is trying to be set on a copy of a slice from a DataFrame\n",
      "\n",
      "See the caveats in the documentation: https://pandas.pydata.org/pandas-docs/stable/user_guide/indexing.html#returning-a-view-versus-a-copy\n",
      "  \"\"\"Entry point for launching an IPython kernel.\n",
      "/Users/song-yeejun/opt/anaconda3/lib/python3.7/site-packages/ipykernel_launcher.py:2: SettingWithCopyWarning: \n",
      "A value is trying to be set on a copy of a slice from a DataFrame\n",
      "\n",
      "See the caveats in the documentation: https://pandas.pydata.org/pandas-docs/stable/user_guide/indexing.html#returning-a-view-versus-a-copy\n",
      "  \n"
     ]
    }
   ],
   "source": [
    "final_df['sequel'][37] = 0\n",
    "final_df['original'][37] = 1 "
   ]
  },
  {
   "cell_type": "code",
   "execution_count": null,
   "metadata": {},
   "outputs": [],
   "source": [
    "sequel                                     1\n",
    "original "
   ]
  },
  {
   "cell_type": "code",
   "execution_count": 260,
   "metadata": {},
   "outputs": [
    {
     "data": {
      "text/plain": [
       "title                          그레이의 50가지 그림자\n",
       "director                            샘 테일러-존슨\n",
       "distributor              유니버설픽쳐스인터내셔널 코리아(유)\n",
       "distributor_group                          B\n",
       "release_date                        20150226\n",
       "release_season                        winter\n",
       "release                                 개봉영화\n",
       "form                                      장편\n",
       "nation                                    미국\n",
       "screen                                   512\n",
       "rev_nationwide                    2.9186e+09\n",
       "aud_nationwide                        364415\n",
       "rev_seoul                         1201564996\n",
       "rev_seoul.1                           145292\n",
       "genre                                    드라마\n",
       "rate                                 청소년관람불가\n",
       "type                                    일반영화\n",
       "expert_rating                           3.07\n",
       "starring_actors         제이미 도넌,다코타 존슨,루크 그림즈\n",
       "running_times                            125\n",
       "audience_rating                      5.57519\n",
       "rating_audiences                         266\n",
       "realease_year                           2015\n",
       "director_power                             0\n",
       "sequel                                     0\n",
       "original                                   1\n",
       "actor_power                                0\n",
       "director_count                             1\n",
       "director_movie_count                       0\n",
       "actor_movie_count                          0\n",
       "log_aud                               12.806\n",
       "before_news                              147\n",
       "after_news                               376\n",
       "holiday                                    0\n",
       "dist_cat                                   B\n",
       "Name: 37, dtype: object"
      ]
     },
     "execution_count": 260,
     "metadata": {},
     "output_type": "execute_result"
    }
   ],
   "source": [
    "final_df.iloc[37]"
   ]
  },
  {
   "cell_type": "code",
   "execution_count": 261,
   "metadata": {},
   "outputs": [
    {
     "data": {
      "text/plain": [
       "Index(['title', 'director', 'distributor', 'distributor_group', 'release_date',\n",
       "       'release_season', 'release', 'form', 'nation', 'screen',\n",
       "       'rev_nationwide', 'aud_nationwide', 'rev_seoul', 'rev_seoul.1', 'genre',\n",
       "       'rate', 'type', 'expert_rating', 'starring_actors', 'running_times',\n",
       "       'audience_rating', 'rating_audiences', 'realease_year',\n",
       "       'director_power', 'sequel', 'original', 'actor_power', 'director_count',\n",
       "       'director_movie_count', 'actor_movie_count', 'log_aud', 'before_news',\n",
       "       'after_news', 'holiday', 'dist_cat'],\n",
       "      dtype='object')"
      ]
     },
     "execution_count": 261,
     "metadata": {},
     "output_type": "execute_result"
    }
   ],
   "source": [
    "final_df.columns"
   ]
  },
  {
   "cell_type": "code",
   "execution_count": null,
   "metadata": {},
   "outputs": [],
   "source": []
  },
  {
   "cell_type": "code",
   "execution_count": 281,
   "metadata": {},
   "outputs": [],
   "source": [
    "X = final_df.drop(columns=['aud_nationwide', 'log_aud'])\n",
    "y = final_df[['aud_nationwide', 'log_aud']]"
   ]
  },
  {
   "cell_type": "code",
   "execution_count": 282,
   "metadata": {},
   "outputs": [],
   "source": [
    "X_train, X_test, y_train, y_test = train_test_split(X, y, test_size=0.2, random_state=2)"
   ]
  },
  {
   "cell_type": "code",
   "execution_count": 283,
   "metadata": {},
   "outputs": [
    {
     "data": {
      "text/plain": [
       "(740, 185, 740, 185)"
      ]
     },
     "execution_count": 283,
     "metadata": {},
     "output_type": "execute_result"
    }
   ],
   "source": [
    "len(X_train), len(X_test), len(y_train), len(y_test)"
   ]
  },
  {
   "cell_type": "code",
   "execution_count": 284,
   "metadata": {},
   "outputs": [],
   "source": [
    "X_train.to_csv('X_train_13.csv')\n",
    "X_test.to_csv('X_test_13.csv')\n",
    "y_train.to_csv('y_train_13.csv')\n",
    "y_test.to_csv('y_test_13.csv')"
   ]
  },
  {
   "cell_type": "code",
   "execution_count": 285,
   "metadata": {},
   "outputs": [],
   "source": [
    "final_df.to_csv('final_df_13.csv')"
   ]
  },
  {
   "cell_type": "code",
   "execution_count": null,
   "metadata": {},
   "outputs": [],
   "source": []
  },
  {
   "cell_type": "code",
   "execution_count": 279,
   "metadata": {},
   "outputs": [
    {
     "name": "stderr",
     "output_type": "stream",
     "text": [
      "/Users/song-yeejun/opt/anaconda3/lib/python3.7/site-packages/ipykernel_launcher.py:1: SettingWithCopyWarning: \n",
      "A value is trying to be set on a copy of a slice from a DataFrame\n",
      "\n",
      "See the caveats in the documentation: https://pandas.pydata.org/pandas-docs/stable/user_guide/indexing.html#returning-a-view-versus-a-copy\n",
      "  \"\"\"Entry point for launching an IPython kernel.\n"
     ]
    }
   ],
   "source": [
    "final_df['holiday'][839] = 0"
   ]
  },
  {
   "cell_type": "code",
   "execution_count": 280,
   "metadata": {},
   "outputs": [
    {
     "data": {
      "text/html": [
       "<div>\n",
       "<style scoped>\n",
       "    .dataframe tbody tr th:only-of-type {\n",
       "        vertical-align: middle;\n",
       "    }\n",
       "\n",
       "    .dataframe tbody tr th {\n",
       "        vertical-align: top;\n",
       "    }\n",
       "\n",
       "    .dataframe thead th {\n",
       "        text-align: right;\n",
       "    }\n",
       "</style>\n",
       "<table border=\"1\" class=\"dataframe\">\n",
       "  <thead>\n",
       "    <tr style=\"text-align: right;\">\n",
       "      <th></th>\n",
       "      <th>title</th>\n",
       "      <th>director</th>\n",
       "      <th>distributor</th>\n",
       "      <th>distributor_group</th>\n",
       "      <th>release_date</th>\n",
       "      <th>release_season</th>\n",
       "      <th>release</th>\n",
       "      <th>form</th>\n",
       "      <th>nation</th>\n",
       "      <th>screen</th>\n",
       "      <th>...</th>\n",
       "      <th>original</th>\n",
       "      <th>actor_power</th>\n",
       "      <th>director_count</th>\n",
       "      <th>director_movie_count</th>\n",
       "      <th>actor_movie_count</th>\n",
       "      <th>log_aud</th>\n",
       "      <th>before_news</th>\n",
       "      <th>after_news</th>\n",
       "      <th>holiday</th>\n",
       "      <th>dist_cat</th>\n",
       "    </tr>\n",
       "  </thead>\n",
       "  <tbody>\n",
       "    <tr>\n",
       "      <th>839</th>\n",
       "      <td>라이온 킹</td>\n",
       "      <td>존 파브로</td>\n",
       "      <td>월트디즈니컴퍼니코리아 유한책임회사</td>\n",
       "      <td>B</td>\n",
       "      <td>20190717</td>\n",
       "      <td>summer</td>\n",
       "      <td>개봉영화</td>\n",
       "      <td>장편</td>\n",
       "      <td>미국</td>\n",
       "      <td>1936</td>\n",
       "      <td>...</td>\n",
       "      <td>1</td>\n",
       "      <td>0</td>\n",
       "      <td>1</td>\n",
       "      <td>1</td>\n",
       "      <td>0</td>\n",
       "      <td>15.372219</td>\n",
       "      <td>559.0</td>\n",
       "      <td>1166.0</td>\n",
       "      <td>0</td>\n",
       "      <td>B</td>\n",
       "    </tr>\n",
       "  </tbody>\n",
       "</table>\n",
       "<p>1 rows × 35 columns</p>\n",
       "</div>"
      ],
      "text/plain": [
       "     title director         distributor distributor_group release_date  \\\n",
       "839  라이온 킹    존 파브로  월트디즈니컴퍼니코리아 유한책임회사                 B     20190717   \n",
       "\n",
       "    release_season release form nation  screen  ...  original  actor_power  \\\n",
       "839         summer    개봉영화   장편     미국    1936  ...         1            0   \n",
       "\n",
       "     director_count  director_movie_count actor_movie_count    log_aud  \\\n",
       "839               1                     1                 0  15.372219   \n",
       "\n",
       "    before_news  after_news holiday  dist_cat  \n",
       "839       559.0      1166.0       0         B  \n",
       "\n",
       "[1 rows x 35 columns]"
      ]
     },
     "execution_count": 280,
     "metadata": {},
     "output_type": "execute_result"
    }
   ],
   "source": [
    "final_df[final_df['release_date'] == '20190717']"
   ]
  },
  {
   "cell_type": "code",
   "execution_count": null,
   "metadata": {},
   "outputs": [],
   "source": [
    "final"
   ]
  },
  {
   "cell_type": "code",
   "execution_count": null,
   "metadata": {},
   "outputs": [],
   "source": []
  },
  {
   "cell_type": "code",
   "execution_count": null,
   "metadata": {},
   "outputs": [],
   "source": []
  },
  {
   "cell_type": "code",
   "execution_count": null,
   "metadata": {},
   "outputs": [],
   "source": []
  },
  {
   "cell_type": "code",
   "execution_count": null,
   "metadata": {},
   "outputs": [],
   "source": []
  },
  {
   "cell_type": "code",
   "execution_count": null,
   "metadata": {},
   "outputs": [],
   "source": []
  },
  {
   "cell_type": "code",
   "execution_count": 99,
   "metadata": {},
   "outputs": [
    {
     "data": {
      "text/plain": [
       "<Element 'response' at 0x000000000D031228>"
      ]
     },
     "execution_count": 99,
     "metadata": {},
     "output_type": "execute_result"
    }
   ],
   "source": [
    "xtree = ET.fromstring(response2)\n",
    "xtree"
   ]
  },
  {
   "cell_type": "code",
   "execution_count": 100,
   "metadata": {
    "scrolled": false
   },
   "outputs": [
    {
     "data": {
      "text/plain": [
       "'어린이날'"
      ]
     },
     "execution_count": 100,
     "metadata": {},
     "output_type": "execute_result"
    }
   ],
   "source": [
    "xtree[1][0][0][1].text"
   ]
  },
  {
   "cell_type": "code",
   "execution_count": 101,
   "metadata": {
    "scrolled": true
   },
   "outputs": [
    {
     "data": {
      "text/plain": [
       "'20190505'"
      ]
     },
     "execution_count": 101,
     "metadata": {},
     "output_type": "execute_result"
    }
   ],
   "source": [
    "xtree[1][0][0][3].text"
   ]
  },
  {
   "cell_type": "code",
   "execution_count": 104,
   "metadata": {},
   "outputs": [
    {
     "ename": "AttributeError",
     "evalue": "'NoneType' object has no attribute 'text'",
     "output_type": "error",
     "traceback": [
      "\u001b[1;31m---------------------------------------------------------------------------\u001b[0m",
      "\u001b[1;31mAttributeError\u001b[0m                            Traceback (most recent call last)",
      "\u001b[1;32m<ipython-input-104-735c26e960ed>\u001b[0m in \u001b[0;36m<module>\u001b[1;34m\u001b[0m\n\u001b[0;32m      1\u001b[0m \u001b[0mrows\u001b[0m \u001b[1;33m=\u001b[0m \u001b[1;33m[\u001b[0m\u001b[1;33m]\u001b[0m\u001b[1;33m\u001b[0m\u001b[1;33m\u001b[0m\u001b[0m\n\u001b[0;32m      2\u001b[0m \u001b[1;32mfor\u001b[0m \u001b[0mnode\u001b[0m \u001b[1;32min\u001b[0m \u001b[0mxtree\u001b[0m\u001b[1;33m[\u001b[0m\u001b[1;36m1\u001b[0m\u001b[1;33m]\u001b[0m\u001b[1;33m[\u001b[0m\u001b[1;36m0\u001b[0m\u001b[1;33m]\u001b[0m\u001b[1;33m[\u001b[0m\u001b[1;36m0\u001b[0m\u001b[1;33m]\u001b[0m\u001b[1;33m:\u001b[0m\u001b[1;33m\u001b[0m\u001b[1;33m\u001b[0m\u001b[0m\n\u001b[1;32m----> 3\u001b[1;33m     \u001b[0mn_name\u001b[0m \u001b[1;33m=\u001b[0m \u001b[0mnode\u001b[0m\u001b[1;33m.\u001b[0m\u001b[0mfind\u001b[0m\u001b[1;33m(\u001b[0m\u001b[1;34m'dateName'\u001b[0m\u001b[1;33m)\u001b[0m\u001b[1;33m.\u001b[0m\u001b[0mtext\u001b[0m\u001b[1;33m\u001b[0m\u001b[1;33m\u001b[0m\u001b[0m\n\u001b[0m\u001b[0;32m      4\u001b[0m     \u001b[0mn_date\u001b[0m \u001b[1;33m=\u001b[0m \u001b[0mnode\u001b[0m\u001b[1;33m.\u001b[0m\u001b[0mfind\u001b[0m\u001b[1;33m(\u001b[0m\u001b[1;34m'locdate'\u001b[0m\u001b[1;33m)\u001b[0m\u001b[1;33m.\u001b[0m\u001b[0mtext\u001b[0m\u001b[1;33m\u001b[0m\u001b[1;33m\u001b[0m\u001b[0m\n\u001b[0;32m      5\u001b[0m     \u001b[0mrows\u001b[0m\u001b[1;33m.\u001b[0m\u001b[0mappend\u001b[0m\u001b[1;33m(\u001b[0m\u001b[1;33m{\u001b[0m\u001b[1;34m'name'\u001b[0m \u001b[1;33m:\u001b[0m \u001b[0mn_name\u001b[0m\u001b[1;33m,\u001b[0m \u001b[1;34m'date'\u001b[0m\u001b[1;33m:\u001b[0m \u001b[0mn_date\u001b[0m\u001b[1;33m}\u001b[0m\u001b[1;33m)\u001b[0m\u001b[1;33m\u001b[0m\u001b[1;33m\u001b[0m\u001b[0m\n",
      "\u001b[1;31mAttributeError\u001b[0m: 'NoneType' object has no attribute 'text'"
     ]
    }
   ],
   "source": [
    "rows = []\n",
    "for node in xtree[1][0][0]:\n",
    "    n_name = node.find('dateName').text\n",
    "    n_date = node.find('locdate').text\n",
    "    rows.append({'name' : n_name, 'date': n_date})"
   ]
  },
  {
   "cell_type": "code",
   "execution_count": null,
   "metadata": {},
   "outputs": [],
   "source": []
  }
 ],
 "metadata": {
  "kernelspec": {
   "display_name": "Python 3",
   "language": "python",
   "name": "python3"
  },
  "language_info": {
   "codemirror_mode": {
    "name": "ipython",
    "version": 3
   },
   "file_extension": ".py",
   "mimetype": "text/x-python",
   "name": "python",
   "nbconvert_exporter": "python",
   "pygments_lexer": "ipython3",
   "version": "3.7.6"
  }
 },
 "nbformat": 4,
 "nbformat_minor": 2
}
