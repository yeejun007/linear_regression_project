{
 "cells": [
  {
   "cell_type": "code",
   "execution_count": 1,
   "metadata": {},
   "outputs": [],
   "source": [
    "import warnings\n",
    "warnings.simplefilter('ignore')\n",
    "import numpy as np\n",
    "import scipy as sp\n",
    "import pandas as pd\n",
    "import matplotlib.pyplot as plt\n",
    "import seaborn as sns\n",
    "import sklearn as sk\n",
    "import statsmodels.api as sm\n",
    "import matplotlib as mpl\n",
    "import scipy.stats\n",
    "from matplotlib import rc\n",
    "%matplotlib inline\n",
    "from IPython.display import Image"
   ]
  },
  {
   "cell_type": "code",
   "execution_count": 2,
   "metadata": {
    "scrolled": true
   },
   "outputs": [
    {
     "data": {
      "text/html": [
       "<div>\n",
       "<style scoped>\n",
       "    .dataframe tbody tr th:only-of-type {\n",
       "        vertical-align: middle;\n",
       "    }\n",
       "\n",
       "    .dataframe tbody tr th {\n",
       "        vertical-align: top;\n",
       "    }\n",
       "\n",
       "    .dataframe thead th {\n",
       "        text-align: right;\n",
       "    }\n",
       "</style>\n",
       "<table border=\"1\" class=\"dataframe\">\n",
       "  <thead>\n",
       "    <tr style=\"text-align: right;\">\n",
       "      <th></th>\n",
       "      <th>Unnamed: 0</th>\n",
       "      <th>id</th>\n",
       "      <th>영화명</th>\n",
       "      <th>감독</th>\n",
       "      <th>제작사</th>\n",
       "      <th>수입사</th>\n",
       "      <th>배급사</th>\n",
       "      <th>개봉일</th>\n",
       "      <th>영화유형</th>\n",
       "      <th>영화형태</th>\n",
       "      <th>...</th>\n",
       "      <th>등급</th>\n",
       "      <th>영화구분</th>\n",
       "      <th>expert_rating</th>\n",
       "      <th>starring_actors</th>\n",
       "      <th>running_times</th>\n",
       "      <th>audience_rating</th>\n",
       "      <th>rating_audiences</th>\n",
       "      <th>개봉일_int</th>\n",
       "      <th>director_power</th>\n",
       "      <th>director_movie_num</th>\n",
       "    </tr>\n",
       "  </thead>\n",
       "  <tbody>\n",
       "    <tr>\n",
       "      <th>925</th>\n",
       "      <td>925</td>\n",
       "      <td>925</td>\n",
       "      <td>빅 위시</td>\n",
       "      <td>카를로스 구티에레스 메드라노</td>\n",
       "      <td>NaN</td>\n",
       "      <td>(주)박수엔터테인먼트</td>\n",
       "      <td>(주)박수엔터테인먼트</td>\n",
       "      <td>2019-10-30</td>\n",
       "      <td>개봉영화</td>\n",
       "      <td>장편</td>\n",
       "      <td>...</td>\n",
       "      <td>전체관람가</td>\n",
       "      <td>일반영화</td>\n",
       "      <td>6.0</td>\n",
       "      <td>[국내] 전체 관람가</td>\n",
       "      <td>79</td>\n",
       "      <td>6.500000</td>\n",
       "      <td>4</td>\n",
       "      <td>2019</td>\n",
       "      <td>0.0</td>\n",
       "      <td>1 [1]</td>\n",
       "    </tr>\n",
       "    <tr>\n",
       "      <th>926</th>\n",
       "      <td>926</td>\n",
       "      <td>926</td>\n",
       "      <td>너를 만난 여름</td>\n",
       "      <td>장적사</td>\n",
       "      <td>NaN</td>\n",
       "      <td>오드</td>\n",
       "      <td>오드,(주)홈초이스</td>\n",
       "      <td>2019-10-16</td>\n",
       "      <td>개봉영화</td>\n",
       "      <td>장편</td>\n",
       "      <td>...</td>\n",
       "      <td>12세이상관람가</td>\n",
       "      <td>독립/예술영화</td>\n",
       "      <td>5.5</td>\n",
       "      <td>진비우(위화이), 하람두(겅겅)</td>\n",
       "      <td>109</td>\n",
       "      <td>8.428571</td>\n",
       "      <td>63</td>\n",
       "      <td>2019</td>\n",
       "      <td>31888.0</td>\n",
       "      <td>1 [1]</td>\n",
       "    </tr>\n",
       "    <tr>\n",
       "      <th>927</th>\n",
       "      <td>927</td>\n",
       "      <td>927</td>\n",
       "      <td>100일 동안 100가지로 100퍼센트 행복찾기</td>\n",
       "      <td>플로리안 데이비드 핏츠</td>\n",
       "      <td>NaN</td>\n",
       "      <td>(주)영화사 진진</td>\n",
       "      <td>(주)영화사 진진</td>\n",
       "      <td>2019-09-12</td>\n",
       "      <td>개봉영화</td>\n",
       "      <td>장편</td>\n",
       "      <td>...</td>\n",
       "      <td>15세이상관람가</td>\n",
       "      <td>독립/예술영화</td>\n",
       "      <td>5.5</td>\n",
       "      <td>플로리안 데이비드 핏츠(폴), 마치아스 슈와바이어퍼(토니)</td>\n",
       "      <td>111</td>\n",
       "      <td>8.962963</td>\n",
       "      <td>27</td>\n",
       "      <td>2019</td>\n",
       "      <td>31866.0</td>\n",
       "      <td>1 [1]</td>\n",
       "    </tr>\n",
       "  </tbody>\n",
       "</table>\n",
       "<p>3 rows × 27 columns</p>\n",
       "</div>"
      ],
      "text/plain": [
       "     Unnamed: 0   id                         영화명               감독  제작사  \\\n",
       "925         925  925                        빅 위시  카를로스 구티에레스 메드라노  NaN   \n",
       "926         926  926                    너를 만난 여름              장적사  NaN   \n",
       "927         927  927  100일 동안 100가지로 100퍼센트 행복찾기     플로리안 데이비드 핏츠  NaN   \n",
       "\n",
       "             수입사          배급사         개봉일  영화유형 영화형태  ...        등급     영화구분  \\\n",
       "925  (주)박수엔터테인먼트  (주)박수엔터테인먼트  2019-10-30  개봉영화   장편  ...     전체관람가     일반영화   \n",
       "926           오드   오드,(주)홈초이스  2019-10-16  개봉영화   장편  ...  12세이상관람가  독립/예술영화   \n",
       "927    (주)영화사 진진    (주)영화사 진진  2019-09-12  개봉영화   장편  ...  15세이상관람가  독립/예술영화   \n",
       "\n",
       "     expert_rating                   starring_actors  running_times  \\\n",
       "925            6.0                       [국내] 전체 관람가             79   \n",
       "926            5.5                 진비우(위화이), 하람두(겅겅)            109   \n",
       "927            5.5  플로리안 데이비드 핏츠(폴), 마치아스 슈와바이어퍼(토니)            111   \n",
       "\n",
       "     audience_rating rating_audiences 개봉일_int director_power  \\\n",
       "925         6.500000                4    2019            0.0   \n",
       "926         8.428571               63    2019        31888.0   \n",
       "927         8.962963               27    2019        31866.0   \n",
       "\n",
       "     director_movie_num  \n",
       "925               1 [1]  \n",
       "926               1 [1]  \n",
       "927               1 [1]  \n",
       "\n",
       "[3 rows x 27 columns]"
      ]
     },
     "execution_count": 2,
     "metadata": {},
     "output_type": "execute_result"
    }
   ],
   "source": [
    "ver_04 = pd.read_csv(\"final_df_04.csv\", encoding='utf-8')\n",
    "\n",
    "ver_04.tail(3)"
   ]
  },
  {
   "cell_type": "code",
   "execution_count": 3,
   "metadata": {},
   "outputs": [
    {
     "data": {
      "text/plain": [
       "19"
      ]
     },
     "execution_count": 3,
     "metadata": {},
     "output_type": "execute_result"
    }
   ],
   "source": [
    "# 기존 장르 수: 19개\n",
    "\n",
    "len(ver_04['장르'].unique())"
   ]
  },
  {
   "cell_type": "code",
   "execution_count": 4,
   "metadata": {},
   "outputs": [
    {
     "data": {
      "text/plain": [
       "24"
      ]
     },
     "execution_count": 4,
     "metadata": {},
     "output_type": "execute_result"
    }
   ],
   "source": [
    "# 기존 국적 수: 24개\n",
    "\n",
    "len(ver_04['국적'].unique())"
   ]
  },
  {
   "cell_type": "code",
   "execution_count": 5,
   "metadata": {
    "scrolled": true
   },
   "outputs": [
    {
     "data": {
      "text/html": [
       "<div>\n",
       "<style scoped>\n",
       "    .dataframe tbody tr th:only-of-type {\n",
       "        vertical-align: middle;\n",
       "    }\n",
       "\n",
       "    .dataframe tbody tr th {\n",
       "        vertical-align: top;\n",
       "    }\n",
       "\n",
       "    .dataframe thead th {\n",
       "        text-align: right;\n",
       "    }\n",
       "</style>\n",
       "<table border=\"1\" class=\"dataframe\">\n",
       "  <thead>\n",
       "    <tr style=\"text-align: right;\">\n",
       "      <th></th>\n",
       "      <th>title</th>\n",
       "      <th>director</th>\n",
       "      <th>producer</th>\n",
       "      <th>importer</th>\n",
       "      <th>distributor</th>\n",
       "      <th>distributor_group</th>\n",
       "      <th>release_date</th>\n",
       "      <th>release_season</th>\n",
       "      <th>release</th>\n",
       "      <th>form</th>\n",
       "      <th>...</th>\n",
       "      <th>expert_rating</th>\n",
       "      <th>starring_actors</th>\n",
       "      <th>running_times</th>\n",
       "      <th>audience_rating</th>\n",
       "      <th>rating_audiences</th>\n",
       "      <th>realease_year</th>\n",
       "      <th>director_power</th>\n",
       "      <th>director_movie_num</th>\n",
       "      <th>sequel</th>\n",
       "      <th>original</th>\n",
       "    </tr>\n",
       "  </thead>\n",
       "  <tbody>\n",
       "    <tr>\n",
       "      <th>925</th>\n",
       "      <td>빅 위시</td>\n",
       "      <td>카를로스 구티에레스 메드라노</td>\n",
       "      <td>NaN</td>\n",
       "      <td>(주)박수엔터테인먼트</td>\n",
       "      <td>(주)박수엔터테인먼트</td>\n",
       "      <td>D</td>\n",
       "      <td>10/30/2019</td>\n",
       "      <td>autumn</td>\n",
       "      <td>개봉영화</td>\n",
       "      <td>장편</td>\n",
       "      <td>...</td>\n",
       "      <td>6.0</td>\n",
       "      <td>[국내] 전체 관람가</td>\n",
       "      <td>79</td>\n",
       "      <td>6.500000</td>\n",
       "      <td>4</td>\n",
       "      <td>2019</td>\n",
       "      <td>0.0</td>\n",
       "      <td>1 [1]</td>\n",
       "      <td>0</td>\n",
       "      <td>0</td>\n",
       "    </tr>\n",
       "    <tr>\n",
       "      <th>926</th>\n",
       "      <td>너를 만난 여름</td>\n",
       "      <td>장적사</td>\n",
       "      <td>NaN</td>\n",
       "      <td>오드</td>\n",
       "      <td>오드,(주)홈초이스</td>\n",
       "      <td>D</td>\n",
       "      <td>10/16/2019</td>\n",
       "      <td>autumn</td>\n",
       "      <td>개봉영화</td>\n",
       "      <td>장편</td>\n",
       "      <td>...</td>\n",
       "      <td>5.5</td>\n",
       "      <td>진비우(위화이), 하람두(겅겅)</td>\n",
       "      <td>109</td>\n",
       "      <td>8.428571</td>\n",
       "      <td>63</td>\n",
       "      <td>2019</td>\n",
       "      <td>31888.0</td>\n",
       "      <td>1 [1]</td>\n",
       "      <td>0</td>\n",
       "      <td>0</td>\n",
       "    </tr>\n",
       "    <tr>\n",
       "      <th>927</th>\n",
       "      <td>100일 동안 100가지로 100퍼센트 행복찾기</td>\n",
       "      <td>플로리안 데이비드 핏츠</td>\n",
       "      <td>NaN</td>\n",
       "      <td>(주)영화사 진진</td>\n",
       "      <td>(주)영화사 진진</td>\n",
       "      <td>D</td>\n",
       "      <td>9/12/2019</td>\n",
       "      <td>autumn</td>\n",
       "      <td>개봉영화</td>\n",
       "      <td>장편</td>\n",
       "      <td>...</td>\n",
       "      <td>5.5</td>\n",
       "      <td>플로리안 데이비드 핏츠(폴), 마치아스 슈와바이어퍼(토니)</td>\n",
       "      <td>111</td>\n",
       "      <td>8.962963</td>\n",
       "      <td>27</td>\n",
       "      <td>2019</td>\n",
       "      <td>31866.0</td>\n",
       "      <td>1 [1]</td>\n",
       "      <td>0</td>\n",
       "      <td>0</td>\n",
       "    </tr>\n",
       "  </tbody>\n",
       "</table>\n",
       "<p>3 rows × 29 columns</p>\n",
       "</div>"
      ],
      "text/plain": [
       "                          title         director producer     importer  \\\n",
       "925                        빅 위시  카를로스 구티에레스 메드라노      NaN  (주)박수엔터테인먼트   \n",
       "926                    너를 만난 여름              장적사      NaN           오드   \n",
       "927  100일 동안 100가지로 100퍼센트 행복찾기     플로리안 데이비드 핏츠      NaN    (주)영화사 진진   \n",
       "\n",
       "     distributor distributor_group release_date release_season release form  \\\n",
       "925  (주)박수엔터테인먼트                 D   10/30/2019         autumn    개봉영화   장편   \n",
       "926   오드,(주)홈초이스                 D   10/16/2019         autumn    개봉영화   장편   \n",
       "927    (주)영화사 진진                 D    9/12/2019         autumn    개봉영화   장편   \n",
       "\n",
       "     ... expert_rating                   starring_actors  running_times  \\\n",
       "925  ...           6.0                       [국내] 전체 관람가             79   \n",
       "926  ...           5.5                 진비우(위화이), 하람두(겅겅)            109   \n",
       "927  ...           5.5  플로리안 데이비드 핏츠(폴), 마치아스 슈와바이어퍼(토니)            111   \n",
       "\n",
       "     audience_rating  rating_audiences  realease_year director_power  \\\n",
       "925         6.500000                 4           2019            0.0   \n",
       "926         8.428571                63           2019        31888.0   \n",
       "927         8.962963                27           2019        31866.0   \n",
       "\n",
       "    director_movie_num sequel  original  \n",
       "925              1 [1]      0         0  \n",
       "926              1 [1]      0         0  \n",
       "927              1 [1]      0         0  \n",
       "\n",
       "[3 rows x 29 columns]"
      ]
     },
     "execution_count": 5,
     "metadata": {},
     "output_type": "execute_result"
    }
   ],
   "source": [
    "ver_05 = pd.read_csv(\"final_df_05.csv\", encoding='utf-8')\n",
    "\n",
    "ver_05.tail(3)"
   ]
  },
  {
   "cell_type": "code",
   "execution_count": 6,
   "metadata": {},
   "outputs": [
    {
     "data": {
      "text/plain": [
       "14"
      ]
     },
     "execution_count": 6,
     "metadata": {},
     "output_type": "execute_result"
    }
   ],
   "source": [
    "# 변경사항 1. 기존 칼럼명 영어로 통일\n",
    "# 변경사항 2. 장르: 10개 미만 소수 장르를 통합. 총 5개 감소\n",
    "\n",
    "len(ver_05['genre'].unique())"
   ]
  },
  {
   "cell_type": "code",
   "execution_count": 7,
   "metadata": {},
   "outputs": [
    {
     "data": {
      "text/plain": [
       "6"
      ]
     },
     "execution_count": 7,
     "metadata": {},
     "output_type": "execute_result"
    }
   ],
   "source": [
    "# 변경사항 3. 국적: 10개 이하 국가를 '기타'로 통합. 총 18개 감소\n",
    "\n",
    "len(ver_05['nation'].unique())"
   ]
  },
  {
   "cell_type": "code",
   "execution_count": 8,
   "metadata": {},
   "outputs": [
    {
     "data": {
      "text/plain": [
       "array(['spring', 'winter', 'summer', 'autumn'], dtype=object)"
      ]
     },
     "execution_count": 8,
     "metadata": {},
     "output_type": "execute_result"
    }
   ],
   "source": [
    "# 변경사항 4. 계절: 개봉일 기준의 계절 카테고리 변수 추가\n",
    "\n",
    "ver_05['release_season'].unique()"
   ]
  },
  {
   "cell_type": "code",
   "execution_count": 9,
   "metadata": {},
   "outputs": [
    {
     "data": {
      "text/plain": [
       "array(['B', 'A', 'C', 'D'], dtype=object)"
      ]
     },
     "execution_count": 9,
     "metadata": {},
     "output_type": "execute_result"
    }
   ],
   "source": [
    "# 변경사항 5. 배급사 그룹: 배급사 외형요소를 기준으로 그룹화\n",
    "\n",
    "ver_05['distributor_group'].unique()"
   ]
  },
  {
   "cell_type": "code",
   "execution_count": 10,
   "metadata": {},
   "outputs": [
    {
     "data": {
      "image/png": "[encoded data removed]",
      "text/plain": [
       "<IPython.core.display.Image object>"
      ]
     },
     "execution_count": 10,
     "metadata": {},
     "output_type": "execute_result"
    }
   ],
   "source": [
    "# 변경사항 적용 근거 및 기준\n",
    "\n",
    "Image(\"distributor_criteria.png\")"
   ]
  },
  {
   "cell_type": "code",
   "execution_count": 11,
   "metadata": {},
   "outputs": [],
   "source": [
    "# 모델 선택 기준\n",
    "\n",
    "# 독립 변수: 총 13개\n",
    "# [배급사 그룹, 개봉 시 계절, 국적, 스크린 수, 장르, 관람 등급, 전문가 평점, 관객 평점, 평점 댓글 수, 러닝타임, 감독 지수, 속편 여부, 원작 여부]\n",
    "\n",
    "# 종속 변수: 전국 매출액"
   ]
  },
  {
   "cell_type": "code",
   "execution_count": 12,
   "metadata": {},
   "outputs": [],
   "source": [
    "from sklearn.model_selection import train_test_split"
   ]
  },
  {
   "cell_type": "code",
   "execution_count": 13,
   "metadata": {},
   "outputs": [],
   "source": [
    "X = ver_05[['distributor_group', 'release_season', 'nation', 'screen', 'genre', 'rate', 'expert_rating', 'running_times', \\\n",
    "           'audience_rating', 'rating_audiences', 'director_power', 'sequel', 'original']]\n",
    "y = ver_05['rev_nationwide']\n",
    "\n",
    "X_train, X_test, y_train, y_test = train_test_split(X, y, test_size=0.2, random_state=13)"
   ]
  },
  {
   "cell_type": "code",
   "execution_count": 14,
   "metadata": {},
   "outputs": [],
   "source": [
    "X_test.to_csv(\"initial_test_X.csv\", encoding='utf-8')\n",
    "y_test.to_csv(\"initial_test_y.csv\", encoding='utf-8')"
   ]
  },
  {
   "cell_type": "code",
   "execution_count": null,
   "metadata": {},
   "outputs": [],
   "source": []
  }
 ],
 "metadata": {
  "kernelspec": {
   "display_name": "Python 3",
   "language": "python",
   "name": "python3"
  },
  "language_info": {
   "codemirror_mode": {
    "name": "ipython",
    "version": 3
   },
   "file_extension": ".py",
   "mimetype": "text/x-python",
   "name": "python",
   "nbconvert_exporter": "python",
   "pygments_lexer": "ipython3",
   "version": "3.7.6"
  }
 },
 "nbformat": 4,
 "nbformat_minor": 2
}
