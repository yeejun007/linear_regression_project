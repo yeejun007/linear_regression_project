{
 "cells": [
  {
   "cell_type": "markdown",
   "metadata": {},
   "source": [
    "# 네이버 영화정보 크롤링\n",
    "- top_movie_data에 들어있는 영화들에 대한 정보 크롤링\n",
    "- 'https://movie.naver.com/' 여기서 영화검색을 입력하고 그 영화의 url상 고유코드번호를 먼저 수집한다\n",
    "    - ex) \n",
    "    - 'https://movie.naver.com/movie/bi/mi/basic.nhn?code=69783'\n",
    "- 수집한 고유코드를 영화제목에 대응시켜서 dataframe을 만든다\n",
    "- 영화정보 url에 영화 고유코드만 바꿔가면서 scrapy로 크롤링한다\n",
    "- 영화 평점리뷰도 페이지를 url로 바꿔서 크롤링 할 수 있다(마지막의 page 바꾸면 됨)\n",
    "    - https://movie.naver.com/movie/bi/mi/pointWriteFormList.nhn?code=44885&type=after&isActualPointWriteExecute=false&isMileageSubscriptionAlready=false&isMileageSubscriptionReject=false&page=4\n",
    "- 배우 \n",
    "    - https://movie.naver.com/movie/bi/mi/detail.nhn?code=44885\n",
    "    \n",
    "- 크롤링 과정\n",
    "    - top_movie_data에서 영화제목 컬럼만 가져와서, 셀레니움으로 영화제목을 검색란 input에 넣고 엔터친다음에 \n",
    "    - webdriver.current_url로 현재 url의 영화제목 고유코드를 dataframe에 모은다\n",
    "    - 이 dataframe을 완성한 이후에는 \n",
    "    - `https://movie.naver.com/movie/bi/mi/basic.nhn?code={}'.format()` 이거로 영화제목의 고유코드로 scrapy를 이용해서 정보 크롤링\n",
    "    \n",
    "- movie_title_list[718] : '독전 - 익스텐디드 컷' -> 네이버 영화 검색결과가 없어서 그냥 '독전'으로 찾아서 넣음\n",
    "\n",
    "- 평론가평점\n",
    "- 주연배우  \n",
    "    - 주연배우는 앞쪽부터 3명\n",
    "- 러닝타임\n",
    "- spider클래스의 parse함수에서 for문을 통해 id 넣기(index로)\n",
    "- 다 수집하면 id 순서로 데이터프레임을 재정렬하고 기존의 데이터프레임과 concat한다\n",
    "- 감독은, 나중에 혹시나 이름이 같은 다른 영화를 클로링했는지 확인하기 위해 크롤링한다\n",
    "- 정확히 내가 찾는 영화를 가져왔는지 나중에 확인하기 위해, 영화제목과 개봉일시도 일단 크롤링 한다"
   ]
  },
  {
   "cell_type": "markdown",
   "metadata": {},
   "source": []
  },
  {
   "cell_type": "markdown",
   "metadata": {},
   "source": [
    "### 네이버 영화 고유코드 수집"
   ]
  },
  {
   "cell_type": "code",
   "execution_count": 1,
   "metadata": {},
   "outputs": [],
   "source": [
    "import seaborn as sns\n",
    "import pandas as pd\n",
    "import matplotlib.pylab as plt\n",
    "from selenium import webdriver\n",
    "import re\n",
    "import matplotlib as mpl\n",
    "from matplotlib import rc\n",
    "import missingno as msno\n",
    "import warnings\n",
    "from scrapy.http import TextResponse\n",
    "warnings.filterwarnings('ignore')\n",
    "\n",
    "# matplotlib 한글 사용을 위한 코드\n",
    "rc('font', family='AppleGothic')"
   ]
  },
  {
   "cell_type": "code",
   "execution_count": 2,
   "metadata": {},
   "outputs": [],
   "source": [
    "top_movie_data = pd.read_csv('top_movie_data.csv')\n",
    "# top_movie_data.head(2)"
   ]
  },
  {
   "cell_type": "code",
   "execution_count": 3,
   "metadata": {},
   "outputs": [],
   "source": [
    "top_movie_data = top_movie_data.rename(columns={'Unnamed: 0':'id'})"
   ]
  },
  {
   "cell_type": "code",
   "execution_count": 4,
   "metadata": {},
   "outputs": [
    {
     "data": {
      "text/html": [
       "<div>\n",
       "<style scoped>\n",
       "    .dataframe tbody tr th:only-of-type {\n",
       "        vertical-align: middle;\n",
       "    }\n",
       "\n",
       "    .dataframe tbody tr th {\n",
       "        vertical-align: top;\n",
       "    }\n",
       "\n",
       "    .dataframe thead th {\n",
       "        text-align: right;\n",
       "    }\n",
       "</style>\n",
       "<table border=\"1\" class=\"dataframe\">\n",
       "  <thead>\n",
       "    <tr style=\"text-align: right;\">\n",
       "      <th></th>\n",
       "      <th>id</th>\n",
       "      <th>영화명</th>\n",
       "      <th>감독</th>\n",
       "      <th>제작사</th>\n",
       "      <th>수입사</th>\n",
       "      <th>배급사</th>\n",
       "      <th>개봉일</th>\n",
       "      <th>영화유형</th>\n",
       "      <th>영화형태</th>\n",
       "      <th>국적</th>\n",
       "      <th>전국스크린수</th>\n",
       "      <th>전국매출액</th>\n",
       "      <th>전국관객수</th>\n",
       "      <th>서울매출액</th>\n",
       "      <th>서울관객수</th>\n",
       "      <th>장르</th>\n",
       "      <th>등급</th>\n",
       "      <th>영화구분</th>\n",
       "    </tr>\n",
       "  </thead>\n",
       "  <tbody>\n",
       "    <tr>\n",
       "      <th>0</th>\n",
       "      <td>0</td>\n",
       "      <td>어벤져스: 에이지 오브 울트론</td>\n",
       "      <td>조스 웨던</td>\n",
       "      <td>NaN</td>\n",
       "      <td>월트디즈니컴퍼니코리아(주)</td>\n",
       "      <td>월트디즈니컴퍼니코리아(주)</td>\n",
       "      <td>2015-04-23</td>\n",
       "      <td>개봉영화</td>\n",
       "      <td>장편</td>\n",
       "      <td>미국</td>\n",
       "      <td>1843</td>\n",
       "      <td>88582586366</td>\n",
       "      <td>10494499</td>\n",
       "      <td>25001906266</td>\n",
       "      <td>2823388</td>\n",
       "      <td>액션</td>\n",
       "      <td>12세이상관람가</td>\n",
       "      <td>일반영화</td>\n",
       "    </tr>\n",
       "    <tr>\n",
       "      <th>1</th>\n",
       "      <td>1</td>\n",
       "      <td>국제시장</td>\n",
       "      <td>윤제균</td>\n",
       "      <td>(주)제이케이필름,씨제이이앤엠(주)</td>\n",
       "      <td>NaN</td>\n",
       "      <td>씨제이이앤엠(주)</td>\n",
       "      <td>2014-12-17</td>\n",
       "      <td>개봉영화</td>\n",
       "      <td>장편</td>\n",
       "      <td>한국</td>\n",
       "      <td>966</td>\n",
       "      <td>69823893034</td>\n",
       "      <td>8911437</td>\n",
       "      <td>16331193634</td>\n",
       "      <td>2033863</td>\n",
       "      <td>드라마</td>\n",
       "      <td>12세이상관람가</td>\n",
       "      <td>일반영화</td>\n",
       "    </tr>\n",
       "  </tbody>\n",
       "</table>\n",
       "</div>"
      ],
      "text/plain": [
       "   id               영화명     감독                  제작사             수입사  \\\n",
       "0   0  어벤져스: 에이지 오브 울트론  조스 웨던                  NaN  월트디즈니컴퍼니코리아(주)   \n",
       "1   1              국제시장    윤제균  (주)제이케이필름,씨제이이앤엠(주)             NaN   \n",
       "\n",
       "              배급사         개봉일  영화유형 영화형태  국적  전국스크린수        전국매출액     전국관객수  \\\n",
       "0  월트디즈니컴퍼니코리아(주)  2015-04-23  개봉영화   장편  미국    1843  88582586366  10494499   \n",
       "1       씨제이이앤엠(주)  2014-12-17  개봉영화   장편  한국     966  69823893034   8911437   \n",
       "\n",
       "         서울매출액    서울관객수   장르        등급  영화구분  \n",
       "0  25001906266  2823388   액션  12세이상관람가  일반영화  \n",
       "1  16331193634  2033863  드라마  12세이상관람가  일반영화  "
      ]
     },
     "execution_count": 4,
     "metadata": {},
     "output_type": "execute_result"
    }
   ],
   "source": [
    "top_movie_data.head(2)"
   ]
  },
  {
   "cell_type": "code",
   "execution_count": 96,
   "metadata": {},
   "outputs": [
    {
     "data": {
      "text/plain": [
       "928"
      ]
     },
     "execution_count": 96,
     "metadata": {},
     "output_type": "execute_result"
    }
   ],
   "source": [
    "movie_title_list = list(top_movie_data['영화명'])\n",
    "len(movie_title_list)"
   ]
  },
  {
   "cell_type": "code",
   "execution_count": 97,
   "metadata": {},
   "outputs": [],
   "source": [
    "url = 'https://movie.naver.com/'\n",
    "driver = webdriver.Chrome()\n",
    "driver.get(url)"
   ]
  },
  {
   "cell_type": "code",
   "execution_count": 98,
   "metadata": {},
   "outputs": [],
   "source": [
    "code_datas = []\n",
    "title_datas = []\n",
    "comeout_date_datas = []\n",
    "expert_ratings_datas = []\n",
    "starring_actors_datas = []\n",
    "running_times_datas = []\n",
    "directors_datas = []"
   ]
  },
  {
   "cell_type": "code",
   "execution_count": 99,
   "metadata": {},
   "outputs": [],
   "source": [
    "# 영화코드부터 모으기"
   ]
  },
  {
   "cell_type": "code",
   "execution_count": 100,
   "metadata": {},
   "outputs": [],
   "source": [
    "driver.find_element_by_css_selector('#ipt_tx_srch').clear()"
   ]
  },
  {
   "cell_type": "code",
   "execution_count": null,
   "metadata": {},
   "outputs": [],
   "source": []
  },
  {
   "cell_type": "code",
   "execution_count": 101,
   "metadata": {},
   "outputs": [],
   "source": [
    "def check_response(selector, start_time):\n",
    "    if time.time() - start_time > 5:\n",
    "        return 0\n",
    "    try:\n",
    "        element = driver.find_element_by_css_selector(selector)\n",
    "        return 1\n",
    "    except Exception:\n",
    "        return check_response(selector, start_time)"
   ]
  },
  {
   "cell_type": "code",
   "execution_count": 102,
   "metadata": {},
   "outputs": [],
   "source": [
    "for i in range(0, len(movie_title_list)):\n",
    "    input_element = driver.find_element_by_css_selector('#ipt_tx_srch')\n",
    "    input_element.send_keys(movie_title_list[i])\n",
    "    result = check_response('#jAutoComplate', time.time())\n",
    "    \n",
    "    try:\n",
    "        driver.find_element_by_css_selector('#jAutoMV > ul > li > a').click()\n",
    "    except Exception:\n",
    "        try:\n",
    "            driver.find_element_by_css_selector('#jAutoMV > ul > li:nth-child(1) > a').click()\n",
    "        except Exception:\n",
    "            driver.find_element_by_css_selector('#ipt_tx_srch').clear()\n",
    "            code_data = {'N_movie_code' : '-'}\n",
    "            code_datas.append(code_data)\n",
    "            continue\n",
    "    \n",
    "    if result == 0:\n",
    "        code_data = {'N_movie_code' : '-'}\n",
    "        code_datas.append(code_data)\n",
    "        continue\n",
    "    \n",
    "    \n",
    "    splited_url = driver.current_url.split('code=')\n",
    "    code_data = {'N_movie_code' : splited_url[1]}\n",
    "    code_datas.append(code_data)"
   ]
  },
  {
   "cell_type": "code",
   "execution_count": 88,
   "metadata": {},
   "outputs": [],
   "source": [
    "# splited_url = driver.current_url.split('code=')\n",
    "# code_data = {'N_movie_code' : splited_url[1]}"
   ]
  },
  {
   "cell_type": "code",
   "execution_count": 104,
   "metadata": {},
   "outputs": [
    {
     "data": {
      "text/plain": [
       "928"
      ]
     },
     "execution_count": 104,
     "metadata": {},
     "output_type": "execute_result"
    }
   ],
   "source": [
    "len(code_datas)"
   ]
  },
  {
   "cell_type": "code",
   "execution_count": 110,
   "metadata": {},
   "outputs": [
    {
     "data": {
      "text/html": [
       "<div>\n",
       "<style scoped>\n",
       "    .dataframe tbody tr th:only-of-type {\n",
       "        vertical-align: middle;\n",
       "    }\n",
       "\n",
       "    .dataframe tbody tr th {\n",
       "        vertical-align: top;\n",
       "    }\n",
       "\n",
       "    .dataframe thead th {\n",
       "        text-align: right;\n",
       "    }\n",
       "</style>\n",
       "<table border=\"1\" class=\"dataframe\">\n",
       "  <thead>\n",
       "    <tr style=\"text-align: right;\">\n",
       "      <th></th>\n",
       "      <th>N_movie_code</th>\n",
       "    </tr>\n",
       "  </thead>\n",
       "  <tbody>\n",
       "    <tr>\n",
       "      <th>0</th>\n",
       "      <td>98438</td>\n",
       "    </tr>\n",
       "    <tr>\n",
       "      <th>1</th>\n",
       "      <td>102875</td>\n",
       "    </tr>\n",
       "    <tr>\n",
       "      <th>2</th>\n",
       "      <td>114249</td>\n",
       "    </tr>\n",
       "    <tr>\n",
       "      <th>3</th>\n",
       "      <td>191646</td>\n",
       "    </tr>\n",
       "    <tr>\n",
       "      <th>4</th>\n",
       "      <td>123596</td>\n",
       "    </tr>\n",
       "    <tr>\n",
       "      <th>...</th>\n",
       "      <td>...</td>\n",
       "    </tr>\n",
       "    <tr>\n",
       "      <th>923</th>\n",
       "      <td>174748</td>\n",
       "    </tr>\n",
       "    <tr>\n",
       "      <th>924</th>\n",
       "      <td>154298</td>\n",
       "    </tr>\n",
       "    <tr>\n",
       "      <th>925</th>\n",
       "      <td>186367</td>\n",
       "    </tr>\n",
       "    <tr>\n",
       "      <th>926</th>\n",
       "      <td>187787</td>\n",
       "    </tr>\n",
       "    <tr>\n",
       "      <th>927</th>\n",
       "      <td>183377</td>\n",
       "    </tr>\n",
       "  </tbody>\n",
       "</table>\n",
       "<p>928 rows × 1 columns</p>\n",
       "</div>"
      ],
      "text/plain": [
       "    N_movie_code\n",
       "0          98438\n",
       "1         102875\n",
       "2         114249\n",
       "3         191646\n",
       "4         123596\n",
       "..           ...\n",
       "923       174748\n",
       "924       154298\n",
       "925       186367\n",
       "926       187787\n",
       "927       183377\n",
       "\n",
       "[928 rows x 1 columns]"
      ]
     },
     "execution_count": 110,
     "metadata": {},
     "output_type": "execute_result"
    }
   ],
   "source": [
    "a = pd.DataFrame(code_datas)\n",
    "a"
   ]
  },
  {
   "cell_type": "code",
   "execution_count": 111,
   "metadata": {},
   "outputs": [
    {
     "data": {
      "text/html": [
       "<div>\n",
       "<style scoped>\n",
       "    .dataframe tbody tr th:only-of-type {\n",
       "        vertical-align: middle;\n",
       "    }\n",
       "\n",
       "    .dataframe tbody tr th {\n",
       "        vertical-align: top;\n",
       "    }\n",
       "\n",
       "    .dataframe thead th {\n",
       "        text-align: right;\n",
       "    }\n",
       "</style>\n",
       "<table border=\"1\" class=\"dataframe\">\n",
       "  <thead>\n",
       "    <tr style=\"text-align: right;\">\n",
       "      <th></th>\n",
       "      <th>N_movie_code</th>\n",
       "    </tr>\n",
       "  </thead>\n",
       "  <tbody>\n",
       "    <tr>\n",
       "      <th>363</th>\n",
       "      <td>-</td>\n",
       "    </tr>\n",
       "    <tr>\n",
       "      <th>545</th>\n",
       "      <td>-</td>\n",
       "    </tr>\n",
       "    <tr>\n",
       "      <th>718</th>\n",
       "      <td>-</td>\n",
       "    </tr>\n",
       "  </tbody>\n",
       "</table>\n",
       "</div>"
      ],
      "text/plain": [
       "    N_movie_code\n",
       "363            -\n",
       "545            -\n",
       "718            -"
      ]
     },
     "execution_count": 111,
     "metadata": {},
     "output_type": "execute_result"
    }
   ],
   "source": [
    "a[a['N_movie_code'] == '-']"
   ]
  },
  {
   "cell_type": "code",
   "execution_count": 123,
   "metadata": {},
   "outputs": [
    {
     "data": {
      "text/plain": [
       "N_movie_code    137887\n",
       "Name: 361, dtype: object"
      ]
     },
     "execution_count": 123,
     "metadata": {},
     "output_type": "execute_result"
    }
   ],
   "source": [
    "a.iloc[361]"
   ]
  },
  {
   "cell_type": "code",
   "execution_count": 120,
   "metadata": {},
   "outputs": [
    {
     "data": {
      "text/plain": [
       "id                           361\n",
       "영화명       바다 탐험대 옥토넛 시즌4: 늪지탐험선K\n",
       "감독                        다라 오코넬\n",
       "제작사                          NaN\n",
       "수입사                   (주)얼리버드픽쳐스\n",
       "배급사                   와이드 릴리즈(주)\n",
       "개봉일                   2016-09-28\n",
       "영화유형                        개봉영화\n",
       "영화형태                          장편\n",
       "국적                            영국\n",
       "전국스크린수                       164\n",
       "전국매출액                  420233500\n",
       "전국관객수                      69881\n",
       "서울매출액                  101644500\n",
       "서울관객수                      16874\n",
       "장르                         애니메이션\n",
       "등급                         전체관람가\n",
       "영화구분                     독립/예술영화\n",
       "Name: 361, dtype: object"
      ]
     },
     "execution_count": 120,
     "metadata": {},
     "output_type": "execute_result"
    }
   ],
   "source": [
    "top_movie_data.iloc[361]"
   ]
  },
  {
   "cell_type": "code",
   "execution_count": null,
   "metadata": {},
   "outputs": [],
   "source": []
  },
  {
   "cell_type": "code",
   "execution_count": null,
   "metadata": {},
   "outputs": [],
   "source": []
  },
  {
   "cell_type": "code",
   "execution_count": null,
   "metadata": {},
   "outputs": [],
   "source": []
  },
  {
   "cell_type": "code",
   "execution_count": null,
   "metadata": {},
   "outputs": [],
   "source": []
  },
  {
   "cell_type": "code",
   "execution_count": null,
   "metadata": {},
   "outputs": [],
   "source": [
    "url = 'https://movie.naver.com/movie/bi/mi/basic.nhn?code={}'.format(code)\n",
    "req = request.get(url)\n",
    "response = TextResponse(req.url, body=req.text, encoding=\"utf-8\")"
   ]
  },
  {
   "cell_type": "code",
   "execution_count": 103,
   "metadata": {},
   "outputs": [],
   "source": [
    "# 영화코드빼고 다른 데이터들 모으는 코드"
   ]
  },
  {
   "cell_type": "code",
   "execution_count": null,
   "metadata": {},
   "outputs": [],
   "source": [
    "for _, value in enumerate(code_datas):\n",
    "    \n",
    "    if code == '-':\n",
    "        \n",
    "        title_data = {'title': '-'}\n",
    "        comeout_date_data = {'comeout_date': '-'}\n",
    "        expert_rating_data = {'expert_rating': '-'}\n",
    "        starring_actors_data = {'starring_actors': '-'}\n",
    "        running_times_data = {'running_times': '-'}\n",
    "        directors_data = {'directors': '-'}\n",
    "        \n",
    "        title_datas.append(title_data)\n",
    "        comeout_date_datas.append(comeout_date_data)\n",
    "        expert_ratings_datas.append(expert_rating_data)\n",
    "        starring_actors_datas.append(starring_actors_data)\n",
    "        running_times_datas.append(running_times_data)\n",
    "        directors_datas.append(directors_data)\n",
    "        \n",
    "        continue\n",
    "        \n",
    "    \n",
    "    url = 'https://movie.naver.com/movie/bi/mi/basic.nhn?code={}'.format(value['N_movie_code'])\n",
    "    req = request.get(url)\n",
    "    response = TextResponse(req.url, body=req.text, encoding=\"utf-8\")\n",
    "    \n",
    "    title = driver.find_element_by_css_selector('#content > div.article > div.mv_info_area > div.mv_info > h3 > a').text\n",
    "    title_data = {'title': title}\n",
    "    \n",
    "    comeout_date_element = driver.find_element_by_css_selector('#content > div.article > div.mv_info_area > div.mv_info > strong')\n",
    "    try:          \n",
    "        date = comeout_date_element.text.split(',')\n",
    "        if len(date) == 1:\n",
    "            date = date[0].strip()\n",
    "        else:\n",
    "            date = date[1].strip()     \n",
    "    except Exception:\n",
    "        date = '-'\n",
    "        \n",
    "    comeout_date_data = {'comeout_date': date}\n",
    "        \n",
    "    try:    \n",
    "        expert_element = driver.find_element_by_css_selector('#content > div.article > div.mv_info_area > div.mv_info > div.main_score > div:nth-child(2) > div > a > div')\n",
    "        expert_rating = expert_element.text\n",
    "    except Exception:\n",
    "        expert_rating = '-'\n",
    "    expert_rating_data = {'expert_rating': expert_rating}\n",
    "    \n",
    "    try:\n",
    "        starring_actors_element = driver.find_element_by_css_selector('#content > div.article > div.mv_info_area > div.mv_info > dl > dd:nth-child(6) > p')\n",
    "        starring_actors = starring_actors_element.text\n",
    "    except Exception:\n",
    "        starring_actors = '-'\n",
    "    starring_actors_data = {'starring_actors': starring_actors}\n",
    "    \n",
    "    try:\n",
    "        running_times_element = driver.find_element_by_css_selector('#content > div.article > div.mv_info_area > div.mv_info > dl > dd:nth-child(2) > p > span:nth-child(3)')\n",
    "        running_times = running_times_element.text\n",
    "    except Exception:\n",
    "        running_times = '-'\n",
    "    running_times_data = {'running_times': running_times}\n",
    "    \n",
    "    try:\n",
    "        directors_element = driver.find_element_by_css_selector('#content > div.article > div.mv_info_area > div.mv_info > dl > dd:nth-child(4) > p')\n",
    "        directors = directors_element.text\n",
    "    except Exception:\n",
    "        directors = '-'\n",
    "    directors_data = {'directors': directors}\n",
    "        \n",
    "\n",
    "    title_datas.append(title_data)\n",
    "    comeout_date_datas.append(comeout_date_data)\n",
    "    expert_ratings_datas.append(expert_rating_data)\n",
    "    starring_actors_datas.append(starring_actors_data)\n",
    "    running_times_datas.append(running_times_data)\n",
    "    directors_datas.append(directors_data)"
   ]
  },
  {
   "cell_type": "code",
   "execution_count": null,
   "metadata": {},
   "outputs": [],
   "source": []
  },
  {
   "cell_type": "code",
   "execution_count": null,
   "metadata": {},
   "outputs": [],
   "source": []
  },
  {
   "cell_type": "code",
   "execution_count": null,
   "metadata": {},
   "outputs": [],
   "source": []
  },
  {
   "cell_type": "code",
   "execution_count": null,
   "metadata": {},
   "outputs": [],
   "source": []
  },
  {
   "cell_type": "code",
   "execution_count": null,
   "metadata": {},
   "outputs": [],
   "source": []
  },
  {
   "cell_type": "code",
   "execution_count": null,
   "metadata": {},
   "outputs": [],
   "source": []
  },
  {
   "cell_type": "code",
   "execution_count": null,
   "metadata": {},
   "outputs": [],
   "source": []
  },
  {
   "cell_type": "code",
   "execution_count": null,
   "metadata": {},
   "outputs": [],
   "source": []
  },
  {
   "cell_type": "code",
   "execution_count": null,
   "metadata": {},
   "outputs": [],
   "source": []
  },
  {
   "cell_type": "code",
   "execution_count": null,
   "metadata": {},
   "outputs": [],
   "source": []
  },
  {
   "cell_type": "code",
   "execution_count": null,
   "metadata": {},
   "outputs": [],
   "source": []
  },
  {
   "cell_type": "code",
   "execution_count": null,
   "metadata": {},
   "outputs": [],
   "source": []
  },
  {
   "cell_type": "code",
   "execution_count": null,
   "metadata": {},
   "outputs": [],
   "source": []
  },
  {
   "cell_type": "code",
   "execution_count": null,
   "metadata": {},
   "outputs": [],
   "source": []
  },
  {
   "cell_type": "code",
   "execution_count": null,
   "metadata": {},
   "outputs": [],
   "source": []
  },
  {
   "cell_type": "code",
   "execution_count": 6,
   "metadata": {},
   "outputs": [],
   "source": [
    "url = 'https://movie.naver.com/'\n",
    "driver = webdriver.Chrome()\n",
    "driver.get(url)"
   ]
  },
  {
   "cell_type": "code",
   "execution_count": 14,
   "metadata": {},
   "outputs": [],
   "source": [
    "code_datas = []\n",
    "title_datas = []\n",
    "comeout_date_datas = []\n",
    "expert_ratings_datas = []\n",
    "starring_actors_datas = []\n",
    "running_times_datas = []\n",
    "directors_datas = []"
   ]
  },
  {
   "cell_type": "code",
   "execution_count": 13,
   "metadata": {},
   "outputs": [],
   "source": [
    "def check_response(selector, start_time):\n",
    "    if time.time() - start_time > 5:\n",
    "        raise Exception\n",
    "        return\n",
    "    try:\n",
    "        element = driver.find_element_by_css_selector(selector)\n",
    "    except Exception:\n",
    "        return check_response(selector, start_time)"
   ]
  },
  {
   "cell_type": "code",
   "execution_count": 70,
   "metadata": {},
   "outputs": [],
   "source": [
    "for i in range(719, len(movie_title_list)):\n",
    "    input_element = driver.find_element_by_css_selector('#ipt_tx_srch')\n",
    "    input_element.send_keys(movie_title_list[i])\n",
    "    check_response('#jAutoComplate', time.time())\n",
    "    \n",
    "    \n",
    "    try:\n",
    "        driver.find_element_by_css_selector('#jAutoMV > ul > li > a').click()\n",
    "    except Exception:\n",
    "        driver.find_element_by_css_selector('#jAutoMV > ul > li:nth-child(1) > a').click()\n",
    "        \n",
    "    check_response('#content > div.article > div.mv_info_area > div.mv_info', time.time())\n",
    "    \n",
    "        \n",
    "    splited_url = driver.current_url.split('code=')\n",
    "    code_data = {'N_movie_code' : splited_url[1]}\n",
    "    \n",
    "    title = driver.find_element_by_css_selector('#content > div.article > div.mv_info_area > div.mv_info > h3 > a').text\n",
    "    title_data = {'title': title}\n",
    "    \n",
    "    comeout_date_element = driver.find_element_by_css_selector('#content > div.article > div.mv_info_area > div.mv_info > strong')\n",
    "    try:          \n",
    "        date = comeout_date_element.text.split(',')\n",
    "        if len(date) == 1:\n",
    "            date = date[0].strip()\n",
    "        else:\n",
    "            date = date[1].strip()     \n",
    "    except Exception:\n",
    "        date = '-'\n",
    "        \n",
    "    comeout_date_data = {'comeout_date': date}\n",
    "        \n",
    "    try:    \n",
    "        expert_element = driver.find_element_by_css_selector('#content > div.article > div.mv_info_area > div.mv_info > div.main_score > div:nth-child(2) > div > a > div')\n",
    "        expert_rating = expert_element.text\n",
    "    except Exception:\n",
    "        expert_rating = '-'\n",
    "    expert_rating_data = {'expert_rating': expert_rating}\n",
    "    \n",
    "    try:\n",
    "        starring_actors_element = driver.find_element_by_css_selector('#content > div.article > div.mv_info_area > div.mv_info > dl > dd:nth-child(6) > p')\n",
    "        starring_actors = starring_actors_element.text\n",
    "    except Exception:\n",
    "        starring_actors = '-'\n",
    "    starring_actors_data = {'starring_actors': starring_actors}\n",
    "    \n",
    "    try:\n",
    "        running_times_element = driver.find_element_by_css_selector('#content > div.article > div.mv_info_area > div.mv_info > dl > dd:nth-child(2) > p > span:nth-child(3)')\n",
    "        running_times = running_times_element.text\n",
    "    except Exception:\n",
    "        running_times = '-'\n",
    "    running_times_data = {'running_times': running_times}\n",
    "    \n",
    "    try:\n",
    "        directors_element = driver.find_element_by_css_selector('#content > div.article > div.mv_info_area > div.mv_info > dl > dd:nth-child(4) > p')\n",
    "        directors = directors_element.text\n",
    "    except Exception:\n",
    "        directors = '-'\n",
    "    directors_data = {'directors': directors}\n",
    "        \n",
    "    \n",
    "    code_datas.append(code_data)\n",
    "    title_datas.append(title_data)\n",
    "    comeout_date_datas.append(comeout_date_data)\n",
    "    expert_ratings_datas.append(expert_rating_data)\n",
    "    starring_actors_datas.append(starring_actors_data)\n",
    "    running_times_datas.append(running_times_data)\n",
    "    directors_datas.append(directors_data)\n",
    "    \n",
    "    "
   ]
  },
  {
   "cell_type": "code",
   "execution_count": 15,
   "metadata": {},
   "outputs": [],
   "source": [
    "# element = driver.find_element_by_css_selector('#jAutoMV > ul > li:nth-child(1) > a').click()\n",
    "# elements[0].text\n",
    "# elements[1].text\n",
    "# element.text.split(',')[0].strip()\n",
    "# element.text\n",
    "# element\n",
    "        \n",
    "        "
   ]
  },
  {
   "cell_type": "code",
   "execution_count": null,
   "metadata": {},
   "outputs": [],
   "source": []
  },
  {
   "cell_type": "code",
   "execution_count": 71,
   "metadata": {},
   "outputs": [
    {
     "data": {
      "text/plain": [
       "928"
      ]
     },
     "execution_count": 71,
     "metadata": {},
     "output_type": "execute_result"
    }
   ],
   "source": [
    "len(directors_datas)"
   ]
  },
  {
   "cell_type": "code",
   "execution_count": 21,
   "metadata": {},
   "outputs": [],
   "source": [
    "# starring_actors_datas"
   ]
  },
  {
   "cell_type": "code",
   "execution_count": 7,
   "metadata": {},
   "outputs": [],
   "source": [
    "# len(datas)"
   ]
  },
  {
   "cell_type": "code",
   "execution_count": 63,
   "metadata": {},
   "outputs": [
    {
     "data": {
      "text/plain": [
       "'독전: 익스텐디드 컷'"
      ]
     },
     "execution_count": 63,
     "metadata": {},
     "output_type": "execute_result"
    }
   ],
   "source": [
    "movie_title_list[718]"
   ]
  },
  {
   "cell_type": "code",
   "execution_count": 68,
   "metadata": {},
   "outputs": [
    {
     "data": {
      "text/plain": [
       "{'directors': '이해영'}"
      ]
     },
     "execution_count": 68,
     "metadata": {},
     "output_type": "execute_result"
    }
   ],
   "source": [
    "directors_datas[718]"
   ]
  },
  {
   "cell_type": "code",
   "execution_count": 69,
   "metadata": {},
   "outputs": [
    {
     "data": {
      "text/plain": [
       "{'running_times': '123분'}"
      ]
     },
     "execution_count": 69,
     "metadata": {},
     "output_type": "execute_result"
    }
   ],
   "source": [
    "running_times_datas[718]"
   ]
  },
  {
   "cell_type": "code",
   "execution_count": 177,
   "metadata": {},
   "outputs": [],
   "source": [
    "# datas[927]"
   ]
  },
  {
   "cell_type": "code",
   "execution_count": 175,
   "metadata": {},
   "outputs": [],
   "source": [
    "# df.at[3, 'N_movie_code'] = '67786' 수동으로 영화코드 수정 (필요한 경우)"
   ]
  },
  {
   "cell_type": "code",
   "execution_count": 217,
   "metadata": {},
   "outputs": [],
   "source": [
    "# df.to_csv('code_added_df.csv', mode='w')"
   ]
  },
  {
   "cell_type": "code",
   "execution_count": null,
   "metadata": {},
   "outputs": [],
   "source": []
  },
  {
   "cell_type": "code",
   "execution_count": null,
   "metadata": {},
   "outputs": [],
   "source": [
    "# code_datas.append({'N_movie_code' : '-'})\n",
    "# title_datas.append({'title': '-'})\n",
    "# comeout_date_datas.append({'comeout_date': '-'})\n",
    "# expert_ratings_datas.append({'expert_rating': '-'})\n",
    "# starring_actors_datas.append({'starring_actors': '-'})\n",
    "# running_times_datas.append({'running_times': '-'})\n",
    "# directors_datas.append({'directors': '-'})"
   ]
  },
  {
   "cell_type": "code",
   "execution_count": 45,
   "metadata": {},
   "outputs": [],
   "source": [
    "del code_datas[len(code_datas) - 1]\n",
    "del title_datas[len(title_datas) - 1]\n",
    "del comeout_date_datas[len(comeout_date_datas) - 1]\n",
    "del expert_ratings_datas[len(expert_ratings_datas) - 1]\n",
    "del starring_actors_datas[len(starring_actors_datas) - 1]\n",
    "del running_times_datas[len(running_times_datas) - 1]\n",
    "del directors_datas[len(directors_datas) - 1]"
   ]
  },
  {
   "cell_type": "code",
   "execution_count": 115,
   "metadata": {},
   "outputs": [
    {
     "data": {
      "text/plain": [
       "718"
      ]
     },
     "execution_count": 115,
     "metadata": {},
     "output_type": "execute_result"
    }
   ],
   "source": [
    "len(directors_datas)"
   ]
  },
  {
   "cell_type": "code",
   "execution_count": null,
   "metadata": {},
   "outputs": [],
   "source": []
  },
  {
   "cell_type": "code",
   "execution_count": null,
   "metadata": {},
   "outputs": [],
   "source": []
  },
  {
   "cell_type": "code",
   "execution_count": null,
   "metadata": {},
   "outputs": [],
   "source": []
  },
  {
   "cell_type": "code",
   "execution_count": 30,
   "metadata": {},
   "outputs": [],
   "source": [
    "def once():    \n",
    "    try:\n",
    "        driver.find_element_by_css_selector('#jAutoMV > ul > li > a').click()\n",
    "    except Exception:\n",
    "        driver.find_element_by_css_selector('#jAutoMV > ul > li:nth-child(1) > a').click()\n",
    "        \n",
    "    check_response('#content > div.article > div.mv_info_area > div.mv_info', time.time())\n",
    "    \n",
    "        \n",
    "    splited_url = driver.current_url.split('code=')\n",
    "    code_data = {'N_movie_code' : splited_url[1]}\n",
    "    \n",
    "    title = driver.find_element_by_css_selector('#content > div.article > div.mv_info_area > div.mv_info > h3 > a').text\n",
    "    title_data = {'title': title}\n",
    "    \n",
    "    comeout_date_element = driver.find_element_by_css_selector('#content > div.article > div.mv_info_area > div.mv_info > strong')\n",
    "    try:          \n",
    "        date = comeout_date_element.text.split(',')\n",
    "        if len(date) == 1:\n",
    "            date = date[0].strip()\n",
    "        else:\n",
    "            date = date[1].strip()     \n",
    "    except Exception:\n",
    "        date = '-'\n",
    "        \n",
    "    comeout_date_data = {'comeout_date': date}\n",
    "        \n",
    "    try:    \n",
    "        expert_element = driver.find_element_by_css_selector('#content > div.article > div.mv_info_area > div.mv_info > div.main_score > div:nth-child(2) > div > a > div')\n",
    "        expert_rating = expert_element.text\n",
    "    except Exception:\n",
    "        expert_rating = '-'\n",
    "    expert_rating_data = {'expert_rating': expert_rating}\n",
    "    \n",
    "    try:\n",
    "        starring_actors_element = driver.find_element_by_css_selector('#content > div.article > div.mv_info_area > div.mv_info > dl > dd:nth-child(6) > p')\n",
    "        starring_actors = starring_actors_element.text\n",
    "    except Exception:\n",
    "        starring_actors = '-'\n",
    "    starring_actors_data = {'starring_actors': starring_actors}\n",
    "    \n",
    "    try:\n",
    "        running_times_element = driver.find_element_by_css_selector('#content > div.article > div.mv_info_area > div.mv_info > dl > dd:nth-child(2) > p > span:nth-child(3)')\n",
    "        running_times = running_times_element.text\n",
    "    except Exception:\n",
    "        running_times = '-'\n",
    "    running_times_data = {'running_times': running_times}\n",
    "    \n",
    "    try:\n",
    "        directors_element = driver.find_element_by_css_selector('#content > div.article > div.mv_info_area > div.mv_info > dl > dd:nth-child(4) > p')\n",
    "        directors = directors_element.text\n",
    "    except Exception:\n",
    "        directors = '-'\n",
    "    directors_data = {'directors': directors}\n",
    "        \n",
    "    \n",
    "    code_datas.append(code_data)\n",
    "    title_datas.append(title_data)\n",
    "    comeout_date_datas.append(comeout_date_data)\n",
    "    expert_ratings_datas.append(expert_rating_data)\n",
    "    starring_actors_datas.append(starring_actors_data)\n",
    "    running_times_datas.append(running_times_data)\n",
    "    directors_datas.append(directors_data)\n",
    "    "
   ]
  },
  {
   "cell_type": "code",
   "execution_count": 67,
   "metadata": {},
   "outputs": [],
   "source": [
    "once()"
   ]
  },
  {
   "cell_type": "code",
   "execution_count": 72,
   "metadata": {},
   "outputs": [],
   "source": [
    "df1 = pd.DataFrame(code_datas)\n",
    "df2 = pd.DataFrame(title_datas)\n",
    "df3 = pd.DataFrame(comeout_date_datas)\n",
    "df4 = pd.DataFrame(expert_ratings_datas)\n",
    "df5 = pd.DataFrame(starring_actors_datas)\n",
    "df6 = pd.DataFrame(running_times_datas)\n",
    "df7 = pd.DataFrame(directors_datas)"
   ]
  },
  {
   "cell_type": "code",
   "execution_count": 73,
   "metadata": {},
   "outputs": [
    {
     "data": {
      "text/plain": [
       "(928, 928, 928, 928, 928, 928, 928)"
      ]
     },
     "execution_count": 73,
     "metadata": {},
     "output_type": "execute_result"
    }
   ],
   "source": [
    "len(df1), len(df2), len(df3), len(df4), len(df5), len(df6), len(df7)"
   ]
  },
  {
   "cell_type": "code",
   "execution_count": 74,
   "metadata": {},
   "outputs": [
    {
     "data": {
      "text/html": [
       "<div>\n",
       "<style scoped>\n",
       "    .dataframe tbody tr th:only-of-type {\n",
       "        vertical-align: middle;\n",
       "    }\n",
       "\n",
       "    .dataframe tbody tr th {\n",
       "        vertical-align: top;\n",
       "    }\n",
       "\n",
       "    .dataframe thead th {\n",
       "        text-align: right;\n",
       "    }\n",
       "</style>\n",
       "<table border=\"1\" class=\"dataframe\">\n",
       "  <thead>\n",
       "    <tr style=\"text-align: right;\">\n",
       "      <th></th>\n",
       "      <th>N_movie_code</th>\n",
       "      <th>title</th>\n",
       "      <th>comeout_date</th>\n",
       "      <th>expert_rating</th>\n",
       "      <th>starring_actors</th>\n",
       "      <th>running_times</th>\n",
       "      <th>directors</th>\n",
       "    </tr>\n",
       "  </thead>\n",
       "  <tbody>\n",
       "    <tr>\n",
       "      <th>0</th>\n",
       "      <td>98438</td>\n",
       "      <td>어벤져스: 에이지 오브 울트론</td>\n",
       "      <td>2015</td>\n",
       "      <td>6.92</td>\n",
       "      <td>로버트 다우니 주니어(토니 스타크 / 아이언맨), 크리스 헴스워스(토르), 마크 러...</td>\n",
       "      <td>141분</td>\n",
       "      <td>조스 웨던</td>\n",
       "    </tr>\n",
       "    <tr>\n",
       "      <th>1</th>\n",
       "      <td>102875</td>\n",
       "      <td>국제시장</td>\n",
       "      <td>2014</td>\n",
       "      <td>5.81</td>\n",
       "      <td>황정민(덕수), 김윤진(영자), 오달수(달구)</td>\n",
       "      <td>126분</td>\n",
       "      <td>윤제균</td>\n",
       "    </tr>\n",
       "    <tr>\n",
       "      <th>2</th>\n",
       "      <td>114249</td>\n",
       "      <td>킹스맨 : 시크릿 에이전트</td>\n",
       "      <td>2015</td>\n",
       "      <td>7.58</td>\n",
       "      <td>콜린 퍼스(해리), 태런 에저튼(에그시), 사무엘 L. 잭슨(발렌타인)</td>\n",
       "      <td>128분</td>\n",
       "      <td>매튜 본</td>\n",
       "    </tr>\n",
       "    <tr>\n",
       "      <th>3</th>\n",
       "      <td>191646</td>\n",
       "      <td>쥬라기 월드: 도미니언</td>\n",
       "      <td>2021</td>\n",
       "      <td>-</td>\n",
       "      <td>크리스 프랫, 브라이스 달라스 하워드</td>\n",
       "      <td>2021 .06.10 개봉</td>\n",
       "      <td>콜린 트레보로우</td>\n",
       "    </tr>\n",
       "    <tr>\n",
       "      <th>4</th>\n",
       "      <td>123596</td>\n",
       "      <td>조선명탐정 : 사라진 놉의 딸</td>\n",
       "      <td>2014</td>\n",
       "      <td>5.85</td>\n",
       "      <td>김명민(명탐정 김민), 오달수(서필), 이연희(히사코)</td>\n",
       "      <td>125분</td>\n",
       "      <td>김석윤</td>\n",
       "    </tr>\n",
       "    <tr>\n",
       "      <th>...</th>\n",
       "      <td>...</td>\n",
       "      <td>...</td>\n",
       "      <td>...</td>\n",
       "      <td>...</td>\n",
       "      <td>...</td>\n",
       "      <td>...</td>\n",
       "      <td>...</td>\n",
       "    </tr>\n",
       "    <tr>\n",
       "      <th>923</th>\n",
       "      <td>174748</td>\n",
       "      <td>프란치스코 교황: 맨 오브 히스 워드</td>\n",
       "      <td>2018</td>\n",
       "      <td>6.33</td>\n",
       "      <td>프란치스코(본인)</td>\n",
       "      <td>96분</td>\n",
       "      <td>빔 벤더스</td>\n",
       "    </tr>\n",
       "    <tr>\n",
       "      <th>924</th>\n",
       "      <td>154298</td>\n",
       "      <td>아이리시맨</td>\n",
       "      <td>2019</td>\n",
       "      <td>9.11</td>\n",
       "      <td>로버트 드 니로(프랭크 시런), 알 파치노(지미 호파), 조 페시(러셀 버팔리노)</td>\n",
       "      <td>209분</td>\n",
       "      <td>마틴 스코세이지</td>\n",
       "    </tr>\n",
       "    <tr>\n",
       "      <th>925</th>\n",
       "      <td>186367</td>\n",
       "      <td>빅 위시</td>\n",
       "      <td>Salma's Big Wish</td>\n",
       "      <td>6.00</td>\n",
       "      <td>[국내] 전체 관람가</td>\n",
       "      <td>79분</td>\n",
       "      <td>카를로스 구티에레스 메드라노</td>\n",
       "    </tr>\n",
       "    <tr>\n",
       "      <th>926</th>\n",
       "      <td>187787</td>\n",
       "      <td>너를 만난 여름</td>\n",
       "      <td>My Best Summer</td>\n",
       "      <td>5.50</td>\n",
       "      <td>진비우(위화이), 하람두(겅겅)</td>\n",
       "      <td>109분</td>\n",
       "      <td>장적사</td>\n",
       "    </tr>\n",
       "    <tr>\n",
       "      <th>927</th>\n",
       "      <td>183377</td>\n",
       "      <td>100일 동안 100가지로 100퍼센트 행복찾기</td>\n",
       "      <td>100 Things</td>\n",
       "      <td>5.50</td>\n",
       "      <td>플로리안 데이비드 핏츠(폴), 마치아스 슈와바이어퍼(토니)</td>\n",
       "      <td>111분</td>\n",
       "      <td>플로리안 데이비드 핏츠</td>\n",
       "    </tr>\n",
       "  </tbody>\n",
       "</table>\n",
       "<p>928 rows × 7 columns</p>\n",
       "</div>"
      ],
      "text/plain": [
       "    N_movie_code                       title      comeout_date expert_rating  \\\n",
       "0          98438            어벤져스: 에이지 오브 울트론              2015          6.92   \n",
       "1         102875                        국제시장              2014          5.81   \n",
       "2         114249              킹스맨 : 시크릿 에이전트              2015          7.58   \n",
       "3         191646                쥬라기 월드: 도미니언              2021             -   \n",
       "4         123596            조선명탐정 : 사라진 놉의 딸              2014          5.85   \n",
       "..           ...                         ...               ...           ...   \n",
       "923       174748        프란치스코 교황: 맨 오브 히스 워드              2018          6.33   \n",
       "924       154298                       아이리시맨              2019          9.11   \n",
       "925       186367                        빅 위시  Salma's Big Wish          6.00   \n",
       "926       187787                    너를 만난 여름    My Best Summer          5.50   \n",
       "927       183377  100일 동안 100가지로 100퍼센트 행복찾기        100 Things          5.50   \n",
       "\n",
       "                                       starring_actors   running_times  \\\n",
       "0    로버트 다우니 주니어(토니 스타크 / 아이언맨), 크리스 헴스워스(토르), 마크 러...            141분   \n",
       "1                            황정민(덕수), 김윤진(영자), 오달수(달구)            126분   \n",
       "2              콜린 퍼스(해리), 태런 에저튼(에그시), 사무엘 L. 잭슨(발렌타인)            128분   \n",
       "3                                 크리스 프랫, 브라이스 달라스 하워드  2021 .06.10 개봉   \n",
       "4                       김명민(명탐정 김민), 오달수(서필), 이연희(히사코)            125분   \n",
       "..                                                 ...             ...   \n",
       "923                                          프란치스코(본인)             96분   \n",
       "924      로버트 드 니로(프랭크 시런), 알 파치노(지미 호파), 조 페시(러셀 버팔리노)            209분   \n",
       "925                                        [국내] 전체 관람가             79분   \n",
       "926                                  진비우(위화이), 하람두(겅겅)            109분   \n",
       "927                   플로리안 데이비드 핏츠(폴), 마치아스 슈와바이어퍼(토니)            111분   \n",
       "\n",
       "           directors  \n",
       "0              조스 웨던  \n",
       "1                윤제균  \n",
       "2               매튜 본  \n",
       "3           콜린 트레보로우  \n",
       "4                김석윤  \n",
       "..               ...  \n",
       "923            빔 벤더스  \n",
       "924         마틴 스코세이지  \n",
       "925  카를로스 구티에레스 메드라노  \n",
       "926              장적사  \n",
       "927     플로리안 데이비드 핏츠  \n",
       "\n",
       "[928 rows x 7 columns]"
      ]
     },
     "execution_count": 74,
     "metadata": {},
     "output_type": "execute_result"
    }
   ],
   "source": [
    "new_df = pd.concat([df1, df2, df3, df4, df5, df6, df7], axis=1)\n",
    "new_df"
   ]
  },
  {
   "cell_type": "code",
   "execution_count": 75,
   "metadata": {},
   "outputs": [
    {
     "data": {
      "text/html": [
       "<div>\n",
       "<style scoped>\n",
       "    .dataframe tbody tr th:only-of-type {\n",
       "        vertical-align: middle;\n",
       "    }\n",
       "\n",
       "    .dataframe tbody tr th {\n",
       "        vertical-align: top;\n",
       "    }\n",
       "\n",
       "    .dataframe thead th {\n",
       "        text-align: right;\n",
       "    }\n",
       "</style>\n",
       "<table border=\"1\" class=\"dataframe\">\n",
       "  <thead>\n",
       "    <tr style=\"text-align: right;\">\n",
       "      <th></th>\n",
       "      <th>N_movie_code</th>\n",
       "      <th>title</th>\n",
       "      <th>comeout_date</th>\n",
       "      <th>expert_rating</th>\n",
       "      <th>starring_actors</th>\n",
       "      <th>running_times</th>\n",
       "      <th>directors</th>\n",
       "    </tr>\n",
       "  </thead>\n",
       "  <tbody>\n",
       "    <tr>\n",
       "      <th>0</th>\n",
       "      <td>98438</td>\n",
       "      <td>어벤져스: 에이지 오브 울트론</td>\n",
       "      <td>2015</td>\n",
       "      <td>6.92</td>\n",
       "      <td>로버트 다우니 주니어(토니 스타크 / 아이언맨), 크리스 헴스워스(토르), 마크 러...</td>\n",
       "      <td>141분</td>\n",
       "      <td>조스 웨던</td>\n",
       "    </tr>\n",
       "    <tr>\n",
       "      <th>1</th>\n",
       "      <td>102875</td>\n",
       "      <td>국제시장</td>\n",
       "      <td>2014</td>\n",
       "      <td>5.81</td>\n",
       "      <td>황정민(덕수), 김윤진(영자), 오달수(달구)</td>\n",
       "      <td>126분</td>\n",
       "      <td>윤제균</td>\n",
       "    </tr>\n",
       "    <tr>\n",
       "      <th>2</th>\n",
       "      <td>114249</td>\n",
       "      <td>킹스맨 : 시크릿 에이전트</td>\n",
       "      <td>2015</td>\n",
       "      <td>7.58</td>\n",
       "      <td>콜린 퍼스(해리), 태런 에저튼(에그시), 사무엘 L. 잭슨(발렌타인)</td>\n",
       "      <td>128분</td>\n",
       "      <td>매튜 본</td>\n",
       "    </tr>\n",
       "    <tr>\n",
       "      <th>3</th>\n",
       "      <td>191646</td>\n",
       "      <td>쥬라기 월드: 도미니언</td>\n",
       "      <td>2021</td>\n",
       "      <td>-</td>\n",
       "      <td>크리스 프랫, 브라이스 달라스 하워드</td>\n",
       "      <td>2021 .06.10 개봉</td>\n",
       "      <td>콜린 트레보로우</td>\n",
       "    </tr>\n",
       "    <tr>\n",
       "      <th>4</th>\n",
       "      <td>123596</td>\n",
       "      <td>조선명탐정 : 사라진 놉의 딸</td>\n",
       "      <td>2014</td>\n",
       "      <td>5.85</td>\n",
       "      <td>김명민(명탐정 김민), 오달수(서필), 이연희(히사코)</td>\n",
       "      <td>125분</td>\n",
       "      <td>김석윤</td>\n",
       "    </tr>\n",
       "    <tr>\n",
       "      <th>...</th>\n",
       "      <td>...</td>\n",
       "      <td>...</td>\n",
       "      <td>...</td>\n",
       "      <td>...</td>\n",
       "      <td>...</td>\n",
       "      <td>...</td>\n",
       "      <td>...</td>\n",
       "    </tr>\n",
       "    <tr>\n",
       "      <th>923</th>\n",
       "      <td>174748</td>\n",
       "      <td>프란치스코 교황: 맨 오브 히스 워드</td>\n",
       "      <td>2018</td>\n",
       "      <td>6.33</td>\n",
       "      <td>프란치스코(본인)</td>\n",
       "      <td>96분</td>\n",
       "      <td>빔 벤더스</td>\n",
       "    </tr>\n",
       "    <tr>\n",
       "      <th>924</th>\n",
       "      <td>154298</td>\n",
       "      <td>아이리시맨</td>\n",
       "      <td>2019</td>\n",
       "      <td>9.11</td>\n",
       "      <td>로버트 드 니로(프랭크 시런), 알 파치노(지미 호파), 조 페시(러셀 버팔리노)</td>\n",
       "      <td>209분</td>\n",
       "      <td>마틴 스코세이지</td>\n",
       "    </tr>\n",
       "    <tr>\n",
       "      <th>925</th>\n",
       "      <td>186367</td>\n",
       "      <td>빅 위시</td>\n",
       "      <td>Salma's Big Wish</td>\n",
       "      <td>6.00</td>\n",
       "      <td>[국내] 전체 관람가</td>\n",
       "      <td>79분</td>\n",
       "      <td>카를로스 구티에레스 메드라노</td>\n",
       "    </tr>\n",
       "    <tr>\n",
       "      <th>926</th>\n",
       "      <td>187787</td>\n",
       "      <td>너를 만난 여름</td>\n",
       "      <td>My Best Summer</td>\n",
       "      <td>5.50</td>\n",
       "      <td>진비우(위화이), 하람두(겅겅)</td>\n",
       "      <td>109분</td>\n",
       "      <td>장적사</td>\n",
       "    </tr>\n",
       "    <tr>\n",
       "      <th>927</th>\n",
       "      <td>183377</td>\n",
       "      <td>100일 동안 100가지로 100퍼센트 행복찾기</td>\n",
       "      <td>100 Things</td>\n",
       "      <td>5.50</td>\n",
       "      <td>플로리안 데이비드 핏츠(폴), 마치아스 슈와바이어퍼(토니)</td>\n",
       "      <td>111분</td>\n",
       "      <td>플로리안 데이비드 핏츠</td>\n",
       "    </tr>\n",
       "  </tbody>\n",
       "</table>\n",
       "<p>909 rows × 7 columns</p>\n",
       "</div>"
      ],
      "text/plain": [
       "    N_movie_code                       title      comeout_date expert_rating  \\\n",
       "0          98438            어벤져스: 에이지 오브 울트론              2015          6.92   \n",
       "1         102875                        국제시장              2014          5.81   \n",
       "2         114249              킹스맨 : 시크릿 에이전트              2015          7.58   \n",
       "3         191646                쥬라기 월드: 도미니언              2021             -   \n",
       "4         123596            조선명탐정 : 사라진 놉의 딸              2014          5.85   \n",
       "..           ...                         ...               ...           ...   \n",
       "923       174748        프란치스코 교황: 맨 오브 히스 워드              2018          6.33   \n",
       "924       154298                       아이리시맨              2019          9.11   \n",
       "925       186367                        빅 위시  Salma's Big Wish          6.00   \n",
       "926       187787                    너를 만난 여름    My Best Summer          5.50   \n",
       "927       183377  100일 동안 100가지로 100퍼센트 행복찾기        100 Things          5.50   \n",
       "\n",
       "                                       starring_actors   running_times  \\\n",
       "0    로버트 다우니 주니어(토니 스타크 / 아이언맨), 크리스 헴스워스(토르), 마크 러...            141분   \n",
       "1                            황정민(덕수), 김윤진(영자), 오달수(달구)            126분   \n",
       "2              콜린 퍼스(해리), 태런 에저튼(에그시), 사무엘 L. 잭슨(발렌타인)            128분   \n",
       "3                                 크리스 프랫, 브라이스 달라스 하워드  2021 .06.10 개봉   \n",
       "4                       김명민(명탐정 김민), 오달수(서필), 이연희(히사코)            125분   \n",
       "..                                                 ...             ...   \n",
       "923                                          프란치스코(본인)             96분   \n",
       "924      로버트 드 니로(프랭크 시런), 알 파치노(지미 호파), 조 페시(러셀 버팔리노)            209분   \n",
       "925                                        [국내] 전체 관람가             79분   \n",
       "926                                  진비우(위화이), 하람두(겅겅)            109분   \n",
       "927                   플로리안 데이비드 핏츠(폴), 마치아스 슈와바이어퍼(토니)            111분   \n",
       "\n",
       "           directors  \n",
       "0              조스 웨던  \n",
       "1                윤제균  \n",
       "2               매튜 본  \n",
       "3           콜린 트레보로우  \n",
       "4                김석윤  \n",
       "..               ...  \n",
       "923            빔 벤더스  \n",
       "924         마틴 스코세이지  \n",
       "925  카를로스 구티에레스 메드라노  \n",
       "926              장적사  \n",
       "927     플로리안 데이비드 핏츠  \n",
       "\n",
       "[909 rows x 7 columns]"
      ]
     },
     "execution_count": 75,
     "metadata": {},
     "output_type": "execute_result"
    }
   ],
   "source": [
    "new_df.drop_duplicates('title')"
   ]
  },
  {
   "cell_type": "code",
   "execution_count": 79,
   "metadata": {},
   "outputs": [
    {
     "data": {
      "text/html": [
       "<div>\n",
       "<style scoped>\n",
       "    .dataframe tbody tr th:only-of-type {\n",
       "        vertical-align: middle;\n",
       "    }\n",
       "\n",
       "    .dataframe tbody tr th {\n",
       "        vertical-align: top;\n",
       "    }\n",
       "\n",
       "    .dataframe thead th {\n",
       "        text-align: right;\n",
       "    }\n",
       "</style>\n",
       "<table border=\"1\" class=\"dataframe\">\n",
       "  <thead>\n",
       "    <tr style=\"text-align: right;\">\n",
       "      <th></th>\n",
       "      <th>N_movie_code</th>\n",
       "      <th>title</th>\n",
       "      <th>comeout_date</th>\n",
       "      <th>expert_rating</th>\n",
       "      <th>starring_actors</th>\n",
       "      <th>running_times</th>\n",
       "      <th>directors</th>\n",
       "    </tr>\n",
       "  </thead>\n",
       "  <tbody>\n",
       "    <tr>\n",
       "      <th>0</th>\n",
       "      <td>98438</td>\n",
       "      <td>어벤져스: 에이지 오브 울트론</td>\n",
       "      <td>2015</td>\n",
       "      <td>6.92</td>\n",
       "      <td>로버트 다우니 주니어(토니 스타크 / 아이언맨), 크리스 헴스워스(토르), 마크 러...</td>\n",
       "      <td>141분</td>\n",
       "      <td>조스 웨던</td>\n",
       "    </tr>\n",
       "    <tr>\n",
       "      <th>1</th>\n",
       "      <td>102875</td>\n",
       "      <td>국제시장</td>\n",
       "      <td>2014</td>\n",
       "      <td>5.81</td>\n",
       "      <td>황정민(덕수), 김윤진(영자), 오달수(달구)</td>\n",
       "      <td>126분</td>\n",
       "      <td>윤제균</td>\n",
       "    </tr>\n",
       "    <tr>\n",
       "      <th>2</th>\n",
       "      <td>114249</td>\n",
       "      <td>킹스맨 : 시크릿 에이전트</td>\n",
       "      <td>2015</td>\n",
       "      <td>7.58</td>\n",
       "      <td>콜린 퍼스(해리), 태런 에저튼(에그시), 사무엘 L. 잭슨(발렌타인)</td>\n",
       "      <td>128분</td>\n",
       "      <td>매튜 본</td>\n",
       "    </tr>\n",
       "    <tr>\n",
       "      <th>3</th>\n",
       "      <td>191646</td>\n",
       "      <td>쥬라기 월드: 도미니언</td>\n",
       "      <td>2021</td>\n",
       "      <td>-</td>\n",
       "      <td>크리스 프랫, 브라이스 달라스 하워드</td>\n",
       "      <td>2021 .06.10 개봉</td>\n",
       "      <td>콜린 트레보로우</td>\n",
       "    </tr>\n",
       "    <tr>\n",
       "      <th>4</th>\n",
       "      <td>123596</td>\n",
       "      <td>조선명탐정 : 사라진 놉의 딸</td>\n",
       "      <td>2014</td>\n",
       "      <td>5.85</td>\n",
       "      <td>김명민(명탐정 김민), 오달수(서필), 이연희(히사코)</td>\n",
       "      <td>125분</td>\n",
       "      <td>김석윤</td>\n",
       "    </tr>\n",
       "    <tr>\n",
       "      <th>...</th>\n",
       "      <td>...</td>\n",
       "      <td>...</td>\n",
       "      <td>...</td>\n",
       "      <td>...</td>\n",
       "      <td>...</td>\n",
       "      <td>...</td>\n",
       "      <td>...</td>\n",
       "    </tr>\n",
       "    <tr>\n",
       "      <th>923</th>\n",
       "      <td>174748</td>\n",
       "      <td>프란치스코 교황: 맨 오브 히스 워드</td>\n",
       "      <td>2018</td>\n",
       "      <td>6.33</td>\n",
       "      <td>프란치스코(본인)</td>\n",
       "      <td>96분</td>\n",
       "      <td>빔 벤더스</td>\n",
       "    </tr>\n",
       "    <tr>\n",
       "      <th>924</th>\n",
       "      <td>154298</td>\n",
       "      <td>아이리시맨</td>\n",
       "      <td>2019</td>\n",
       "      <td>9.11</td>\n",
       "      <td>로버트 드 니로(프랭크 시런), 알 파치노(지미 호파), 조 페시(러셀 버팔리노)</td>\n",
       "      <td>209분</td>\n",
       "      <td>마틴 스코세이지</td>\n",
       "    </tr>\n",
       "    <tr>\n",
       "      <th>925</th>\n",
       "      <td>186367</td>\n",
       "      <td>빅 위시</td>\n",
       "      <td>Salma's Big Wish</td>\n",
       "      <td>6.00</td>\n",
       "      <td>[국내] 전체 관람가</td>\n",
       "      <td>79분</td>\n",
       "      <td>카를로스 구티에레스 메드라노</td>\n",
       "    </tr>\n",
       "    <tr>\n",
       "      <th>926</th>\n",
       "      <td>187787</td>\n",
       "      <td>너를 만난 여름</td>\n",
       "      <td>My Best Summer</td>\n",
       "      <td>5.50</td>\n",
       "      <td>진비우(위화이), 하람두(겅겅)</td>\n",
       "      <td>109분</td>\n",
       "      <td>장적사</td>\n",
       "    </tr>\n",
       "    <tr>\n",
       "      <th>927</th>\n",
       "      <td>183377</td>\n",
       "      <td>100일 동안 100가지로 100퍼센트 행복찾기</td>\n",
       "      <td>100 Things</td>\n",
       "      <td>5.50</td>\n",
       "      <td>플로리안 데이비드 핏츠(폴), 마치아스 슈와바이어퍼(토니)</td>\n",
       "      <td>111분</td>\n",
       "      <td>플로리안 데이비드 핏츠</td>\n",
       "    </tr>\n",
       "  </tbody>\n",
       "</table>\n",
       "<p>928 rows × 7 columns</p>\n",
       "</div>"
      ],
      "text/plain": [
       "    N_movie_code                       title      comeout_date expert_rating  \\\n",
       "0          98438            어벤져스: 에이지 오브 울트론              2015          6.92   \n",
       "1         102875                        국제시장              2014          5.81   \n",
       "2         114249              킹스맨 : 시크릿 에이전트              2015          7.58   \n",
       "3         191646                쥬라기 월드: 도미니언              2021             -   \n",
       "4         123596            조선명탐정 : 사라진 놉의 딸              2014          5.85   \n",
       "..           ...                         ...               ...           ...   \n",
       "923       174748        프란치스코 교황: 맨 오브 히스 워드              2018          6.33   \n",
       "924       154298                       아이리시맨              2019          9.11   \n",
       "925       186367                        빅 위시  Salma's Big Wish          6.00   \n",
       "926       187787                    너를 만난 여름    My Best Summer          5.50   \n",
       "927       183377  100일 동안 100가지로 100퍼센트 행복찾기        100 Things          5.50   \n",
       "\n",
       "                                       starring_actors   running_times  \\\n",
       "0    로버트 다우니 주니어(토니 스타크 / 아이언맨), 크리스 헴스워스(토르), 마크 러...            141분   \n",
       "1                            황정민(덕수), 김윤진(영자), 오달수(달구)            126분   \n",
       "2              콜린 퍼스(해리), 태런 에저튼(에그시), 사무엘 L. 잭슨(발렌타인)            128분   \n",
       "3                                 크리스 프랫, 브라이스 달라스 하워드  2021 .06.10 개봉   \n",
       "4                       김명민(명탐정 김민), 오달수(서필), 이연희(히사코)            125분   \n",
       "..                                                 ...             ...   \n",
       "923                                          프란치스코(본인)             96분   \n",
       "924      로버트 드 니로(프랭크 시런), 알 파치노(지미 호파), 조 페시(러셀 버팔리노)            209분   \n",
       "925                                        [국내] 전체 관람가             79분   \n",
       "926                                  진비우(위화이), 하람두(겅겅)            109분   \n",
       "927                   플로리안 데이비드 핏츠(폴), 마치아스 슈와바이어퍼(토니)            111분   \n",
       "\n",
       "           directors  \n",
       "0              조스 웨던  \n",
       "1                윤제균  \n",
       "2               매튜 본  \n",
       "3           콜린 트레보로우  \n",
       "4                김석윤  \n",
       "..               ...  \n",
       "923            빔 벤더스  \n",
       "924         마틴 스코세이지  \n",
       "925  카를로스 구티에레스 메드라노  \n",
       "926              장적사  \n",
       "927     플로리안 데이비드 핏츠  \n",
       "\n",
       "[928 rows x 7 columns]"
      ]
     },
     "execution_count": 79,
     "metadata": {},
     "output_type": "execute_result"
    }
   ],
   "source": [
    "new_df"
   ]
  },
  {
   "cell_type": "code",
   "execution_count": null,
   "metadata": {},
   "outputs": [],
   "source": []
  },
  {
   "cell_type": "code",
   "execution_count": 76,
   "metadata": {},
   "outputs": [],
   "source": [
    "new_df.to_csv('except_audience_rating_df2.csv', mode='w')"
   ]
  },
  {
   "cell_type": "code",
   "execution_count": 80,
   "metadata": {},
   "outputs": [],
   "source": [
    "movie_code_list = list(new_df['N_movie_code'])"
   ]
  },
  {
   "cell_type": "code",
   "execution_count": null,
   "metadata": {},
   "outputs": [],
   "source": []
  },
  {
   "cell_type": "code",
   "execution_count": 81,
   "metadata": {},
   "outputs": [
    {
     "data": {
      "text/plain": [
       "928"
      ]
     },
     "execution_count": 81,
     "metadata": {},
     "output_type": "execute_result"
    }
   ],
   "source": [
    "len(movie_code_list)"
   ]
  },
  {
   "cell_type": "code",
   "execution_count": null,
   "metadata": {},
   "outputs": [],
   "source": []
  },
  {
   "cell_type": "markdown",
   "metadata": {},
   "source": [
    "### request & reponse : 관람객 평점 크롤링\n",
    "\n",
    "- 관람객 평점(audience rating):\n",
    "    -   `https://movie.naver.com/movie/bi/mi/pointWriteFormList.nhncode=154285&type=after&onlyActualPointYn=Y&onlySpoilerPointYn=N&order=newest&page=9999`\n",
    "    - order는 최신순으로 정렬\n",
    "    - onlyActualPointYn 쿼리는 관람객 평점만 볼지 말지 정하는거\n",
    "    - page 쿼리는 엄청 큰 숫자 쓰면 가장 마지막 페이지로 간다\n",
    "- 셀레니움으로 맨 마지막 페이지에 도착한 상태로 시작하면, 먼저 현재 페이지를 변수에 담는다\n",
    "- 그 다음부턴 현재페이지 - 1 한 페이지를 현재페이지 변수에 담아서 url에 사용하고\n",
    "- 그 url페이지의 평점을 계속 더하기 한다\n",
    "- 더하기 하면서 날짜를 확인하고 개봉일자로부터 1주일이 지나면 평점 더하기를 중단한다\n"
   ]
  },
  {
   "cell_type": "code",
   "execution_count": null,
   "metadata": {},
   "outputs": [],
   "source": []
  },
  {
   "cell_type": "code",
   "execution_count": null,
   "metadata": {},
   "outputs": [],
   "source": []
  },
  {
   "cell_type": "code",
   "execution_count": 131,
   "metadata": {},
   "outputs": [],
   "source": [
    "false_index = [\n",
    "    3, 10, 24, 25, 29, 32, 33, 38, 44, 63, 64, 77, 80, 82, 83, 89, 98,\n",
    "    103, 111, 115, 150, 152, 167, 172, 185, 190, 193, 196, 197, 201, \n",
    "    202, 204, 216, 237, 243, 257, 258, 324, 328, 338, 350, 391, 394,\n",
    "    408, 416, 445, 446, 451, 492, 497, 502, 518, 525, 596, 613, 623,\n",
    "    667, 777, 805, 806, 808, 821, 860, 865, 923, 924\n",
    "]"
   ]
  },
  {
   "cell_type": "code",
   "execution_count": 155,
   "metadata": {},
   "outputs": [
    {
     "data": {
      "text/plain": [
       "66"
      ]
     },
     "execution_count": 155,
     "metadata": {},
     "output_type": "execute_result"
    }
   ],
   "source": [
    "len(false_index)"
   ]
  },
  {
   "cell_type": "code",
   "execution_count": 132,
   "metadata": {},
   "outputs": [],
   "source": [
    "new_rows = [\n",
    " {'N_movie_code': 67786,\n",
    "  'title': '쥬라기 월드',\n",
    "  'comeout_date': '-',\n",
    "  'expert_rating': 6.63,\n",
    "  'starring_actors': '크리스 프랫, 브라이스 달라스 하워드, 빈센트 도노프리오',\n",
    "  'running_times': '125분',\n",
    "  'directors': '콜린 트레보로우',\n",
    "  'audience_rating': '-',\n",
    "  'rating_audiences': '-'},\n",
    " {'N_movie_code': 118950,\n",
    "  'title': '스파이',\n",
    "  'comeout_date': '-',\n",
    "  'expert_rating': 7.32,\n",
    "  'starring_actors': '멜리사 맥카시, 주드 로, 제이슨 스타뎀',\n",
    "  'running_times': '120분',\n",
    "  'directors': '폴 페이그',\n",
    "  'audience_rating': '-',\n",
    "  'rating_audiences': '-'},\n",
    " {'N_movie_code': 118958,\n",
    "  'title': '박물관이 살아있다 : 비밀의 무덤',\n",
    "  'comeout_date': '-',\n",
    "  'expert_rating': 5.67,\n",
    "  'starring_actors': '벤 스틸러, 로빈 윌리엄스, 댄 스티븐스',\n",
    "  'running_times': '98분',\n",
    "  'directors': '숀 레비',\n",
    "  'audience_rating': '-',\n",
    "  'rating_audiences': '-'},\n",
    " {'N_movie_code': 112268,\n",
    "  'title': '허삼관',\n",
    "  'comeout_date': '-',\n",
    "  'expert_rating': 6.46,\n",
    "  'starring_actors': '하정우, 하지원',\n",
    "  'running_times': '124분',\n",
    "  'directors': '하정우',\n",
    "  'audience_rating': '-',\n",
    "  'rating_audiences': '-'},\n",
    " {'N_movie_code': 101963,\n",
    "  'title': '신데렐라',\n",
    "  'comeout_date': '-',\n",
    "  'expert_rating': 6.5,\n",
    "  'starring_actors': '릴리 제임스, 리차드 매든, 케이트 블란쳇',\n",
    "  'running_times': '113분',\n",
    "  'directors': '케네스 브래너',\n",
    "  'audience_rating': '-',\n",
    "  'rating_audiences': '-'},\n",
    " {'N_movie_code': 127901,\n",
    "  'title': '도라에몽 : 스탠 바이 미',\n",
    "  'comeout_date': '-',\n",
    "  'expert_rating': 7.0,\n",
    "  'starring_actors': '미즈타, 와사비, 오오하라 메구미, 카카즈 유미',\n",
    "  'running_times': '95분',\n",
    "  'directors': '야마자키 다카시, 야기 류이치',\n",
    "  'audience_rating': '-',\n",
    "  'rating_audiences': '-'},\n",
    " {'N_movie_code': 103381,\n",
    "  'title': '위험한 상견례 2',\n",
    "  'comeout_date': '-',\n",
    "  'expert_rating': 4.0,\n",
    "  'starring_actors': '진세연, 홍종현, 신정근',\n",
    "  'running_times': '119분',\n",
    "  'directors': '김진영',\n",
    "  'audience_rating': '-',\n",
    "  'rating_audiences': '-'},\n",
    " {'N_movie_code': 122197,\n",
    "  'title': '홈',\n",
    "  'comeout_date': '-',\n",
    "  'expert_rating': 6.56,\n",
    "  'starring_actors': '짐 파슨스, 리아나, 제니퍼 로페즈',\n",
    "  'running_times': '94분',\n",
    "  'directors': '팀 존슨',\n",
    "  'audience_rating': '-',\n",
    "  'rating_audiences': '-'},\n",
    " {'N_movie_code': 114248,\n",
    "  'title': '패딩턴',\n",
    "  'comeout_date': '-',\n",
    "  'expert_rating': 6.64,\n",
    "  'starring_actors': '벤 위쇼, 니콜 키드먼, 휴 보네빌',\n",
    "  'running_times': '95분',\n",
    "  'directors': '폴 킹',\n",
    "  'audience_rating': '-',\n",
    "  'rating_audiences': '-'},\n",
    " {'N_movie_code': 132989,\n",
    "  'title': '최강전사 미니특공대 : 새로운 악당의 습격',\n",
    "  'comeout_date': '-',\n",
    "  'expert_rating': '-',\n",
    "  'starring_actors': '엄상현, 전태열, 신용우',\n",
    "  'running_times': '60분',\n",
    "  'directors': '이영준',\n",
    "  'audience_rating': '-',\n",
    "  'rating_audiences': '-'},\n",
    " {'N_movie_code': 109920,\n",
    "  'title': '아메리칸 셰프',\n",
    "  'comeout_date': '-',\n",
    "  'expert_rating': 6.25,\n",
    "  'starring_actors': '존 파브로, 엠제이 안소니, 소피아 베르가라',\n",
    "  'running_times': '114분',\n",
    "  'directors': '존 파브로',\n",
    "  'audience_rating': '-',\n",
    "  'rating_audiences': '-'},\n",
    " {'N_movie_code': 133169,\n",
    "  'title': '빌리와 용감한 녀석들 3',\n",
    "  'comeout_date': '-',\n",
    "  'expert_rating': 5.0,\n",
    "  'starring_actors': '엄상현, 조현정, 숀 애스틴',\n",
    "  'running_times': '80분',\n",
    "  'directors': '척 파워스',\n",
    "  'audience_rating': '-',\n",
    "  'rating_audiences': '-'},\n",
    " {'N_movie_code': 132665,\n",
    "  'title': '심야식당',\n",
    "  'comeout_date': '-',\n",
    "  'expert_rating': 6.03,\n",
    "  'starring_actors': '코바야시 카오루, 오다기리 죠',\n",
    "  'running_times': '120분',\n",
    "  'directors': '마츠오카 조지',\n",
    "  'audience_rating': '-',\n",
    "  'rating_audiences': '-'},\n",
    " {'N_movie_code': 118395,\n",
    "  'title': '와일드',\n",
    "  'comeout_date': '-',\n",
    "  'expert_rating': 7.25,\n",
    "  'starring_actors': '리즈 위더스푼, 로라 던, 토머스 새도스키',\n",
    "  'running_times': '119분',\n",
    "  'directors': '장 마크 발레',\n",
    "  'audience_rating': '-',\n",
    "  'rating_audiences': '-'},\n",
    " {'N_movie_code': 109642,\n",
    "  'title': '더 이퀄라이저',\n",
    "  'comeout_date': '-',\n",
    "  'expert_rating': 6.25,\n",
    "  'starring_actors': '덴젤 워싱턴, 콜로이 모레츠, 마튼 초카스',\n",
    "  'running_times': '131분',\n",
    "  'directors': '안톤 후쿠아',\n",
    "  'audience_rating': '-',\n",
    "  'rating_audiences': '-'},\n",
    " {'N_movie_code': 123284,\n",
    "  'title': '위자',\n",
    "  'comeout_date': '-',\n",
    "  'expert_rating': 2.0,\n",
    "  'starring_actors': '올리비아 쿡, 다렌 카가소프, 아나 코토',\n",
    "  'running_times': '89분',\n",
    "  'directors': '스틸즈 화이트',\n",
    "  'audience_rating': '-',\n",
    "  'rating_audiences': '-'},\n",
    " {'N_movie_code': 124288,\n",
    "  'title': '한 번 더 해피엔딩',\n",
    "  'comeout_date': '-',\n",
    "  'expert_rating': 4.94,\n",
    "  'starring_actors': '휴 그랜트, 마리사 토메이, 앨리슨 제니',\n",
    "  'running_times': '106분',\n",
    "  'directors': '마크 로렌스',\n",
    "  'audience_rating': '-',\n",
    "  'rating_audiences': '-'},\n",
    " {'N_movie_code': 121922,\n",
    "  'title': '사도',\n",
    "  'comeout_date': '-',\n",
    "  'expert_rating': 7.54,\n",
    "  'starring_actors': '송강호, 유아인, 문근영',\n",
    "  'running_times': '125분',\n",
    "  'directors': '이준익',\n",
    "  'audience_rating': '-',\n",
    "  'rating_audiences': '-'},\n",
    " {'N_movie_code': 92064,\n",
    "  'title': '앤트맨',\n",
    "  'comeout_date': '-',\n",
    "  'expert_rating': 7.09,\n",
    "  'starring_actors': '폴 러드, 마이클 더글라스, 에반젤린 릴리',\n",
    "  'running_times': '117분',\n",
    "  'directors': '페이튼 리드',\n",
    "  'audience_rating': '-',\n",
    "  'rating_audiences': '-'},\n",
    " {'N_movie_code': 113351,\n",
    "  'title': '미니언즈',\n",
    "  'comeout_date': '-',\n",
    "  'expert_rating': 5.63,\n",
    "  'starring_actors': '피에르 꼬팽, 마이클 키튼, 산드라 블록',\n",
    "  'running_times': '91분',\n",
    "  'directors': '카일 발다, 피에르 꼬팽',\n",
    "  'audience_rating': '-',\n",
    "  'rating_audiences': '-'},\n",
    " {'N_movie_code': 119431,\n",
    "  'title': '팬',\n",
    "  'comeout_date': '-',\n",
    "  'expert_rating': 5.0,\n",
    "  'starring_actors': '휴 잭맨, 가렛 헤드룬드, 루니 마라',\n",
    "  'running_times': '111분',\n",
    "  'directors': '조 라이트',\n",
    "  'audience_rating': '-',\n",
    "  'rating_audiences': '-'},\n",
    " {'N_movie_code': 129012,\n",
    "  'title': '레전드',\n",
    "  'comeout_date': '-',\n",
    "  'expert_rating': 6.33,\n",
    "  'starring_actors': '톰 하디, 태런 애저튼, 에밀리 브라우닝',\n",
    "  'running_times': '132분',\n",
    "  'directors': '브라이언 헬겔랜드',\n",
    "  'audience_rating': '-',\n",
    "  'rating_audiences': '-'},\n",
    " {'N_movie_code': 135807,\n",
    "  'title': '극장판 파워레인저 트레인포스 VS 다이노포스 THE MOVIE',\n",
    "  'comeout_date': '-',\n",
    "  'expert_rating': '-',\n",
    "  'starring_actors': '심규혁, 이인석, 강시현',\n",
    "  'running_times': '60분',\n",
    "  'directors': '와타나베 카츠야',\n",
    "  'audience_rating': '-',\n",
    "  'rating_audiences': '-'},\n",
    " {'N_movie_code': 129164,\n",
    "  'title': '숀더쉽',\n",
    "  'comeout_date': '-',\n",
    "  'expert_rating': '6.80',\n",
    "  'starring_actors': '저스틴 플레쳐, 존 스파크스, 오미드 다릴리',\n",
    "  'running_times': '85분',\n",
    "  'directors': '마크 버튼, 리처드 스타잭',\n",
    "  'audience_rating': '-',\n",
    "  'rating_audiences': '-'},\n",
    " {'N_movie_code': 133631,\n",
    "  'title': '개구리왕국',\n",
    "  'comeout_date': '-',\n",
    "  'expert_rating': '6.00',\n",
    "  'starring_actors': '벨라 손, 카메론 달라스, 롭 슈나이더',\n",
    "  'running_times': '77분',\n",
    "  'directors': '넬슨 신',\n",
    "  'audience_rating': '-',\n",
    "  'rating_audiences': '-'},\n",
    " {'N_movie_code': 134954,\n",
    "  'title': '비밀',\n",
    "  'comeout_date': '-',\n",
    "  'expert_rating': '4.81',\n",
    "  'starring_actors': '성동일, 손호준, 김유정',\n",
    "  'running_times': '102분',\n",
    "  'directors': '박은경, 이동하',\n",
    "  'audience_rating': '-',\n",
    "  'rating_audiences': '-'},\n",
    " {'N_movie_code': 95327,\n",
    "  'title': '이스케이프',\n",
    "  'comeout_date': '-',\n",
    "  'expert_rating': '5.83',\n",
    "  'starring_actors': '오웬 윌슨 피어스, 브로스넌, 레이크 벨',\n",
    "  'running_times': '103분',\n",
    "  'directors': '존 에릭 도들',\n",
    "  'audience_rating': '-',\n",
    "  'rating_audiences': '-'},\n",
    " {'N_movie_code': 122527,\n",
    "  'title': '캡틴 아메리카: 시빌 워',\n",
    "  'comeout_date': '-',\n",
    "  'expert_rating': '7.50',\n",
    "  'starring_actors': '크리스 에반스, 로버트 다우니 주니어',\n",
    "  'running_times': '147분',\n",
    "  'directors': '안소니 루소, 조 루소',\n",
    "  'audience_rating': '-',\n",
    "  'rating_audiences': '-'},\n",
    " {'N_movie_code': 121051,\n",
    "  'title': '곡성',\n",
    "  'comeout_date': '-',\n",
    "  'expert_rating': '8.18',\n",
    "  'starring_actors': '곽도원, 황정민, 쿠니무라 준',\n",
    "  'running_times': '156분',\n",
    "  'directors': '나홍진',\n",
    "  'audience_rating': '-',\n",
    "  'rating_audiences': '-'},\n",
    " {'N_movie_code': 135843,\n",
    "  'title': '귀향',\n",
    "  'comeout_date': '-',\n",
    "  'expert_rating': '5.80',\n",
    "  'starring_actors': '강하나, 최리, 손숙',\n",
    "  'running_times': '127분',\n",
    "  'directors': '조정래',\n",
    "  'audience_rating': '-',\n",
    "  'rating_audiences': '-'},\n",
    " {'N_movie_code': 75426,\n",
    "  'title': '데드풀',\n",
    "  'comeout_date': '-',\n",
    "  'expert_rating': '6.89',\n",
    "  'starring_actors': '라이언 레이놀즈',\n",
    "  'running_times': '106분',\n",
    "  'directors': '팀 밀러',\n",
    "  'audience_rating': '-',\n",
    "  'rating_audiences': '-'},\n",
    " {'N_movie_code': 122489,\n",
    "  'title': '정글북',\n",
    "  'comeout_date': '-',\n",
    "  'expert_rating': '7.02',\n",
    "  'starring_actors': '닐 세티, 빌 머레이, 스칼렛 요한슨',\n",
    "  'running_times': '106분',\n",
    "  'directors': '존 파브로',\n",
    "  'audience_rating': '-',\n",
    "  'rating_audiences': '-'},\n",
    " {'N_movie_code': 136686,\n",
    "  'title': '오빠생각',\n",
    "  'comeout_date': '-',\n",
    "  'expert_rating': '5.66',\n",
    "  'starring_actors': '임시완, 고아성',\n",
    "  'running_times': '124분',\n",
    "  'directors': '이한',\n",
    "  'audience_rating': '-',\n",
    "  'rating_audiences': '-'},\n",
    " {'N_movie_code': 127866,\n",
    "  'title': '구스범스',\n",
    "  'comeout_date': '-',\n",
    "  'expert_rating': '6.50',\n",
    "  'starring_actors': '잭 블랙, 딜런 미네트, 오데야 러쉬',\n",
    "  'running_times': '103분',\n",
    "  'directors': '롭 레터맨',\n",
    "  'audience_rating': '-',\n",
    "  'rating_audiences': '-'},\n",
    " {'N_movie_code': 136899,\n",
    "  'title': '사냥',\n",
    "  'comeout_date': '-',\n",
    "  'expert_rating': '5.05',\n",
    "  'starring_actors': '안성기, 조진웅, 한예리',\n",
    "  'running_times': '93분',\n",
    "  'directors': '이우철',\n",
    "  'audience_rating': '-',\n",
    "  'rating_audiences': '-'},\n",
    " {'N_movie_code': 134135,\n",
    "  'title': '극장판 아이엠스타 : 꿈의 오디션!',\n",
    "  'comeout_date': '-',\n",
    "  'expert_rating': '-',\n",
    "  'starring_actors': '정혜원, 이용신, 김채하',\n",
    "  'running_times': '89분',\n",
    "  'directors': '야노 유이치로',\n",
    "  'audience_rating': '-',\n",
    "  'rating_audiences': '-'},\n",
    " {'N_movie_code': 125444,\n",
    "  'title': '제5침공',\n",
    "  'comeout_date': '-',\n",
    "  'expert_rating': '-',\n",
    "  'starring_actors': '클로이 모레츠, 닉 로빈슨, 알렉스 로',\n",
    "  'running_times': '112분',\n",
    "  'directors': 'J 블레이크슨',\n",
    "  'audience_rating': '-',\n",
    "  'rating_audiences': '-'},\n",
    " {'N_movie_code': 134873,\n",
    "  'title': '고스트버스터즈',\n",
    "  'comeout_date': '-',\n",
    "  'expert_rating': 6.58,\n",
    "  'starring_actors': '멜리사 맥카시(애비), 크리스틴 위그(에린), 케이트 맥키넌(홀츠먼)',\n",
    "  'running_times': '116분',\n",
    "  'directors': '폴 페이그',\n",
    "  'audience_rating': '-',\n",
    "  'rating_audiences': '-'},\n",
    " {'N_movie_code': 144943,\n",
    "  'title': '언더 워터',\n",
    "  'comeout_date': '-',\n",
    "  'expert_rating': 7.25,\n",
    "  'starring_actors': '블레이크 라이블리',\n",
    "  'running_times': '86분',\n",
    "  'directors': '자움 콜렛 세라',\n",
    "  'audience_rating': '-',\n",
    "  'rating_audiences': '-'},\n",
    " {'N_movie_code': '-',\n",
    "  'title': '빅',\n",
    "  'comeout_date': '-',\n",
    "  'expert_rating': '-',\n",
    "  'starring_actors': '-',\n",
    "  'running_times': '-',\n",
    "  'directors': '-',\n",
    "  'audience_rating': '-',\n",
    "  'rating_audiences': '-'},\n",
    " {'N_movie_code': 152160,\n",
    "  'title': '킹 오브 프리즘',\n",
    "  'comeout_date': '-',\n",
    "  'expert_rating': '-',\n",
    "  'starring_actors': '카키하라 테츠야, 마에노 토모아키, 마스다 토시키',\n",
    "  'running_times': '60분',\n",
    "  'directors': '히시다 마사카즈',\n",
    "  'audience_rating': '-',\n",
    "  'rating_audiences': '-'},\n",
    " {'N_movie_code': 125473,\n",
    "  'title': '원더 우먼',\n",
    "  'comeout_date': '-',\n",
    "  'expert_rating': 6.7,\n",
    "  'starring_actors': '갤 가돗, 크리스 파인',\n",
    "  'running_times': '141분',\n",
    "  'directors': '패티 젠킨스',\n",
    "  'audience_rating': '-',\n",
    "  'rating_audiences': '-'},\n",
    " {'N_movie_code': 117787,\n",
    "  'title': '로건',\n",
    "  'comeout_date': '-',\n",
    "  'expert_rating': 7.55,\n",
    "  'starring_actors': '휴 잭맨',\n",
    "  'running_times': '137분',\n",
    "  'directors': '패티 젠킨스',\n",
    "  'audience_rating': '-',\n",
    "  'rating_audiences': '-'},\n",
    " {'N_movie_code': 101904,\n",
    "  'title': '트롤',\n",
    "  'comeout_date': '-',\n",
    "  'expert_rating': 5.5,\n",
    "  'starring_actors': '안나 켄드릭, 저스틴 팀버레이크, 주이 디샤넬',\n",
    "  'running_times': '92분',\n",
    "  'directors': '마이크 미첼, 월트 도른',\n",
    "  'audience_rating': '-',\n",
    "  'rating_audiences': '-'},\n",
    " {'N_movie_code': 152633,\n",
    "  'title': '라이프',\n",
    "  'comeout_date': '-',\n",
    "  'expert_rating': 5.67,\n",
    "  'starring_actors': '제이크 질렌할, 레베카 퍼거슨, 라이언 레이놀즈',\n",
    "  'running_times': '103분',\n",
    "  'directors': '다니엘 에스피노사',\n",
    "  'audience_rating': '-',\n",
    "  'rating_audiences': '-'},\n",
    " {'N_movie_code': 159408,\n",
    "  'title': '극장판 소드 아트 온라인 -오디널 스케일-',\n",
    "  'comeout_date': '-',\n",
    "  'expert_rating': '-',\n",
    "  'starring_actors': '마츠오카 요시츠구, 토마츠 하루카, 이토 카나에',\n",
    "  'running_times': '120분',\n",
    "  'directors': '이토 토모히코',\n",
    "  'audience_rating': '-',\n",
    "  'rating_audiences': '-'},\n",
    " {'N_movie_code': 139673,\n",
    "  'title': '여교사',\n",
    "  'comeout_date': '-',\n",
    "  'expert_rating': 6.78,\n",
    "  'starring_actors': '김하늘(효주), 유인영(혜영), 이원근(재하)',\n",
    "  'running_times': '96분',\n",
    "  'directors': '김태용',\n",
    "  'audience_rating': '-',\n",
    "  'rating_audiences': '-'},\n",
    " {'N_movie_code': 134841,\n",
    "  'title': '라이언',\n",
    "  'comeout_date': '-',\n",
    "  'expert_rating': 6.5,\n",
    "  'starring_actors': '써니 파와르(어린 사루), 데브 파텔(사루), 니콜 키드먼(수)',\n",
    "  'running_times': '118분',\n",
    "  'directors': '가스 데이비스',\n",
    "  'audience_rating': '-',\n",
    "  'rating_audiences': '-'},\n",
    " {'N_movie_code': 164932,\n",
    "  'title': '해피 데스데이',\n",
    "  'comeout_date': '-',\n",
    "  'expert_rating': '-',\n",
    "  'starring_actors': '제시카 로테(트리 겔브먼), 이스라엘 브로우사드(카터 데이비스)',\n",
    "  'running_times': '96분',\n",
    "  'directors': '크리스토퍼 랜던',\n",
    "  'audience_rating': '-',\n",
    "  'rating_audiences': '-'},\n",
    " {'N_movie_code': 154668,\n",
    "  'title': '그것',\n",
    "  'comeout_date': '-',\n",
    "  'expert_rating': 6.6,\n",
    "  'starring_actors': '빌 스카스가드(페니 와이즈), 제이든 리버허(빌)',\n",
    "  'running_times': '135분',\n",
    "  'directors': '안드레스 무시에티',\n",
    "  'audience_rating': '-',\n",
    "  'rating_audiences': '-'},\n",
    " {'N_movie_code': 152616,\n",
    "  'title': '47 미터',\n",
    "  'comeout_date': '-',\n",
    "  'expert_rating': 4.0,\n",
    "  'starring_actors': '맨디 무어(리사), 클레어 홀트(케이트)',\n",
    "  'running_times': '89분',\n",
    "  'directors': '조하네스 로버츠',\n",
    "  'audience_rating': '-',\n",
    "  'rating_audiences': '-'},\n",
    " {'N_movie_code': 154437,\n",
    "  'title': '내 사랑',\n",
    "  'comeout_date': '-',\n",
    "  'expert_rating': 6.71,\n",
    "  'starring_actors': '샐리 호킨스(모드 루이스), 에단 호크(에버렛 루이스)',\n",
    "  'running_times': '115분',\n",
    "  'directors': '에이슬링 월쉬',\n",
    "  'audience_rating': '-',\n",
    "  'rating_audiences': '-'},\n",
    " {'N_movie_code': 163663,\n",
    "  'title': '딥',\n",
    "  'comeout_date': '-',\n",
    "  'expert_rating': '-',\n",
    "  'starring_actors': '심규혁(딥 목소리), 사문영(앨리/노마 목소리), 이인성(이보 목소리)',\n",
    "  'running_times': '85분',\n",
    "  'directors': '줄리오 소토 거피드',\n",
    "  'audience_rating': '-',\n",
    "  'rating_audiences': '-'},\n",
    " {'N_movie_code': 168011,\n",
    "  'title': '콰이어트 플레이스',\n",
    "  'comeout_date': '-',\n",
    "  'expert_rating': 7.0,\n",
    "  'starring_actors': '에밀리 블런트, 존 크래신스키, 노아 주프',\n",
    "  'running_times': '90분',\n",
    "  'directors': '존 크래신스키',\n",
    "  'audience_rating': '-',\n",
    "  'rating_audiences': '-'},\n",
    " {'N_movie_code': 159862,\n",
    "  'title': '나미야 잡화점의 기적',\n",
    "  'comeout_date': '-',\n",
    "  'expert_rating': 5.75,\n",
    "  'starring_actors': '야마다 료스케, 니시다 토시유키, 무라카미 니지로',\n",
    "  'running_times': '130분',\n",
    "  'directors': '히로키 류이치',\n",
    "  'audience_rating': '-',\n",
    "  'rating_audiences': '-'},\n",
    " {'N_movie_code': 171822,\n",
    "  'title': '안녕, 나의 소녀',\n",
    "  'comeout_date': '-',\n",
    "  'expert_rating': 5.0,\n",
    "  'starring_actors': '류이호, 송운화',\n",
    "  'running_times': '104분',\n",
    "  'directors': '사준의',\n",
    "  'audience_rating': '-',\n",
    "  'rating_audiences': '-'},\n",
    " {'N_movie_code': 172425,\n",
    "  'title': '서치',\n",
    "  'comeout_date': '-',\n",
    "  'expert_rating': 7.6,\n",
    "  'starring_actors': '존 조, 데브라 메싱',\n",
    "  'running_times': '101분',\n",
    "  'directors': '아니쉬 차간티',\n",
    "  'audience_rating': '-',\n",
    "  'rating_audiences': '-'},\n",
    " {'N_movie_code': 163826,\n",
    "  'title': '글래스',\n",
    "  'comeout_date': '-',\n",
    "  'expert_rating': 6.33,\n",
    "  'starring_actors': '제임스 맥어보이, 브루스 윌리스, 사무엘L.잭슨',\n",
    "  'running_times': '129분',\n",
    "  'directors': 'M. 나이트 샤말란',\n",
    "  'audience_rating': '-',\n",
    "  'rating_audiences': '-'},\n",
    " {'N_movie_code': 48233,\n",
    "  'title': '명탐정 코난:전율의 악보',\n",
    "  'comeout_date': '-',\n",
    "  'expert_rating': 6.0,\n",
    "  'starring_actors': '타카야마 미나미, 야마자키 와카나, 쿠와시마 호우코',\n",
    "  'running_times': '116분',\n",
    "  'directors': '야마모토 야스이치로',\n",
    "  'audience_rating': '-',\n",
    "  'rating_audiences': '-'},\n",
    " {'N_movie_code': 172137,\n",
    "  'title': '미래의 미라이',\n",
    "  'comeout_date': '-',\n",
    "  'expert_rating': 6.5,\n",
    "  'starring_actors': '카미시라이시 모카, 쿠로키 하루',\n",
    "  'running_times': '98분',\n",
    "  'directors': '호소다 마모루',\n",
    "  'audience_rating': '-',\n",
    "  'rating_audiences': '-'},\n",
    " {'N_movie_code': 181419,\n",
    "  'title': '공포의 묘지',\n",
    "  'comeout_date': '-',\n",
    "  'expert_rating': 6.0,\n",
    "  'starring_actors': '제이슨 클락, 존 리스고, 에이미 세이메츠',\n",
    "  'running_times': '101분',\n",
    "  'directors': '케빈 콜쉬, 데니스 위드미어',\n",
    "  'audience_rating': '-',\n",
    "  'rating_audiences': '-'},\n",
    " {'N_movie_code': 183820,\n",
    "  'title': '사탄의 인형',\n",
    "  'comeout_date': '-',\n",
    "  'expert_rating': 4.0,\n",
    "  'starring_actors': '가브리엘 베이트먼, 마크 해밀, 오브리 플라자',\n",
    "  'running_times': '90분',\n",
    "  'directors': '라스 클리브버그',\n",
    "  'audience_rating': '-',\n",
    "  'rating_audiences': '-'},\n",
    " {'N_movie_code': 180374,\n",
    "  'title': '마이펫의 이중생활 2',\n",
    "  'comeout_date': '-',\n",
    "  'expert_rating': 6.0,\n",
    "  'starring_actors': '패튼 오스왈트, 케빈 하트, 제니 슬레이트',\n",
    "  'running_times': '85분',\n",
    "  'directors': '크리스 리노드',\n",
    "  'audience_rating': '-',\n",
    "  'rating_audiences': '-'},\n",
    " {'N_movie_code': 185933,\n",
    "  'title': '캣츠',\n",
    "  'comeout_date': '-',\n",
    "  'expert_rating': 4.75,\n",
    "  'starring_actors': '제니퍼 허드슨, 테일러 스위프트, 이드리스 엘바',\n",
    "  'running_times': '109분',\n",
    "  'directors': '톰 후퍼',\n",
    "  'audience_rating': '-',\n",
    "  'rating_audiences': '-'},\n",
    " {'N_movie_code': 174748,\n",
    "  'title': '프란치스코 교황 : 맨 오브 히스 워드',\n",
    "  'comeout_date': '-',\n",
    "  'expert_rating': 6.33,\n",
    "  'starring_actors': '프란치스코(본인)',\n",
    "  'running_times': '96분',\n",
    "  'directors': '빔 벤더스',\n",
    "  'audience_rating': '-',\n",
    "  'rating_audiences': '-'},\n",
    " {'N_movie_code': 154298,\n",
    "  'title': '아이리시맨',\n",
    "  'comeout_date': '-',\n",
    "  'expert_rating': 9.11,\n",
    "  'starring_actors': '로버트 드 니로, 알 파치노, 조 페시',\n",
    "  'running_times': '209분',\n",
    "  'directors': '마틴 스코세이지',\n",
    "  'audience_rating': '-',\n",
    "  'rating_audiences': '-'}]"
   ]
  },
  {
   "cell_type": "code",
   "execution_count": 133,
   "metadata": {},
   "outputs": [
    {
     "data": {
      "text/plain": [
       "66"
      ]
     },
     "execution_count": 133,
     "metadata": {},
     "output_type": "execute_result"
    }
   ],
   "source": [
    "len(new_rows)"
   ]
  },
  {
   "cell_type": "code",
   "execution_count": 134,
   "metadata": {},
   "outputs": [
    {
     "data": {
      "text/plain": [
       "9"
      ]
     },
     "execution_count": 134,
     "metadata": {},
     "output_type": "execute_result"
    }
   ],
   "source": [
    "len(new_rows[0])"
   ]
  },
  {
   "cell_type": "code",
   "execution_count": 138,
   "metadata": {},
   "outputs": [],
   "source": [
    "# for i,value in enumerate(new_rows):\n",
    "#     print( false_index[i], value['title'])"
   ]
  },
  {
   "cell_type": "code",
   "execution_count": null,
   "metadata": {},
   "outputs": [],
   "source": []
  },
  {
   "cell_type": "code",
   "execution_count": null,
   "metadata": {},
   "outputs": [],
   "source": []
  },
  {
   "cell_type": "code",
   "execution_count": null,
   "metadata": {},
   "outputs": [],
   "source": []
  },
  {
   "cell_type": "code",
   "execution_count": null,
   "metadata": {},
   "outputs": [],
   "source": []
  },
  {
   "cell_type": "code",
   "execution_count": null,
   "metadata": {},
   "outputs": [],
   "source": []
  },
  {
   "cell_type": "code",
   "execution_count": null,
   "metadata": {},
   "outputs": [],
   "source": []
  },
  {
   "cell_type": "code",
   "execution_count": 146,
   "metadata": {},
   "outputs": [
    {
     "data": {
      "text/html": [
       "<div>\n",
       "<style scoped>\n",
       "    .dataframe tbody tr th:only-of-type {\n",
       "        vertical-align: middle;\n",
       "    }\n",
       "\n",
       "    .dataframe tbody tr th {\n",
       "        vertical-align: top;\n",
       "    }\n",
       "\n",
       "    .dataframe thead th {\n",
       "        text-align: right;\n",
       "    }\n",
       "</style>\n",
       "<table border=\"1\" class=\"dataframe\">\n",
       "  <thead>\n",
       "    <tr style=\"text-align: right;\">\n",
       "      <th></th>\n",
       "      <th>N_movie_code</th>\n",
       "      <th>title</th>\n",
       "      <th>comeout_date</th>\n",
       "      <th>expert_rating</th>\n",
       "      <th>starring_actors</th>\n",
       "      <th>running_times</th>\n",
       "      <th>directors</th>\n",
       "      <th>audience_rating</th>\n",
       "      <th>rating_audiences</th>\n",
       "    </tr>\n",
       "  </thead>\n",
       "  <tbody>\n",
       "    <tr>\n",
       "      <th>923</th>\n",
       "      <td>179398</td>\n",
       "      <td>메기</td>\n",
       "      <td>2018</td>\n",
       "      <td>6.83</td>\n",
       "      <td>이주영(여윤영), 문소리(이경진), 구교환(이성원)</td>\n",
       "      <td>89분</td>\n",
       "      <td>이옥섭</td>\n",
       "      <td>8.853658536585366</td>\n",
       "      <td>41</td>\n",
       "    </tr>\n",
       "    <tr>\n",
       "      <th>924</th>\n",
       "      <td>174748</td>\n",
       "      <td>프란치스코 교황: 맨 오브 히스 워드</td>\n",
       "      <td>2018</td>\n",
       "      <td>6.33</td>\n",
       "      <td>프란치스코(본인)</td>\n",
       "      <td>96분</td>\n",
       "      <td>빔 벤더스</td>\n",
       "      <td>9.6</td>\n",
       "      <td>10</td>\n",
       "    </tr>\n",
       "    <tr>\n",
       "      <th>925</th>\n",
       "      <td>186367</td>\n",
       "      <td>빅 위시</td>\n",
       "      <td>Salma's Big Wish</td>\n",
       "      <td>6.00</td>\n",
       "      <td>[국내] 전체 관람가</td>\n",
       "      <td>79분</td>\n",
       "      <td>카를로스 구티에레스 메드라노</td>\n",
       "      <td>6.5</td>\n",
       "      <td>4</td>\n",
       "    </tr>\n",
       "    <tr>\n",
       "      <th>926</th>\n",
       "      <td>187787</td>\n",
       "      <td>너를 만난 여름</td>\n",
       "      <td>My Best Summer</td>\n",
       "      <td>5.50</td>\n",
       "      <td>진비우(위화이), 하람두(겅겅)</td>\n",
       "      <td>109분</td>\n",
       "      <td>장적사</td>\n",
       "      <td>8.428571428571429</td>\n",
       "      <td>63</td>\n",
       "    </tr>\n",
       "    <tr>\n",
       "      <th>927</th>\n",
       "      <td>183377</td>\n",
       "      <td>100일 동안 100가지로 100퍼센트 행복찾기</td>\n",
       "      <td>100 Things</td>\n",
       "      <td>5.50</td>\n",
       "      <td>플로리안 데이비드 핏츠(폴), 마치아스 슈와바이어퍼(토니)</td>\n",
       "      <td>111분</td>\n",
       "      <td>플로리안 데이비드 핏츠</td>\n",
       "      <td>8.962962962962964</td>\n",
       "      <td>27</td>\n",
       "    </tr>\n",
       "  </tbody>\n",
       "</table>\n",
       "</div>"
      ],
      "text/plain": [
       "     N_movie_code                       title      comeout_date expert_rating  \\\n",
       "923        179398                          메기              2018          6.83   \n",
       "924        174748        프란치스코 교황: 맨 오브 히스 워드              2018          6.33   \n",
       "925        186367                        빅 위시  Salma's Big Wish          6.00   \n",
       "926        187787                    너를 만난 여름    My Best Summer          5.50   \n",
       "927        183377  100일 동안 100가지로 100퍼센트 행복찾기        100 Things          5.50   \n",
       "\n",
       "                      starring_actors running_times        directors  \\\n",
       "923      이주영(여윤영), 문소리(이경진), 구교환(이성원)           89분              이옥섭   \n",
       "924                         프란치스코(본인)           96분            빔 벤더스   \n",
       "925                       [국내] 전체 관람가           79분  카를로스 구티에레스 메드라노   \n",
       "926                 진비우(위화이), 하람두(겅겅)          109분              장적사   \n",
       "927  플로리안 데이비드 핏츠(폴), 마치아스 슈와바이어퍼(토니)          111분     플로리안 데이비드 핏츠   \n",
       "\n",
       "       audience_rating rating_audiences  \n",
       "923  8.853658536585366               41  \n",
       "924                9.6               10  \n",
       "925                6.5                4  \n",
       "926  8.428571428571429               63  \n",
       "927  8.962962962962964               27  "
      ]
     },
     "execution_count": 146,
     "metadata": {},
     "output_type": "execute_result"
    }
   ],
   "source": [
    "crawling_df = pd.read_csv('result_df.csv').drop(columns=['Unnamed: 0'])\n",
    "crawling_df.tail()"
   ]
  },
  {
   "cell_type": "code",
   "execution_count": 144,
   "metadata": {},
   "outputs": [
    {
     "data": {
      "text/plain": [
       "928"
      ]
     },
     "execution_count": 144,
     "metadata": {},
     "output_type": "execute_result"
    }
   ],
   "source": [
    "len(crawling_df)"
   ]
  },
  {
   "cell_type": "code",
   "execution_count": null,
   "metadata": {},
   "outputs": [],
   "source": []
  },
  {
   "cell_type": "code",
   "execution_count": 297,
   "metadata": {},
   "outputs": [
    {
     "data": {
      "text/plain": [
       "9"
      ]
     },
     "execution_count": 297,
     "metadata": {},
     "output_type": "execute_result"
    }
   ],
   "source": [
    "len(second_false_index)"
   ]
  },
  {
   "cell_type": "code",
   "execution_count": null,
   "metadata": {},
   "outputs": [],
   "source": []
  },
  {
   "cell_type": "code",
   "execution_count": 298,
   "metadata": {},
   "outputs": [],
   "source": [
    "import datetime"
   ]
  },
  {
   "cell_type": "code",
   "execution_count": 299,
   "metadata": {},
   "outputs": [],
   "source": [
    "# final_df의 특정 row 바꿔치기 하는 코드 \n",
    "# 데이터프레임의 index로는 false_index를 차례대로 사용한다"
   ]
  },
  {
   "cell_type": "code",
   "execution_count": 301,
   "metadata": {},
   "outputs": [],
   "source": [
    "for i, values in enumerate(new_rows_02):\n",
    "    \n",
    "    # 먼저, 평점의 가장 마지막 페이지에 해당하는 url의 document구조를 가져온다\n",
    "    if values['N_movie_code'] == '-':\n",
    "        new_rows_02[i]['audience_rating'] = '-'\n",
    "        new_rows_02[i]['rating_audiences'] = '-'\n",
    "        crawling_df.iloc[second_false_index[i]] = new_rows_02[i]\n",
    "        continue\n",
    "    \n",
    "    code = int(values['N_movie_code'])\n",
    "    num = 99999\n",
    "    url = 'https://movie.naver.com/movie/bi/mi/pointWriteFormList.nhn?code={}&type=after&onlyActualPointYn=Y&onlySpoilerPointYn=N&order=newest&page={}'.format(code, num)\n",
    "    \n",
    "    # 현재 페이지 알아내기\n",
    "    try:\n",
    "        req = requests.get(url)\n",
    "        response = TextResponse(req.url, body=req.text, encoding=\"utf-8\")\n",
    "        number_list = response.xpath('/html/body/div/div/div[6]/div/a/span/text()').extract()\n",
    "        last_number = number_list[len(number_list) - 1]\n",
    "\n",
    "        cur_page = int(last_number.replace(',', ''))\n",
    "        cur_page\n",
    "\n",
    "        # 평가의 마지막 페이지 마지막 관객의 평점올린 날짜를 가져와서 7주일 이후의 날짜(limit_date) 만들기\n",
    "        time_elements = response.xpath('/html/body/div/div/div[5]/ul/li/div/dl/dt/em[2]/text()')\n",
    "        start_date = time_elements[len(time_elements) - 1].extract().split(' ')[0]\n",
    "        start_date = start_date.split(\" \")[0].split('.')\n",
    "        limit_date = datetime.datetime(int(start_date[0]), int(start_date[1]), int(start_date[2])) + datetime.timedelta(weeks=1)\n",
    "\n",
    "        audience_number = 0\n",
    "        total_rating = 0\n",
    "        flag = 0\n",
    "\n",
    "        # 여기서부터 정확한 페이지로 크롤링 시작\n",
    "        for page in range(cur_page, 0, -1):\n",
    "            if flag == 1:\n",
    "                break\n",
    "\n",
    "            url = 'https://movie.naver.com/movie/bi/mi/pointWriteFormList.nhn?code={}&type=after&onlyActualPointYn=Y&onlySpoilerPointYn=N&order=newest&page={}'.format(code, page)\n",
    "            req = requests.get(url)\n",
    "            response = TextResponse(req.url, body=req.text, encoding=\"utf-8\")\n",
    "\n",
    "            rating_elements = response.xpath('/html/body/div/div/div[5]/ul/li')\n",
    "\n",
    "            # 평가의 해당 페이지에서, 각 평점 엘리먼트 하나마다 날짜를 확인하면서 limit을 넘겼는지 체크한다\n",
    "            for n in range(len(rating_elements), 0, -1):\n",
    "                star = response.xpath('/html/body/div/div/div[5]/ul/li[{}]/div[1]/em/text()'.format(n)).extract()[0]\n",
    "                cur_date = response.xpath('/html/body/div/div/div[5]/ul/li[{}]/div[2]/dl/dt/em[2]/text()'.format(n)).extract()[0].split(' ')[0].split('.')\n",
    "\n",
    "                check_limit = limit_date - datetime.datetime(int(cur_date[0]), int(cur_date[1]), int(cur_date[2]))\n",
    "                if check_limit.days < 0:\n",
    "                    flag = 1\n",
    "                    break\n",
    "\n",
    "                total_rating = total_rating + int(star)\n",
    "                audience_number += 1\n",
    "                \n",
    "        new_rows_02[i]['audience_rating'] = total_rating/audience_number\n",
    "        new_rows_02[i]['rating_audiences'] = audience_number\n",
    "        \n",
    "        crawling_df.iloc[second_false_index[i]] = new_rows_02[i]\n",
    "        \n",
    "    except Exception:\n",
    "        new_rows_02[i]['audience_rating'] = '-'\n",
    "        new_rows_02[i]['rating_audiences'] = '-'\n",
    "        \n",
    "        crawling_df.iloc[second_false_index[i]] = new_rows_02[i]\n",
    "    "
   ]
  },
  {
   "cell_type": "code",
   "execution_count": 300,
   "metadata": {},
   "outputs": [],
   "source": [
    "# crawling_df"
   ]
  },
  {
   "cell_type": "code",
   "execution_count": 282,
   "metadata": {},
   "outputs": [],
   "source": [
    "crawling_df.to_csv('result_df_02.csv', mode='w')"
   ]
  },
  {
   "cell_type": "code",
   "execution_count": null,
   "metadata": {},
   "outputs": [],
   "source": [
    "# 68, 267, 272, 275, 281 , 282, 302, 311"
   ]
  },
  {
   "cell_type": "code",
   "execution_count": 295,
   "metadata": {},
   "outputs": [],
   "source": [
    "second_false_index = [3, 68, 267, 272, 275, 281 , 282, 302, 311]"
   ]
  },
  {
   "cell_type": "code",
   "execution_count": 286,
   "metadata": {},
   "outputs": [],
   "source": [
    "# top_movie_data.iloc[68]"
   ]
  },
  {
   "cell_type": "code",
   "execution_count": 291,
   "metadata": {},
   "outputs": [
    {
     "data": {
      "text/plain": [
       "id                            275\n",
       "영화명                           번개맨\n",
       "감독                            조근현\n",
       "제작사       (주)드림써치C&C,한국교육방송공사 EBS\n",
       "수입사                           NaN\n",
       "배급사                 씨네그루(주)키다리이엔티\n",
       "개봉일                    2016-02-11\n",
       "영화유형                         개봉영화\n",
       "영화형태                           장편\n",
       "국적                             한국\n",
       "전국스크린수                        393\n",
       "전국매출액                   516736500\n",
       "전국관객수                       69303\n",
       "서울매출액                   112271800\n",
       "서울관객수                       13839\n",
       "장르                            판타지\n",
       "등급                          전체관람가\n",
       "영화구분                         일반영화\n",
       "Name: 275, dtype: object"
      ]
     },
     "execution_count": 291,
     "metadata": {},
     "output_type": "execute_result"
    }
   ],
   "source": [
    "top_movie_data.iloc[275]"
   ]
  },
  {
   "cell_type": "code",
   "execution_count": 292,
   "metadata": {},
   "outputs": [],
   "source": [
    "new_rows_02 = [\n",
    "    {'N_movie_code': 67786,\n",
    "  'title': '쥬라기 월드',\n",
    "  'comeout_date': '-',\n",
    "  'expert_rating': 6.63,\n",
    "  'starring_actors': '크리스 프랫, 브라이스 달라스 하워드, 빈센트 도노프리오',\n",
    "  'running_times': '125분',\n",
    "  'directors': '콜린 트레보로우',\n",
    "  'audience_rating': '-',\n",
    "  'rating_audiences': '-'},\n",
    "    {'N_movie_code': 115512,\n",
    "  'title': '화장',\n",
    "  'comeout_date': '-',\n",
    "  'expert_rating': 6.78,\n",
    "  'starring_actors': '안성기, 김규리, 김호정',\n",
    "  'running_times': '94분',\n",
    "  'directors': '임권택',\n",
    "  'audience_rating': '-',\n",
    "  'rating_audiences': '-'},\n",
    "    {'N_movie_code': 127395,\n",
    "  'title': '크리미널',\n",
    "  'comeout_date': '-',\n",
    "  'expert_rating': 4.00,\n",
    "  'starring_actors': '라이언 레이놀즈, 케빈 코스트너, 게리 올드만',\n",
    "  'running_times': '111분',\n",
    "  'directors': '아리엘 브로멘',\n",
    "  'audience_rating': '-',\n",
    "  'rating_audiences': '-'},\n",
    "    {'N_movie_code': 130989,\n",
    "  'title': '룸',\n",
    "  'comeout_date': '-',\n",
    "  'expert_rating': 7.53,\n",
    "  'starring_actors': '브리 라슨, 제이콥 트렘블레이, 조안 알렌',\n",
    "  'running_times': '118분',\n",
    "  'directors': '레니 에이브러햄슨',\n",
    "  'audience_rating': '-',\n",
    "  'rating_audiences': '-'},\n",
    "    {'N_movie_code': 139699,\n",
    "  'title': '번개맨',\n",
    "  'comeout_date': '-',\n",
    "  'expert_rating': 5.50,\n",
    "  'starring_actors': '정현진, 루나',\n",
    "  'running_times': '72분',\n",
    "  'directors': '조근현',\n",
    "  'audience_rating': '-',\n",
    "  'rating_audiences': '-'},\n",
    "    #281\n",
    "{\n",
    "    'N_movie_code': 148656,\n",
    "    'title': '극장판 프랭키와 친구들: 생명의 나무',\n",
    "    'comeout_date': '-',\n",
    "    'expert_rating': '-',\n",
    "    'starring_actors': '이소은, 안영미, 김민정',\n",
    "    'running_times': '72분',\n",
    "    'directors': '박정오',\n",
    "    'audience_rating': '-',\n",
    "    'rating_audiences': '-',\n",
    "},\n",
    "#282\n",
    "{\n",
    "    'N_movie_code': 137341,\n",
    "    'title': '더 보이',\n",
    "    'comeout_date': '-',\n",
    "    'expert_rating': '5.17',\n",
    "    'starring_actors': '로렌 코핸, 루퍼트 에반스',\n",
    "    'running_times': '97분',\n",
    "    'directors': '윌리엄 브렌트 벨',\n",
    "    'audience_rating': '-',\n",
    "    'rating_audiences': '-',\n",
    "},\n",
    "#302\n",
    "{\n",
    "    'N_movie_code': 134980,\n",
    "    'title': '마이펫의 이중생활',\n",
    "    'comeout_date': '-',\n",
    "    'expert_rating': 6.67,\n",
    "    'starring_actors': '루이스 C.K., 에릭 스톤스트릿, 케빈 하트',\n",
    "    'running_times': '90분',\n",
    "    'directors': '크리스 리노드',\n",
    "    'audience_rating': '-',\n",
    "    'rating_audiences': '-',\n",
    "},\n",
    "#311\n",
    "{\n",
    "    'N_movie_code': 144938,\n",
    "    'title': '씽',\n",
    "    'comeout_date': '-',\n",
    "    'expert_rating': 6.71,\n",
    "    'starring_actors': '매튜 맥커너히, 리즈 위더스푼, 스칼렛 요한슨',\n",
    "    'running_times': '108분',\n",
    "    'directors': '가스 제닝스',\n",
    "    'audience_rating': '-',\n",
    "    'rating_audiences': '-',\n",
    "},\n",
    "]\n"
   ]
  },
  {
   "cell_type": "code",
   "execution_count": 293,
   "metadata": {},
   "outputs": [
    {
     "data": {
      "text/plain": [
       "9"
      ]
     },
     "execution_count": 293,
     "metadata": {},
     "output_type": "execute_result"
    }
   ],
   "source": [
    "len(new_rows_02)"
   ]
  },
  {
   "cell_type": "code",
   "execution_count": 304,
   "metadata": {},
   "outputs": [],
   "source": [
    "crawling_df.to_csv('final_crawling_df.csv', mode='w')"
   ]
  },
  {
   "cell_type": "code",
   "execution_count": null,
   "metadata": {},
   "outputs": [],
   "source": []
  },
  {
   "cell_type": "code",
   "execution_count": 312,
   "metadata": {},
   "outputs": [],
   "source": [
    "final_df = pd.concat([top_movie_data, crawling_df], axis=1)\n"
   ]
  },
  {
   "cell_type": "code",
   "execution_count": 317,
   "metadata": {},
   "outputs": [],
   "source": [
    "final_df.drop(columns=['N_movie_code', 'title', 'comeout_date', 'directors'], inplace=True)"
   ]
  },
  {
   "cell_type": "code",
   "execution_count": 319,
   "metadata": {},
   "outputs": [],
   "source": [
    "final_df.to_csv('final_df_02.csv', mode='w')"
   ]
  },
  {
   "cell_type": "code",
   "execution_count": null,
   "metadata": {},
   "outputs": [],
   "source": []
  },
  {
   "cell_type": "code",
   "execution_count": 283,
   "metadata": {},
   "outputs": [],
   "source": [
    "# crawling_df.iloc[3]"
   ]
  },
  {
   "cell_type": "code",
   "execution_count": 284,
   "metadata": {},
   "outputs": [],
   "source": [
    "# top_movie_data.iloc[3]"
   ]
  },
  {
   "cell_type": "code",
   "execution_count": 266,
   "metadata": {},
   "outputs": [],
   "source": [
    "# 틀린 index\n",
    "false_index = [\n",
    "    3, 10, 24, 25, 29, 32, 33, 38, 44, 63, 64, 77, 80, 82, 83, 89, 98,\n",
    "    103, 111, 115, 150, 152, 167, 172, 185, 190, 193, 196, 197, 201, \n",
    "    202, 204, 216, 237, 243, 257, 258, 324, 328, 338, 350, 391, 394,\n",
    "    408, 416, 445, 446, 451, 492, 497, 502, 518, 525, 596, 613, 623,\n",
    "    667, 777, 805, 806, 808, 821, 860, 865, 923, 924\n",
    "]"
   ]
  },
  {
   "cell_type": "code",
   "execution_count": 302,
   "metadata": {},
   "outputs": [
    {
     "data": {
      "text/plain": [
       "32"
      ]
     },
     "execution_count": 302,
     "metadata": {},
     "output_type": "execute_result"
    }
   ],
   "source": [
    "len(crawling_df[crawling_df['title'] != top_movie_data['영화명']])"
   ]
  },
  {
   "cell_type": "code",
   "execution_count": null,
   "metadata": {},
   "outputs": [],
   "source": []
  },
  {
   "cell_type": "code",
   "execution_count": null,
   "metadata": {},
   "outputs": [],
   "source": []
  },
  {
   "cell_type": "code",
   "execution_count": 156,
   "metadata": {},
   "outputs": [
    {
     "data": {
      "text/html": [
       "<div>\n",
       "<style scoped>\n",
       "    .dataframe tbody tr th:only-of-type {\n",
       "        vertical-align: middle;\n",
       "    }\n",
       "\n",
       "    .dataframe tbody tr th {\n",
       "        vertical-align: top;\n",
       "    }\n",
       "\n",
       "    .dataframe thead th {\n",
       "        text-align: right;\n",
       "    }\n",
       "</style>\n",
       "<table border=\"1\" class=\"dataframe\">\n",
       "  <thead>\n",
       "    <tr style=\"text-align: right;\">\n",
       "      <th></th>\n",
       "      <th>id</th>\n",
       "      <th>영화명</th>\n",
       "      <th>감독</th>\n",
       "      <th>제작사</th>\n",
       "      <th>수입사</th>\n",
       "      <th>배급사</th>\n",
       "      <th>개봉일</th>\n",
       "      <th>영화유형</th>\n",
       "      <th>영화형태</th>\n",
       "      <th>국적</th>\n",
       "      <th>전국스크린수</th>\n",
       "      <th>전국매출액</th>\n",
       "      <th>전국관객수</th>\n",
       "      <th>서울매출액</th>\n",
       "      <th>서울관객수</th>\n",
       "      <th>장르</th>\n",
       "      <th>등급</th>\n",
       "      <th>영화구분</th>\n",
       "    </tr>\n",
       "  </thead>\n",
       "  <tbody>\n",
       "    <tr>\n",
       "      <th>0</th>\n",
       "      <td>0</td>\n",
       "      <td>어벤져스: 에이지 오브 울트론</td>\n",
       "      <td>조스 웨던</td>\n",
       "      <td>NaN</td>\n",
       "      <td>월트디즈니컴퍼니코리아(주)</td>\n",
       "      <td>월트디즈니컴퍼니코리아(주)</td>\n",
       "      <td>2015-04-23</td>\n",
       "      <td>개봉영화</td>\n",
       "      <td>장편</td>\n",
       "      <td>미국</td>\n",
       "      <td>1843</td>\n",
       "      <td>88582586366</td>\n",
       "      <td>10494499</td>\n",
       "      <td>25001906266</td>\n",
       "      <td>2823388</td>\n",
       "      <td>액션</td>\n",
       "      <td>12세이상관람가</td>\n",
       "      <td>일반영화</td>\n",
       "    </tr>\n",
       "    <tr>\n",
       "      <th>1</th>\n",
       "      <td>1</td>\n",
       "      <td>국제시장</td>\n",
       "      <td>윤제균</td>\n",
       "      <td>(주)제이케이필름,씨제이이앤엠(주)</td>\n",
       "      <td>NaN</td>\n",
       "      <td>씨제이이앤엠(주)</td>\n",
       "      <td>2014-12-17</td>\n",
       "      <td>개봉영화</td>\n",
       "      <td>장편</td>\n",
       "      <td>한국</td>\n",
       "      <td>966</td>\n",
       "      <td>69823893034</td>\n",
       "      <td>8911437</td>\n",
       "      <td>16331193634</td>\n",
       "      <td>2033863</td>\n",
       "      <td>드라마</td>\n",
       "      <td>12세이상관람가</td>\n",
       "      <td>일반영화</td>\n",
       "    </tr>\n",
       "    <tr>\n",
       "      <th>2</th>\n",
       "      <td>2</td>\n",
       "      <td>킹스맨 : 시크릿 에이전트</td>\n",
       "      <td>매튜 본</td>\n",
       "      <td>NaN</td>\n",
       "      <td>이십세기폭스코리아(주)</td>\n",
       "      <td>이십세기폭스코리아(주)</td>\n",
       "      <td>2015-02-11</td>\n",
       "      <td>개봉영화</td>\n",
       "      <td>장편</td>\n",
       "      <td>미국</td>\n",
       "      <td>706</td>\n",
       "      <td>50333635795</td>\n",
       "      <td>6125154</td>\n",
       "      <td>16707645195</td>\n",
       "      <td>1968882</td>\n",
       "      <td>액션</td>\n",
       "      <td>청소년관람불가</td>\n",
       "      <td>일반영화</td>\n",
       "    </tr>\n",
       "    <tr>\n",
       "      <th>3</th>\n",
       "      <td>3</td>\n",
       "      <td>쥬라기 월드</td>\n",
       "      <td>콜린 트레보로우</td>\n",
       "      <td>NaN</td>\n",
       "      <td>유니버설픽쳐스인터내셔널 코리아(유)</td>\n",
       "      <td>유니버설픽쳐스인터내셔널 코리아(유)</td>\n",
       "      <td>2015-06-11</td>\n",
       "      <td>개봉영화</td>\n",
       "      <td>장편</td>\n",
       "      <td>미국</td>\n",
       "      <td>1290</td>\n",
       "      <td>40130812071</td>\n",
       "      <td>4565888</td>\n",
       "      <td>11510753371</td>\n",
       "      <td>1243034</td>\n",
       "      <td>액션</td>\n",
       "      <td>12세이상관람가</td>\n",
       "      <td>일반영화</td>\n",
       "    </tr>\n",
       "    <tr>\n",
       "      <th>4</th>\n",
       "      <td>4</td>\n",
       "      <td>조선명탐정 : 사라진 놉의 딸</td>\n",
       "      <td>김석윤</td>\n",
       "      <td>청년필름(주)</td>\n",
       "      <td>NaN</td>\n",
       "      <td>(주)쇼박스</td>\n",
       "      <td>2015-02-11</td>\n",
       "      <td>개봉영화</td>\n",
       "      <td>장편</td>\n",
       "      <td>한국</td>\n",
       "      <td>811</td>\n",
       "      <td>30456879428</td>\n",
       "      <td>3872015</td>\n",
       "      <td>6908501928</td>\n",
       "      <td>845522</td>\n",
       "      <td>사극</td>\n",
       "      <td>12세이상관람가</td>\n",
       "      <td>일반영화</td>\n",
       "    </tr>\n",
       "    <tr>\n",
       "      <th>...</th>\n",
       "      <td>...</td>\n",
       "      <td>...</td>\n",
       "      <td>...</td>\n",
       "      <td>...</td>\n",
       "      <td>...</td>\n",
       "      <td>...</td>\n",
       "      <td>...</td>\n",
       "      <td>...</td>\n",
       "      <td>...</td>\n",
       "      <td>...</td>\n",
       "      <td>...</td>\n",
       "      <td>...</td>\n",
       "      <td>...</td>\n",
       "      <td>...</td>\n",
       "      <td>...</td>\n",
       "      <td>...</td>\n",
       "      <td>...</td>\n",
       "      <td>...</td>\n",
       "    </tr>\n",
       "    <tr>\n",
       "      <th>923</th>\n",
       "      <td>923</td>\n",
       "      <td>프란치스코 교황 : 맨 오브 히스 워드</td>\n",
       "      <td>빔 벤더스</td>\n",
       "      <td>NaN</td>\n",
       "      <td>㈜영화사 백두대간</td>\n",
       "      <td>㈜영화사 백두대간,영화사 풀</td>\n",
       "      <td>2019-11-21</td>\n",
       "      <td>개봉영화</td>\n",
       "      <td>장편</td>\n",
       "      <td>이탈리아</td>\n",
       "      <td>54</td>\n",
       "      <td>273031260</td>\n",
       "      <td>37282</td>\n",
       "      <td>55059980</td>\n",
       "      <td>6840</td>\n",
       "      <td>다큐멘터리</td>\n",
       "      <td>전체관람가</td>\n",
       "      <td>독립/예술영화</td>\n",
       "    </tr>\n",
       "    <tr>\n",
       "      <th>924</th>\n",
       "      <td>924</td>\n",
       "      <td>아이리시맨</td>\n",
       "      <td>마틴 스코세이지</td>\n",
       "      <td>NaN</td>\n",
       "      <td>NaN</td>\n",
       "      <td>판씨네마(주)</td>\n",
       "      <td>2019-11-20</td>\n",
       "      <td>개봉영화</td>\n",
       "      <td>장편</td>\n",
       "      <td>미국</td>\n",
       "      <td>68</td>\n",
       "      <td>293466900</td>\n",
       "      <td>34723</td>\n",
       "      <td>215547620</td>\n",
       "      <td>24855</td>\n",
       "      <td>범죄</td>\n",
       "      <td>청소년관람불가</td>\n",
       "      <td>독립/예술영화</td>\n",
       "    </tr>\n",
       "    <tr>\n",
       "      <th>925</th>\n",
       "      <td>925</td>\n",
       "      <td>빅 위시</td>\n",
       "      <td>NaN</td>\n",
       "      <td>NaN</td>\n",
       "      <td>(주)박수엔터테인먼트</td>\n",
       "      <td>(주)박수엔터테인먼트</td>\n",
       "      <td>2019-10-30</td>\n",
       "      <td>개봉영화</td>\n",
       "      <td>장편</td>\n",
       "      <td>멕시코</td>\n",
       "      <td>336</td>\n",
       "      <td>251990300</td>\n",
       "      <td>32684</td>\n",
       "      <td>42956220</td>\n",
       "      <td>5227</td>\n",
       "      <td>판타지</td>\n",
       "      <td>전체관람가</td>\n",
       "      <td>일반영화</td>\n",
       "    </tr>\n",
       "    <tr>\n",
       "      <th>926</th>\n",
       "      <td>926</td>\n",
       "      <td>너를 만난 여름</td>\n",
       "      <td>장적사</td>\n",
       "      <td>NaN</td>\n",
       "      <td>오드</td>\n",
       "      <td>오드,(주)홈초이스</td>\n",
       "      <td>2019-10-16</td>\n",
       "      <td>개봉영화</td>\n",
       "      <td>장편</td>\n",
       "      <td>중국</td>\n",
       "      <td>174</td>\n",
       "      <td>262940000</td>\n",
       "      <td>31888</td>\n",
       "      <td>100555600</td>\n",
       "      <td>11619</td>\n",
       "      <td>드라마</td>\n",
       "      <td>12세이상관람가</td>\n",
       "      <td>독립/예술영화</td>\n",
       "    </tr>\n",
       "    <tr>\n",
       "      <th>927</th>\n",
       "      <td>927</td>\n",
       "      <td>100일 동안 100가지로 100퍼센트 행복찾기</td>\n",
       "      <td>플로리안 데이비드 핏츠</td>\n",
       "      <td>NaN</td>\n",
       "      <td>(주)영화사 진진</td>\n",
       "      <td>(주)영화사 진진</td>\n",
       "      <td>2019-09-12</td>\n",
       "      <td>개봉영화</td>\n",
       "      <td>장편</td>\n",
       "      <td>독일</td>\n",
       "      <td>37</td>\n",
       "      <td>254458770</td>\n",
       "      <td>31866</td>\n",
       "      <td>160852490</td>\n",
       "      <td>19490</td>\n",
       "      <td>코미디</td>\n",
       "      <td>15세이상관람가</td>\n",
       "      <td>독립/예술영화</td>\n",
       "    </tr>\n",
       "  </tbody>\n",
       "</table>\n",
       "<p>928 rows × 18 columns</p>\n",
       "</div>"
      ],
      "text/plain": [
       "      id                         영화명            감독                  제작사  \\\n",
       "0      0            어벤져스: 에이지 오브 울트론         조스 웨던                  NaN   \n",
       "1      1                        국제시장           윤제균  (주)제이케이필름,씨제이이앤엠(주)   \n",
       "2      2              킹스맨 : 시크릿 에이전트          매튜 본                  NaN   \n",
       "3      3                      쥬라기 월드      콜린 트레보로우                  NaN   \n",
       "4      4            조선명탐정 : 사라진 놉의 딸           김석윤              청년필름(주)   \n",
       "..   ...                         ...           ...                  ...   \n",
       "923  923       프란치스코 교황 : 맨 오브 히스 워드         빔 벤더스                  NaN   \n",
       "924  924                       아이리시맨      마틴 스코세이지                  NaN   \n",
       "925  925                        빅 위시           NaN                  NaN   \n",
       "926  926                    너를 만난 여름           장적사                  NaN   \n",
       "927  927  100일 동안 100가지로 100퍼센트 행복찾기  플로리안 데이비드 핏츠                  NaN   \n",
       "\n",
       "                     수입사                  배급사         개봉일  영화유형 영화형태    국적  \\\n",
       "0         월트디즈니컴퍼니코리아(주)       월트디즈니컴퍼니코리아(주)  2015-04-23  개봉영화   장편    미국   \n",
       "1                    NaN            씨제이이앤엠(주)  2014-12-17  개봉영화   장편    한국   \n",
       "2           이십세기폭스코리아(주)         이십세기폭스코리아(주)  2015-02-11  개봉영화   장편    미국   \n",
       "3    유니버설픽쳐스인터내셔널 코리아(유)  유니버설픽쳐스인터내셔널 코리아(유)  2015-06-11  개봉영화   장편    미국   \n",
       "4                    NaN               (주)쇼박스  2015-02-11  개봉영화   장편    한국   \n",
       "..                   ...                  ...         ...   ...  ...   ...   \n",
       "923            ㈜영화사 백두대간      ㈜영화사 백두대간,영화사 풀  2019-11-21  개봉영화   장편  이탈리아   \n",
       "924                  NaN              판씨네마(주)  2019-11-20  개봉영화   장편    미국   \n",
       "925          (주)박수엔터테인먼트          (주)박수엔터테인먼트  2019-10-30  개봉영화   장편   멕시코   \n",
       "926                   오드           오드,(주)홈초이스  2019-10-16  개봉영화   장편    중국   \n",
       "927            (주)영화사 진진            (주)영화사 진진  2019-09-12  개봉영화   장편    독일   \n",
       "\n",
       "     전국스크린수        전국매출액     전국관객수        서울매출액    서울관객수     장르        등급  \\\n",
       "0      1843  88582586366  10494499  25001906266  2823388     액션  12세이상관람가   \n",
       "1       966  69823893034   8911437  16331193634  2033863    드라마  12세이상관람가   \n",
       "2       706  50333635795   6125154  16707645195  1968882     액션   청소년관람불가   \n",
       "3      1290  40130812071   4565888  11510753371  1243034     액션  12세이상관람가   \n",
       "4       811  30456879428   3872015   6908501928   845522     사극  12세이상관람가   \n",
       "..      ...          ...       ...          ...      ...    ...       ...   \n",
       "923      54    273031260     37282     55059980     6840  다큐멘터리     전체관람가   \n",
       "924      68    293466900     34723    215547620    24855     범죄   청소년관람불가   \n",
       "925     336    251990300     32684     42956220     5227    판타지     전체관람가   \n",
       "926     174    262940000     31888    100555600    11619    드라마  12세이상관람가   \n",
       "927      37    254458770     31866    160852490    19490    코미디  15세이상관람가   \n",
       "\n",
       "        영화구분  \n",
       "0       일반영화  \n",
       "1       일반영화  \n",
       "2       일반영화  \n",
       "3       일반영화  \n",
       "4       일반영화  \n",
       "..       ...  \n",
       "923  독립/예술영화  \n",
       "924  독립/예술영화  \n",
       "925     일반영화  \n",
       "926  독립/예술영화  \n",
       "927  독립/예술영화  \n",
       "\n",
       "[928 rows x 18 columns]"
      ]
     },
     "execution_count": 156,
     "metadata": {},
     "output_type": "execute_result"
    }
   ],
   "source": [
    "top_movie_data"
   ]
  },
  {
   "cell_type": "code",
   "execution_count": null,
   "metadata": {},
   "outputs": [],
   "source": []
  },
  {
   "cell_type": "code",
   "execution_count": null,
   "metadata": {},
   "outputs": [],
   "source": []
  },
  {
   "cell_type": "code",
   "execution_count": null,
   "metadata": {},
   "outputs": [],
   "source": []
  },
  {
   "cell_type": "code",
   "execution_count": null,
   "metadata": {},
   "outputs": [],
   "source": []
  },
  {
   "cell_type": "code",
   "execution_count": null,
   "metadata": {},
   "outputs": [],
   "source": []
  },
  {
   "cell_type": "code",
   "execution_count": null,
   "metadata": {},
   "outputs": [],
   "source": []
  },
  {
   "cell_type": "code",
   "execution_count": 401,
   "metadata": {},
   "outputs": [],
   "source": [
    "#pagerTagAnchor364\n",
    "import datetime"
   ]
  },
  {
   "cell_type": "code",
   "execution_count": 422,
   "metadata": {},
   "outputs": [],
   "source": [
    "audience_rating = []\n",
    "rating_audiences = []"
   ]
  },
  {
   "cell_type": "code",
   "execution_count": 423,
   "metadata": {},
   "outputs": [],
   "source": [
    "for i in range(0, len(movie_code_list)):\n",
    "    \n",
    "    # 먼저, 평점의 가장 마지막 페이지에 해당하는 url의 document구조를 가져온다\n",
    "    code = int(movie_code_list[i])\n",
    "    num = 99999\n",
    "    url = 'https://movie.naver.com/movie/bi/mi/pointWriteFormList.nhn?code={}&type=after&onlyActualPointYn=Y&onlySpoilerPointYn=N&order=newest&page={}'.format(code, num)\n",
    "    \n",
    "    # 현재 페이지 알아내기\n",
    "    try:\n",
    "        req = requests.get(url)\n",
    "        response = TextResponse(req.url, body=req.text, encoding=\"utf-8\")\n",
    "        number_list = response.xpath('/html/body/div/div/div[6]/div/a/span/text()').extract()\n",
    "        last_number = number_list[len(number_list) - 1]\n",
    "\n",
    "        cur_page = int(last_number.replace(',', ''))\n",
    "        cur_page\n",
    "\n",
    "        # 평가의 마지막 페이지 마지막 관객의 평점올린 날짜를 가져와서 7주일 이후의 날짜(limit_date) 만들기\n",
    "        time_elements = response.xpath('/html/body/div/div/div[5]/ul/li/div/dl/dt/em[2]/text()')\n",
    "        start_date = time_elements[len(time_elements) - 1].extract().split(' ')[0]\n",
    "        start_date = start_date.split(\" \")[0].split('.')\n",
    "        limit_date = datetime.datetime(int(start_date[0]), int(start_date[1]), int(start_date[2])) + datetime.timedelta(weeks=1)\n",
    "\n",
    "        audience_number = 0\n",
    "        total_rating = 0\n",
    "        flag = 0\n",
    "\n",
    "        # 여기서부터 정확한 페이지로 크롤링 시작\n",
    "        for page in range(cur_page, 0, -1):\n",
    "            if flag == 1:\n",
    "                break\n",
    "\n",
    "            url = 'https://movie.naver.com/movie/bi/mi/pointWriteFormList.nhn?code={}&type=after&onlyActualPointYn=Y&onlySpoilerPointYn=N&order=newest&page={}'.format(code, page)\n",
    "            req = requests.get(url)\n",
    "            response = TextResponse(req.url, body=req.text, encoding=\"utf-8\")\n",
    "\n",
    "            rating_elements = response.xpath('/html/body/div/div/div[5]/ul/li')\n",
    "\n",
    "            # 평가의 해당 페이지에서, 각 평점 엘리먼트 하나마다 날짜를 확인하면서 limit을 넘겼는지 체크한다\n",
    "            for n in range(len(rating_elements), 0, -1):\n",
    "                star = response.xpath('/html/body/div/div/div[5]/ul/li[{}]/div[1]/em/text()'.format(n)).extract()[0]\n",
    "                cur_date = response.xpath('/html/body/div/div/div[5]/ul/li[{}]/div[2]/dl/dt/em[2]/text()'.format(n)).extract()[0].split(' ')[0].split('.')\n",
    "\n",
    "                check_limit = limit_date - datetime.datetime(int(cur_date[0]), int(cur_date[1]), int(cur_date[2]))\n",
    "                if check_limit.days < 0:\n",
    "                    flag = 1\n",
    "                    break\n",
    "\n",
    "                total_rating = total_rating + int(star)\n",
    "                audience_number += 1\n",
    "\n",
    "        rating = {'audience_rating': total_rating/audience_number}\n",
    "        audience = {'rating_audiences': audience_number}\n",
    "\n",
    "        audience_rating.append(rating)\n",
    "        rating_audiences.append(audience)\n",
    "        \n",
    "    except Exception:\n",
    "        rating = {'audience_rating': '-'}\n",
    "        audience = {'rating_audiences': '-'}\n",
    "        audience_rating.append(rating)\n",
    "        rating_audiences.append(audience)\n",
    "    "
   ]
  },
  {
   "cell_type": "code",
   "execution_count": null,
   "metadata": {},
   "outputs": [],
   "source": []
  },
  {
   "cell_type": "code",
   "execution_count": null,
   "metadata": {},
   "outputs": [],
   "source": []
  },
  {
   "cell_type": "code",
   "execution_count": null,
   "metadata": {},
   "outputs": [],
   "source": []
  },
  {
   "cell_type": "code",
   "execution_count": 424,
   "metadata": {},
   "outputs": [
    {
     "data": {
      "text/plain": [
       "928"
      ]
     },
     "execution_count": 424,
     "metadata": {},
     "output_type": "execute_result"
    }
   ],
   "source": [
    "len(rating_audiences)"
   ]
  },
  {
   "cell_type": "code",
   "execution_count": 425,
   "metadata": {},
   "outputs": [
    {
     "data": {
      "text/plain": [
       "928"
      ]
     },
     "execution_count": 425,
     "metadata": {},
     "output_type": "execute_result"
    }
   ],
   "source": [
    "len(rating_audiences)"
   ]
  },
  {
   "cell_type": "code",
   "execution_count": 426,
   "metadata": {},
   "outputs": [],
   "source": [
    "df8 = pd.DataFrame(audience_rating)\n",
    "df9 = pd.DataFrame(rating_audiences)"
   ]
  },
  {
   "cell_type": "code",
   "execution_count": 427,
   "metadata": {},
   "outputs": [],
   "source": [
    "new_df2 = pd.concat([new_df, df8, df9], axis=1)"
   ]
  },
  {
   "cell_type": "code",
   "execution_count": 431,
   "metadata": {},
   "outputs": [],
   "source": [
    "new_df2.to_csv('result_df.csv', mode='w')"
   ]
  },
  {
   "cell_type": "code",
   "execution_count": 455,
   "metadata": {},
   "outputs": [],
   "source": [
    "a = pd.read_csv('result_df.csv')"
   ]
  },
  {
   "cell_type": "code",
   "execution_count": 456,
   "metadata": {},
   "outputs": [],
   "source": [
    "# a[a['audience_rating'] == '-']"
   ]
  },
  {
   "cell_type": "code",
   "execution_count": 468,
   "metadata": {},
   "outputs": [],
   "source": [
    "def setting_nan(x):\n",
    "    if x == '-':\n",
    "        return float('NaN')\n",
    "    else:\n",
    "        return x"
   ]
  },
  {
   "cell_type": "code",
   "execution_count": 471,
   "metadata": {},
   "outputs": [],
   "source": [
    "a['expert_rating'] = a['expert_rating'].apply(lambda x : float('NaN') if x == '-' else x)"
   ]
  },
  {
   "cell_type": "code",
   "execution_count": 490,
   "metadata": {},
   "outputs": [],
   "source": [
    "a['directors'] = a['directors'].apply(lambda x : float('NaN') if x == '-' else x)"
   ]
  },
  {
   "cell_type": "code",
   "execution_count": 492,
   "metadata": {},
   "outputs": [
    {
     "name": "stdout",
     "output_type": "stream",
     "text": [
      "<class 'pandas.core.frame.DataFrame'>\n",
      "RangeIndex: 928 entries, 0 to 927\n",
      "Data columns (total 10 columns):\n",
      " #   Column            Non-Null Count  Dtype \n",
      "---  ------            --------------  ----- \n",
      " 0   Unnamed: 0        928 non-null    int64 \n",
      " 1   N_movie_code      928 non-null    int64 \n",
      " 2   title             928 non-null    object\n",
      " 3   comeout_date      928 non-null    object\n",
      " 4   expert_rating     814 non-null    object\n",
      " 5   starring_actors   927 non-null    object\n",
      " 6   running_times     922 non-null    object\n",
      " 7   directors         928 non-null    object\n",
      " 8   audience_rating   876 non-null    object\n",
      " 9   rating_audiences  928 non-null    object\n",
      "dtypes: int64(2), object(8)\n",
      "memory usage: 72.6+ KB\n"
     ]
    }
   ],
   "source": [
    "a.info()"
   ]
  },
  {
   "cell_type": "code",
   "execution_count": 493,
   "metadata": {},
   "outputs": [],
   "source": [
    "a.to_csv('result_df_NaN.csv', mode='w')"
   ]
  },
  {
   "cell_type": "code",
   "execution_count": null,
   "metadata": {},
   "outputs": [],
   "source": []
  },
  {
   "cell_type": "code",
   "execution_count": 494,
   "metadata": {},
   "outputs": [],
   "source": [
    "import missingno as msn"
   ]
  },
  {
   "cell_type": "code",
   "execution_count": 497,
   "metadata": {},
   "outputs": [
    {
     "data": {
      "image/png": "[encoded data removed]",
      "text/plain": [
       "<Figure size 1800x720 with 2 Axes>"
      ]
     },
     "metadata": {
      "image/png": {
       "height": 673,
       "width": 1476
      },
      "needs_background": "light"
     },
     "output_type": "display_data"
    }
   ],
   "source": [
    "msn.matrix(a)\n",
    "plt.show()"
   ]
  },
  {
   "cell_type": "code",
   "execution_count": null,
   "metadata": {},
   "outputs": [],
   "source": []
  },
  {
   "cell_type": "code",
   "execution_count": null,
   "metadata": {},
   "outputs": [],
   "source": []
  },
  {
   "cell_type": "code",
   "execution_count": null,
   "metadata": {},
   "outputs": [],
   "source": []
  },
  {
   "cell_type": "code",
   "execution_count": null,
   "metadata": {},
   "outputs": [],
   "source": []
  },
  {
   "cell_type": "code",
   "execution_count": null,
   "metadata": {},
   "outputs": [],
   "source": []
  },
  {
   "cell_type": "code",
   "execution_count": null,
   "metadata": {},
   "outputs": [],
   "source": []
  },
  {
   "cell_type": "code",
   "execution_count": null,
   "metadata": {},
   "outputs": [],
   "source": []
  },
  {
   "cell_type": "code",
   "execution_count": null,
   "metadata": {},
   "outputs": [],
   "source": []
  },
  {
   "cell_type": "code",
   "execution_count": null,
   "metadata": {},
   "outputs": [],
   "source": []
  },
  {
   "cell_type": "code",
   "execution_count": null,
   "metadata": {},
   "outputs": [],
   "source": []
  },
  {
   "cell_type": "code",
   "execution_count": null,
   "metadata": {},
   "outputs": [],
   "source": []
  },
  {
   "cell_type": "code",
   "execution_count": null,
   "metadata": {},
   "outputs": [],
   "source": []
  },
  {
   "cell_type": "code",
   "execution_count": null,
   "metadata": {},
   "outputs": [],
   "source": []
  },
  {
   "cell_type": "code",
   "execution_count": null,
   "metadata": {},
   "outputs": [],
   "source": []
  },
  {
   "cell_type": "code",
   "execution_count": null,
   "metadata": {},
   "outputs": [],
   "source": []
  },
  {
   "cell_type": "code",
   "execution_count": 421,
   "metadata": {},
   "outputs": [
    {
     "ename": "IndexError",
     "evalue": "list index out of range",
     "output_type": "error",
     "traceback": [
      "\u001b[0;31m---------------------------------------------------------------------------\u001b[0m",
      "\u001b[0;31mIndexError\u001b[0m                                Traceback (most recent call last)",
      "\u001b[0;32m<ipython-input-421-db2114b35832>\u001b[0m in \u001b[0;36m<module>\u001b[0;34m\u001b[0m\n\u001b[1;32m      5\u001b[0m \u001b[0mresponse\u001b[0m \u001b[0;34m=\u001b[0m \u001b[0mTextResponse\u001b[0m\u001b[0;34m(\u001b[0m\u001b[0mreq\u001b[0m\u001b[0;34m.\u001b[0m\u001b[0murl\u001b[0m\u001b[0;34m,\u001b[0m \u001b[0mbody\u001b[0m\u001b[0;34m=\u001b[0m\u001b[0mreq\u001b[0m\u001b[0;34m.\u001b[0m\u001b[0mtext\u001b[0m\u001b[0;34m,\u001b[0m \u001b[0mencoding\u001b[0m\u001b[0;34m=\u001b[0m\u001b[0;34m\"utf-8\"\u001b[0m\u001b[0;34m)\u001b[0m\u001b[0;34m\u001b[0m\u001b[0;34m\u001b[0m\u001b[0m\n\u001b[1;32m      6\u001b[0m \u001b[0mnumber_list\u001b[0m \u001b[0;34m=\u001b[0m \u001b[0mresponse\u001b[0m\u001b[0;34m.\u001b[0m\u001b[0mxpath\u001b[0m\u001b[0;34m(\u001b[0m\u001b[0;34m'/html/body/div/div/div[6]/div/a/span/text()'\u001b[0m\u001b[0;34m)\u001b[0m\u001b[0;34m.\u001b[0m\u001b[0mextract\u001b[0m\u001b[0;34m(\u001b[0m\u001b[0;34m)\u001b[0m\u001b[0;34m\u001b[0m\u001b[0;34m\u001b[0m\u001b[0m\n\u001b[0;32m----> 7\u001b[0;31m \u001b[0mlast_number\u001b[0m \u001b[0;34m=\u001b[0m \u001b[0mnumber_list\u001b[0m\u001b[0;34m[\u001b[0m\u001b[0mlen\u001b[0m\u001b[0;34m(\u001b[0m\u001b[0mnumber_list\u001b[0m\u001b[0;34m)\u001b[0m \u001b[0;34m-\u001b[0m \u001b[0;36m1\u001b[0m\u001b[0;34m]\u001b[0m\u001b[0;34m\u001b[0m\u001b[0;34m\u001b[0m\u001b[0m\n\u001b[0m\u001b[1;32m      8\u001b[0m \u001b[0;34m\u001b[0m\u001b[0m\n\u001b[1;32m      9\u001b[0m \u001b[0mcur_page\u001b[0m \u001b[0;34m=\u001b[0m \u001b[0mint\u001b[0m\u001b[0;34m(\u001b[0m\u001b[0mlast_number\u001b[0m\u001b[0;34m.\u001b[0m\u001b[0mreplace\u001b[0m\u001b[0;34m(\u001b[0m\u001b[0;34m','\u001b[0m\u001b[0;34m,\u001b[0m \u001b[0;34m''\u001b[0m\u001b[0;34m)\u001b[0m\u001b[0;34m)\u001b[0m\u001b[0;34m\u001b[0m\u001b[0;34m\u001b[0m\u001b[0m\n",
      "\u001b[0;31mIndexError\u001b[0m: list index out of range"
     ]
    }
   ],
   "source": [
    "code = 191646\n",
    "num = 99999\n",
    "url = 'https://movie.naver.com/movie/bi/mi/pointWriteFormList.nhn?code={}&type=after&onlyActualPointYn=Y&onlySpoilerPointYn=N&order=newest&page={}'.format(code, num)\n",
    "req = requests.get(url)\n",
    "response = TextResponse(req.url, body=req.text, encoding=\"utf-8\")\n",
    "number_list = response.xpath('/html/body/div/div/div[6]/div/a/span/text()').extract()\n",
    "last_number = number_list[len(number_list) - 1]\n",
    "\n",
    "cur_page = int(last_number.replace(',', ''))\n",
    "cur_page\n",
    "\n"
   ]
  },
  {
   "cell_type": "code",
   "execution_count": 415,
   "metadata": {},
   "outputs": [],
   "source": [
    "# start_date = response.xpath('/html/body/div/div/div[5]/ul/li[5]/div[2]/dl/dt/em[2]/text()').extract()\n",
    "# start_date = start_date[0].split(\" \")[0].split('.')\n",
    "# start_date\n"
   ]
  },
  {
   "cell_type": "code",
   "execution_count": 416,
   "metadata": {},
   "outputs": [
    {
     "data": {
      "text/plain": [
       "['2014', '12', '17']"
      ]
     },
     "execution_count": 416,
     "metadata": {},
     "output_type": "execute_result"
    }
   ],
   "source": [
    "time_elements = response.xpath('/html/body/div/div/div[5]/ul/li/div/dl/dt/em[2]/text()')\n",
    "start_date = time_elements[len(time_elements) - 1].extract().split(' ')[0]\n",
    "start_date = start_date.split(\" \")[0].split('.')\n",
    "start_date"
   ]
  },
  {
   "cell_type": "code",
   "execution_count": 417,
   "metadata": {},
   "outputs": [
    {
     "data": {
      "text/plain": [
       "2"
      ]
     },
     "execution_count": 417,
     "metadata": {},
     "output_type": "execute_result"
    }
   ],
   "source": [
    "len(time_elements)"
   ]
  },
  {
   "cell_type": "code",
   "execution_count": 395,
   "metadata": {},
   "outputs": [
    {
     "data": {
      "text/plain": [
       "['2015', '04', '23']"
      ]
     },
     "execution_count": 395,
     "metadata": {},
     "output_type": "execute_result"
    }
   ],
   "source": [
    "cur_date = response.xpath('/html/body/div/div/div[5]/ul/li[{}]/div[2]/dl/dt/em[2]/text()'.format(5)).extract()[0].split(' ')[0].split('.')\n",
    "cur_date\n"
   ]
  },
  {
   "cell_type": "code",
   "execution_count": 390,
   "metadata": {},
   "outputs": [
    {
     "data": {
      "text/plain": [
       "8"
      ]
     },
     "execution_count": 390,
     "metadata": {},
     "output_type": "execute_result"
    }
   ],
   "source": [
    "rating_elements = response.xpath('/html/body/div/div/div[5]/ul/li[{}]/div[1]/em/text()'.format(5)).extract()[0]\n",
    "int(rating_elements)"
   ]
  },
  {
   "cell_type": "code",
   "execution_count": null,
   "metadata": {},
   "outputs": [],
   "source": []
  },
  {
   "cell_type": "code",
   "execution_count": null,
   "metadata": {},
   "outputs": [],
   "source": []
  },
  {
   "cell_type": "code",
   "execution_count": null,
   "metadata": {},
   "outputs": [],
   "source": []
  },
  {
   "cell_type": "code",
   "execution_count": 278,
   "metadata": {},
   "outputs": [
    {
     "data": {
      "text/plain": [
       "4"
      ]
     },
     "execution_count": 278,
     "metadata": {},
     "output_type": "execute_result"
    }
   ],
   "source": [
    "int(start_date[1])"
   ]
  },
  {
   "cell_type": "code",
   "execution_count": 281,
   "metadata": {},
   "outputs": [
    {
     "data": {
      "text/plain": [
       "datetime.datetime(2015, 4, 30, 0, 0)"
      ]
     },
     "execution_count": 281,
     "metadata": {},
     "output_type": "execute_result"
    }
   ],
   "source": [
    "limit_date = datetime.datetime(int(start_date[0]), int(start_date[1]), int(start_date[2])) + datetime.timedelta(weeks=1)\n",
    "limit_date"
   ]
  },
  {
   "cell_type": "code",
   "execution_count": 302,
   "metadata": {},
   "outputs": [],
   "source": [
    "check_limit = limit_date - datetime.datetime(2015, 5, 1)"
   ]
  },
  {
   "cell_type": "code",
   "execution_count": 304,
   "metadata": {},
   "outputs": [
    {
     "data": {
      "text/plain": [
       "True"
      ]
     },
     "execution_count": 304,
     "metadata": {},
     "output_type": "execute_result"
    }
   ],
   "source": [
    "check_limit.days < 0 "
   ]
  },
  {
   "cell_type": "code",
   "execution_count": null,
   "metadata": {},
   "outputs": [],
   "source": []
  },
  {
   "cell_type": "code",
   "execution_count": null,
   "metadata": {},
   "outputs": [],
   "source": []
  },
  {
   "cell_type": "code",
   "execution_count": null,
   "metadata": {},
   "outputs": [],
   "source": []
  },
  {
   "cell_type": "code",
   "execution_count": null,
   "metadata": {},
   "outputs": [],
   "source": []
  },
  {
   "cell_type": "code",
   "execution_count": null,
   "metadata": {},
   "outputs": [],
   "source": [
    "# !scrapy startproject crawler"
   ]
  },
  {
   "cell_type": "code",
   "execution_count": null,
   "metadata": {},
   "outputs": [],
   "source": [
    "# %%writefile crawler/crawler/items.py\n",
    "# import scrapy\n",
    "\n",
    "\n",
    "# class CrawlerItem(scrapy.Item):\n",
    "#     expert_rating = scrapy.Field()\n",
    "#     starring_actors = scrapy.Field()\n",
    "#     running_time = scrapy.Field()\n",
    "#     director = scrapy.Field()\n",
    "    "
   ]
  },
  {
   "cell_type": "code",
   "execution_count": null,
   "metadata": {},
   "outputs": [],
   "source": [
    "# %%writefile crawler/crawler/spiders/spider.py\n",
    "# import scrapy\n",
    "\n",
    "# from crawler.items import CrawlerItem\n",
    "\n",
    "# class Spider(scrapy.Spider):\n",
    "#     name = \"MovieSpider\"\n",
    "#     allow_domain = [\"movie.naver.com\"]\n",
    "#     start_urls = []\n",
    "    \n",
    "#     def parse(self, response):\n",
    "#         total_df = pd.read_csv('code_added_df.csv').drop(columns=['Unnamed: 0'])\n",
    "#         code_list = list(total_df['N_movie_code'])\n",
    "        \n",
    "#         for code in code_list:\n",
    "#             url = 'https://movie.naver.com/movie/bi/mi/basic.nhn?code={}'.format(int(code))\n",
    "#             yield scrapy.Request(url, callback=self.get_content)\n",
    "            \n",
    "#     def get_content(self, response):\n",
    "#         item = CrawlerItem()\n",
    "        \n",
    "#         rate_number = response.xpath('//*[@id=\"content\"]/div[1]/div[2]/div[1]/div[1]/div[2]/div/a/div/em/text()').extract()\n",
    "#         item['expert_rating'] = \"\".join(rate_number)\n",
    "        \n",
    "#         running_time = response.xpath('//*[@id=\"content\"]/div[1]/div[2]/div[1]/dl/dd[1]/p/span[3]/text()').extract()[0]\n",
    "#         item['running_time'] = running_time\n",
    "        \n",
    "#         starring_actors = response.xpath('//*[@id=\"content\"]/div[1]/div[2]/div[1]/dl/dd[3]/p/a/text()').extract()\n",
    "#         item['starring_actors'] = \", \".join(starring_actors)\n",
    "        \n",
    "#         director = response.xpath('//*[@id=\"content\"]/div[1]/div[2]/div[1]/dl/dd[2]/p/a/text()').extract()[0]\n",
    "#         item['director'] = director\n",
    "        \n",
    "#         yield item\n",
    "    "
   ]
  },
  {
   "cell_type": "code",
   "execution_count": null,
   "metadata": {},
   "outputs": [],
   "source": [
    "# %%writefile run.sh\n",
    "# cd crawler\n",
    "# scrapy crawl GmarketSpider -o items.csv"
   ]
  },
  {
   "cell_type": "code",
   "execution_count": null,
   "metadata": {},
   "outputs": [],
   "source": [
    "# 실행가능하도록 권한 바꾸기\n",
    "# import os\n",
    "\n",
    "# os.chmod(\"run.sh\", 0o764)"
   ]
  },
  {
   "cell_type": "code",
   "execution_count": null,
   "metadata": {},
   "outputs": [],
   "source": [
    "# 5. settings.py 수정\n",
    "# !head -n 22 cat naver_article/naver_article/settings.py | tail -n 2"
   ]
  },
  {
   "cell_type": "code",
   "execution_count": null,
   "metadata": {},
   "outputs": [],
   "source": [
    "# !sed -i 's/ROBOTSTXT_OBEY = True/ROBOTSTXT_OBEY = False/' naver_article/naver_article/settings.py"
   ]
  },
  {
   "cell_type": "code",
   "execution_count": null,
   "metadata": {},
   "outputs": [],
   "source": [
    "# !head -n 22 cat naver_article/naver_article/settings.py | tail -n 2"
   ]
  },
  {
   "cell_type": "code",
   "execution_count": null,
   "metadata": {},
   "outputs": [],
   "source": [
    "# !./run.sh"
   ]
  },
  {
   "cell_type": "code",
   "execution_count": null,
   "metadata": {},
   "outputs": [],
   "source": [
    "# csv파일로 저장된 데이터 확인\n",
    "\n",
    "# items_df = pd.read_csv(\"naver_article/items.csv\")\n",
    "# items_df.tail()"
   ]
  },
  {
   "cell_type": "code",
   "execution_count": null,
   "metadata": {},
   "outputs": [],
   "source": []
  },
  {
   "cell_type": "code",
   "execution_count": null,
   "metadata": {},
   "outputs": [],
   "source": []
  },
  {
   "cell_type": "code",
   "execution_count": null,
   "metadata": {},
   "outputs": [],
   "source": []
  },
  {
   "cell_type": "code",
   "execution_count": null,
   "metadata": {},
   "outputs": [],
   "source": []
  },
  {
   "cell_type": "code",
   "execution_count": null,
   "metadata": {},
   "outputs": [],
   "source": []
  },
  {
   "cell_type": "code",
   "execution_count": null,
   "metadata": {},
   "outputs": [],
   "source": []
  },
  {
   "cell_type": "code",
   "execution_count": null,
   "metadata": {},
   "outputs": [],
   "source": []
  },
  {
   "cell_type": "code",
   "execution_count": null,
   "metadata": {},
   "outputs": [],
   "source": []
  },
  {
   "cell_type": "code",
   "execution_count": null,
   "metadata": {},
   "outputs": [],
   "source": []
  },
  {
   "cell_type": "code",
   "execution_count": null,
   "metadata": {},
   "outputs": [],
   "source": []
  },
  {
   "cell_type": "code",
   "execution_count": 184,
   "metadata": {},
   "outputs": [
    {
     "data": {
      "text/plain": [
       "928"
      ]
     },
     "execution_count": 184,
     "metadata": {},
     "output_type": "execute_result"
    }
   ],
   "source": [
    "df2 = pd.read_csv('code_added_df.csv').drop(columns=['Unnamed: 0'])\n",
    "N_movie_code = list(df2['N_movie_code'])\n",
    "len(N_movie_code)"
   ]
  },
  {
   "cell_type": "code",
   "execution_count": 188,
   "metadata": {},
   "outputs": [],
   "source": [
    "from scrapy.http import TextResponse"
   ]
  },
  {
   "cell_type": "code",
   "execution_count": 209,
   "metadata": {},
   "outputs": [
    {
     "data": {
      "text/plain": [
       "'콜린 트레보로우'"
      ]
     },
     "execution_count": 209,
     "metadata": {},
     "output_type": "execute_result"
    }
   ],
   "source": [
    "url = 'https://movie.naver.com/movie/bi/mi/basic.nhn?code={}'.format(67786)\n",
    "req = requests.get(url)\n",
    "response = TextResponse(req.url, body=req.text, encoding=\"utf-8\")\n",
    "\n",
    "a = response.xpath('//*[@id=\"content\"]/div[1]/div[2]/div[1]/dl/dd[2]/p/a/text()').extract()[0]\n",
    "a"
   ]
  },
  {
   "cell_type": "code",
   "execution_count": null,
   "metadata": {},
   "outputs": [],
   "source": []
  },
  {
   "cell_type": "code",
   "execution_count": null,
   "metadata": {},
   "outputs": [],
   "source": []
  },
  {
   "cell_type": "code",
   "execution_count": null,
   "metadata": {},
   "outputs": [],
   "source": []
  },
  {
   "cell_type": "code",
   "execution_count": null,
   "metadata": {},
   "outputs": [],
   "source": []
  },
  {
   "cell_type": "code",
   "execution_count": null,
   "metadata": {},
   "outputs": [],
   "source": []
  },
  {
   "cell_type": "code",
   "execution_count": null,
   "metadata": {},
   "outputs": [],
   "source": []
  },
  {
   "cell_type": "code",
   "execution_count": null,
   "metadata": {},
   "outputs": [],
   "source": []
  }
 ],
 "metadata": {
  "kernelspec": {
   "display_name": "Python 3",
   "language": "python",
   "name": "python3"
  },
  "language_info": {
   "codemirror_mode": {
    "name": "ipython",
    "version": 3
   },
   "file_extension": ".py",
   "mimetype": "text/x-python",
   "name": "python",
   "nbconvert_exporter": "python",
   "pygments_lexer": "ipython3",
   "version": "3.7.6"
  }
 },
 "nbformat": 4,
 "nbformat_minor": 4
}
